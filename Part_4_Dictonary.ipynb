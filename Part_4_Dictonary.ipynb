{
 "cells": [
  {
   "cell_type": "code",
   "execution_count": 1,
   "id": "4a00f692",
   "metadata": {},
   "outputs": [],
   "source": [
    "names=['Ram','Laxman','Krishna']\n",
    "ages=[50,45,40]\n"
   ]
  },
  {
   "cell_type": "code",
   "execution_count": 3,
   "id": "29c340f4",
   "metadata": {},
   "outputs": [
    {
     "name": "stdout",
     "output_type": "stream",
     "text": [
      "Ram age is  50\n",
      "Laxman age is  45\n",
      "Krishna age is  40\n"
     ]
    }
   ],
   "source": [
    "for i,j in zip(names,ages):\n",
    "    print(i,'age is ',j)"
   ]
  },
  {
   "cell_type": "markdown",
   "id": "97e61c39",
   "metadata": {},
   "source": [
    "$ dic $"
   ]
  },
  {
   "cell_type": "markdown",
   "id": "dc295885",
   "metadata": {},
   "source": [
    "- Dictionary has key-value pair\n",
    "- Dicitonary return using curly brackets\n",
    "- Dictionary is mutable\n",
    "- in Dictionary key-value are any type \n",
    "- in Dictionary if you have same keys,the latest value will consider"
   ]
  },
  {
   "cell_type": "code",
   "execution_count": 17,
   "id": "94403aa8",
   "metadata": {},
   "outputs": [],
   "source": [
    "person={'Ram':50,'Laxman':45,'Krisha':40}\n",
    "\n",
    "# ram , laxman,krishan are keys\n",
    "# 50,45,40 are values\n",
    "# Dictionary is a Key-value pair\n",
    "# Dictionary use {} curly brackets"
   ]
  },
  {
   "cell_type": "code",
   "execution_count": 6,
   "id": "ec03f3e2",
   "metadata": {},
   "outputs": [
    {
     "name": "stdout",
     "output_type": "stream",
     "text": [
      "{'Ram': 50, 'Laxman': 45, 'Krisha': 40}\n"
     ]
    }
   ],
   "source": [
    "type(person)\n",
    "print(person)"
   ]
  },
  {
   "cell_type": "code",
   "execution_count": 7,
   "id": "7f3012ac",
   "metadata": {},
   "outputs": [
    {
     "ename": "KeyError",
     "evalue": "0",
     "output_type": "error",
     "traceback": [
      "\u001b[0;31m---------------------------------------------------------------------------\u001b[0m",
      "\u001b[0;31mKeyError\u001b[0m                                  Traceback (most recent call last)",
      "Input \u001b[0;32mIn [7]\u001b[0m, in \u001b[0;36m<cell line: 6>\u001b[0;34m()\u001b[0m\n\u001b[1;32m      1\u001b[0m \u001b[38;5;66;03m# read the values you cant use index\u001b[39;00m\n\u001b[1;32m      2\u001b[0m \u001b[38;5;66;03m# strings we have used index \u001b[39;00m\n\u001b[1;32m      3\u001b[0m \u001b[38;5;66;03m# list we use index\u001b[39;00m\n\u001b[1;32m      4\u001b[0m \u001b[38;5;66;03m# Dictionary it is a key-value pairs\u001b[39;00m\n\u001b[0;32m----> 6\u001b[0m \u001b[43mperson\u001b[49m\u001b[43m[\u001b[49m\u001b[38;5;241;43m0\u001b[39;49m\u001b[43m]\u001b[49m\n",
      "\u001b[0;31mKeyError\u001b[0m: 0"
     ]
    }
   ],
   "source": [
    "# read the values you cant use index\n",
    "# strings we have used index \n",
    "# list we use index\n",
    "# Dictionary it is a key-value pairs\n",
    "\n",
    "person[0] #KeyError: 0"
   ]
  },
  {
   "cell_type": "code",
   "execution_count": 8,
   "id": "5f26ee5b",
   "metadata": {},
   "outputs": [
    {
     "data": {
      "text/plain": [
       "50"
      ]
     },
     "execution_count": 8,
     "metadata": {},
     "output_type": "execute_result"
    }
   ],
   "source": [
    "person['Ram']"
   ]
  },
  {
   "cell_type": "code",
   "execution_count": 9,
   "id": "b5888021",
   "metadata": {},
   "outputs": [],
   "source": [
    "marks={'bunny':[25,30,60],\n",
    "      'chinni':[25,25,25],\n",
    "       'bunny':25,\n",
    "       'chinni':[60]\n",
    "      }"
   ]
  },
  {
   "cell_type": "code",
   "execution_count": 10,
   "id": "c93683fc",
   "metadata": {},
   "outputs": [
    {
     "data": {
      "text/plain": [
       "{'bunny': 25, 'chinni': [60]}"
      ]
     },
     "execution_count": 10,
     "metadata": {},
     "output_type": "execute_result"
    }
   ],
   "source": [
    "marks # in repaeated keys dictionary will consider latest values."
   ]
  },
  {
   "cell_type": "code",
   "execution_count": 12,
   "id": "810b6847",
   "metadata": {},
   "outputs": [
    {
     "data": {
      "text/plain": [
       "{'bunny': [25, 30, 60], 'chinni': [25, 25, 25]}"
      ]
     },
     "execution_count": 12,
     "metadata": {},
     "output_type": "execute_result"
    }
   ],
   "source": [
    "marks={'bunny':[25,30,60],\n",
    "      'chinni':[25,25,25],}\n",
    "marks"
   ]
  },
  {
   "cell_type": "code",
   "execution_count": 13,
   "id": "77f329f5",
   "metadata": {},
   "outputs": [
    {
     "data": {
      "text/plain": [
       "30"
      ]
     },
     "execution_count": 13,
     "metadata": {},
     "output_type": "execute_result"
    }
   ],
   "source": [
    "marks['bunny'][1]"
   ]
  },
  {
   "cell_type": "code",
   "execution_count": 21,
   "id": "b1c511b0",
   "metadata": {},
   "outputs": [
    {
     "data": {
      "text/plain": [
       "{'Ram': 50, 'Laxman': 45, 'Krisha': 40}"
      ]
     },
     "execution_count": 21,
     "metadata": {},
     "output_type": "execute_result"
    }
   ],
   "source": [
    "person={'Ram':50,'Laxman':45,'Krisha':40}\n",
    "person"
   ]
  },
  {
   "cell_type": "code",
   "execution_count": 22,
   "id": "a4593a8d",
   "metadata": {},
   "outputs": [],
   "source": [
    "person['bharat']=30 # add new key"
   ]
  },
  {
   "cell_type": "code",
   "execution_count": 23,
   "id": "c60c549a",
   "metadata": {},
   "outputs": [
    {
     "data": {
      "text/plain": [
       "{'Ram': 50, 'Laxman': 45, 'Krisha': 40, 'bharat': 30}"
      ]
     },
     "execution_count": 23,
     "metadata": {},
     "output_type": "execute_result"
    }
   ],
   "source": [
    "person"
   ]
  },
  {
   "cell_type": "code",
   "execution_count": 24,
   "id": "ce4fd1b3",
   "metadata": {},
   "outputs": [],
   "source": [
    "# i want to change vale of a key ( mutable concept)\n",
    "\n",
    "person['Ram']=12"
   ]
  },
  {
   "cell_type": "code",
   "execution_count": 25,
   "id": "614a673e",
   "metadata": {},
   "outputs": [
    {
     "data": {
      "text/plain": [
       "{'Ram': 12, 'Laxman': 45, 'Krisha': 40, 'bharat': 30}"
      ]
     },
     "execution_count": 25,
     "metadata": {},
     "output_type": "execute_result"
    }
   ],
   "source": [
    "person # so Dictonairy is mutalbe"
   ]
  },
  {
   "cell_type": "code",
   "execution_count": 26,
   "id": "18b7da5d",
   "metadata": {},
   "outputs": [],
   "source": [
    "person[30]=100"
   ]
  },
  {
   "cell_type": "code",
   "execution_count": 43,
   "id": "36dae971",
   "metadata": {},
   "outputs": [
    {
     "data": {
      "text/plain": [
       "{'Ram': 12, 'Laxman': 45, 'Krisha': 40, 'bharat': 30}"
      ]
     },
     "execution_count": 43,
     "metadata": {},
     "output_type": "execute_result"
    }
   ],
   "source": [
    "person # key and value can by any data type"
   ]
  },
  {
   "cell_type": "code",
   "execution_count": null,
   "id": "a988b741",
   "metadata": {},
   "outputs": [],
   "source": [
    "- Dictionary has key-value pairs\n",
    "- Dictionary written using curly brackets\n",
    "- Dictionary is muttable \n",
    "- in Dictionary  key value are any type\n",
    "- "
   ]
  },
  {
   "cell_type": "code",
   "execution_count": 44,
   "id": "04c10ba7",
   "metadata": {},
   "outputs": [
    {
     "data": {
      "text/plain": [
       "{'Ram': 12, 'Laxman': 45, 'Krisha': 40, 'bharat': 30}"
      ]
     },
     "execution_count": 44,
     "metadata": {},
     "output_type": "execute_result"
    }
   ],
   "source": [
    "person"
   ]
  },
  {
   "cell_type": "code",
   "execution_count": 45,
   "id": "f0a1525d",
   "metadata": {},
   "outputs": [
    {
     "ename": "KeyError",
     "evalue": "30",
     "output_type": "error",
     "traceback": [
      "\u001b[0;31m---------------------------------------------------------------------------\u001b[0m",
      "\u001b[0;31mKeyError\u001b[0m                                  Traceback (most recent call last)",
      "Input \u001b[0;32mIn [45]\u001b[0m, in \u001b[0;36m<cell line: 2>\u001b[0;34m()\u001b[0m\n\u001b[1;32m      1\u001b[0m \u001b[38;5;66;03m# I want to delete any key-value pair \u001b[39;00m\n\u001b[0;32m----> 2\u001b[0m \u001b[38;5;28;01mdel\u001b[39;00m person[\u001b[38;5;241m30\u001b[39m]\n",
      "\u001b[0;31mKeyError\u001b[0m: 30"
     ]
    }
   ],
   "source": [
    " # I want to delete any key-value pair \n",
    "del person[30]\n"
   ]
  },
  {
   "cell_type": "code",
   "execution_count": 10,
   "id": "c1cf8452",
   "metadata": {},
   "outputs": [],
   "source": [
    "person={'Ram': 50, 'Laxman': 45, 'Krisha': 40, 'bharat': 30}"
   ]
  },
  {
   "cell_type": "code",
   "execution_count": 13,
   "id": "8e21fd5b",
   "metadata": {},
   "outputs": [
    {
     "data": {
      "text/plain": [
       "{'Ram': 50, 'Laxman': 45, 'Krisha': 40}"
      ]
     },
     "execution_count": 13,
     "metadata": {},
     "output_type": "execute_result"
    }
   ],
   "source": [
    "del person['bharat']\n",
    "person"
   ]
  },
  {
   "cell_type": "code",
   "execution_count": 54,
   "id": "3ee38f59",
   "metadata": {},
   "outputs": [
    {
     "name": "stdout",
     "output_type": "stream",
     "text": [
      "['can', 'you', 'can', 'a', 'can', 'as', 'canner', 'can', 'can', 'a', 'can']\n"
     ]
    },
    {
     "data": {
      "text/plain": [
       "{'can': 6, 'you': 1, 'a': 2, 'as': 1, 'canner': 1}"
      ]
     },
     "execution_count": 54,
     "metadata": {},
     "output_type": "execute_result"
    }
   ],
   "source": [
    "sent='can you can a can as canner can can a can'\n",
    "\n",
    "sent_list=sent.split(' ')\n",
    "\n",
    "print(sent_list)\n",
    "word_count={}\n",
    "for word in sent_list:\n",
    "    if word not in word_count:\n",
    "        word_count[word]=1\n",
    "    else:\n",
    "        word_count[word]+=1\n",
    "        \n",
    "word_count\n",
    "\n",
    "\n",
    "# how many words are there,how many times these words are repeating\n",
    "# i want to make list by using split concept \n",
    "# i will take one empty dictonary \n",
    "# i will iterate though the list of words\n",
    "# every time the word is coming i will apply a counter programe"
   ]
  },
  {
   "cell_type": "code",
   "execution_count": null,
   "id": "d95a7c01",
   "metadata": {},
   "outputs": [],
   "source": [
    "# package/module/library\n",
    "from collection import defaultdict"
   ]
  },
  {
   "cell_type": "code",
   "execution_count": null,
   "id": "7681e976",
   "metadata": {},
   "outputs": [],
   "source": []
  },
  {
   "cell_type": "code",
   "execution_count": 1,
   "id": "d5ae612f",
   "metadata": {},
   "outputs": [],
   "source": [
    "elements={'sanitezer':2,'Headset':3,'Glass':4}\n"
   ]
  },
  {
   "cell_type": "code",
   "execution_count": 2,
   "id": "9be208d9",
   "metadata": {},
   "outputs": [
    {
     "data": {
      "text/plain": [
       "dict_keys(['sanitezer', 'Headset', 'Glass'])"
      ]
     },
     "execution_count": 2,
     "metadata": {},
     "output_type": "execute_result"
    }
   ],
   "source": [
    "elements.keys()"
   ]
  },
  {
   "cell_type": "code",
   "execution_count": 4,
   "id": "0c374880",
   "metadata": {},
   "outputs": [
    {
     "data": {
      "text/plain": [
       "dict_values([2, 3, 4])"
      ]
     },
     "execution_count": 4,
     "metadata": {},
     "output_type": "execute_result"
    }
   ],
   "source": [
    "elements.values()"
   ]
  },
  {
   "cell_type": "code",
   "execution_count": 5,
   "id": "11b8104f",
   "metadata": {},
   "outputs": [
    {
     "data": {
      "text/plain": [
       "dict_items([('sanitezer', 2), ('Headset', 3), ('Glass', 4)])"
      ]
     },
     "execution_count": 5,
     "metadata": {},
     "output_type": "execute_result"
    }
   ],
   "source": [
    "elements.items()"
   ]
  },
  {
   "cell_type": "code",
   "execution_count": 6,
   "id": "d3fa0955",
   "metadata": {},
   "outputs": [
    {
     "name": "stdout",
     "output_type": "stream",
     "text": [
      "sanitezer 2\n",
      "Headset 3\n",
      "Glass 4\n"
     ]
    }
   ],
   "source": [
    "# print both key and value like this.\n",
    "for i,j in elements.items():\n",
    "    print(i,j)"
   ]
  },
  {
   "cell_type": "code",
   "execution_count": 8,
   "id": "f9e4c4da",
   "metadata": {},
   "outputs": [
    {
     "name": "stdout",
     "output_type": "stream",
     "text": [
      "sanitezer 2\n",
      "Headset 3\n",
      "Glass 4\n"
     ]
    }
   ],
   "source": [
    "# using zip\n",
    "for i,j in zip(elements.keys(),elements.values()):\n",
    "    print(i,j)"
   ]
  },
  {
   "cell_type": "code",
   "execution_count": 11,
   "id": "ba82c728",
   "metadata": {},
   "outputs": [
    {
     "name": "stdout",
     "output_type": "stream",
     "text": [
      "1 A\n",
      "2 b\n",
      "3 c\n",
      "4 d\n"
     ]
    }
   ],
   "source": [
    "list1=[1,2,3,4]\n",
    "list2=['A','b','c','d']\n",
    "\n",
    "for i,j in zip(list1,list2):\n",
    "    print(i,j)\n",
    "    "
   ]
  },
  {
   "cell_type": "code",
   "execution_count": 12,
   "id": "7d64fda4",
   "metadata": {},
   "outputs": [
    {
     "data": {
      "text/plain": [
       "{'sanitezer': 2, 'Headset': 3, 'Glass': 4}"
      ]
     },
     "execution_count": 12,
     "metadata": {},
     "output_type": "execute_result"
    }
   ],
   "source": [
    "elements"
   ]
  },
  {
   "cell_type": "code",
   "execution_count": 14,
   "id": "20e852c4",
   "metadata": {},
   "outputs": [],
   "source": [
    "# clear and copy ============== > list\n",
    "elements.clear()"
   ]
  },
  {
   "cell_type": "code",
   "execution_count": 15,
   "id": "ca85403e",
   "metadata": {},
   "outputs": [
    {
     "data": {
      "text/plain": [
       "{}"
      ]
     },
     "execution_count": 15,
     "metadata": {},
     "output_type": "execute_result"
    }
   ],
   "source": [
    "elements"
   ]
  },
  {
   "cell_type": "code",
   "execution_count": 17,
   "id": "a61d8492",
   "metadata": {},
   "outputs": [
    {
     "data": {
      "text/plain": [
       "{'sanitezer': 2, 'Headset': 3, 'Glass': 4}"
      ]
     },
     "execution_count": 17,
     "metadata": {},
     "output_type": "execute_result"
    }
   ],
   "source": [
    "elements={'sanitezer':2,'Headset':3,'Glass':4}\n",
    "new_elements=elements.copy()\n",
    "new_elements"
   ]
  },
  {
   "cell_type": "code",
   "execution_count": 20,
   "id": "cb426806",
   "metadata": {},
   "outputs": [
    {
     "data": {
      "text/plain": [
       "3"
      ]
     },
     "execution_count": 20,
     "metadata": {},
     "output_type": "execute_result"
    }
   ],
   "source": [
    "# get a value corresponding a key\n",
    "elements.get('Headset')"
   ]
  },
  {
   "cell_type": "code",
   "execution_count": null,
   "id": "20c9635d",
   "metadata": {},
   "outputs": [],
   "source": [
    "elements['mobile']  # in indexing >>>>> it will give error"
   ]
  },
  {
   "cell_type": "code",
   "execution_count": 22,
   "id": "ee9e7c4b",
   "metadata": {},
   "outputs": [],
   "source": [
    "elements.get('mobile')\n",
    "# mobile is not in dictoinory.......\n",
    "# not show any error\n",
    "# it will give none value..."
   ]
  },
  {
   "cell_type": "markdown",
   "id": "8dcc6365",
   "metadata": {},
   "source": [
    "$setdefault$"
   ]
  },
  {
   "cell_type": "code",
   "execution_count": null,
   "id": "b27cb624",
   "metadata": {},
   "outputs": [],
   "source": [
    "# setdefault-------> set some default value"
   ]
  },
  {
   "cell_type": "code",
   "execution_count": 23,
   "id": "78504791",
   "metadata": {},
   "outputs": [
    {
     "data": {
      "text/plain": [
       "{'sanitezer': 2, 'Headset': 3, 'Glass': 4}"
      ]
     },
     "execution_count": 23,
     "metadata": {},
     "output_type": "execute_result"
    }
   ],
   "source": [
    "elements"
   ]
  },
  {
   "cell_type": "code",
   "execution_count": 25,
   "id": "1ce2a851",
   "metadata": {},
   "outputs": [
    {
     "data": {
      "text/plain": [
       "{'sanitezer': 2, 'Headset': 3, 'Glass': 4, 'mobile': 10}"
      ]
     },
     "execution_count": 25,
     "metadata": {},
     "output_type": "execute_result"
    }
   ],
   "source": [
    "elements.setdefault('mobile',10)\n",
    "elements"
   ]
  },
  {
   "cell_type": "code",
   "execution_count": 27,
   "id": "5fc8a239",
   "metadata": {},
   "outputs": [
    {
     "data": {
      "text/plain": [
       "{'sanitezer': 2, 'Headset': 3, 'Glass': 4, 'mobile': 10, 'laptop': 12}"
      ]
     },
     "execution_count": 27,
     "metadata": {},
     "output_type": "execute_result"
    }
   ],
   "source": [
    "# we also ues index method for adding value in dictinory........\n",
    "\n",
    "elements['laptop']=12\n",
    "elements"
   ]
  },
  {
   "cell_type": "markdown",
   "id": "5a0fbcfa",
   "metadata": {},
   "source": [
    "$  fromkeys $"
   ]
  },
  {
   "cell_type": "code",
   "execution_count": 30,
   "id": "3005bf5f",
   "metadata": {},
   "outputs": [
    {
     "data": {
      "text/plain": [
       "{'c': 20, 'a': 20, 'b': 20}"
      ]
     },
     "execution_count": 30,
     "metadata": {},
     "output_type": "execute_result"
    }
   ],
   "source": [
    "# From keys: create values using only keys\n",
    "strings={'a','b','c'}\n",
    "# here only keys are there,there is no values\n",
    "# 'a':20,'b':20,'c':20\n",
    "\n",
    "string_dict=dict.fromkeys(strings,20)\n",
    "string_dict"
   ]
  },
  {
   "cell_type": "code",
   "execution_count": 34,
   "id": "1d18a88a",
   "metadata": {},
   "outputs": [
    {
     "data": {
      "text/plain": [
       "{'c': 30, 'a': 20, 'b': 20, ('c', 'a'): (30, 40)}"
      ]
     },
     "execution_count": 34,
     "metadata": {},
     "output_type": "execute_result"
    }
   ],
   "source": [
    "string_dict['c']=30\n",
    "string_dict"
   ]
  },
  {
   "cell_type": "code",
   "execution_count": 38,
   "id": "e2441748",
   "metadata": {},
   "outputs": [
    {
     "data": {
      "text/plain": [
       "{'e': 'vowel', 'i': 'vowel', 'u': 'vowel', 'o': 'vowel', 'a': 'vowel'}"
      ]
     },
     "execution_count": 38,
     "metadata": {},
     "output_type": "execute_result"
    }
   ],
   "source": [
    "keys={'a','e','i','o','u'}\n",
    "value='vowel'\n",
    "vowels=dict.fromkeys(keys,value)\n",
    "vowels"
   ]
  },
  {
   "cell_type": "markdown",
   "id": "3dfc78b1",
   "metadata": {},
   "source": [
    "$ pop $"
   ]
  },
  {
   "cell_type": "code",
   "execution_count": 39,
   "id": "c1db773d",
   "metadata": {},
   "outputs": [
    {
     "data": {
      "text/plain": [
       "{'sanitezer': 2, 'Headset': 3, 'Glass': 4, 'mobile': 10, 'laptop': 12}"
      ]
     },
     "execution_count": 39,
     "metadata": {},
     "output_type": "execute_result"
    }
   ],
   "source": [
    "elements"
   ]
  },
  {
   "cell_type": "code",
   "execution_count": 40,
   "id": "2651b817",
   "metadata": {},
   "outputs": [
    {
     "data": {
      "text/plain": [
       "4"
      ]
     },
     "execution_count": 40,
     "metadata": {},
     "output_type": "execute_result"
    }
   ],
   "source": [
    "elements.pop('Glass')\n",
    "# provide key\n",
    "# It will return value\n",
    "# and it will remove that key-value pair.........."
   ]
  },
  {
   "cell_type": "code",
   "execution_count": 41,
   "id": "1bb9f831",
   "metadata": {},
   "outputs": [
    {
     "data": {
      "text/plain": [
       "{'sanitezer': 2, 'Headset': 3, 'mobile': 10, 'laptop': 12}"
      ]
     },
     "execution_count": 41,
     "metadata": {},
     "output_type": "execute_result"
    }
   ],
   "source": [
    "elements"
   ]
  },
  {
   "cell_type": "markdown",
   "id": "f531f63b",
   "metadata": {},
   "source": [
    "$popitem$"
   ]
  },
  {
   "cell_type": "markdown",
   "id": "b7aebb45",
   "metadata": {},
   "source": [
    "- Pop item will remove last/latest item\n",
    "- LIFO"
   ]
  },
  {
   "cell_type": "code",
   "execution_count": 44,
   "id": "a7e2b3c5",
   "metadata": {},
   "outputs": [
    {
     "data": {
      "text/plain": [
       "{'sanitezer': 2, 'Headset': 3, 'mobile': 10, 'laptop': 12}"
      ]
     },
     "execution_count": 44,
     "metadata": {},
     "output_type": "execute_result"
    }
   ],
   "source": [
    "elements"
   ]
  },
  {
   "cell_type": "code",
   "execution_count": 46,
   "id": "132896e1",
   "metadata": {},
   "outputs": [
    {
     "data": {
      "text/plain": [
       "{'sanitezer': 2, 'Headset': 3, 'mobile': 10, 'laptop': 12, 'Earbud': 5}"
      ]
     },
     "execution_count": 46,
     "metadata": {},
     "output_type": "execute_result"
    }
   ],
   "source": [
    "elements['Earbud']=5\n",
    "elements"
   ]
  },
  {
   "cell_type": "code",
   "execution_count": 47,
   "id": "9f361fb2",
   "metadata": {},
   "outputs": [
    {
     "data": {
      "text/plain": [
       "('Earbud', 5)"
      ]
     },
     "execution_count": 47,
     "metadata": {},
     "output_type": "execute_result"
    }
   ],
   "source": [
    "elements.popitem()"
   ]
  },
  {
   "cell_type": "code",
   "execution_count": 48,
   "id": "ec42b2e2",
   "metadata": {},
   "outputs": [
    {
     "data": {
      "text/plain": [
       "{'sanitezer': 2, 'Headset': 3, 'mobile': 10, 'laptop': 12}"
      ]
     },
     "execution_count": 48,
     "metadata": {},
     "output_type": "execute_result"
    }
   ],
   "source": [
    "elements"
   ]
  },
  {
   "cell_type": "code",
   "execution_count": 54,
   "id": "aeffe575",
   "metadata": {},
   "outputs": [
    {
     "data": {
      "text/plain": [
       "{'Ram': 50, 'Laxman': 45, 'Krishna': 40}"
      ]
     },
     "execution_count": 54,
     "metadata": {},
     "output_type": "execute_result"
    }
   ],
   "source": [
    "names=['Ram','Laxman','Krishna']\n",
    "ages=[50,45,40]\n",
    "\n",
    "# making dictionary using List\n",
    "\n",
    "person=dict(zip(names,ages))\n",
    "person\n"
   ]
  },
  {
   "cell_type": "markdown",
   "id": "fb451dcd",
   "metadata": {},
   "source": [
    "$ update $"
   ]
  },
  {
   "cell_type": "code",
   "execution_count": 56,
   "id": "931dc3db",
   "metadata": {},
   "outputs": [],
   "source": [
    "# merdge two dictinory into one dictinory\n",
    "\n",
    "dict1={'one':1,'two':2,'three':3}\n",
    "dict2={'four':4,'five':5,'six':6}\n",
    "\n"
   ]
  },
  {
   "cell_type": "code",
   "execution_count": 57,
   "id": "746981e6",
   "metadata": {},
   "outputs": [],
   "source": [
    "dict1.update(dict2)"
   ]
  },
  {
   "cell_type": "code",
   "execution_count": 58,
   "id": "9e5a971d",
   "metadata": {},
   "outputs": [
    {
     "data": {
      "text/plain": [
       "{'one': 1, 'two': 2, 'three': 3, 'four': 4, 'five': 5, 'six': 6}"
      ]
     },
     "execution_count": 58,
     "metadata": {},
     "output_type": "execute_result"
    }
   ],
   "source": [
    "dict1"
   ]
  },
  {
   "cell_type": "code",
   "execution_count": 67,
   "id": "2d19122f",
   "metadata": {},
   "outputs": [
    {
     "data": {
      "text/plain": [
       "4"
      ]
     },
     "execution_count": 67,
     "metadata": {},
     "output_type": "execute_result"
    }
   ],
   "source": [
    "list1=[1,2,3,[1,2,3,['A','B',['apple']]]]\n",
    "\n",
    "len(list1)"
   ]
  },
  {
   "cell_type": "code",
   "execution_count": 62,
   "id": "6697673b",
   "metadata": {},
   "outputs": [
    {
     "data": {
      "text/plain": [
       "'apple'"
      ]
     },
     "execution_count": 62,
     "metadata": {},
     "output_type": "execute_result"
    }
   ],
   "source": [
    "list1[3][3][2][0]"
   ]
  },
  {
   "cell_type": "code",
   "execution_count": 68,
   "id": "69f35d00",
   "metadata": {},
   "outputs": [
    {
     "ename": "TypeError",
     "evalue": "list indices must be integers or slices, not str",
     "output_type": "error",
     "traceback": [
      "\u001b[0;31m---------------------------------------------------------------------------\u001b[0m",
      "\u001b[0;31mTypeError\u001b[0m                                 Traceback (most recent call last)",
      "Input \u001b[0;32mIn [68]\u001b[0m, in \u001b[0;36m<cell line: 1>\u001b[0;34m()\u001b[0m\n\u001b[0;32m----> 1\u001b[0m \u001b[43mlist1\u001b[49m\u001b[43m[\u001b[49m\u001b[38;5;124;43m'\u001b[39;49m\u001b[38;5;124;43mapple\u001b[39;49m\u001b[38;5;124;43m'\u001b[39;49m\u001b[43m]\u001b[49m\n",
      "\u001b[0;31mTypeError\u001b[0m: list indices must be integers or slices, not str"
     ]
    }
   ],
   "source": [
    "list1['apple']"
   ]
  },
  {
   "cell_type": "code",
   "execution_count": 81,
   "id": "223df96c",
   "metadata": {},
   "outputs": [
    {
     "ename": "SyntaxError",
     "evalue": "unexpected EOF while parsing (4027721536.py, line 2)",
     "output_type": "error",
     "traceback": [
      "\u001b[0;36m  Input \u001b[0;32mIn [81]\u001b[0;36m\u001b[0m\n\u001b[0;31m    'salary''desiginati'}}}}\u001b[0m\n\u001b[0m                            ^\u001b[0m\n\u001b[0;31mSyntaxError\u001b[0m\u001b[0;31m:\u001b[0m unexpected EOF while parsing\n"
     ]
    }
   ],
   "source": [
    "d\n"
   ]
  },
  {
   "cell_type": "code",
   "execution_count": 82,
   "id": "e60f7625",
   "metadata": {},
   "outputs": [
    {
     "data": {
      "text/plain": [
       "'SE'"
      ]
     },
     "execution_count": 82,
     "metadata": {},
     "output_type": "execute_result"
    }
   ],
   "source": [
    "dict1={\"company\":{\"Employees\":{\"Name\":\"Asha\",\"details\":{\"salary\":50000,\"disignation\":\"SE\"}}}}\n",
    "dict1[\"company\"][\"Employees\"][\"details\"][\"disignation\"]"
   ]
  },
  {
   "cell_type": "code",
   "execution_count": null,
   "id": "dc716945",
   "metadata": {},
   "outputs": [],
   "source": []
  }
 ],
 "metadata": {
  "kernelspec": {
   "display_name": "Python 3 (ipykernel)",
   "language": "python",
   "name": "python3"
  },
  "language_info": {
   "codemirror_mode": {
    "name": "ipython",
    "version": 3
   },
   "file_extension": ".py",
   "mimetype": "text/x-python",
   "name": "python",
   "nbconvert_exporter": "python",
   "pygments_lexer": "ipython3",
   "version": "3.9.12"
  }
 },
 "nbformat": 4,
 "nbformat_minor": 5
}
