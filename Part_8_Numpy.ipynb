{
 "cells": [
  {
   "cell_type": "markdown",
   "id": "e0180aee",
   "metadata": {},
   "source": [
    "- Numpy(Numerical python) Math or number\n",
    "- Pandas(Data frames)\n",
    "- Matplotlib(TO draw graphs,visulation)\n",
    "- For data analysis\n"
   ]
  },
  {
   "cell_type": "markdown",
   "id": "50e57d02",
   "metadata": {},
   "source": [
    "## NumPy stands for Numerical Python.\n",
    "- Numpy pakage used for mathamatical and scienctific computation.\n",
    "- you can do linear algebra \n",
    "- NumPy’s main data structure is the multidimensional array.\n",
    "- To create a vector, we simply create a 1-D array.\n"
   ]
  },
  {
   "cell_type": "code",
   "execution_count": 1,
   "id": "94f06f97",
   "metadata": {},
   "outputs": [],
   "source": [
    "import numpy"
   ]
  },
  {
   "cell_type": "code",
   "execution_count": null,
   "id": "5cdcdfec",
   "metadata": {},
   "outputs": [],
   "source": [
    "import cv2"
   ]
  },
  {
   "cell_type": "code",
   "execution_count": 5,
   "id": "04896e7b",
   "metadata": {},
   "outputs": [
    {
     "name": "stdout",
     "output_type": "stream",
     "text": [
      "Defaulting to user installation because normal site-packages is not writeable\n",
      "Collecting opencv-python\n",
      "  Downloading opencv-python-4.6.0.66.tar.gz (90.3 MB)\n",
      "\u001b[K     |████████████████████████████████| 90.3 MB 1.2 kB/s ta 0:00:012\n",
      "\u001b[?25h  Installing build dependencies ... \u001b[?25ldone\n",
      "\u001b[?25h  Getting requirements to build wheel ... \u001b[?25ldone\n",
      "\u001b[?25h    Preparing wheel metadata ... \u001b[?25ldone\n",
      "\u001b[?25hCollecting numpy>=1.17.3\n",
      "  Downloading numpy-1.23.4-cp39-cp39-macosx_10_9_x86_64.whl (18.1 MB)\n",
      "\u001b[K     |████████████████████████████████| 18.1 MB 1.4 MB/s eta 0:00:01\n",
      "\u001b[?25hBuilding wheels for collected packages: opencv-python\n",
      "  Building wheel for opencv-python (PEP 517) ... \u001b[?25ldone\n",
      "\u001b[?25h  Created wheel for opencv-python: filename=opencv_python-4.6.0.66-cp39-cp39-macosx_10_14_x86_64.whl size=26347235 sha256=8c4897502f58cb84d783fdc12b3133a2be6cc2187ebda3579a2ff62357f604e6\n",
      "  Stored in directory: /Users/sheelendersharma1/Library/Caches/pip/wheels/6c/3a/b0/162197b99d01e5d1a44096c7392a6bf8ae182a4ee9a85ef9af\n",
      "Successfully built opencv-python\n",
      "Installing collected packages: numpy, opencv-python\n",
      "\u001b[33m  WARNING: The scripts f2py, f2py3 and f2py3.9 are installed in '/Users/sheelendersharma1/Library/Python/3.9/bin' which is not on PATH.\n",
      "  Consider adding this directory to PATH or, if you prefer to suppress this warning, use --no-warn-script-location.\u001b[0m\n",
      "Successfully installed numpy-1.23.4 opencv-python-4.6.0.66\n",
      "\u001b[33mWARNING: You are using pip version 21.1.1; however, version 22.3 is available.\n",
      "You should consider upgrading via the '/usr/local/opt/python@3.9/bin/python3.9 -m pip install --upgrade pip' command.\u001b[0m\n"
     ]
    }
   ],
   "source": [
    "!pip3 install opencv-python"
   ]
  },
  {
   "cell_type": "markdown",
   "id": "aebc6e5b",
   "metadata": {},
   "source": [
    "# Numpy Array"
   ]
  },
  {
   "cell_type": "code",
   "execution_count": null,
   "id": "d6107f7d",
   "metadata": {},
   "outputs": [],
   "source": [
    "# matrix\n",
    "# rows=2 and columns=3\n",
    "#2*3\n",
    "# [[1,2,3],[4,5,6]]"
   ]
  },
  {
   "cell_type": "code",
   "execution_count": 5,
   "id": "febd7af4",
   "metadata": {},
   "outputs": [
    {
     "name": "stdout",
     "output_type": "stream",
     "text": [
      "[1 2 3 4 5]\n"
     ]
    }
   ],
   "source": [
    "import numpy\n",
    "\n",
    "arr = numpy.array([1, 2, 3, 4, 5])\n",
    "\n",
    "print(arr)"
   ]
  },
  {
   "cell_type": "code",
   "execution_count": 6,
   "id": "b8d8cc58",
   "metadata": {},
   "outputs": [
    {
     "name": "stdout",
     "output_type": "stream",
     "text": [
      "1.21.5\n"
     ]
    }
   ],
   "source": [
    "import numpy as np\n",
    "print(np.__version__)"
   ]
  },
  {
   "cell_type": "markdown",
   "id": "a5b9856a",
   "metadata": {},
   "source": [
    "- numpy array\n",
    "- numpy array is a kind of vectors\n",
    "- (vectors means which as both negative and positive value) \n",
    "= ***axis0 means row, and axis1 means column***\n",
    "\n"
   ]
  },
  {
   "cell_type": "code",
   "execution_count": 7,
   "id": "9ce1c943",
   "metadata": {},
   "outputs": [
    {
     "data": {
      "text/plain": [
       "array([10, 20, 30])"
      ]
     },
     "execution_count": 7,
     "metadata": {},
     "output_type": "execute_result"
    }
   ],
   "source": [
    "# create a numpy array\n",
    "import numpy as np\n",
    "age=[10,20,30]\n",
    "age_array=np.array(age)\n",
    "\n",
    "age_array"
   ]
  },
  {
   "cell_type": "code",
   "execution_count": 8,
   "id": "c078e34f",
   "metadata": {},
   "outputs": [
    {
     "data": {
      "text/plain": [
       "[10, 20, 30]"
      ]
     },
     "execution_count": 8,
     "metadata": {},
     "output_type": "execute_result"
    }
   ],
   "source": [
    "age"
   ]
  },
  {
   "cell_type": "code",
   "execution_count": 9,
   "id": "4a26cbb3",
   "metadata": {},
   "outputs": [
    {
     "data": {
      "text/plain": [
       "numpy.ndarray"
      ]
     },
     "execution_count": 9,
     "metadata": {},
     "output_type": "execute_result"
    }
   ],
   "source": [
    "type(age_array)\n",
    "# numpy n dimension array"
   ]
  },
  {
   "cell_type": "code",
   "execution_count": 5,
   "id": "eaf9f3f0",
   "metadata": {},
   "outputs": [
    {
     "data": {
      "text/plain": [
       "(3,)"
      ]
     },
     "execution_count": 5,
     "metadata": {},
     "output_type": "execute_result"
    }
   ],
   "source": [
    "age_array.shape"
   ]
  },
  {
   "cell_type": "markdown",
   "id": "ffbbbaf2",
   "metadata": {},
   "source": [
    "- shape >>> The shape of an array is the number of elements in each dimension.\n",
    "- size  >>>>> In Python, numpy.size() function count the number of elements along a given axis.\n",
    "- dtype(datatypes) >>>>> data type\n",
    "- ndim(n-dimension) >>>> number of dimension.\n",
    "\n",
    "\n",
    "\n",
    "\n"
   ]
  },
  {
   "cell_type": "code",
   "execution_count": 10,
   "id": "1029b044",
   "metadata": {},
   "outputs": [
    {
     "data": {
      "text/plain": [
       "(3,)"
      ]
     },
     "execution_count": 10,
     "metadata": {},
     "output_type": "execute_result"
    }
   ],
   "source": [
    "age_array.shape"
   ]
  },
  {
   "cell_type": "code",
   "execution_count": 11,
   "id": "fffa7b3f",
   "metadata": {},
   "outputs": [
    {
     "data": {
      "text/plain": [
       "3"
      ]
     },
     "execution_count": 11,
     "metadata": {},
     "output_type": "execute_result"
    }
   ],
   "source": [
    "age_array.size"
   ]
  },
  {
   "cell_type": "code",
   "execution_count": 12,
   "id": "a0f6ae47",
   "metadata": {},
   "outputs": [
    {
     "data": {
      "text/plain": [
       "dtype('int64')"
      ]
     },
     "execution_count": 12,
     "metadata": {},
     "output_type": "execute_result"
    }
   ],
   "source": [
    "age_array.dtype"
   ]
  },
  {
   "cell_type": "code",
   "execution_count": 13,
   "id": "bdfbc722",
   "metadata": {},
   "outputs": [
    {
     "data": {
      "text/plain": [
       "1"
      ]
     },
     "execution_count": 13,
     "metadata": {},
     "output_type": "execute_result"
    }
   ],
   "source": [
    "age_array.ndim"
   ]
  },
  {
   "cell_type": "code",
   "execution_count": 14,
   "id": "17bee934",
   "metadata": {},
   "outputs": [
    {
     "name": "stdout",
     "output_type": "stream",
     "text": [
      "<class 'numpy.ndarray'>\n",
      "3\n",
      "<U32\n",
      "1\n",
      "(3,)\n"
     ]
    }
   ],
   "source": [
    "# create array with some strings\n",
    "n_array = np.array([\"sri\",4000,50.5555])\n",
    "print(type(n_array))\n",
    "print(n_array.size)\n",
    "print(n_array.dtype)\n",
    "print(n_array.ndim)\n",
    "print(n_array.shape)"
   ]
  },
  {
   "cell_type": "code",
   "execution_count": 12,
   "id": "e479e63a",
   "metadata": {},
   "outputs": [
    {
     "name": "stdout",
     "output_type": "stream",
     "text": [
      "<class 'numpy.ndarray'>\n",
      "4\n",
      "float64\n",
      "1\n",
      "(4,)\n"
     ]
    }
   ],
   "source": [
    "s_array = np.array([50.555,4444,555,666])\n",
    "print(type(s_array))\n",
    "print(s_array.size)\n",
    "print(s_array.dtype)\n",
    "print(s_array.ndim)\n",
    "print(s_array.shape)"
   ]
  },
  {
   "cell_type": "code",
   "execution_count": 15,
   "id": "eaa259d7",
   "metadata": {},
   "outputs": [
    {
     "data": {
      "text/plain": [
       "array([[  1,   2,   3,   4,   5],\n",
       "       [100, 200, 300, 400, 500]])"
      ]
     },
     "execution_count": 15,
     "metadata": {},
     "output_type": "execute_result"
    }
   ],
   "source": [
    "arr1 = np.array([[1,2,3,4,5],[100,200,300,400,500]])\n",
    "arr1"
   ]
  },
  {
   "cell_type": "code",
   "execution_count": 16,
   "id": "2795563f",
   "metadata": {},
   "outputs": [
    {
     "data": {
      "text/plain": [
       "(2, 5)"
      ]
     },
     "execution_count": 16,
     "metadata": {},
     "output_type": "execute_result"
    }
   ],
   "source": [
    "arr1.shape"
   ]
  },
  {
   "cell_type": "code",
   "execution_count": 15,
   "id": "24fbbead",
   "metadata": {},
   "outputs": [
    {
     "data": {
      "text/plain": [
       "10"
      ]
     },
     "execution_count": 15,
     "metadata": {},
     "output_type": "execute_result"
    }
   ],
   "source": [
    "arr1.size"
   ]
  },
  {
   "cell_type": "code",
   "execution_count": 17,
   "id": "3624dc16",
   "metadata": {},
   "outputs": [
    {
     "data": {
      "text/plain": [
       "2"
      ]
     },
     "execution_count": 17,
     "metadata": {},
     "output_type": "execute_result"
    }
   ],
   "source": [
    "arr1.ndim"
   ]
  },
  {
   "cell_type": "code",
   "execution_count": 18,
   "id": "bf89da65",
   "metadata": {},
   "outputs": [
    {
     "data": {
      "text/plain": [
       "dtype('int64')"
      ]
     },
     "execution_count": 18,
     "metadata": {},
     "output_type": "execute_result"
    }
   ],
   "source": [
    "arr1.dtype"
   ]
  },
  {
   "cell_type": "code",
   "execution_count": 18,
   "id": "2a918c51",
   "metadata": {},
   "outputs": [
    {
     "data": {
      "text/plain": [
       "numpy.ndarray"
      ]
     },
     "execution_count": 18,
     "metadata": {},
     "output_type": "execute_result"
    }
   ],
   "source": [
    "type(arr1)"
   ]
  },
  {
   "cell_type": "code",
   "execution_count": 20,
   "id": "602ab0f2",
   "metadata": {},
   "outputs": [
    {
     "name": "stderr",
     "output_type": "stream",
     "text": [
      "/var/folders/p6/z0mkbnv935lfj5knl3fvv_0m0000gp/T/ipykernel_732/3946091718.py:1: VisibleDeprecationWarning: Creating an ndarray from ragged nested sequences (which is a list-or-tuple of lists-or-tuples-or ndarrays with different lengths or shapes) is deprecated. If you meant to do this, you must specify 'dtype=object' when creating the ndarray.\n",
      "  arr2 =np.array([[1,2],[100,200,300]])\n"
     ]
    },
    {
     "data": {
      "text/plain": [
       "array([list([1, 2]), list([100, 200, 300])], dtype=object)"
      ]
     },
     "execution_count": 20,
     "metadata": {},
     "output_type": "execute_result"
    }
   ],
   "source": [
    "arr2 =np.array([[1,2],[100,200,300]])\n",
    "\n",
    "arr2"
   ]
  },
  {
   "cell_type": "code",
   "execution_count": 21,
   "id": "848f0d57",
   "metadata": {},
   "outputs": [
    {
     "data": {
      "text/plain": [
       "array([list([1, 2]), list([100, 200, 300])], dtype=object)"
      ]
     },
     "execution_count": 21,
     "metadata": {},
     "output_type": "execute_result"
    }
   ],
   "source": [
    "arr2"
   ]
  },
  {
   "cell_type": "code",
   "execution_count": 22,
   "id": "953ed5f7",
   "metadata": {},
   "outputs": [
    {
     "data": {
      "text/plain": [
       "1"
      ]
     },
     "execution_count": 22,
     "metadata": {},
     "output_type": "execute_result"
    }
   ],
   "source": [
    "arr2.ndim"
   ]
  },
  {
   "cell_type": "code",
   "execution_count": 28,
   "id": "da2e28fa",
   "metadata": {},
   "outputs": [],
   "source": [
    "# 3 D array\n",
    "\n",
    "elm=[[[1,2,3],[100,200,300],[1000,2000,3000]]]\n",
    "arr3=np.array(elm)"
   ]
  },
  {
   "cell_type": "code",
   "execution_count": 29,
   "id": "fe842a5f",
   "metadata": {},
   "outputs": [
    {
     "data": {
      "text/plain": [
       "array([[[   1,    2,    3],\n",
       "        [ 100,  200,  300],\n",
       "        [1000, 2000, 3000]]])"
      ]
     },
     "execution_count": 29,
     "metadata": {},
     "output_type": "execute_result"
    }
   ],
   "source": [
    "arr3"
   ]
  },
  {
   "cell_type": "code",
   "execution_count": 30,
   "id": "eaae25e9",
   "metadata": {},
   "outputs": [
    {
     "data": {
      "text/plain": [
       "(1, 3, 3)"
      ]
     },
     "execution_count": 30,
     "metadata": {},
     "output_type": "execute_result"
    }
   ],
   "source": [
    "arr3.shape\n",
    "#(k,m,n)\n",
    "# k= single list\n",
    "#"
   ]
  },
  {
   "cell_type": "code",
   "execution_count": 31,
   "id": "7d49bd2b",
   "metadata": {},
   "outputs": [
    {
     "data": {
      "text/plain": [
       "9"
      ]
     },
     "execution_count": 31,
     "metadata": {},
     "output_type": "execute_result"
    }
   ],
   "source": [
    "arr3.size"
   ]
  },
  {
   "cell_type": "code",
   "execution_count": 32,
   "id": "cbbc7993",
   "metadata": {},
   "outputs": [
    {
     "data": {
      "text/plain": [
       "3"
      ]
     },
     "execution_count": 32,
     "metadata": {},
     "output_type": "execute_result"
    }
   ],
   "source": [
    "arr3.ndim"
   ]
  },
  {
   "cell_type": "code",
   "execution_count": 38,
   "id": "1b056be7",
   "metadata": {},
   "outputs": [
    {
     "data": {
      "text/plain": [
       "[4, 5, 6]"
      ]
     },
     "execution_count": 38,
     "metadata": {},
     "output_type": "execute_result"
    }
   ],
   "source": [
    "ele2=[[1,2,3],[4,5,6]]\n",
    "ele2[1]\n"
   ]
  },
  {
   "cell_type": "code",
   "execution_count": 46,
   "id": "bcd2e0c7",
   "metadata": {},
   "outputs": [
    {
     "name": "stdout",
     "output_type": "stream",
     "text": [
      "[[[ 1  2  3]\n",
      "  [10 20 30]]\n",
      "\n",
      " [[ 1  2  3]\n",
      "  [10 20 30]]]\n"
     ]
    }
   ],
   "source": [
    "ele=[[[1,2,3],[10,20,30]],[[1,2,3],[10,20,30]]]\n",
    "\n",
    "a=np.array(ele)\n",
    "print(a)"
   ]
  },
  {
   "cell_type": "code",
   "execution_count": 43,
   "id": "4d2f413e",
   "metadata": {},
   "outputs": [
    {
     "data": {
      "text/plain": [
       "3"
      ]
     },
     "execution_count": 43,
     "metadata": {},
     "output_type": "execute_result"
    }
   ],
   "source": [
    "a.ndim"
   ]
  },
  {
   "cell_type": "code",
   "execution_count": 44,
   "id": "ea160173",
   "metadata": {},
   "outputs": [
    {
     "data": {
      "text/plain": [
       "(2, 2, 3)"
      ]
     },
     "execution_count": 44,
     "metadata": {},
     "output_type": "execute_result"
    }
   ],
   "source": [
    "a.shape"
   ]
  },
  {
   "cell_type": "code",
   "execution_count": 47,
   "id": "ed806e81",
   "metadata": {},
   "outputs": [
    {
     "data": {
      "text/plain": [
       "12"
      ]
     },
     "execution_count": 47,
     "metadata": {},
     "output_type": "execute_result"
    }
   ],
   "source": [
    "a.size"
   ]
  },
  {
   "cell_type": "code",
   "execution_count": 25,
   "id": "c692b0f7",
   "metadata": {},
   "outputs": [
    {
     "data": {
      "text/plain": [
       "array([[101, 102, 103, 104],\n",
       "       [105, 106, 107, 108]])"
      ]
     },
     "execution_count": 25,
     "metadata": {},
     "output_type": "execute_result"
    }
   ],
   "source": [
    "matrix=np.array([[1,2,3,4]\n",
    "                 ,[5,6,7,8]])\n",
    "matrix+100  "
   ]
  },
  {
   "cell_type": "code",
   "execution_count": 29,
   "id": "76522862",
   "metadata": {},
   "outputs": [
    {
     "data": {
      "text/plain": [
       "array([1, 2, 3, 4])"
      ]
     },
     "execution_count": 29,
     "metadata": {},
     "output_type": "execute_result"
    }
   ],
   "source": [
    "np.min(matrix,axis=0)"
   ]
  },
  {
   "cell_type": "code",
   "execution_count": null,
   "id": "a35a8b87",
   "metadata": {},
   "outputs": [],
   "source": []
  },
  {
   "cell_type": "code",
   "execution_count": null,
   "id": "e6fe4bac",
   "metadata": {},
   "outputs": [],
   "source": []
  },
  {
   "cell_type": "markdown",
   "id": "a6d147b9",
   "metadata": {},
   "source": [
    "# random"
   ]
  },
  {
   "cell_type": "code",
   "execution_count": 48,
   "id": "5a8cd54c",
   "metadata": {},
   "outputs": [],
   "source": [
    "import random"
   ]
  },
  {
   "cell_type": "code",
   "execution_count": 50,
   "id": "65102179",
   "metadata": {},
   "outputs": [
    {
     "data": {
      "text/plain": [
       "8"
      ]
     },
     "execution_count": 50,
     "metadata": {},
     "output_type": "execute_result"
    }
   ],
   "source": [
    "random.randint(1,10)"
   ]
  },
  {
   "cell_type": "code",
   "execution_count": 51,
   "id": "70bb4ee8",
   "metadata": {},
   "outputs": [
    {
     "data": {
      "text/plain": [
       "0"
      ]
     },
     "execution_count": 51,
     "metadata": {},
     "output_type": "execute_result"
    }
   ],
   "source": [
    "random.randint(0,1)"
   ]
  },
  {
   "cell_type": "code",
   "execution_count": 54,
   "id": "6e7fdb49",
   "metadata": {},
   "outputs": [
    {
     "data": {
      "text/plain": [
       "[1, 1, 0, 0, 1]"
      ]
     },
     "execution_count": 54,
     "metadata": {},
     "output_type": "execute_result"
    }
   ],
   "source": [
    "list1=[]\n",
    "for i in range(5):\n",
    "    list1.append(random.randint(0,1))\n",
    "    \n",
    "list1"
   ]
  },
  {
   "cell_type": "code",
   "execution_count": 56,
   "id": "e6df4e00",
   "metadata": {},
   "outputs": [
    {
     "data": {
      "text/plain": [
       "[0.4197282286899121,\n",
       " 0.22996451589025058,\n",
       " 0.7499137009622234,\n",
       " 0.5845114606767959,\n",
       " 0.3663873989006571,\n",
       " 0.33474805896942805,\n",
       " 0.09782826556121482,\n",
       " 0.8672572824026331,\n",
       " 0.3724308321908293,\n",
       " 0.9452568462795441]"
      ]
     },
     "execution_count": 56,
     "metadata": {},
     "output_type": "execute_result"
    }
   ],
   "source": [
    "r1=[]\n",
    "for i in range(10):\n",
    "    a=random.random()\n",
    "    r1.append(a)\n",
    "    \n",
    "r1"
   ]
  },
  {
   "cell_type": "code",
   "execution_count": null,
   "id": "72f73eed",
   "metadata": {},
   "outputs": [],
   "source": [
    "# numpy array of random number\n",
    "# no need list\n",
    "# no need loop\n",
    "# random() method return numbers,between [0,1]\n",
    "# half interval here 0 include and 1 is not include\n",
    "# the required number of random number is passed through size.\n",
    "\n"
   ]
  },
  {
   "cell_type": "code",
   "execution_count": 57,
   "id": "3ea6db28",
   "metadata": {},
   "outputs": [
    {
     "data": {
      "text/plain": [
       "array([0.13271416, 0.42299423, 0.02181392, 0.23961415, 0.42748873,\n",
       "       0.42012401, 0.33253625, 0.28942441, 0.81553256, 0.72999235])"
      ]
     },
     "execution_count": 57,
     "metadata": {},
     "output_type": "execute_result"
    }
   ],
   "source": [
    "np.random.random(size=10)"
   ]
  },
  {
   "cell_type": "code",
   "execution_count": 58,
   "id": "76eecbad",
   "metadata": {},
   "outputs": [
    {
     "data": {
      "text/plain": [
       "(2, 5)"
      ]
     },
     "execution_count": 58,
     "metadata": {},
     "output_type": "execute_result"
    }
   ],
   "source": [
    "arr1.shape"
   ]
  },
  {
   "cell_type": "code",
   "execution_count": null,
   "id": "cbbfe004",
   "metadata": {},
   "outputs": [],
   "source": [
    "# i want to generate random numbers with given shape..\n",
    "# (3,3) (2,3),(3,4)"
   ]
  },
  {
   "cell_type": "markdown",
   "id": "c190a9fa",
   "metadata": {},
   "source": [
    "# np.random.random ()"
   ]
  },
  {
   "cell_type": "code",
   "execution_count": 10,
   "id": "617f6db2",
   "metadata": {},
   "outputs": [
    {
     "data": {
      "text/plain": [
       "array([0.40571218, 0.90652276, 0.26183184, 0.19399087, 0.72371476,\n",
       "       0.68577415, 0.89427224, 0.85927081, 0.40153872, 0.40206215])"
      ]
     },
     "execution_count": 10,
     "metadata": {},
     "output_type": "execute_result"
    }
   ],
   "source": [
    "np.random.random(10)  # np.random.random(): between (0,1) where 0 is inclusive and 1 is exclusive.."
   ]
  },
  {
   "cell_type": "code",
   "execution_count": 11,
   "id": "5791a2b6",
   "metadata": {},
   "outputs": [
    {
     "data": {
      "text/plain": [
       "array([0.13152723, 0.18580855, 0.88530158, 0.66722298, 0.78435848])"
      ]
     },
     "execution_count": 11,
     "metadata": {},
     "output_type": "execute_result"
    }
   ],
   "source": [
    "np.random.random(5) # size is given to it.."
   ]
  },
  {
   "cell_type": "markdown",
   "id": "b7c93f7b",
   "metadata": {},
   "source": [
    "# np.random.rand\n",
    "- rand() method creates an array of random number with given shape\n",
    "- And the random numbers generate betwwen (0,1)\n",
    "- Both zero and one not included"
   ]
  },
  {
   "cell_type": "code",
   "execution_count": 59,
   "id": "a98cf558",
   "metadata": {},
   "outputs": [
    {
     "data": {
      "text/plain": [
       "array([[0.50743022, 0.32341398, 0.17547829],\n",
       "       [0.34369124, 0.14017151, 0.51954076]])"
      ]
     },
     "execution_count": 59,
     "metadata": {},
     "output_type": "execute_result"
    }
   ],
   "source": [
    "np.random.rand(2,3)"
   ]
  },
  {
   "cell_type": "code",
   "execution_count": 60,
   "id": "30b099a5",
   "metadata": {},
   "outputs": [
    {
     "data": {
      "text/plain": [
       "array([[[0.67319921, 0.0783061 , 0.16325217],\n",
       "        [0.18985023, 0.66175129, 0.91620895]],\n",
       "\n",
       "       [[0.61336032, 0.87259848, 0.90158028],\n",
       "        [0.93286283, 0.23797062, 0.92868621]],\n",
       "\n",
       "       [[0.4241462 , 0.93841248, 0.43836563],\n",
       "        [0.36068834, 0.3526463 , 0.41508449]]])"
      ]
     },
     "execution_count": 60,
     "metadata": {},
     "output_type": "execute_result"
    }
   ],
   "source": [
    "np.random.rand(3,2,3)"
   ]
  },
  {
   "cell_type": "code",
   "execution_count": 61,
   "id": "ab65b74e",
   "metadata": {},
   "outputs": [
    {
     "data": {
      "text/plain": [
       "array([[[0.16676278, 0.5114716 , 0.13152047],\n",
       "        [0.3156186 , 0.27692673, 0.70032267]]])"
      ]
     },
     "execution_count": 61,
     "metadata": {},
     "output_type": "execute_result"
    }
   ],
   "source": [
    "np.random.rand(1,2,3)"
   ]
  },
  {
   "cell_type": "markdown",
   "id": "c8ee94a3",
   "metadata": {},
   "source": [
    "# Normal Distribution\n",
    "- Bell curve\n",
    "\n",
    "- 50% values on right side of mean\n",
    "- 50% values on left side of mean\n",
    "- for normal distribution..\n"
   ]
  },
  {
   "cell_type": "code",
   "execution_count": null,
   "id": "dbb8d1de",
   "metadata": {},
   "outputs": [],
   "source": [
    "# if i want to get random numbers from noral distribution\n",
    "# it has some negative values some pos.\n"
   ]
  },
  {
   "cell_type": "markdown",
   "id": "fa95d38f",
   "metadata": {},
   "source": [
    "# np.random.randn"
   ]
  },
  {
   "cell_type": "code",
   "execution_count": 62,
   "id": "c7d64919",
   "metadata": {},
   "outputs": [
    {
     "data": {
      "text/plain": [
       "array([[ 0.78198882,  0.41826743, -0.50072598],\n",
       "       [ 1.40250754,  0.61095827,  1.47573294]])"
      ]
     },
     "execution_count": 62,
     "metadata": {},
     "output_type": "execute_result"
    }
   ],
   "source": [
    "np.random.randn(2,3)  # Rnadom numbers from Normal Distribution."
   ]
  },
  {
   "cell_type": "markdown",
   "id": "39cf9421",
   "metadata": {},
   "source": [
    "# np.random.randint"
   ]
  },
  {
   "cell_type": "code",
   "execution_count": 6,
   "id": "159e5ab8",
   "metadata": {},
   "outputs": [
    {
     "data": {
      "text/plain": [
       "8"
      ]
     },
     "execution_count": 6,
     "metadata": {},
     "output_type": "execute_result"
    }
   ],
   "source": [
    "import numpy as np\n",
    "import random\n",
    "np.random.randint(2,10)\n",
    "\n",
    "# returns random numbers between 2,20\n",
    "# (2,10)\n",
    "# here 2 is inclusive and 10 is exclusive"
   ]
  },
  {
   "cell_type": "code",
   "execution_count": 7,
   "id": "cb79acd0",
   "metadata": {},
   "outputs": [
    {
     "data": {
      "text/plain": [
       "5"
      ]
     },
     "execution_count": 7,
     "metadata": {},
     "output_type": "execute_result"
    }
   ],
   "source": [
    "np.random.randint(2,10)  #shift+tab"
   ]
  },
  {
   "cell_type": "code",
   "execution_count": 8,
   "id": "442f9ba3",
   "metadata": {},
   "outputs": [
    {
     "data": {
      "text/plain": [
       "array([98, 76, 45, 43, 68, 85, 74, 37, 92, 79])"
      ]
     },
     "execution_count": 8,
     "metadata": {},
     "output_type": "execute_result"
    }
   ],
   "source": [
    "# i want to get 10 integers between 20,100\n",
    "# where 20 is inclusove and 100 is exclusive..\n",
    "\n",
    "np.random.randint(20,100,10)"
   ]
  },
  {
   "cell_type": "markdown",
   "id": "97c85e76",
   "metadata": {},
   "source": [
    "- np.random.random(): between (0,1) where 0 is inclusive and 1 is exclusive..\n",
    "- np.random.rand(): Give the random number to the given shape..\n",
    "- np.random.randn(): Rnadom numbers from Normal Distribution.\n",
    "- np.random.randint(): Random number betwwen given range of integers..\n",
    "    "
   ]
  },
  {
   "cell_type": "markdown",
   "id": "c5cf8442",
   "metadata": {},
   "source": [
    "**np.arange**"
   ]
  },
  {
   "cell_type": "code",
   "execution_count": null,
   "id": "78a0e1a0",
   "metadata": {},
   "outputs": [],
   "source": [
    "- np.arange() also used to create numpy array\n",
    "- The numbers generated with some difference.\n"
   ]
  },
  {
   "cell_type": "code",
   "execution_count": 15,
   "id": "d08edf5e",
   "metadata": {},
   "outputs": [
    {
     "name": "stdout",
     "output_type": "stream",
     "text": [
      "1\n",
      "3\n",
      "5\n",
      "7\n",
      "9\n"
     ]
    }
   ],
   "source": [
    "for i in range(1,10,2):\n",
    "    print(i) "
   ]
  },
  {
   "cell_type": "code",
   "execution_count": 18,
   "id": "61331bc8",
   "metadata": {},
   "outputs": [
    {
     "name": "stdout",
     "output_type": "stream",
     "text": [
      "[ 1.  3.  5.  7.  9. 11. 13. 15. 17. 19.]\n",
      "<class 'numpy.ndarray'>\n"
     ]
    }
   ],
   "source": [
    "# using arange lib..\n",
    "even=np.arange(1,20,2,float) # also write this>>  np.arange(start=1,stop=20,step=2,dtype=float)\n",
    "print(even)\n",
    "print(type(even))"
   ]
  },
  {
   "cell_type": "code",
   "execution_count": 9,
   "id": "b185f404",
   "metadata": {},
   "outputs": [
    {
     "name": "stdout",
     "output_type": "stream",
     "text": [
      "[ 1  4  7 10 13 16 19]\n",
      "<class 'numpy.ndarray'>\n",
      "int64\n",
      "7\n",
      "(7,)\n",
      "1\n"
     ]
    }
   ],
   "source": [
    "odd=np.arange(1,20,3,int)\n",
    "print(odd)\n",
    "print(type(odd))\n",
    "print(odd.dtype)\n",
    "print(odd.size)\n",
    "print(odd.shape)\n",
    "print(odd.ndim)"
   ]
  },
  {
   "cell_type": "markdown",
   "id": "5cc441fe",
   "metadata": {},
   "source": [
    "**Pattern**"
   ]
  },
  {
   "cell_type": "markdown",
   "id": "0441ef2f",
   "metadata": {},
   "source": [
    "# np.linspace "
   ]
  },
  {
   "cell_type": "markdown",
   "id": "fc8776ad",
   "metadata": {},
   "source": [
    "- It is like a scale\n",
    "- It will generate only specified numbers in a specific range\n",
    "- Range (start,stop)\n",
    "- How many numbers i need to display (num)"
   ]
  },
  {
   "cell_type": "code",
   "execution_count": 19,
   "id": "cb463598",
   "metadata": {},
   "outputs": [
    {
     "data": {
      "text/plain": [
       "array([  1.,  12.,  23.,  34.,  45.,  56.,  67.,  78.,  89., 100.])"
      ]
     },
     "execution_count": 19,
     "metadata": {},
     "output_type": "execute_result"
    }
   ],
   "source": [
    "np.linspace(1,100,10)"
   ]
  },
  {
   "cell_type": "code",
   "execution_count": 10,
   "id": "97ec6dfa",
   "metadata": {},
   "outputs": [
    {
     "data": {
      "text/plain": [
       "array([  1.,  34.,  67., 100.])"
      ]
     },
     "execution_count": 10,
     "metadata": {},
     "output_type": "execute_result"
    }
   ],
   "source": [
    "np.linspace(1,100,4)"
   ]
  },
  {
   "cell_type": "code",
   "execution_count": 16,
   "id": "7ecbb175",
   "metadata": {},
   "outputs": [
    {
     "data": {
      "text/plain": [
       "array([  1. ,  20.8,  40.6,  60.4,  80.2, 100. ])"
      ]
     },
     "execution_count": 16,
     "metadata": {},
     "output_type": "execute_result"
    }
   ],
   "source": [
    "np.linspace(1,100,6)\n"
   ]
  },
  {
   "cell_type": "code",
   "execution_count": null,
   "id": "667c44eb",
   "metadata": {},
   "outputs": [],
   "source": [
    "# suppose if you want to make all zeros..\n",
    "# suppose if you want to make all ones..\n"
   ]
  },
  {
   "cell_type": "code",
   "execution_count": 20,
   "id": "9e3c6ce4",
   "metadata": {},
   "outputs": [
    {
     "data": {
      "text/plain": [
       "array([0., 0., 0., 0., 0., 0., 0., 0., 0., 0.])"
      ]
     },
     "execution_count": 20,
     "metadata": {},
     "output_type": "execute_result"
    }
   ],
   "source": [
    "np.zeros(10)\n",
    "# 1D"
   ]
  },
  {
   "cell_type": "code",
   "execution_count": 23,
   "id": "589c03dc",
   "metadata": {},
   "outputs": [
    {
     "data": {
      "text/plain": [
       "array([[0., 0., 0.],\n",
       "       [0., 0., 0.],\n",
       "       [0., 0., 0.]])"
      ]
     },
     "execution_count": 23,
     "metadata": {},
     "output_type": "execute_result"
    }
   ],
   "source": [
    "# shape\n",
    "\n",
    "np.zeros(shape=(3,3))"
   ]
  },
  {
   "cell_type": "code",
   "execution_count": 24,
   "id": "f45856cd",
   "metadata": {},
   "outputs": [
    {
     "data": {
      "text/plain": [
       "array([1., 1., 1., 1., 1., 1., 1., 1., 1., 1.])"
      ]
     },
     "execution_count": 24,
     "metadata": {},
     "output_type": "execute_result"
    }
   ],
   "source": [
    "np.ones(10)"
   ]
  },
  {
   "cell_type": "markdown",
   "id": "553457c7",
   "metadata": {},
   "source": [
    "**np.empty**"
   ]
  },
  {
   "cell_type": "markdown",
   "id": "9b787b93",
   "metadata": {},
   "source": [
    "- generates a random matrix with given shape and give data type"
   ]
  },
  {
   "cell_type": "code",
   "execution_count": 25,
   "id": "13edf936",
   "metadata": {},
   "outputs": [
    {
     "data": {
      "text/plain": [
       "array([[0., 0., 0.],\n",
       "       [0., 0., 0.],\n",
       "       [0., 0., 0.]])"
      ]
     },
     "execution_count": 25,
     "metadata": {},
     "output_type": "execute_result"
    }
   ],
   "source": [
    "np.empty(shape=(3,3))"
   ]
  },
  {
   "cell_type": "code",
   "execution_count": 27,
   "id": "9fc14f80",
   "metadata": {},
   "outputs": [
    {
     "data": {
      "text/plain": [
       "array([[0, 0, 0],\n",
       "       [0, 0, 0],\n",
       "       [0, 0, 0]])"
      ]
     },
     "execution_count": 27,
     "metadata": {},
     "output_type": "execute_result"
    }
   ],
   "source": [
    "np.empty(shape=(3,3),dtype='int')"
   ]
  },
  {
   "cell_type": "code",
   "execution_count": 28,
   "id": "96a7b38d",
   "metadata": {},
   "outputs": [
    {
     "data": {
      "text/plain": [
       "array([[ 0.00000000e+000, -1.49457615e-154,  4.63461863e+228],\n",
       "       [ 2.62159492e-258,  6.01347002e-154,  4.82191851e+233],\n",
       "       [ 3.51527682e+257,  6.80085840e+199,  6.01346953e-154]])"
      ]
     },
     "execution_count": 28,
     "metadata": {},
     "output_type": "execute_result"
    }
   ],
   "source": [
    "np.empty(shape=(3,3),dtype='float')"
   ]
  },
  {
   "cell_type": "markdown",
   "id": "b37602f5",
   "metadata": {},
   "source": [
    "**np.full**"
   ]
  },
  {
   "cell_type": "markdown",
   "id": "7b44d143",
   "metadata": {},
   "source": [
    "- np.full also returns the matrix with some full value"
   ]
  },
  {
   "cell_type": "code",
   "execution_count": 33,
   "id": "8ec2f826",
   "metadata": {},
   "outputs": [
    {
     "data": {
      "text/plain": [
       "array([[100, 100, 100],\n",
       "       [100, 100, 100],\n",
       "       [100, 100, 100]])"
      ]
     },
     "execution_count": 33,
     "metadata": {},
     "output_type": "execute_result"
    }
   ],
   "source": [
    "np.full((3,3),fill_value=100)"
   ]
  },
  {
   "cell_type": "markdown",
   "id": "a57c6bab",
   "metadata": {},
   "source": [
    "**np.identity**"
   ]
  },
  {
   "cell_type": "code",
   "execution_count": 34,
   "id": "6d6f06cd",
   "metadata": {},
   "outputs": [
    {
     "data": {
      "text/plain": [
       "array([[1., 0., 0., 0., 0.],\n",
       "       [0., 1., 0., 0., 0.],\n",
       "       [0., 0., 1., 0., 0.],\n",
       "       [0., 0., 0., 1., 0.],\n",
       "       [0., 0., 0., 0., 1.]])"
      ]
     },
     "execution_count": 34,
     "metadata": {},
     "output_type": "execute_result"
    }
   ],
   "source": [
    "np.identity(5)"
   ]
  },
  {
   "cell_type": "markdown",
   "id": "cfdeb747",
   "metadata": {},
   "source": [
    "# np.eye"
   ]
  },
  {
   "cell_type": "code",
   "execution_count": null,
   "id": "2816bef6",
   "metadata": {},
   "outputs": [],
   "source": [
    "# N*M matrix\n",
    "# 4*5 matrix\n",
    "# "
   ]
  },
  {
   "cell_type": "code",
   "execution_count": 35,
   "id": "059d7c4c",
   "metadata": {},
   "outputs": [
    {
     "data": {
      "text/plain": [
       "array([[1., 0., 0., 0., 0.],\n",
       "       [0., 1., 0., 0., 0.],\n",
       "       [0., 0., 1., 0., 0.],\n",
       "       [0., 0., 0., 1., 0.]])"
      ]
     },
     "execution_count": 35,
     "metadata": {},
     "output_type": "execute_result"
    }
   ],
   "source": [
    "np.eye(4,5)"
   ]
  },
  {
   "cell_type": "code",
   "execution_count": 36,
   "id": "e7996223",
   "metadata": {},
   "outputs": [
    {
     "data": {
      "text/plain": [
       "array([[1., 0., 0., 0., 0.],\n",
       "       [0., 1., 0., 0., 0.],\n",
       "       [0., 0., 1., 0., 0.],\n",
       "       [0., 0., 0., 1., 0.]])"
      ]
     },
     "execution_count": 36,
     "metadata": {},
     "output_type": "execute_result"
    }
   ],
   "source": [
    "np.eye(4,5,k=0)\n"
   ]
  },
  {
   "cell_type": "code",
   "execution_count": 37,
   "id": "05b5dd68",
   "metadata": {},
   "outputs": [
    {
     "data": {
      "text/plain": [
       "array([[0., 1., 0., 0., 0.],\n",
       "       [0., 0., 1., 0., 0.],\n",
       "       [0., 0., 0., 1., 0.],\n",
       "       [0., 0., 0., 0., 1.]])"
      ]
     },
     "execution_count": 37,
     "metadata": {},
     "output_type": "execute_result"
    }
   ],
   "source": [
    "np.eye(4,5,k=1)"
   ]
  },
  {
   "cell_type": "code",
   "execution_count": 38,
   "id": "99bd5b0f",
   "metadata": {},
   "outputs": [
    {
     "data": {
      "text/plain": [
       "array([[0., 0., 1., 0., 0.],\n",
       "       [0., 0., 0., 1., 0.],\n",
       "       [0., 0., 0., 0., 1.],\n",
       "       [0., 0., 0., 0., 0.]])"
      ]
     },
     "execution_count": 38,
     "metadata": {},
     "output_type": "execute_result"
    }
   ],
   "source": [
    "np.eye(4,5,k=2)"
   ]
  },
  {
   "cell_type": "code",
   "execution_count": 39,
   "id": "256c318b",
   "metadata": {},
   "outputs": [
    {
     "data": {
      "text/plain": [
       "array([[0., 0., 1., 0., 0.],\n",
       "       [0., 0., 0., 1., 0.],\n",
       "       [0., 0., 0., 0., 1.],\n",
       "       [0., 0., 0., 0., 0.]])"
      ]
     },
     "execution_count": 39,
     "metadata": {},
     "output_type": "execute_result"
    }
   ],
   "source": [
    "np.eye(4,5,k=2)"
   ]
  },
  {
   "cell_type": "code",
   "execution_count": 40,
   "id": "633bda20",
   "metadata": {},
   "outputs": [
    {
     "data": {
      "text/plain": [
       "array([[0., 0., 0., 0., 0.],\n",
       "       [0., 0., 0., 0., 0.],\n",
       "       [1., 0., 0., 0., 0.],\n",
       "       [0., 1., 0., 0., 0.]])"
      ]
     },
     "execution_count": 40,
     "metadata": {},
     "output_type": "execute_result"
    }
   ],
   "source": [
    "np.eye(4,5,k=-2)"
   ]
  },
  {
   "cell_type": "code",
   "execution_count": 41,
   "id": "e5b5d1a3",
   "metadata": {},
   "outputs": [
    {
     "ename": "SyntaxError",
     "evalue": "illegal target for annotation (1691897766.py, line 1)",
     "output_type": "error",
     "traceback": [
      "\u001b[0;36m  Input \u001b[0;32mIn [41]\u001b[0;36m\u001b[0m\n\u001b[0;31m    np.random.random(): between (0,1) where 0 is inclusive and 1 is exclusive..\u001b[0m\n\u001b[0m    ^\u001b[0m\n\u001b[0;31mSyntaxError\u001b[0m\u001b[0;31m:\u001b[0m illegal target for annotation\n"
     ]
    }
   ],
   "source": [
    "np.random.random(): between (0,1) where 0 is inclusive and 1 is exclusive..\n",
    "np.random.rand(): Give the random number to the given shape..\n",
    "np.random.randn(): Rnadom numbers from Normal Distribution.\n",
    "np.random.randint(): Random number betwwen given range of integers..\n",
    "np.arange()\n",
    "np.linspace()\n",
    "np.empty()\n",
    "np.null()\n",
    "np.identity()\n",
    "np.eye()"
   ]
  },
  {
   "cell_type": "markdown",
   "id": "4a0e168b",
   "metadata": {},
   "source": [
    "## Reshape"
   ]
  },
  {
   "cell_type": "code",
   "execution_count": null,
   "id": "b9820427",
   "metadata": {},
   "outputs": [],
   "source": [
    "# numpy array has shape(3,2)\n",
    "# reshape array into (6,1)\n"
   ]
  },
  {
   "cell_type": "code",
   "execution_count": 42,
   "id": "f942bf43",
   "metadata": {},
   "outputs": [],
   "source": [
    "employee=np.array([('Ram',18),\n",
    "                   ('Laxman',20),\n",
    "                   ('Krishan',22)])"
   ]
  },
  {
   "cell_type": "code",
   "execution_count": 43,
   "id": "e43acb48",
   "metadata": {},
   "outputs": [
    {
     "data": {
      "text/plain": [
       "array([['Ram', '18'],\n",
       "       ['Laxman', '20'],\n",
       "       ['Krishan', '22']], dtype='<U21')"
      ]
     },
     "execution_count": 43,
     "metadata": {},
     "output_type": "execute_result"
    }
   ],
   "source": [
    "employee"
   ]
  },
  {
   "cell_type": "code",
   "execution_count": 44,
   "id": "26f5477a",
   "metadata": {},
   "outputs": [
    {
     "data": {
      "text/plain": [
       "(3, 2)"
      ]
     },
     "execution_count": 44,
     "metadata": {},
     "output_type": "execute_result"
    }
   ],
   "source": [
    "employee.shape"
   ]
  },
  {
   "cell_type": "code",
   "execution_count": 45,
   "id": "c4d4a2d9",
   "metadata": {},
   "outputs": [],
   "source": [
    "employee_reshaped_61=employee.reshape(6,1)"
   ]
  },
  {
   "cell_type": "code",
   "execution_count": 46,
   "id": "cd4cdcb9",
   "metadata": {},
   "outputs": [
    {
     "data": {
      "text/plain": [
       "array([['Ram'],\n",
       "       ['18'],\n",
       "       ['Laxman'],\n",
       "       ['20'],\n",
       "       ['Krishan'],\n",
       "       ['22']], dtype='<U21')"
      ]
     },
     "execution_count": 46,
     "metadata": {},
     "output_type": "execute_result"
    }
   ],
   "source": [
    "employee_reshaped_61"
   ]
  },
  {
   "cell_type": "code",
   "execution_count": 48,
   "id": "36559fb2",
   "metadata": {},
   "outputs": [
    {
     "data": {
      "text/plain": [
       "array([['Ram', '18', 'Laxman', '20', 'Krishan', '22']], dtype='<U21')"
      ]
     },
     "execution_count": 48,
     "metadata": {},
     "output_type": "execute_result"
    }
   ],
   "source": [
    "employee_reshaped_16=employee.reshape(1,6)\n",
    "employee_reshaped_16\n",
    "# 1 row 6 columns\n",
    "# In a main list one list is there in that 6 elements are there"
   ]
  },
  {
   "cell_type": "code",
   "execution_count": 50,
   "id": "fee72bc4",
   "metadata": {},
   "outputs": [
    {
     "data": {
      "text/plain": [
       "array([['Ram', '18', 'Laxman'],\n",
       "       ['20', 'Krishan', '22']], dtype='<U21')"
      ]
     },
     "execution_count": 50,
     "metadata": {},
     "output_type": "execute_result"
    }
   ],
   "source": [
    "employee_reshaped_23=employee.reshape(2,3)\n",
    "employee_reshaped_23\n",
    "# 2 rows 3 colums\n",
    "# in main list 2 lists are there,in each list 3 elements are there"
   ]
  },
  {
   "cell_type": "code",
   "execution_count": 51,
   "id": "6e0085c1",
   "metadata": {},
   "outputs": [
    {
     "ename": "ValueError",
     "evalue": "cannot reshape array of size 6 into shape (3,3)",
     "output_type": "error",
     "traceback": [
      "\u001b[0;31m---------------------------------------------------------------------------\u001b[0m",
      "\u001b[0;31mValueError\u001b[0m                                Traceback (most recent call last)",
      "Input \u001b[0;32mIn [51]\u001b[0m, in \u001b[0;36m<cell line: 1>\u001b[0;34m()\u001b[0m\n\u001b[0;32m----> 1\u001b[0m employee_reshaped_33\u001b[38;5;241m=\u001b[39m\u001b[43memployee\u001b[49m\u001b[38;5;241;43m.\u001b[39;49m\u001b[43mreshape\u001b[49m\u001b[43m(\u001b[49m\u001b[38;5;241;43m3\u001b[39;49m\u001b[43m,\u001b[49m\u001b[38;5;241;43m3\u001b[39;49m\u001b[43m)\u001b[49m\n",
      "\u001b[0;31mValueError\u001b[0m: cannot reshape array of size 6 into shape (3,3)"
     ]
    }
   ],
   "source": [
    "employee_reshaped_33=employee.reshape(3,3)"
   ]
  },
  {
   "cell_type": "code",
   "execution_count": 55,
   "id": "dfc70bd3",
   "metadata": {},
   "outputs": [
    {
     "data": {
      "text/plain": [
       "array([['Ram', '18'],\n",
       "       ['Laxman', '20'],\n",
       "       ['Krishan', '22']], dtype='<U21')"
      ]
     },
     "execution_count": 55,
     "metadata": {},
     "output_type": "execute_result"
    }
   ],
   "source": [
    "employee"
   ]
  },
  {
   "cell_type": "code",
   "execution_count": 53,
   "id": "3d3cdb74",
   "metadata": {},
   "outputs": [
    {
     "data": {
      "text/plain": [
       "'Laxman'"
      ]
     },
     "execution_count": 53,
     "metadata": {},
     "output_type": "execute_result"
    }
   ],
   "source": [
    "employee[1][0]"
   ]
  },
  {
   "cell_type": "code",
   "execution_count": 54,
   "id": "5c942f20",
   "metadata": {},
   "outputs": [
    {
     "data": {
      "text/plain": [
       "'18'"
      ]
     },
     "execution_count": 54,
     "metadata": {},
     "output_type": "execute_result"
    }
   ],
   "source": [
    "employee[0][1]"
   ]
  },
  {
   "cell_type": "markdown",
   "id": "13a858e2",
   "metadata": {},
   "source": [
    "** slicing **"
   ]
  },
  {
   "cell_type": "code",
   "execution_count": 60,
   "id": "4a426403",
   "metadata": {},
   "outputs": [
    {
     "data": {
      "text/plain": [
       "array(['73', '78', '65', '33.3', '92', '45', 'A'], dtype='<U32')"
      ]
     },
     "execution_count": 60,
     "metadata": {},
     "output_type": "execute_result"
    }
   ],
   "source": [
    "arr1=np.array([73,78,65,33.3,92,45,'A'])\n",
    "arr1"
   ]
  },
  {
   "cell_type": "code",
   "execution_count": 57,
   "id": "882bc43e",
   "metadata": {},
   "outputs": [
    {
     "data": {
      "text/plain": [
       "array([33.3, 92. ])"
      ]
     },
     "execution_count": 57,
     "metadata": {},
     "output_type": "execute_result"
    }
   ],
   "source": [
    "arr1[3:5]"
   ]
  },
  {
   "cell_type": "code",
   "execution_count": 58,
   "id": "4ef13a68",
   "metadata": {},
   "outputs": [
    {
     "data": {
      "text/plain": [
       "array([33.3, 92. , 45. ])"
      ]
     },
     "execution_count": 58,
     "metadata": {},
     "output_type": "execute_result"
    }
   ],
   "source": [
    "arr1[3:]"
   ]
  },
  {
   "cell_type": "code",
   "execution_count": 59,
   "id": "7089225d",
   "metadata": {},
   "outputs": [
    {
     "data": {
      "text/plain": [
       "array([73., 78., 65.])"
      ]
     },
     "execution_count": 59,
     "metadata": {},
     "output_type": "execute_result"
    }
   ],
   "source": [
    "arr1[0:3]"
   ]
  },
  {
   "cell_type": "code",
   "execution_count": 61,
   "id": "071aea79",
   "metadata": {},
   "outputs": [
    {
     "data": {
      "text/plain": [
       "array([[73, 45, 67],\n",
       "       [21, 36, 19]])"
      ]
     },
     "execution_count": 61,
     "metadata": {},
     "output_type": "execute_result"
    }
   ],
   "source": [
    "# 2-D array\n",
    "\n",
    "arr2=np.array([(73,45,67),(21,36,19)])\n",
    "arr2"
   ]
  },
  {
   "cell_type": "code",
   "execution_count": 68,
   "id": "346144f4",
   "metadata": {},
   "outputs": [
    {
     "data": {
      "text/plain": [
       "array([[73, 45, 67],\n",
       "       [21, 36, 19]])"
      ]
     },
     "execution_count": 68,
     "metadata": {},
     "output_type": "execute_result"
    }
   ],
   "source": [
    "# square data or rectangle \n",
    "# colums rows\n",
    "# axis =0-----row\n",
    "# axis=1---column\n"
   ]
  },
  {
   "cell_type": "code",
   "execution_count": 69,
   "id": "27d5fa52",
   "metadata": {},
   "outputs": [
    {
     "data": {
      "text/plain": [
       "array([[73],\n",
       "       [21]])"
      ]
     },
     "execution_count": 69,
     "metadata": {},
     "output_type": "execute_result"
    }
   ],
   "source": [
    "arr2[0:,0:1]"
   ]
  },
  {
   "cell_type": "code",
   "execution_count": 72,
   "id": "1e6abf8d",
   "metadata": {},
   "outputs": [
    {
     "data": {
      "text/plain": [
       "array([[73, 45],\n",
       "       [21, 36]])"
      ]
     },
     "execution_count": 72,
     "metadata": {},
     "output_type": "execute_result"
    }
   ],
   "source": [
    "arr2[0:2,0:2]"
   ]
  },
  {
   "cell_type": "code",
   "execution_count": 73,
   "id": "e4ee2c66",
   "metadata": {},
   "outputs": [
    {
     "data": {
      "text/plain": [
       "array([[45, 67],\n",
       "       [36, 19]])"
      ]
     },
     "execution_count": 73,
     "metadata": {},
     "output_type": "execute_result"
    }
   ],
   "source": [
    "arr2[:,1:]"
   ]
  },
  {
   "cell_type": "markdown",
   "id": "ea2615f3",
   "metadata": {},
   "source": [
    "## Array operations"
   ]
  },
  {
   "cell_type": "code",
   "execution_count": 79,
   "id": "e959e98f",
   "metadata": {},
   "outputs": [
    {
     "name": "stdout",
     "output_type": "stream",
     "text": [
      "sum: [ 3  7 11 15 19]\n",
      "sub: [-1 -1 -1 -1 -1]\n",
      "mul: [ 2 12 30 56 90]\n",
      "division: [0.5        0.75       0.83333333 0.875      0.9       ]\n"
     ]
    }
   ],
   "source": [
    "odd_num=np.array([1,3,5,7,9])\n",
    "even_num=np.array([2,4,6,8,10])\n",
    "print(\"sum:\",odd_num+even_num)\n",
    "print(\"sub:\",odd_num-even_num)\n",
    "print(\"mul:\",odd_num*even_num)\n",
    "print(\"division:\",odd_num/even_num)"
   ]
  },
  {
   "cell_type": "code",
   "execution_count": 76,
   "id": "6af11531",
   "metadata": {},
   "outputs": [
    {
     "name": "stdout",
     "output_type": "stream",
     "text": [
      "3\n",
      "7\n",
      "11\n",
      "16\n",
      "19\n"
     ]
    }
   ],
   "source": [
    "list1=[1,3,5,7,9]\n",
    "list2=[2,4,6,9,10]\n",
    "\n",
    "for i,j in zip(list1,list2):\n",
    "    print(i+j)"
   ]
  },
  {
   "cell_type": "code",
   "execution_count": 81,
   "id": "14cee1ae",
   "metadata": {},
   "outputs": [
    {
     "name": "stdout",
     "output_type": "stream",
     "text": [
      "6\n"
     ]
    }
   ],
   "source": [
    "ary=np.array([[1,2,3],[0,1,4]])\n",
    "print(ary.size)"
   ]
  },
  {
   "cell_type": "code",
   "execution_count": 83,
   "id": "64bac725",
   "metadata": {},
   "outputs": [
    {
     "name": "stdout",
     "output_type": "stream",
     "text": [
      "[[1 2 3 4 5]]\n"
     ]
    }
   ],
   "source": [
    "a=np.array([1,2,3,4,5],ndmin=2)\n",
    "print(a)"
   ]
  },
  {
   "cell_type": "code",
   "execution_count": 84,
   "id": "00c74047",
   "metadata": {},
   "outputs": [
    {
     "name": "stdout",
     "output_type": "stream",
     "text": [
      "3\n"
     ]
    }
   ],
   "source": [
    "ary=np.array([1,2,3,5,8])\n",
    "ary= ary+1\n",
    "print(ary[1])"
   ]
  },
  {
   "cell_type": "code",
   "execution_count": 1,
   "id": "3f147ce1",
   "metadata": {},
   "outputs": [
    {
     "data": {
      "text/plain": [
       "array(<class 'list'>, dtype=object)"
      ]
     },
     "execution_count": 1,
     "metadata": {},
     "output_type": "execute_result"
    }
   ],
   "source": [
    "import numpy as np\n",
    "np.array(list)"
   ]
  },
  {
   "cell_type": "code",
   "execution_count": 2,
   "id": "2c805f3a",
   "metadata": {},
   "outputs": [
    {
     "data": {
      "text/plain": [
       "[1, 2, 3, 1, 2, 3]"
      ]
     },
     "execution_count": 2,
     "metadata": {},
     "output_type": "execute_result"
    }
   ],
   "source": [
    "list1=[1,2,3]\n",
    "list2=[1,2,3]\n",
    "\n",
    "list1+list2"
   ]
  },
  {
   "cell_type": "code",
   "execution_count": 5,
   "id": "90817b6b",
   "metadata": {},
   "outputs": [
    {
     "ename": "TypeError",
     "evalue": "can't multiply sequence by non-int of type 'list'",
     "output_type": "error",
     "traceback": [
      "\u001b[0;31m---------------------------------------------------------------------------\u001b[0m",
      "\u001b[0;31mTypeError\u001b[0m                                 Traceback (most recent call last)",
      "Input \u001b[0;32mIn [5]\u001b[0m, in \u001b[0;36m<cell line: 1>\u001b[0;34m()\u001b[0m\n\u001b[0;32m----> 1\u001b[0m \u001b[43mlist1\u001b[49m\u001b[38;5;241;43m*\u001b[39;49m\u001b[43mlist2\u001b[49m\n",
      "\u001b[0;31mTypeError\u001b[0m: can't multiply sequence by non-int of type 'list'"
     ]
    }
   ],
   "source": [
    "list1*list2"
   ]
  },
  {
   "cell_type": "code",
   "execution_count": 3,
   "id": "0548bf3e",
   "metadata": {},
   "outputs": [
    {
     "data": {
      "text/plain": [
       "array([1, 2, 3])"
      ]
     },
     "execution_count": 3,
     "metadata": {},
     "output_type": "execute_result"
    }
   ],
   "source": [
    "arr1=np.array([1,2,3])\n",
    "arr1"
   ]
  },
  {
   "cell_type": "code",
   "execution_count": 4,
   "id": "55d6d846",
   "metadata": {},
   "outputs": [
    {
     "data": {
      "text/plain": [
       "array([2, 4, 6])"
      ]
     },
     "execution_count": 4,
     "metadata": {},
     "output_type": "execute_result"
    }
   ],
   "source": [
    "arr1*2"
   ]
  },
  {
   "cell_type": "markdown",
   "id": "72284d12",
   "metadata": {},
   "source": [
    "## Matrix Multiplication"
   ]
  },
  {
   "cell_type": "code",
   "execution_count": 6,
   "id": "1b1b0def",
   "metadata": {},
   "outputs": [],
   "source": [
    "m1=np.array([[1,0,2],\n",
    "            [4,-2,3]])\n",
    "m2=np.array([[4,0,1],\n",
    "            [2,3,0]])\n",
    "\n"
   ]
  },
  {
   "cell_type": "code",
   "execution_count": 7,
   "id": "24c718e9",
   "metadata": {},
   "outputs": [
    {
     "data": {
      "text/plain": [
       "(2, 3)"
      ]
     },
     "execution_count": 7,
     "metadata": {},
     "output_type": "execute_result"
    }
   ],
   "source": [
    "m1.shape"
   ]
  },
  {
   "cell_type": "code",
   "execution_count": 8,
   "id": "beeabec7",
   "metadata": {},
   "outputs": [
    {
     "data": {
      "text/plain": [
       "(2, 3)"
      ]
     },
     "execution_count": 8,
     "metadata": {},
     "output_type": "execute_result"
    }
   ],
   "source": [
    "m2.shape"
   ]
  },
  {
   "cell_type": "code",
   "execution_count": 9,
   "id": "c8e46cef",
   "metadata": {},
   "outputs": [
    {
     "data": {
      "text/plain": [
       "array([[ 4,  0,  2],\n",
       "       [ 8, -6,  0]])"
      ]
     },
     "execution_count": 9,
     "metadata": {},
     "output_type": "execute_result"
    }
   ],
   "source": [
    "m1*m2\n",
    "# element wise product\n",
    "# Hadmard product"
   ]
  },
  {
   "cell_type": "code",
   "execution_count": 10,
   "id": "219bf578",
   "metadata": {},
   "outputs": [],
   "source": [
    "m1=np.array([[1,0,2],\n",
    "            [4,-2,3]])\n",
    "m2=np.array([[4,0],[2,3],[1,4]])"
   ]
  },
  {
   "cell_type": "code",
   "execution_count": 11,
   "id": "9bc53350",
   "metadata": {},
   "outputs": [
    {
     "data": {
      "text/plain": [
       "(2, 3)"
      ]
     },
     "execution_count": 11,
     "metadata": {},
     "output_type": "execute_result"
    }
   ],
   "source": [
    "m1.shape"
   ]
  },
  {
   "cell_type": "code",
   "execution_count": 12,
   "id": "57d74545",
   "metadata": {},
   "outputs": [
    {
     "data": {
      "text/plain": [
       "(3, 2)"
      ]
     },
     "execution_count": 12,
     "metadata": {},
     "output_type": "execute_result"
    }
   ],
   "source": [
    "m2.shape"
   ]
  },
  {
   "cell_type": "code",
   "execution_count": 13,
   "id": "1216236b",
   "metadata": {},
   "outputs": [
    {
     "data": {
      "text/plain": [
       "array([[ 6,  8],\n",
       "       [15,  6]])"
      ]
     },
     "execution_count": 13,
     "metadata": {},
     "output_type": "execute_result"
    }
   ],
   "source": [
    "m1.dot(m2)"
   ]
  },
  {
   "cell_type": "markdown",
   "id": "ea8613d8",
   "metadata": {},
   "source": [
    "**np.square**\n",
    "- to return square of the elements\n"
   ]
  },
  {
   "cell_type": "code",
   "execution_count": 18,
   "id": "846901f7",
   "metadata": {},
   "outputs": [],
   "source": [
    "arr1=np.array([10,20,30,40])\n",
    "arr2=np.square(arr1)"
   ]
  },
  {
   "cell_type": "code",
   "execution_count": 19,
   "id": "637820e8",
   "metadata": {},
   "outputs": [
    {
     "data": {
      "text/plain": [
       "array([ 100,  400,  900, 1600])"
      ]
     },
     "execution_count": 19,
     "metadata": {},
     "output_type": "execute_result"
    }
   ],
   "source": [
    "arr2"
   ]
  },
  {
   "cell_type": "code",
   "execution_count": 20,
   "id": "77bb283f",
   "metadata": {},
   "outputs": [
    {
     "data": {
      "text/plain": [
       "array([10., 20., 30., 40.])"
      ]
     },
     "execution_count": 20,
     "metadata": {},
     "output_type": "execute_result"
    }
   ],
   "source": [
    "np.sqrt(arr2)\n",
    "# for sruqre root"
   ]
  },
  {
   "cell_type": "markdown",
   "id": "d50726cb",
   "metadata": {},
   "source": [
    "**np.power**"
   ]
  },
  {
   "cell_type": "code",
   "execution_count": 21,
   "id": "d9193e98",
   "metadata": {},
   "outputs": [
    {
     "data": {
      "text/plain": [
       "array([ 100,  400,  900, 1600])"
      ]
     },
     "execution_count": 21,
     "metadata": {},
     "output_type": "execute_result"
    }
   ],
   "source": [
    "np.power(arr1,2)"
   ]
  },
  {
   "cell_type": "code",
   "execution_count": 22,
   "id": "05b2c377",
   "metadata": {},
   "outputs": [
    {
     "data": {
      "text/plain": [
       "array([ 1000,  8000, 27000, 64000])"
      ]
     },
     "execution_count": 22,
     "metadata": {},
     "output_type": "execute_result"
    }
   ],
   "source": [
    "np.power(arr1,3)"
   ]
  },
  {
   "cell_type": "markdown",
   "id": "19ec1098",
   "metadata": {},
   "source": [
    "**np.transpose**"
   ]
  },
  {
   "cell_type": "code",
   "execution_count": 24,
   "id": "62949e71",
   "metadata": {},
   "outputs": [
    {
     "data": {
      "text/plain": [
       "(2, 3)"
      ]
     },
     "execution_count": 24,
     "metadata": {},
     "output_type": "execute_result"
    }
   ],
   "source": [
    "m1.shape"
   ]
  },
  {
   "cell_type": "code",
   "execution_count": 26,
   "id": "1ab1a38b",
   "metadata": {},
   "outputs": [
    {
     "data": {
      "text/plain": [
       "array([[ 1,  4],\n",
       "       [ 0, -2],\n",
       "       [ 2,  3]])"
      ]
     },
     "execution_count": 26,
     "metadata": {},
     "output_type": "execute_result"
    }
   ],
   "source": [
    "m1_t=np.transpose(m1)\n",
    "m1_t"
   ]
  },
  {
   "cell_type": "code",
   "execution_count": 27,
   "id": "54935e0c",
   "metadata": {},
   "outputs": [
    {
     "data": {
      "text/plain": [
       "[1, 2, 3]"
      ]
     },
     "execution_count": 27,
     "metadata": {},
     "output_type": "execute_result"
    }
   ],
   "source": [
    "list1"
   ]
  },
  {
   "cell_type": "code",
   "execution_count": 28,
   "id": "68d3b417",
   "metadata": {},
   "outputs": [
    {
     "data": {
      "text/plain": [
       "[1, 2, 3]"
      ]
     },
     "execution_count": 28,
     "metadata": {},
     "output_type": "execute_result"
    }
   ],
   "source": [
    "list2"
   ]
  },
  {
   "cell_type": "code",
   "execution_count": 30,
   "id": "afe44231",
   "metadata": {},
   "outputs": [
    {
     "data": {
      "text/plain": [
       "[1, 2, 3, 1, 2, 3]"
      ]
     },
     "execution_count": 30,
     "metadata": {},
     "output_type": "execute_result"
    }
   ],
   "source": [
    "list1+list2 # concatentation"
   ]
  },
  {
   "cell_type": "code",
   "execution_count": 39,
   "id": "89eca54f",
   "metadata": {},
   "outputs": [
    {
     "data": {
      "text/plain": [
       "array([10, 20, 30, 40])"
      ]
     },
     "execution_count": 39,
     "metadata": {},
     "output_type": "execute_result"
    }
   ],
   "source": [
    "arr1"
   ]
  },
  {
   "cell_type": "code",
   "execution_count": 40,
   "id": "3aec0acf",
   "metadata": {},
   "outputs": [
    {
     "data": {
      "text/plain": [
       "array([ 100,  400,  900, 1600])"
      ]
     },
     "execution_count": 40,
     "metadata": {},
     "output_type": "execute_result"
    }
   ],
   "source": [
    "arr2"
   ]
  },
  {
   "cell_type": "code",
   "execution_count": 37,
   "id": "583edfce",
   "metadata": {},
   "outputs": [
    {
     "data": {
      "text/plain": [
       "array([ 110,  420,  930, 1640])"
      ]
     },
     "execution_count": 37,
     "metadata": {},
     "output_type": "execute_result"
    }
   ],
   "source": [
    "arr1+arr2 # addition"
   ]
  },
  {
   "cell_type": "markdown",
   "id": "d2f99965",
   "metadata": {},
   "source": [
    "**np.concatenate**"
   ]
  },
  {
   "cell_type": "code",
   "execution_count": 44,
   "id": "6a7581df",
   "metadata": {},
   "outputs": [
    {
     "data": {
      "text/plain": [
       "array([  10,   20,   30,   40,  100,  400,  900, 1600])"
      ]
     },
     "execution_count": 44,
     "metadata": {},
     "output_type": "execute_result"
    }
   ],
   "source": [
    "# 1-D concatetiona\n",
    "\n",
    "new_array=np.concatenate([arr1,arr2])\n",
    "new_array"
   ]
  },
  {
   "cell_type": "code",
   "execution_count": 45,
   "id": "4db80076",
   "metadata": {},
   "outputs": [],
   "source": [
    "names=np.array([['A',1],['B',2],['C',3]])\n",
    "city=np.array([['Hyd','040'],['Bengaluru','080'],['chennai','044']])"
   ]
  },
  {
   "cell_type": "code",
   "execution_count": 46,
   "id": "39d4f3f1",
   "metadata": {},
   "outputs": [
    {
     "data": {
      "text/plain": [
       "array([['A', '1'],\n",
       "       ['B', '2'],\n",
       "       ['C', '3']], dtype='<U21')"
      ]
     },
     "execution_count": 46,
     "metadata": {},
     "output_type": "execute_result"
    }
   ],
   "source": [
    "names"
   ]
  },
  {
   "cell_type": "code",
   "execution_count": 47,
   "id": "34d33a7a",
   "metadata": {},
   "outputs": [
    {
     "data": {
      "text/plain": [
       "array([['Hyd', '040'],\n",
       "       ['Bengaluru', '080'],\n",
       "       ['chennai', '044']], dtype='<U9')"
      ]
     },
     "execution_count": 47,
     "metadata": {},
     "output_type": "execute_result"
    }
   ],
   "source": [
    "city"
   ]
  },
  {
   "cell_type": "code",
   "execution_count": 48,
   "id": "39878a75",
   "metadata": {},
   "outputs": [
    {
     "data": {
      "text/plain": [
       "array([['A', '1'],\n",
       "       ['B', '2'],\n",
       "       ['C', '3'],\n",
       "       ['Hyd', '040'],\n",
       "       ['Bengaluru', '080'],\n",
       "       ['chennai', '044']], dtype='<U21')"
      ]
     },
     "execution_count": 48,
     "metadata": {},
     "output_type": "execute_result"
    }
   ],
   "source": [
    "np.concatenate([names,city])"
   ]
  },
  {
   "cell_type": "code",
   "execution_count": 49,
   "id": "5d990571",
   "metadata": {},
   "outputs": [
    {
     "data": {
      "text/plain": [
       "array([['A', '1'],\n",
       "       ['B', '2'],\n",
       "       ['C', '3'],\n",
       "       ['Hyd', '040'],\n",
       "       ['Bengaluru', '080'],\n",
       "       ['chennai', '044']], dtype='<U21')"
      ]
     },
     "execution_count": 49,
     "metadata": {},
     "output_type": "execute_result"
    }
   ],
   "source": [
    "np.concatenate([names,city],axis=0) # rows"
   ]
  },
  {
   "cell_type": "code",
   "execution_count": 50,
   "id": "dd5e1d3b",
   "metadata": {},
   "outputs": [
    {
     "data": {
      "text/plain": [
       "array([['A', '1', 'Hyd', '040'],\n",
       "       ['B', '2', 'Bengaluru', '080'],\n",
       "       ['C', '3', 'chennai', '044']], dtype='<U21')"
      ]
     },
     "execution_count": 50,
     "metadata": {},
     "output_type": "execute_result"
    }
   ],
   "source": [
    "np.concatenate([names,city],axis=1) # column"
   ]
  },
  {
   "cell_type": "markdown",
   "id": "a0fdcc9a",
   "metadata": {},
   "source": [
    "**np.flatten**\n",
    "- Any shape of array converts into single dimession"
   ]
  },
  {
   "cell_type": "code",
   "execution_count": 51,
   "id": "1c0897f1",
   "metadata": {},
   "outputs": [
    {
     "data": {
      "text/plain": [
       "array([['A', '1'],\n",
       "       ['B', '2'],\n",
       "       ['C', '3']], dtype='<U21')"
      ]
     },
     "execution_count": 51,
     "metadata": {},
     "output_type": "execute_result"
    }
   ],
   "source": [
    "names"
   ]
  },
  {
   "cell_type": "code",
   "execution_count": 52,
   "id": "755db66f",
   "metadata": {},
   "outputs": [
    {
     "data": {
      "text/plain": [
       "array(['A', '1', 'B', '2', 'C', '3'], dtype='<U21')"
      ]
     },
     "execution_count": 52,
     "metadata": {},
     "output_type": "execute_result"
    }
   ],
   "source": [
    "np.ndarray.flatten(names)\n",
    "# 1-D"
   ]
  },
  {
   "cell_type": "markdown",
   "id": "7cdf58b4",
   "metadata": {},
   "source": [
    "## iteration"
   ]
  },
  {
   "cell_type": "code",
   "execution_count": 53,
   "id": "cf9ebfa8",
   "metadata": {},
   "outputs": [],
   "source": [
    "arr_name=np.ndarray.flatten(names)"
   ]
  },
  {
   "cell_type": "code",
   "execution_count": 54,
   "id": "3df5d97d",
   "metadata": {},
   "outputs": [
    {
     "data": {
      "text/plain": [
       "array(['A', '1', 'B', '2', 'C', '3'], dtype='<U21')"
      ]
     },
     "execution_count": 54,
     "metadata": {},
     "output_type": "execute_result"
    }
   ],
   "source": [
    "arr_name"
   ]
  },
  {
   "cell_type": "code",
   "execution_count": 55,
   "id": "c7fa238c",
   "metadata": {},
   "outputs": [
    {
     "data": {
      "text/plain": [
       "['A', '1', 'B', '2', 'C', '3']"
      ]
     },
     "execution_count": 55,
     "metadata": {},
     "output_type": "execute_result"
    }
   ],
   "source": [
    "list1=[i for i in arr_name]\n",
    "list1\n",
    "# iterating array elements using for loop"
   ]
  },
  {
   "cell_type": "code",
   "execution_count": 56,
   "id": "e801a8d7",
   "metadata": {},
   "outputs": [
    {
     "data": {
      "text/plain": [
       "['A', '1', 'B', '2', 'C', '3']"
      ]
     },
     "execution_count": 56,
     "metadata": {},
     "output_type": "execute_result"
    }
   ],
   "source": [
    "arr_name.tolist() # convert array into list"
   ]
  },
  {
   "cell_type": "code",
   "execution_count": 57,
   "id": "dbd8f3bd",
   "metadata": {},
   "outputs": [
    {
     "data": {
      "text/plain": [
       "array([['A', '1'],\n",
       "       ['B', '2'],\n",
       "       ['C', '3']], dtype='<U21')"
      ]
     },
     "execution_count": 57,
     "metadata": {},
     "output_type": "execute_result"
    }
   ],
   "source": [
    "names"
   ]
  },
  {
   "cell_type": "code",
   "execution_count": 58,
   "id": "ed6d993a",
   "metadata": {},
   "outputs": [
    {
     "name": "stdout",
     "output_type": "stream",
     "text": [
      "A\n",
      "1\n",
      "B\n",
      "2\n",
      "C\n",
      "3\n"
     ]
    }
   ],
   "source": [
    "for i in names:\n",
    "    for j in i:\n",
    "        print(j)"
   ]
  },
  {
   "cell_type": "markdown",
   "id": "61a269a5",
   "metadata": {},
   "source": [
    "# Numpy operation take less time "
   ]
  },
  {
   "cell_type": "code",
   "execution_count": 59,
   "id": "c4561793",
   "metadata": {},
   "outputs": [
    {
     "name": "stdout",
     "output_type": "stream",
     "text": [
      "Time taken in seconds: 0.15759491920471191\n"
     ]
    }
   ],
   "source": [
    "import time\n",
    "size=1000000\n",
    "# crate a list\n",
    "list1=range(size) #[0,1,2,...........1000000]\n",
    "list2=range(size) # [0,1,2,3.......10000000]\n",
    "\n",
    "start_time=time.time()\n",
    "list3=[(a+b) for a,b in zip(list1,list2)]\n",
    "end_time=time.time()\n",
    "print(\"Time taken in seconds:\",(end_time-start_time))"
   ]
  },
  {
   "cell_type": "code",
   "execution_count": 60,
   "id": "176e768f",
   "metadata": {},
   "outputs": [
    {
     "name": "stdout",
     "output_type": "stream",
     "text": [
      "Time taken in seconds: 0.0061798095703125\n"
     ]
    }
   ],
   "source": [
    "import time\n",
    "size=1000000\n",
    "# crate a list\n",
    "aar1=np.arange(size) #[0,1,2,...........1000000]\n",
    "aar2=np.arange(size)# [0,1,2,3.......10000000]\n",
    "\n",
    "start_time=time.time()\n",
    "arr3=aar1+aar2\n",
    "end_time=time.time()\n",
    "print(\"Time taken in seconds:\",(end_time-start_time))"
   ]
  },
  {
   "cell_type": "code",
   "execution_count": null,
   "id": "15163447",
   "metadata": {},
   "outputs": [],
   "source": []
  }
 ],
 "metadata": {
  "kernelspec": {
   "display_name": "Python 3 (ipykernel)",
   "language": "python",
   "name": "python3"
  },
  "language_info": {
   "codemirror_mode": {
    "name": "ipython",
    "version": 3
   },
   "file_extension": ".py",
   "mimetype": "text/x-python",
   "name": "python",
   "nbconvert_exporter": "python",
   "pygments_lexer": "ipython3",
   "version": "3.9.12"
  }
 },
 "nbformat": 4,
 "nbformat_minor": 5
}
