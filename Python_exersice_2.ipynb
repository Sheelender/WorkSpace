{
 "cells": [
  {
   "cell_type": "code",
   "execution_count": null,
   "id": "c43966d1",
   "metadata": {},
   "outputs": [],
   "source": [
    "Introduction to Python\n",
    "Assignment 2\n",
    "\n",
    "\n",
    "#Write Python Program for the following (include necessary exception handling wherever required):\n",
    "\n",
    "#1.Prompt the user for a score between 0.0 and 1.0. If the score is out of range, print an error message. \n",
    "#If the score is between 0.0 and 1.0, print a grade using the following table:\n",
    "\n",
    "Score\tGrade\n",
    ">= 0.9\tA\n",
    ">= 0.8\tB\n",
    ">= 0.7\tC\n",
    ">= 0.6\tD\n",
    "< 0.6\tE\n",
    "\n",
    "\n",
    "\n",
    "#2.If cost price and selling price of an item is input through the keyboard, write a program to determine whether the seller has made profit or incurred loss. Also determine how much profit he made or loss he incurred.\n",
    "\n",
    "#3.Any year is input through the keyboard. Write a program to determine whether the year is a leap year or not.\n",
    "\n",
    "#4.A five-digit number is entered through the keyboard. Write a program to obtain the reversed number and to determine whether the original and reversed numbers are equal or not.\n",
    "\n",
    "#5.If the ages of Ram, Shyam and Ajay are input through the keyboard, write a program to determine the youngest of the three.\n",
    "\n",
    "#6.Write a program to check whether a triangle is valid or not, when the three angles of the triangle are entered through the keyboard. A triangle is valid if the sum of all the three angles is equal to 180 degrees.\n",
    "\n",
    "#7.Find the absolute value of a number entered through the keyboard.\n",
    "\n",
    "#8.Given three points (x1, y1), (x2, y2) and (x3, y3), write a program to check if all the three points fall on one straight line.\n",
    "\n",
    "#9.Given a point (x, y), write a program to find out if it lies on the x-axis, y-axis or at the origin, viz. (0, 0).\n",
    "\n",
    "#10.An Insurance company follows following rules to calculate premium.\n",
    "\n",
    ".If a person’s health is excellent and the person is between 25 and 35 years of age and lives in a city and is \n",
    " a male then the premium is Rs. 4 per thousand and his policy amount cannot exceed Rs. 2 lakhs.\n",
    "\n",
    ".If a person satisfies all the above conditions except that the sex is female then the premium is \n",
    " Rs. 3 per thousand and her policy amount cannot exceed Rs. 1 lakh.\n",
    "\n",
    ".If a person’s health is poor and the person is between 25 and 35 years of age and lives in a village and is a male\n",
    "\n",
    ".Write a program to output whether the person should be insured or not, his/her premium rate and maximum amount for which he/she can be insured.\n",
    "\n",
    "\n",
    "#15.A certain grade of steel is graded according to the following conditions:\n",
    "\n",
    "(i) Hardness must be greater than 50\n",
    "(ii) Carbon content must be less than 0.7\n",
    "(iii) Tensile strength must be greater than 5600\n",
    "\n",
    "The grades are as follows:\n",
    "\n",
    "Grade is 10 if all three conditions are met\n",
    "Grade is 9 if conditions (i) and (ii) are met\n",
    "Grade is 8 if conditions (ii) and (iii) are met\n",
    "Grade is 7 if conditions (i) and (iii) are met\n",
    "Grade is 6 if only one condition is met\n",
    "Grade is 5 if none of the conditions are met\n",
    "\n",
    "Write a program, which will require the user to give values of hardness, carbon content and tensile strength of the steel under consideration and output the grade of the steel.\n",
    "\n",
    "#16.A library charges a fine for every book returned late. For first 5 days the fine is 50 paise, for 6-10 days fine is one rupee and above 10 days fine is 5 rupees. If you return the book after 30 days your membership will be cancelled. Write a program to accept the number of days the member is late to return the book and display the fine or the appropriate message.\n",
    "\n",
    "#17.The policy followed by a company to process customer orders is given by the following rules:\n",
    "If a customer order is less than or equal to that in stock and has credit is OK, supply has requirement.\n",
    "If has credit is not OK do not supply. Send him intimation.\n",
    "If has credit is Ok but the item in stock is less than has\n",
    "\n",
    "#18.order, supply what is in stock. Intimate to him data the balance will be shipped. Write a program to implement the company policy.\n",
    "\n",
    "#19.In a company, worker efficiency is determined on the basis of the time required for a worker to complete a particular job. If the time taken by the worker is between 2 – 3 hours, then the worker is said to be highly efficient. If the time required by the worker is between 3 – 4 hours, then the worker is ordered to improve speed. If the time taken is between 4 – 5 hours, the worker is given training to improve his speed, and if the time taken by the worker is more than 5 hours, then the worker has to leave the company. If the time taken by the worker is input through the keyboard, find the efficiency of the worker.\n",
    "\n",
    "#20.A university has the following rules for a student to qualify for a degree with A as the main subject and B as the subsidiary subject:\n",
    "\n",
    "#21.He should get 55 percent or more in A and 45 percent or more in B.\n",
    "If he gets than 55 percent in A he should get 55 percent or more in B. However, he should get at least 45 percent in A.\n",
    "If he gets less than 45 percent in B and 65 percent or more in A he is allowed to reappear in an examination in B to qualify.\n",
    "In all other cases he is declared to have failed.\n",
    "\n",
    "#22.Write a program to receive marks in A and B and Output whether the student has passed, failed or is allowed to reappear in B.\n",
    "\n",
    "\n"
   ]
  },
  {
   "cell_type": "code",
   "execution_count": null,
   "id": "14ae2c6d",
   "metadata": {},
   "outputs": [],
   "source": [
    "#1.Prompt the user for a score between 0.0 and 1.0. If the score is out of range, print an error message. \n",
    "#If the score is between 0.0 and 1.0, print a grade using the following table:\n",
    "\n",
    "# Score\tGrade\n",
    "# >= 0.9\tA\n",
    "# >= 0.8\tB\n",
    "# >= 0.7\tC\n",
    "# >= 0.6\tD\n",
    "# < 0.6\tE\n"
   ]
  },
  {
   "cell_type": "code",
   "execution_count": 62,
   "id": "1aae08c3",
   "metadata": {},
   "outputs": [
    {
     "name": "stdout",
     "output_type": "stream",
     "text": [
      "enter the marks between 0 to 1:0.8\n",
      "GRADE B\n"
     ]
    }
   ],
   "source": [
    "student_marks=eval(input(\"enter the marks between 0 to 1:\"))\n",
    "if student_marks>1 or student_marks<0:\n",
    "    print(\"enter valid marks>>>> Marks should be between 0 to 1\")\n",
    "elif student_marks>=0.9:\n",
    "    print(\"GRADE A\")\n",
    "elif student_marks>=0.8:\n",
    "    print(\"GRADE B\")\n",
    "elif student_marks>=0.7:\n",
    "    print(\"GRADE C\")\n",
    "elif student_marks>=0.6:\n",
    "    print(\"GRADE D\")\n",
    "else:\n",
    "    print(\"GRADE E\")\n",
    "\n",
    "        \n",
    "        \n",
    "    \n",
    "        \n",
    "        \n",
    "    \n",
    "    \n",
    "    \n",
    "\n",
    "    \n",
    "      \n"
   ]
  },
  {
   "cell_type": "code",
   "execution_count": 73,
   "id": "f0817b4a",
   "metadata": {},
   "outputs": [
    {
     "name": "stdout",
     "output_type": "stream",
     "text": [
      "Enter the cost price:24\n",
      "Enter the selleing price:4\n",
      "********** LOSS **********\n",
      "Loss amount= 20\n"
     ]
    }
   ],
   "source": [
    "#2.If cost price and selling price of an item is input through the keyboard,\n",
    "#write a program to determine whether the seller has made profit or incurred loss. \n",
    "#Also determine how much profit he made or loss he incurred.\n",
    "\n",
    "cost_price=eval(input(\"Enter the cost price:\"))\n",
    "selling_price=eval(input(\"Enter the selleing price:\"))\n",
    "\n",
    "\n",
    "if cost_price<selling_price:\n",
    "    print(\"<<<<<<<<<< PROFIT >>>>>>>>>>\")\n",
    "    print(\"Profit amount=\",selling_price-cost_price)\n",
    "else:\n",
    "    print(\"********** LOSS **********\")\n",
    "    print(\"Loss amount=\",cost_price-selling_price)\n",
    "\n",
    "        \n",
    "        \n"
   ]
  },
  {
   "cell_type": "code",
   "execution_count": 85,
   "id": "a6eee068",
   "metadata": {},
   "outputs": [
    {
     "name": "stdout",
     "output_type": "stream",
     "text": [
      "Enter the Year1235\n",
      "NOT A LEAP YEAR\n"
     ]
    }
   ],
   "source": [
    "#3.Any year is input through the keyboard. Write a program to determine whether the year is a leap year or not.\n",
    "\n",
    "\n",
    "year=eval(input(\"Enter the Year\"))\n",
    "\n",
    "if year%4==0:\n",
    "    print(\"<<<<<<<<<< LEAP YERA >>>>>>>>>>\")\n",
    "\n",
    "else:\n",
    "    print(\"NOT A LEAP YEAR\")"
   ]
  },
  {
   "cell_type": "code",
   "execution_count": 6,
   "id": "70a592fc",
   "metadata": {},
   "outputs": [
    {
     "name": "stdout",
     "output_type": "stream",
     "text": [
      "Enter the five digit number:12345\n",
      "Reversed number: 54321\n"
     ]
    },
    {
     "ename": "AttributeError",
     "evalue": "'int' object has no attribute 'split'",
     "output_type": "error",
     "traceback": [
      "\u001b[0;31m---------------------------------------------------------------------------\u001b[0m",
      "\u001b[0;31mAttributeError\u001b[0m                            Traceback (most recent call last)",
      "Input \u001b[0;32mIn [6]\u001b[0m, in \u001b[0;36m<cell line: 16>\u001b[0;34m()\u001b[0m\n\u001b[1;32m     12\u001b[0m     num\u001b[38;5;241m/\u001b[39m\u001b[38;5;241m/\u001b[39m\u001b[38;5;241m=\u001b[39m\u001b[38;5;241m10\u001b[39m\n\u001b[1;32m     15\u001b[0m \u001b[38;5;28mprint\u001b[39m(\u001b[38;5;124m\"\u001b[39m\u001b[38;5;124mReversed number:\u001b[39m\u001b[38;5;124m\"\u001b[39m,temp)\n\u001b[0;32m---> 16\u001b[0m x \u001b[38;5;241m=\u001b[39m \u001b[43mtemp\u001b[49m\u001b[38;5;241;43m.\u001b[39;49m\u001b[43msplit\u001b[49m(\u001b[38;5;124m'\u001b[39m\u001b[38;5;124m \u001b[39m\u001b[38;5;124m'\u001b[39m)\n\u001b[1;32m     17\u001b[0m \u001b[38;5;28mprint\u001b[39m(x)\n",
      "\u001b[0;31mAttributeError\u001b[0m: 'int' object has no attribute 'split'"
     ]
    }
   ],
   "source": [
    "#4.A five-digit number is entered through the keyboard. \n",
    "#Write a program to obtain the reversed number and to determine whether the original and reversed numbers are equal or not.\n",
    "\n",
    "\n",
    "num=eval(input(\"Enter the five digit number:\"))\n",
    "temp=0\n",
    "new=num\n",
    "\n",
    "for i in range(5):\n",
    "    digit=num%10\n",
    "    temp=temp*10+digit\n",
    "    num//=10\n",
    "    \n",
    "    \n",
    "print(\"Reversed number:\",temp)\n",
    "x = tepm.split()\n",
    "\n",
    "\n",
    "if new==temp:\n",
    "    print(\"Equal h bhai\")\n",
    "    \n",
    "else:\n",
    "    print(\"Both number is not equal...\")\n"
   ]
  },
  {
   "cell_type": "code",
   "execution_count": 1,
   "id": "71988905",
   "metadata": {},
   "outputs": [
    {
     "name": "stdout",
     "output_type": "stream",
     "text": [
      "enter the age of ram:34\n",
      "enter the age of shyam:55\n",
      "enter the age of ajay:43\n",
      "ram is youngest: 34\n"
     ]
    }
   ],
   "source": [
    "#5.If the ages of Ram, Shyam and Ajay are input through the keyboard, \n",
    "#write a program to determine the youngest of the three.\n",
    "ram_age=eval(input(\"enter the age of ram:\"))\n",
    "shyam_age=eval(input(\"enter the age of shyam:\"))\n",
    "ajay_age=eval(input(\"enter the age of ajay:\"))\n",
    "\n",
    "\n",
    "if ram_age<shyam_age and ram_age<ajay_age:\n",
    "    print(\"ram is youngest:\",ram_age)\n",
    "elif shyam_age<ram_age and shyam_age<ajay_age:\n",
    "    print(\"shyam is youngest:\",shyam_age)\n",
    "    \n",
    "else:\n",
    "    print(\"ajay is youngest:\",ajay_age)\n"
   ]
  },
  {
   "cell_type": "code",
   "execution_count": 110,
   "id": "bef150cf",
   "metadata": {},
   "outputs": [
    {
     "name": "stdout",
     "output_type": "stream",
     "text": [
      "enter the first angle:60\n",
      "enter the second angle:60\n",
      "enter the third angle:60\n",
      "it is a tringle\n"
     ]
    }
   ],
   "source": [
    "#6.Write a program to check whether a triangle is valid or not, \n",
    "#when the three angles of the triangle are entered through the keyboard. \n",
    "#A triangle is valid if the sum of all the three angles is equal to 180 degrees.\n",
    "\n",
    "angle_1=eval(input(\"enter the first angle:\"))\n",
    "angle_2=eval(input(\"enter the second angle:\"))\n",
    "angle_3=eval(input(\"enter the third angle:\"))\n",
    "\n",
    "if (angle_1+angle_2+angle_3)==180:\n",
    "    print(\"it is a tringle\")\n",
    "else:\n",
    "    print(\"not a tringle\")"
   ]
  },
  {
   "cell_type": "code",
   "execution_count": 13,
   "id": "bb216b63",
   "metadata": {},
   "outputs": [
    {
     "name": "stdout",
     "output_type": "stream",
     "text": [
      "Enter the absolute Digit:-5\n",
      "5\n"
     ]
    }
   ],
   "source": [
    "#7.Find the absolute value of a number entered through the keyboard.\n",
    "\n",
    "\n",
    "absolute_num=eval(input(\"Enter the absolute Digit:\"))\n",
    "print(abs(absolute_num))"
   ]
  },
  {
   "cell_type": "code",
   "execution_count": 17,
   "id": "565bb020",
   "metadata": {},
   "outputs": [],
   "source": [
    "#8.Given three points (x1, y1), (x2, y2) and (x3, y3), \n",
    "#write a program to check if all the three points fall on one straight line.\n",
    "\n",
    "\n",
    "def check_collinearity(x1, y1, x2, y2, x3, y3): \n",
    "    if (y1 - y2)*(x1 - x3) == (y1 - y3)*(x1 - x2):\n",
    "        print(\"the three points fall on one straight line.\")\n",
    "    else:\n",
    "              print(\"the three points NOT fall on one straight line.\")\n",
    "          "
   ]
  },
  {
   "cell_type": "code",
   "execution_count": 21,
   "id": "b262d37d",
   "metadata": {},
   "outputs": [
    {
     "name": "stdout",
     "output_type": "stream",
     "text": [
      "the three points fall on one straight line.\n"
     ]
    }
   ],
   "source": [
    "check_collinearity(1,2,3,4,5,6)"
   ]
  },
  {
   "cell_type": "code",
   "execution_count": 5,
   "id": "a73aadfd",
   "metadata": {},
   "outputs": [
    {
     "ename": "KeyboardInterrupt",
     "evalue": "Interrupted by user",
     "output_type": "error",
     "traceback": [
      "\u001b[0;31m---------------------------------------------------------------------------\u001b[0m",
      "\u001b[0;31mKeyboardInterrupt\u001b[0m                         Traceback (most recent call last)",
      "Input \u001b[0;32mIn [5]\u001b[0m, in \u001b[0;36m<cell line: 2>\u001b[0;34m()\u001b[0m\n\u001b[1;32m      1\u001b[0m \u001b[38;5;66;03m#9.Given a point (x, y), write a program to find out if it lies on the x-axis, y-axis or at the origin, viz. (0, 0).\u001b[39;00m\n\u001b[0;32m----> 2\u001b[0m x\u001b[38;5;241m=\u001b[39m\u001b[38;5;28meval\u001b[39m(\u001b[38;5;28;43minput\u001b[39;49m\u001b[43m(\u001b[49m\u001b[38;5;124;43m\"\u001b[39;49m\u001b[38;5;124;43mX=\u001b[39;49m\u001b[38;5;124;43m\"\u001b[39;49m\u001b[43m)\u001b[49m)\n\u001b[1;32m      3\u001b[0m y\u001b[38;5;241m=\u001b[39m\u001b[38;5;28meval\u001b[39m(\u001b[38;5;28minput\u001b[39m(\u001b[38;5;124m\"\u001b[39m\u001b[38;5;124mY=\u001b[39m\u001b[38;5;124m\"\u001b[39m))\n\u001b[1;32m      6\u001b[0m \u001b[38;5;28;01mif\u001b[39;00m x\u001b[38;5;241m==\u001b[39m\u001b[38;5;241m0\u001b[39m \u001b[38;5;129;01mand\u001b[39;00m y\u001b[38;5;241m==\u001b[39m\u001b[38;5;241m0\u001b[39m:\n",
      "File \u001b[0;32m~/opt/anaconda3/lib/python3.9/site-packages/ipykernel/kernelbase.py:1075\u001b[0m, in \u001b[0;36mKernel.raw_input\u001b[0;34m(self, prompt)\u001b[0m\n\u001b[1;32m   1071\u001b[0m \u001b[38;5;28;01mif\u001b[39;00m \u001b[38;5;129;01mnot\u001b[39;00m \u001b[38;5;28mself\u001b[39m\u001b[38;5;241m.\u001b[39m_allow_stdin:\n\u001b[1;32m   1072\u001b[0m     \u001b[38;5;28;01mraise\u001b[39;00m StdinNotImplementedError(\n\u001b[1;32m   1073\u001b[0m         \u001b[38;5;124m\"\u001b[39m\u001b[38;5;124mraw_input was called, but this frontend does not support input requests.\u001b[39m\u001b[38;5;124m\"\u001b[39m\n\u001b[1;32m   1074\u001b[0m     )\n\u001b[0;32m-> 1075\u001b[0m \u001b[38;5;28;01mreturn\u001b[39;00m \u001b[38;5;28;43mself\u001b[39;49m\u001b[38;5;241;43m.\u001b[39;49m\u001b[43m_input_request\u001b[49m\u001b[43m(\u001b[49m\n\u001b[1;32m   1076\u001b[0m \u001b[43m    \u001b[49m\u001b[38;5;28;43mstr\u001b[39;49m\u001b[43m(\u001b[49m\u001b[43mprompt\u001b[49m\u001b[43m)\u001b[49m\u001b[43m,\u001b[49m\n\u001b[1;32m   1077\u001b[0m \u001b[43m    \u001b[49m\u001b[38;5;28;43mself\u001b[39;49m\u001b[38;5;241;43m.\u001b[39;49m\u001b[43m_parent_ident\u001b[49m\u001b[43m[\u001b[49m\u001b[38;5;124;43m\"\u001b[39;49m\u001b[38;5;124;43mshell\u001b[39;49m\u001b[38;5;124;43m\"\u001b[39;49m\u001b[43m]\u001b[49m\u001b[43m,\u001b[49m\n\u001b[1;32m   1078\u001b[0m \u001b[43m    \u001b[49m\u001b[38;5;28;43mself\u001b[39;49m\u001b[38;5;241;43m.\u001b[39;49m\u001b[43mget_parent\u001b[49m\u001b[43m(\u001b[49m\u001b[38;5;124;43m\"\u001b[39;49m\u001b[38;5;124;43mshell\u001b[39;49m\u001b[38;5;124;43m\"\u001b[39;49m\u001b[43m)\u001b[49m\u001b[43m,\u001b[49m\n\u001b[1;32m   1079\u001b[0m \u001b[43m    \u001b[49m\u001b[43mpassword\u001b[49m\u001b[38;5;241;43m=\u001b[39;49m\u001b[38;5;28;43;01mFalse\u001b[39;49;00m\u001b[43m,\u001b[49m\n\u001b[1;32m   1080\u001b[0m \u001b[43m\u001b[49m\u001b[43m)\u001b[49m\n",
      "File \u001b[0;32m~/opt/anaconda3/lib/python3.9/site-packages/ipykernel/kernelbase.py:1120\u001b[0m, in \u001b[0;36mKernel._input_request\u001b[0;34m(self, prompt, ident, parent, password)\u001b[0m\n\u001b[1;32m   1117\u001b[0m             \u001b[38;5;28;01mbreak\u001b[39;00m\n\u001b[1;32m   1118\u001b[0m \u001b[38;5;28;01mexcept\u001b[39;00m \u001b[38;5;167;01mKeyboardInterrupt\u001b[39;00m:\n\u001b[1;32m   1119\u001b[0m     \u001b[38;5;66;03m# re-raise KeyboardInterrupt, to truncate traceback\u001b[39;00m\n\u001b[0;32m-> 1120\u001b[0m     \u001b[38;5;28;01mraise\u001b[39;00m \u001b[38;5;167;01mKeyboardInterrupt\u001b[39;00m(\u001b[38;5;124m\"\u001b[39m\u001b[38;5;124mInterrupted by user\u001b[39m\u001b[38;5;124m\"\u001b[39m) \u001b[38;5;28;01mfrom\u001b[39;00m \u001b[38;5;28mNone\u001b[39m\n\u001b[1;32m   1121\u001b[0m \u001b[38;5;28;01mexcept\u001b[39;00m \u001b[38;5;167;01mException\u001b[39;00m:\n\u001b[1;32m   1122\u001b[0m     \u001b[38;5;28mself\u001b[39m\u001b[38;5;241m.\u001b[39mlog\u001b[38;5;241m.\u001b[39mwarning(\u001b[38;5;124m\"\u001b[39m\u001b[38;5;124mInvalid Message:\u001b[39m\u001b[38;5;124m\"\u001b[39m, exc_info\u001b[38;5;241m=\u001b[39m\u001b[38;5;28;01mTrue\u001b[39;00m)\n",
      "\u001b[0;31mKeyboardInterrupt\u001b[0m: Interrupted by user"
     ]
    }
   ],
   "source": [
    "#9.Given a point (x, y), write a program to find out if it lies on the x-axis, y-axis or at the origin, viz. (0, 0).\n",
    "x=eval(input(\"X=\"))\n",
    "y=eval(input(\"Y=\"))\n",
    "\n",
    "\n",
    "if x==0 and y==0:\n",
    "    print(\"The point lies at the origin\")\n",
    "elif x>=0:\n",
    "    print(\"The point lies on the x-axis\")\n",
    "elif y>=0:\n",
    "    print(\"The point lies on the y-axis\")\n",
    "else:\n",
    "          print()\n",
    "          \n",
    "          \n",
    "        "
   ]
  },
  {
   "cell_type": "code",
   "execution_count": null,
   "id": "b87d2df4",
   "metadata": {},
   "outputs": [],
   "source": [
    "#10.An Insurance company follows following rules to calculate premium.\n",
    "\n",
    "#.If a person’s health is excellent and the person is between 25 and 35 years of age and lives in a city and is \n",
    "# a male then the premium is Rs. 4 per thousand and his policy amount cannot exceed Rs. 2 lakhs.\n",
    "\n",
    "#.If a person satisfies all the above conditions except that the sex is female then the premium is \n",
    "# Rs. 3 per thousand and her policy amount cannot exceed Rs. 1 lakh.\n",
    "\n",
    "#.If a person’s health is poor and the person is between 25 and 35 years of age and lives in a village and is a male\n",
    "\n",
    "#.Write a program to output whether the person should be insured or not, his/her premium rate and maximum amount for which he/she can be insured.\n",
    "\n",
    "\n",
    "\n",
    "def gender(g):\n",
    "    d={1:'female',\n",
    "       2:'male'}\n",
    "    return d[g]\n",
    "def town(t):\n",
    "    d={1:'village',\n",
    "       2:'city'}\n",
    "    return d[t]\n",
    "def health(h):\n",
    "    d={1:'poor',\n",
    "       2:'excellent'}\n",
    "    return d[h]\n",
    "\n",
    "name=str(input(\"Enter the Name:\"))\n",
    "age=eval(input(\"Enter the age of person:\"))\n",
    "gen=eval(input(\"enter the number:1-female  2-male:\"))\n",
    "print(gender(gen))\n",
    "towwn=eval(input(\"enter the number:1-village  2-city:\"))\n",
    "print(town(towwn))\n",
    "helth=eval(input(\"enter the number:1-poor  2:good\"))\n",
    "print(health(helth))\n",
    "\n",
    "\n",
    "if helth==2 and age>=25 or age<=35 and towwn==2 and gen==2:\n",
    "    print(\"the premium is Rs. 4 per thousand and his policy amount cannot exceed Rs. 2 lakhs.\")\n",
    "\n",
    "elif gen==1 or gen==2 and helth==2 and age>=25 or age<=35 and towwn==2:\n",
    "    print(\"Rs. 3 per thousand and her policy amount cannot exceed Rs. 1 lakh.\")\n",
    "\n",
    "elif towwn==1 and age>=25 or age<=35:\n",
    "    print(\"Rs. 3 per thousand and her policy amount cannot exceed Rs. 1 lakh.\")\n",
    "else:\n",
    "    print(\"not insured\")\n",
    "          \n",
    "\n",
    "    \n",
    "\n",
    "\n",
    "\n",
    "\n",
    "\n",
    "\n"
   ]
  },
  {
   "cell_type": "code",
   "execution_count": 9,
   "id": "1c78362f",
   "metadata": {},
   "outputs": [
    {
     "name": "stdout",
     "output_type": "stream",
     "text": [
      "{0: 'Female', 1: 'Male'}\n"
     ]
    }
   ],
   "source": [
    "genders = {\n",
    "    0: 'Female',\n",
    "    1: 'Male'\n",
    "}\n",
    "gender = input('Please select your gender: [0]Female [1]Male ')\n",
    "output = 'Your gender is ' + genders.get(gender, 'a secret~~')\n",
    "print(output)"
   ]
  },
  {
   "cell_type": "code",
   "execution_count": null,
   "id": "8ce32d8b",
   "metadata": {},
   "outputs": [],
   "source": []
  }
 ],
 "metadata": {
  "kernelspec": {
   "display_name": "Python 3 (ipykernel)",
   "language": "python",
   "name": "python3"
  },
  "language_info": {
   "codemirror_mode": {
    "name": "ipython",
    "version": 3
   },
   "file_extension": ".py",
   "mimetype": "text/x-python",
   "name": "python",
   "nbconvert_exporter": "python",
   "pygments_lexer": "ipython3",
   "version": "3.9.12"
  }
 },
 "nbformat": 4,
 "nbformat_minor": 5
}
