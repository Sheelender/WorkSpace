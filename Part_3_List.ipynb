{
 "cells": [
  {
   "cell_type": "code",
   "execution_count": 1,
   "id": "56b5fae8",
   "metadata": {},
   "outputs": [
    {
     "data": {
      "text/plain": [
       "[1, 2, 3, 4]"
      ]
     },
     "execution_count": 1,
     "metadata": {},
     "output_type": "execute_result"
    }
   ],
   "source": [
    "list1=[1,2,3,4] # represent in square brackets\n",
    "list1"
   ]
  },
  {
   "cell_type": "code",
   "execution_count": 2,
   "id": "d0a71ddd",
   "metadata": {},
   "outputs": [
    {
     "data": {
      "text/plain": [
       "list"
      ]
     },
     "execution_count": 2,
     "metadata": {},
     "output_type": "execute_result"
    }
   ],
   "source": [
    "type(list1)"
   ]
  },
  {
   "cell_type": "code",
   "execution_count": 3,
   "id": "a9084d8a",
   "metadata": {},
   "outputs": [
    {
     "data": {
      "text/plain": [
       "[1, 1, 2, 2, 3, 3, 4, 4, 4]"
      ]
     },
     "execution_count": 3,
     "metadata": {},
     "output_type": "execute_result"
    }
   ],
   "source": [
    "list1=[1,1,2,2,3,3,4,4,4]\n",
    "list1 # list can be duplicates"
   ]
  },
  {
   "cell_type": "code",
   "execution_count": 13,
   "id": "3d442a72",
   "metadata": {},
   "outputs": [],
   "source": [
    "list2=['apple','Bannana','cherry',120,130,40.6,8.9]\n",
    "# strings,int,float,complex,bool"
   ]
  },
  {
   "cell_type": "code",
   "execution_count": 5,
   "id": "7ac396e7",
   "metadata": {},
   "outputs": [
    {
     "data": {
      "text/plain": [
       "['apple', 'Bannana', 'cherry', 120, 130, 40.6, 8.9]"
      ]
     },
     "execution_count": 5,
     "metadata": {},
     "output_type": "execute_result"
    }
   ],
   "source": [
    "list2"
   ]
  },
  {
   "cell_type": "markdown",
   "id": "ef4c81aa",
   "metadata": {},
   "source": [
    "- Elements are enclosed in [] paranthisis\n",
    "- Elements are seperated by comma\n",
    "- list can have duplicates\n",
    "- list can have heterogenous(can have different data types)\n",
    "- list multiplication not possible\n",
    "- list concatination is poosible\n",
    "- list is mutable\n",
    "- max min possible for only intteger list and only for string list\n",
    "- max min not possible for a list having both int and string\n",
    "- list slicing indexing possible \n",
    "- list in list possible\n",
    "\n"
   ]
  },
  {
   "cell_type": "markdown",
   "id": "63700199",
   "metadata": {},
   "source": [
    "$ index $"
   ]
  },
  {
   "cell_type": "code",
   "execution_count": 11,
   "id": "09fe358d",
   "metadata": {},
   "outputs": [
    {
     "data": {
      "text/plain": [
       "'p'"
      ]
     },
     "execution_count": 11,
     "metadata": {},
     "output_type": "execute_result"
    }
   ],
   "source": [
    "list3='python'\n",
    "list3[0]"
   ]
  },
  {
   "cell_type": "code",
   "execution_count": 14,
   "id": "b31e0b7c",
   "metadata": {},
   "outputs": [
    {
     "data": {
      "text/plain": [
       "['apple', 'Bannana', 'cherry', 120, 130, 40.6, 8.9]"
      ]
     },
     "execution_count": 14,
     "metadata": {},
     "output_type": "execute_result"
    }
   ],
   "source": [
    "list2"
   ]
  },
  {
   "cell_type": "code",
   "execution_count": 15,
   "id": "e9dbb24f",
   "metadata": {},
   "outputs": [
    {
     "data": {
      "text/plain": [
       "'apple'"
      ]
     },
     "execution_count": 15,
     "metadata": {},
     "output_type": "execute_result"
    }
   ],
   "source": [
    "list2[0]"
   ]
  },
  {
   "cell_type": "code",
   "execution_count": 16,
   "id": "3ea0390e",
   "metadata": {},
   "outputs": [
    {
     "data": {
      "text/plain": [
       "130"
      ]
     },
     "execution_count": 16,
     "metadata": {},
     "output_type": "execute_result"
    }
   ],
   "source": [
    "list2[4]"
   ]
  },
  {
   "cell_type": "markdown",
   "id": "faf65dfe",
   "metadata": {},
   "source": [
    "$len$"
   ]
  },
  {
   "cell_type": "code",
   "execution_count": 17,
   "id": "13e5d07e",
   "metadata": {},
   "outputs": [],
   "source": [
    "string='python'"
   ]
  },
  {
   "cell_type": "code",
   "execution_count": 18,
   "id": "dd4f4103",
   "metadata": {},
   "outputs": [
    {
     "data": {
      "text/plain": [
       "6"
      ]
     },
     "execution_count": 18,
     "metadata": {},
     "output_type": "execute_result"
    }
   ],
   "source": [
    "len(string)"
   ]
  },
  {
   "cell_type": "code",
   "execution_count": 19,
   "id": "ef5e4a01",
   "metadata": {},
   "outputs": [
    {
     "data": {
      "text/plain": [
       "7"
      ]
     },
     "execution_count": 19,
     "metadata": {},
     "output_type": "execute_result"
    }
   ],
   "source": [
    "len(list2)"
   ]
  },
  {
   "cell_type": "code",
   "execution_count": 22,
   "id": "5e70c790",
   "metadata": {},
   "outputs": [
    {
     "data": {
      "text/plain": [
       "['__add__',\n",
       " '__class__',\n",
       " '__class_getitem__',\n",
       " '__contains__',\n",
       " '__delattr__',\n",
       " '__delitem__',\n",
       " '__dir__',\n",
       " '__doc__',\n",
       " '__eq__',\n",
       " '__format__',\n",
       " '__ge__',\n",
       " '__getattribute__',\n",
       " '__getitem__',\n",
       " '__gt__',\n",
       " '__hash__',\n",
       " '__iadd__',\n",
       " '__imul__',\n",
       " '__init__',\n",
       " '__init_subclass__',\n",
       " '__iter__',\n",
       " '__le__',\n",
       " '__len__',\n",
       " '__lt__',\n",
       " '__mul__',\n",
       " '__ne__',\n",
       " '__new__',\n",
       " '__reduce__',\n",
       " '__reduce_ex__',\n",
       " '__repr__',\n",
       " '__reversed__',\n",
       " '__rmul__',\n",
       " '__setattr__',\n",
       " '__setitem__',\n",
       " '__sizeof__',\n",
       " '__str__',\n",
       " '__subclasshook__',\n",
       " 'append',\n",
       " 'clear',\n",
       " 'copy',\n",
       " 'count',\n",
       " 'extend',\n",
       " 'index',\n",
       " 'insert',\n",
       " 'pop',\n",
       " 'remove',\n",
       " 'reverse',\n",
       " 'sort']"
      ]
     },
     "execution_count": 22,
     "metadata": {},
     "output_type": "execute_result"
    }
   ],
   "source": [
    "dir(list)"
   ]
  },
  {
   "cell_type": "markdown",
   "id": "37f7684d",
   "metadata": {},
   "source": [
    "$max$-$min$"
   ]
  },
  {
   "cell_type": "code",
   "execution_count": 24,
   "id": "42eb1afe",
   "metadata": {},
   "outputs": [
    {
     "data": {
      "text/plain": [
       "[1, 1, 2, 2, 3, 3, 4, 4, 4]"
      ]
     },
     "execution_count": 24,
     "metadata": {},
     "output_type": "execute_result"
    }
   ],
   "source": [
    "list1"
   ]
  },
  {
   "cell_type": "code",
   "execution_count": 26,
   "id": "26fd6680",
   "metadata": {},
   "outputs": [
    {
     "data": {
      "text/plain": [
       "(4, 1)"
      ]
     },
     "execution_count": 26,
     "metadata": {},
     "output_type": "execute_result"
    }
   ],
   "source": [
    "max(list1),min(list1)"
   ]
  },
  {
   "cell_type": "code",
   "execution_count": 27,
   "id": "fa3d4eda",
   "metadata": {},
   "outputs": [
    {
     "data": {
      "text/plain": [
       "['apple', 'Bannana', 'cherry', 120, 130, 40.6, 8.9]"
      ]
     },
     "execution_count": 27,
     "metadata": {},
     "output_type": "execute_result"
    }
   ],
   "source": [
    "list2"
   ]
  },
  {
   "cell_type": "code",
   "execution_count": 28,
   "id": "5a4c0b41",
   "metadata": {},
   "outputs": [
    {
     "ename": "TypeError",
     "evalue": "'>' not supported between instances of 'int' and 'str'",
     "output_type": "error",
     "traceback": [
      "\u001b[0;31m---------------------------------------------------------------------------\u001b[0m",
      "\u001b[0;31mTypeError\u001b[0m                                 Traceback (most recent call last)",
      "Input \u001b[0;32mIn [28]\u001b[0m, in \u001b[0;36m<cell line: 1>\u001b[0;34m()\u001b[0m\n\u001b[0;32m----> 1\u001b[0m \u001b[38;5;28;43mmax\u001b[39;49m\u001b[43m(\u001b[49m\u001b[43mlist2\u001b[49m\u001b[43m)\u001b[49m\n",
      "\u001b[0;31mTypeError\u001b[0m: '>' not supported between instances of 'int' and 'str'"
     ]
    }
   ],
   "source": [
    "max(list2) # not supported between instances of 'int' and 'str'"
   ]
  },
  {
   "cell_type": "code",
   "execution_count": 31,
   "id": "59048020",
   "metadata": {},
   "outputs": [
    {
     "data": {
      "text/plain": [
       "('Orange', 'Apple')"
      ]
     },
     "execution_count": 31,
     "metadata": {},
     "output_type": "execute_result"
    }
   ],
   "source": [
    "list3=['Apple','Banana','Cherry','Orange']\n",
    "max(list3),min(list3) # ASCII value it will take."
   ]
  },
  {
   "cell_type": "markdown",
   "id": "2f617a37",
   "metadata": {},
   "source": [
    "$ord$-$chr$"
   ]
  },
  {
   "cell_type": "code",
   "execution_count": 32,
   "id": "07739ff7",
   "metadata": {},
   "outputs": [
    {
     "data": {
      "text/plain": [
       "65"
      ]
     },
     "execution_count": 32,
     "metadata": {},
     "output_type": "execute_result"
    }
   ],
   "source": [
    "ord('A') # ord will give ascii value of charcters/symbols"
   ]
  },
  {
   "cell_type": "code",
   "execution_count": 33,
   "id": "b606ccfb",
   "metadata": {},
   "outputs": [
    {
     "data": {
      "text/plain": [
       "'A'"
      ]
     },
     "execution_count": 33,
     "metadata": {},
     "output_type": "execute_result"
    }
   ],
   "source": [
    "chr(65)# chr will give charcter/symbols when we provide ascii value"
   ]
  },
  {
   "cell_type": "code",
   "execution_count": 34,
   "id": "24ad385b",
   "metadata": {},
   "outputs": [
    {
     "name": "stdout",
     "output_type": "stream",
     "text": [
      "A ------> 65\n",
      "B ------> 66\n",
      "C ------> 67\n",
      "D ------> 68\n",
      "E ------> 69\n",
      "F ------> 70\n",
      "G ------> 71\n",
      "H ------> 72\n",
      "I ------> 73\n",
      "J ------> 74\n",
      "K ------> 75\n",
      "L ------> 76\n",
      "M ------> 77\n",
      "N ------> 78\n",
      "O ------> 79\n",
      "P ------> 80\n",
      "Q ------> 81\n",
      "R ------> 82\n",
      "S ------> 83\n",
      "T ------> 84\n",
      "U ------> 85\n",
      "V ------> 86\n",
      "W ------> 87\n",
      "X ------> 88\n",
      "Y ------> 89\n",
      "Z ------> 90\n",
      "[ ------> 91\n",
      "\\ ------> 92\n",
      "] ------> 93\n",
      "^ ------> 94\n",
      "_ ------> 95\n",
      "` ------> 96\n",
      "a ------> 97\n",
      "b ------> 98\n",
      "c ------> 99\n"
     ]
    }
   ],
   "source": [
    "for i in range(65,100):\n",
    "    print(chr(i),'------>',i)"
   ]
  },
  {
   "cell_type": "code",
   "execution_count": 38,
   "id": "6cc6ae14",
   "metadata": {},
   "outputs": [
    {
     "name": "stdout",
     "output_type": "stream",
     "text": [
      "A - 65\n",
      "B - 66\n",
      "C - 67\n",
      "D - 68\n",
      "E - 69\n",
      "F - 70\n",
      "G - 71\n",
      "H - 72\n",
      "I - 73\n",
      "J - 74\n",
      "K - 75\n",
      "L - 76\n",
      "M - 77\n",
      "N - 78\n",
      "O - 79\n",
      "P - 80\n",
      "Q - 81\n",
      "R - 82\n",
      "S - 83\n",
      "T - 84\n",
      "U - 85\n",
      "V - 86\n",
      "W - 87\n",
      "X - 88\n",
      "Y - 89\n",
      "Z - 90\n",
      "[ - 91\n",
      "\\ - 92\n",
      "] - 93\n",
      "^ - 94\n",
      "_ - 95\n",
      "` - 96\n",
      "a - 97\n",
      "b - 98\n",
      "c - 99\n"
     ]
    }
   ],
   "source": []
  },
  {
   "cell_type": "markdown",
   "id": "f22a4776",
   "metadata": {},
   "source": [
    "$mutable$-$immutable$"
   ]
  },
  {
   "cell_type": "code",
   "execution_count": 39,
   "id": "c6393e10",
   "metadata": {},
   "outputs": [
    {
     "data": {
      "text/plain": [
       "['apple', 'Bannana', 'cherry', 120, 130, 40.6, 8.9]"
      ]
     },
     "execution_count": 39,
     "metadata": {},
     "output_type": "execute_result"
    }
   ],
   "source": [
    "list2"
   ]
  },
  {
   "cell_type": "code",
   "execution_count": 41,
   "id": "cc3c2186",
   "metadata": {},
   "outputs": [],
   "source": [
    "list2[0]='Diary'"
   ]
  },
  {
   "cell_type": "code",
   "execution_count": 42,
   "id": "4f3295de",
   "metadata": {},
   "outputs": [
    {
     "data": {
      "text/plain": [
       "['Diary', 'Bannana', 'cherry', 120, 130, 40.6, 8.9]"
      ]
     },
     "execution_count": 42,
     "metadata": {},
     "output_type": "execute_result"
    }
   ],
   "source": [
    "list2\n",
    "# lists are mutable \n",
    "# we can change the list values by using index."
   ]
  },
  {
   "cell_type": "code",
   "execution_count": 45,
   "id": "d91c021d",
   "metadata": {},
   "outputs": [
    {
     "name": "stdout",
     "output_type": "stream",
     "text": [
      "Diary\n",
      "Bannana\n",
      "cherry\n",
      "120\n",
      "130\n",
      "40.6\n",
      "8.9\n"
     ]
    }
   ],
   "source": [
    "for i in range(len(list2)):\n",
    "    print(list2[i])\n",
    "    \n"
   ]
  },
  {
   "cell_type": "code",
   "execution_count": 46,
   "id": "a9278f70",
   "metadata": {},
   "outputs": [
    {
     "name": "stdout",
     "output_type": "stream",
     "text": [
      " 0 is index of Diary.\n",
      " 1 is index of Bannana.\n",
      " 2 is index of cherry.\n",
      " 3 is index of 120.\n",
      " 4 is index of 130.\n",
      " 5 is index of 40.6.\n",
      " 6 is index of 8.9.\n"
     ]
    }
   ],
   "source": [
    "num=len(list2)\n",
    "for i in range(num):\n",
    "    print(\" {} is index of {}.\".format(i,list2[i]))"
   ]
  },
  {
   "cell_type": "code",
   "execution_count": 49,
   "id": "982b78a3",
   "metadata": {},
   "outputs": [
    {
     "name": "stdout",
     "output_type": "stream",
     "text": [
      " 0 is index of Diary.\n",
      " 1 is index of Bannana.\n",
      " 2 is index of cherry.\n",
      " 3 is index of 120.\n",
      " 4 is index of 130.\n",
      " 5 is index of 40.6.\n",
      " 6 is index of 8.9.\n"
     ]
    }
   ],
   "source": [
    "\n",
    "i=0\n",
    "while i<num:\n",
    "    print(\" {} is index of {}.\".format(i,list2[i]))\n",
    "    i+=1"
   ]
  },
  {
   "cell_type": "code",
   "execution_count": 50,
   "id": "f9b61827",
   "metadata": {},
   "outputs": [
    {
     "name": "stdout",
     "output_type": "stream",
     "text": [
      "0 1 2 3 4 5 6 "
     ]
    }
   ],
   "source": [
    "for i in range(num):\n",
    "    print(i,end=' ')"
   ]
  },
  {
   "cell_type": "code",
   "execution_count": 51,
   "id": "62588536",
   "metadata": {},
   "outputs": [
    {
     "name": "stdout",
     "output_type": "stream",
     "text": [
      "0 1 2 3 4 5 6 "
     ]
    }
   ],
   "source": [
    "i=0 # iniciliazatiojn\n",
    "while i<num: # conditionn\n",
    "    print(i,end=' ') # print in loop\n",
    "    i+=1 # increment\n",
    "    "
   ]
  },
  {
   "cell_type": "markdown",
   "id": "33da370e",
   "metadata": {},
   "source": [
    "$concatination$"
   ]
  },
  {
   "cell_type": "code",
   "execution_count": 52,
   "id": "1383fdab",
   "metadata": {},
   "outputs": [
    {
     "data": {
      "text/plain": [
       "[1, 1, 2, 2, 3, 3, 4, 4, 4]"
      ]
     },
     "execution_count": 52,
     "metadata": {},
     "output_type": "execute_result"
    }
   ],
   "source": [
    "list1"
   ]
  },
  {
   "cell_type": "code",
   "execution_count": 53,
   "id": "5d65821b",
   "metadata": {},
   "outputs": [
    {
     "data": {
      "text/plain": [
       "['Diary', 'Bannana', 'cherry', 120, 130, 40.6, 8.9]"
      ]
     },
     "execution_count": 53,
     "metadata": {},
     "output_type": "execute_result"
    }
   ],
   "source": [
    "list2"
   ]
  },
  {
   "cell_type": "code",
   "execution_count": 54,
   "id": "fe29336e",
   "metadata": {},
   "outputs": [
    {
     "data": {
      "text/plain": [
       "[1, 1, 2, 2, 3, 3, 4, 4, 4, 'Diary', 'Bannana', 'cherry', 120, 130, 40.6, 8.9]"
      ]
     },
     "execution_count": 54,
     "metadata": {},
     "output_type": "execute_result"
    }
   ],
   "source": [
    "list1+list2"
   ]
  },
  {
   "cell_type": "code",
   "execution_count": 55,
   "id": "8d7067d7",
   "metadata": {},
   "outputs": [
    {
     "ename": "TypeError",
     "evalue": "can't multiply sequence by non-int of type 'list'",
     "output_type": "error",
     "traceback": [
      "\u001b[0;31m---------------------------------------------------------------------------\u001b[0m",
      "\u001b[0;31mTypeError\u001b[0m                                 Traceback (most recent call last)",
      "Input \u001b[0;32mIn [55]\u001b[0m, in \u001b[0;36m<cell line: 1>\u001b[0;34m()\u001b[0m\n\u001b[0;32m----> 1\u001b[0m \u001b[43mlist1\u001b[49m\u001b[38;5;241;43m*\u001b[39;49m\u001b[43mlist2\u001b[49m\n",
      "\u001b[0;31mTypeError\u001b[0m: can't multiply sequence by non-int of type 'list'"
     ]
    }
   ],
   "source": [
    "list1*list2 #can't multiply sequence by non-int of type 'list'"
   ]
  },
  {
   "cell_type": "code",
   "execution_count": 57,
   "id": "8f134895",
   "metadata": {},
   "outputs": [
    {
     "name": "stdout",
     "output_type": "stream",
     "text": [
      "[1, 1, 2, 2, 3, 3, 4, 4, 4, 1, 1, 2, 2, 3, 3, 4, 4, 4, 1, 1, 2, 2, 3, 3, 4, 4, 4] "
     ]
    }
   ],
   "source": [
    "print(list1*3,end=' ')"
   ]
  },
  {
   "cell_type": "code",
   "execution_count": 58,
   "id": "08d89907",
   "metadata": {},
   "outputs": [
    {
     "data": {
      "text/plain": [
       "['Diary', 'Bannana', 'cherry', 120, 130, 40.6, 8.9]"
      ]
     },
     "execution_count": 58,
     "metadata": {},
     "output_type": "execute_result"
    }
   ],
   "source": [
    "list2"
   ]
  },
  {
   "cell_type": "code",
   "execution_count": 60,
   "id": "86960e4d",
   "metadata": {},
   "outputs": [
    {
     "data": {
      "text/plain": [
       "True"
      ]
     },
     "execution_count": 60,
     "metadata": {},
     "output_type": "execute_result"
    }
   ],
   "source": [
    "'Diary' in list2"
   ]
  },
  {
   "cell_type": "code",
   "execution_count": 61,
   "id": "ae5af6de",
   "metadata": {},
   "outputs": [
    {
     "data": {
      "text/plain": [
       "True"
      ]
     },
     "execution_count": 61,
     "metadata": {},
     "output_type": "execute_result"
    }
   ],
   "source": [
    "'Diary' in list2 # True\n",
    "'Bannana'in list2 # True\n",
    "'cherry'in list2 # True\n"
   ]
  },
  {
   "cell_type": "code",
   "execution_count": 62,
   "id": "eb5d68ea",
   "metadata": {},
   "outputs": [
    {
     "name": "stdout",
     "output_type": "stream",
     "text": [
      "Diary\n",
      "Bannana\n",
      "cherry\n",
      "120\n",
      "130\n",
      "40.6\n",
      "8.9\n"
     ]
    }
   ],
   "source": [
    "for i in list2:\n",
    "    print(i)"
   ]
  },
  {
   "cell_type": "markdown",
   "id": "910f3c0f",
   "metadata": {},
   "source": [
    "$slicing$"
   ]
  },
  {
   "cell_type": "code",
   "execution_count": 64,
   "id": "48974339",
   "metadata": {},
   "outputs": [
    {
     "data": {
      "text/plain": [
       "['Diary', 'Bannana', 'cherry', 120, 130, 40.6, 8.9]"
      ]
     },
     "execution_count": 64,
     "metadata": {},
     "output_type": "execute_result"
    }
   ],
   "source": [
    "list2"
   ]
  },
  {
   "cell_type": "code",
   "execution_count": 73,
   "id": "496e5f79",
   "metadata": {},
   "outputs": [],
   "source": [
    "list3=['Ball','Apple','Cat','Doll']\n"
   ]
  },
  {
   "cell_type": "code",
   "execution_count": 74,
   "id": "11dd5b9f",
   "metadata": {},
   "outputs": [],
   "source": [
    "list4=list2+list3"
   ]
  },
  {
   "cell_type": "code",
   "execution_count": 75,
   "id": "1eb89acb",
   "metadata": {},
   "outputs": [
    {
     "name": "stdout",
     "output_type": "stream",
     "text": [
      "['Diary', 'Bannana', 'cherry', 120, 130, 40.6, 8.9, 'Ball', 'Apple', 'Cat', 'Doll'] "
     ]
    }
   ],
   "source": [
    "print(list4,end=' ')"
   ]
  },
  {
   "cell_type": "code",
   "execution_count": 76,
   "id": "1db11e2c",
   "metadata": {},
   "outputs": [
    {
     "name": "stdout",
     "output_type": "stream",
     "text": [
      "['cherry', 120, 130, 40.6, 8.9, 'Ball', 'Apple', 'Cat']\n",
      "['cherry', 130, 8.9, 'Apple', 'Doll']\n",
      "[]\n",
      "['cherry']\n",
      "['Cat', 'Ball', 40.6, 120, 'Bannana']\n",
      "['Cat']\n",
      "[]\n",
      "[]\n",
      "[]\n",
      "['Doll', 'Apple', 8.9, 130]\n",
      "['Doll']\n",
      "[]\n",
      "['Diary', 'cherry', 130, 8.9, 'Apple']\n"
     ]
    }
   ],
   "source": [
    "print(list4[2:10])      \n",
    "print(list4[2:11:2])\n",
    "print(list4[2:11:-2])\n",
    "print(list4[2:-11:-2])\n",
    "print(list4[-2:-11:-2])\n",
    "print(list4[-2:11:2])\n",
    "print(list4[-2:11:-2])\n",
    "print(list4[-2:-11:2])\n",
    "print(list4[11:2:2])\n",
    "print(list4[11:2:-2])\n",
    "print(list4[11:-2:-2])\n",
    "print(list4[-11:-2:-2])\n",
    "print(list4[-11:-2:2])"
   ]
  },
  {
   "cell_type": "markdown",
   "id": "7ea0e722",
   "metadata": {},
   "source": [
    "$ Methods-in-list $"
   ]
  },
  {
   "cell_type": "markdown",
   "id": "6ba278e4",
   "metadata": {},
   "source": [
    "- append"
   ]
  },
  {
   "cell_type": "code",
   "execution_count": 77,
   "id": "fa9a1f17",
   "metadata": {},
   "outputs": [],
   "source": [
    "# you want add a new element\n",
    "# chennai\n",
    "list2.append('chennai')"
   ]
  },
  {
   "cell_type": "code",
   "execution_count": 78,
   "id": "ad3772ba",
   "metadata": {},
   "outputs": [
    {
     "data": {
      "text/plain": [
       "['Diary', 'Bannana', 'cherry', 120, 130, 40.6, 8.9, 'chennai']"
      ]
     },
     "execution_count": 78,
     "metadata": {},
     "output_type": "execute_result"
    }
   ],
   "source": [
    "list2"
   ]
  },
  {
   "cell_type": "code",
   "execution_count": 79,
   "id": "474f551e",
   "metadata": {},
   "outputs": [],
   "source": [
    "list2.append('Movie')\n",
    "list2.append('sports')"
   ]
  },
  {
   "cell_type": "code",
   "execution_count": 81,
   "id": "3728ecc1",
   "metadata": {},
   "outputs": [
    {
     "name": "stdout",
     "output_type": "stream",
     "text": [
      "['Diary', 'Bannana', 'cherry', 120, 130, 40.6, 8.9, 'chennai', 'Movie', 'sports'] "
     ]
    }
   ],
   "source": [
    "print(list2,end=' ')"
   ]
  },
  {
   "cell_type": "code",
   "execution_count": 82,
   "id": "d910f06f",
   "metadata": {},
   "outputs": [],
   "source": [
    "num=[] # empty list\n",
    "for i in range(7):\n",
    "    num.append(i) \n",
    "\n",
    "    # i want save the value in a llist"
   ]
  },
  {
   "cell_type": "code",
   "execution_count": 83,
   "id": "2f75b573",
   "metadata": {},
   "outputs": [
    {
     "data": {
      "text/plain": [
       "[0, 1, 2, 3, 4, 5, 6]"
      ]
     },
     "execution_count": 83,
     "metadata": {},
     "output_type": "execute_result"
    }
   ],
   "source": [
    "num"
   ]
  },
  {
   "cell_type": "code",
   "execution_count": 91,
   "id": "382b4c55",
   "metadata": {},
   "outputs": [
    {
     "name": "stdout",
     "output_type": "stream",
     "text": [
      "[1, 4, 9, 16, 25]\n"
     ]
    }
   ],
   "source": [
    "num=[]\n",
    "for i in range(1,6):\n",
    "    num.append(i*i)\n",
    "print(num)"
   ]
  },
  {
   "cell_type": "markdown",
   "id": "d49b7df1",
   "metadata": {},
   "source": [
    "$ LIST-Comprehesion $\n",
    "\n",
    "- IT will improve fastness of your code."
   ]
  },
  {
   "cell_type": "code",
   "execution_count": 93,
   "id": "4acfb965",
   "metadata": {},
   "outputs": [
    {
     "data": {
      "text/plain": [
       "[0, 1, 2, 3, 4, 5]"
      ]
     },
     "execution_count": 93,
     "metadata": {},
     "output_type": "execute_result"
    }
   ],
   "source": [
    "num=[i for i in range(6)]\n",
    "num"
   ]
  },
  {
   "cell_type": "code",
   "execution_count": 94,
   "id": "39043b17",
   "metadata": {},
   "outputs": [
    {
     "data": {
      "text/plain": [
       "[1, 4, 9, 16, 25]"
      ]
     },
     "execution_count": 94,
     "metadata": {},
     "output_type": "execute_result"
    }
   ],
   "source": [
    "#       out. for i .......\n",
    "square=[i*i for i in range(1,6)]\n",
    "square"
   ]
  },
  {
   "cell_type": "code",
   "execution_count": 104,
   "id": "d8870d05",
   "metadata": {},
   "outputs": [],
   "source": [
    "even=[]\n",
    "for i in range(20,41):\n",
    "    if i%2==0:\n",
    "        even.append(i)"
   ]
  },
  {
   "cell_type": "code",
   "execution_count": null,
   "id": "76e5ff99",
   "metadata": {},
   "outputs": [],
   "source": [
    "# LC  ------> for loop\n",
    "[i for i in range(1,10)]\n",
    "#LC -------> for loop if \n",
    "[i for i in range(1,10) if condition]\n",
    "# LC ------> if else\n",
    "[o/p if condition else o/p for loop]"
   ]
  },
  {
   "cell_type": "code",
   "execution_count": 105,
   "id": "775f321e",
   "metadata": {},
   "outputs": [
    {
     "data": {
      "text/plain": [
       "[20, 22, 24, 26, 28, 30, 32, 34, 36, 38, 40]"
      ]
     },
     "execution_count": 105,
     "metadata": {},
     "output_type": "execute_result"
    }
   ],
   "source": [
    "even"
   ]
  },
  {
   "cell_type": "code",
   "execution_count": 106,
   "id": "8809eb96",
   "metadata": {},
   "outputs": [
    {
     "data": {
      "text/plain": [
       "[20, 22, 24, 26, 28, 30, 32, 34, 36, 38, 40]"
      ]
     },
     "execution_count": 106,
     "metadata": {},
     "output_type": "execute_result"
    }
   ],
   "source": [
    "even=[i for i in range(20,41)if i%2==0]\n",
    "even"
   ]
  },
  {
   "cell_type": "code",
   "execution_count": 118,
   "id": "f152e8a6",
   "metadata": {},
   "outputs": [
    {
     "name": "stdout",
     "output_type": "stream",
     "text": [
      "['even', 'odd', 'even', 'odd', 'even', 'odd', 'even', 'odd', 'even', 'odd', 'even', 'odd', 'even', 'odd', 'even', 'odd', 'even', 'odd', 'even', 'odd', 'even'] "
     ]
    }
   ],
   "source": [
    "even_odd=['even' if i%2==0 else 'odd' for i in range(20,41)]\n",
    "print(even_odd,end=' ')"
   ]
  },
  {
   "cell_type": "code",
   "execution_count": 65,
   "id": "2d732a44",
   "metadata": {},
   "outputs": [],
   "source": [
    "even_odd=[]\n",
    "for i in range(20,40):\n",
    "    if i%2==0:\n",
    "        even_odd.append(\"even\")\n",
    "        \n",
    "    else:\n",
    "        even_odd.append(\"odd\")"
   ]
  },
  {
   "cell_type": "code",
   "execution_count": 66,
   "id": "057a959c",
   "metadata": {},
   "outputs": [
    {
     "data": {
      "text/plain": [
       "['even',\n",
       " 'odd',\n",
       " 'even',\n",
       " 'odd',\n",
       " 'even',\n",
       " 'odd',\n",
       " 'even',\n",
       " 'odd',\n",
       " 'even',\n",
       " 'odd',\n",
       " 'even',\n",
       " 'odd',\n",
       " 'even',\n",
       " 'odd',\n",
       " 'even',\n",
       " 'odd',\n",
       " 'even',\n",
       " 'odd',\n",
       " 'even',\n",
       " 'odd']"
      ]
     },
     "execution_count": 66,
     "metadata": {},
     "output_type": "execute_result"
    }
   ],
   "source": [
    "even_odd"
   ]
  },
  {
   "cell_type": "markdown",
   "id": "99def622",
   "metadata": {},
   "source": [
    "$ copy $"
   ]
  },
  {
   "cell_type": "code",
   "execution_count": 3,
   "id": "1c193a01",
   "metadata": {},
   "outputs": [],
   "source": [
    "number=[2,3,6,9,10]\n"
   ]
  },
  {
   "cell_type": "code",
   "execution_count": 4,
   "id": "37dd2809",
   "metadata": {},
   "outputs": [],
   "source": [
    "even_number=number.copy()\n"
   ]
  },
  {
   "cell_type": "code",
   "execution_count": 5,
   "id": "c73f1c05",
   "metadata": {},
   "outputs": [
    {
     "data": {
      "text/plain": [
       "[2, 3, 6, 9, 10]"
      ]
     },
     "execution_count": 5,
     "metadata": {},
     "output_type": "execute_result"
    }
   ],
   "source": [
    "even_number\n"
   ]
  },
  {
   "cell_type": "code",
   "execution_count": 6,
   "id": "ecb5a3c2",
   "metadata": {},
   "outputs": [],
   "source": [
    "number.clear()"
   ]
  },
  {
   "cell_type": "code",
   "execution_count": 8,
   "id": "3a826bf2",
   "metadata": {},
   "outputs": [
    {
     "data": {
      "text/plain": [
       "[2, 3, 6, 9, 10]"
      ]
     },
     "execution_count": 8,
     "metadata": {},
     "output_type": "execute_result"
    }
   ],
   "source": [
    "even_number\n"
   ]
  },
  {
   "cell_type": "code",
   "execution_count": 11,
   "id": "294884c3",
   "metadata": {},
   "outputs": [
    {
     "data": {
      "text/plain": [
       "1"
      ]
     },
     "execution_count": 11,
     "metadata": {},
     "output_type": "execute_result"
    }
   ],
   "source": [
    "even_number.index(3)"
   ]
  },
  {
   "cell_type": "markdown",
   "id": "4f29fe10",
   "metadata": {},
   "source": [
    "$ extend $"
   ]
  },
  {
   "cell_type": "code",
   "execution_count": 45,
   "id": "d1a055ad",
   "metadata": {},
   "outputs": [],
   "source": [
    "A=['apple','ball','cat','dog']\n",
    "B=[1,2,3,4]\n"
   ]
  },
  {
   "cell_type": "code",
   "execution_count": 37,
   "id": "a2c2de8e",
   "metadata": {},
   "outputs": [],
   "source": [
    "C=A+B"
   ]
  },
  {
   "cell_type": "code",
   "execution_count": 38,
   "id": "8454879f",
   "metadata": {},
   "outputs": [
    {
     "name": "stdout",
     "output_type": "stream",
     "text": [
      "['apple', 'ball', 'cat', 'dog', 1, 2, 3, 4]\n"
     ]
    }
   ],
   "source": [
    "print(C)"
   ]
  },
  {
   "cell_type": "code",
   "execution_count": 40,
   "id": "828c1ea2",
   "metadata": {},
   "outputs": [],
   "source": [
    "A.extend(B)"
   ]
  },
  {
   "cell_type": "code",
   "execution_count": 41,
   "id": "31592891",
   "metadata": {},
   "outputs": [
    {
     "data": {
      "text/plain": [
       "['apple', 'ball', 'cat', 'dog', 1, 2, 3, 4, 1, 2, 3, 4]"
      ]
     },
     "execution_count": 41,
     "metadata": {},
     "output_type": "execute_result"
    }
   ],
   "source": [
    "A"
   ]
  },
  {
   "cell_type": "code",
   "execution_count": 46,
   "id": "0c226124",
   "metadata": {},
   "outputs": [
    {
     "name": "stdout",
     "output_type": "stream",
     "text": [
      "[1, 2, 3, 4, 'apple', 'ball', 'cat', 'dog']\n"
     ]
    }
   ],
   "source": [
    "B.extend(A)\n",
    "print(B)"
   ]
  },
  {
   "cell_type": "markdown",
   "id": "76868c1b",
   "metadata": {},
   "source": [
    "$ insert $"
   ]
  },
  {
   "cell_type": "code",
   "execution_count": 51,
   "id": "f2430278",
   "metadata": {},
   "outputs": [],
   "source": [
    "vowel=['a','e','i','o',]\n",
    "vowel.append('u')"
   ]
  },
  {
   "cell_type": "code",
   "execution_count": null,
   "id": "e0e6a8d4",
   "metadata": {},
   "outputs": [],
   "source": [
    "vowels=['a','e','i','u']\n",
    "# o is missed\n",
    "# if i want to append 'o' in my vowels list\n",
    "vowels.append('o')\n",
    "# in append method element added at the last index of list"
   ]
  },
  {
   "cell_type": "code",
   "execution_count": null,
   "id": "2f92c28c",
   "metadata": {},
   "outputs": [],
   "source": [
    "#['a','e','i','o','u']\n",
    "# I want add the element at specific place\n",
    "vowels=['a','e','i','u'] # python index starts with zero\n",
    "# I want at index 3 ,'o' should be there\n",
    "vowels.insert(3,'o') #shift+tab inside the ()\n",
    "#after 'a' insert 'A'\n",
    "vowels.insert(1,'A')"
   ]
  },
  {
   "cell_type": "code",
   "execution_count": 52,
   "id": "530ab7ec",
   "metadata": {},
   "outputs": [
    {
     "data": {
      "text/plain": [
       "['a', 'e', 'i', 'o', 'u']"
      ]
     },
     "execution_count": 52,
     "metadata": {},
     "output_type": "execute_result"
    }
   ],
   "source": [
    "vowel"
   ]
  },
  {
   "cell_type": "code",
   "execution_count": 54,
   "id": "4accc6ef",
   "metadata": {},
   "outputs": [],
   "source": [
    "# insert method is use for inserstion...\n",
    "vowel.insert(4,'j')"
   ]
  },
  {
   "cell_type": "code",
   "execution_count": 55,
   "id": "bb97301a",
   "metadata": {},
   "outputs": [
    {
     "data": {
      "text/plain": [
       "['a', 'e', 'i', 'o', 'j', 'u']"
      ]
     },
     "execution_count": 55,
     "metadata": {},
     "output_type": "execute_result"
    }
   ],
   "source": [
    "vowel"
   ]
  },
  {
   "cell_type": "code",
   "execution_count": 2,
   "id": "4dd98346",
   "metadata": {},
   "outputs": [
    {
     "name": "stdout",
     "output_type": "stream",
     "text": [
      "2\n",
      "['a', 'e', 'i', 'o', 'u']\n"
     ]
    }
   ],
   "source": [
    "vowels=['a','e','i','u']\n",
    "vowels\n",
    "# after 'i', want to insert 'o'\n",
    "# you need to get index 3 by index method\n",
    "num=vowels.index('i')          # 3 by using index method\n",
    "print(num)\n",
    "vowels.insert(num+1,'o')\n",
    "print(vowels)\n"
   ]
  },
  {
   "cell_type": "markdown",
   "id": "4bcc5bce",
   "metadata": {},
   "source": [
    "$ count $"
   ]
  },
  {
   "cell_type": "code",
   "execution_count": 3,
   "id": "4fc1f71e",
   "metadata": {},
   "outputs": [
    {
     "data": {
      "text/plain": [
       "4"
      ]
     },
     "execution_count": 3,
     "metadata": {},
     "output_type": "execute_result"
    }
   ],
   "source": [
    "number=[1,2,1,1,1,3,3,3,4,4,4,4,4,5,5,6,6,6,6,6,7]\n",
    "number.count(1)"
   ]
  },
  {
   "cell_type": "code",
   "execution_count": 11,
   "id": "a1ee9ebf",
   "metadata": {},
   "outputs": [
    {
     "name": "stdout",
     "output_type": "stream",
     "text": [
      "[48, 15, 18, 93, 85, 72, 62, 60, 43, 17, 13, 92, 32, 72, 8, 74, 80, 85, 52, 6, 83, 73, 28, 63, 59, 40, 22, 96, 4, 57, 61, 12, 88, 6, 36, 49, 33, 71, 13, 3, 13, 8, 76, 64, 48, 91, 8, 11, 44, 14]\n"
     ]
    }
   ],
   "source": [
    "# create a list of 50 random numbers between 1,100\n",
    "from random import randint\n",
    "random_list=[]\n",
    "for i in range(50):\n",
    "    random_list.append(randint(1,100))\n",
    "\n",
    "print(random_list)\n",
    "    "
   ]
  },
  {
   "cell_type": "code",
   "execution_count": 35,
   "id": "3913c96c",
   "metadata": {},
   "outputs": [
    {
     "name": "stdout",
     "output_type": "stream",
     "text": [
      "[85, 43, 25, 10, 86, 58, 12, 90, 10, 34, 59, 64, 27, 20, 61, 98, 12, 89, 57, 54, 91, 68, 92, 75, 65, 21, 55, 46, 89, 12, 19, 10, 67, 34, 94, 30, 16, 71, 60, 59, 27, 32, 96, 36, 88, 74, 27, 98, 68, 63]\n"
     ]
    }
   ],
   "source": [
    "random_list1=[randint(10,100) for i in range(50)]\n",
    "print(random_list1)"
   ]
  },
  {
   "cell_type": "code",
   "execution_count": 33,
   "id": "9a445aba",
   "metadata": {},
   "outputs": [],
   "source": [
    "random_list1.count(92)\n",
    "# in entire random list we have 50 random numbers"
   ]
  },
  {
   "cell_type": "code",
   "execution_count": 36,
   "id": "ad16389b",
   "metadata": {},
   "outputs": [
    {
     "name": "stdout",
     "output_type": "stream",
     "text": [
      "85 is repated 1 times\n",
      "43 is repated 1 times\n",
      "25 is repated 1 times\n",
      "10 is repated 3 times\n",
      "86 is repated 1 times\n",
      "58 is repated 1 times\n",
      "12 is repated 3 times\n",
      "90 is repated 1 times\n",
      "10 is repated 3 times\n",
      "34 is repated 2 times\n",
      "59 is repated 2 times\n",
      "64 is repated 1 times\n",
      "27 is repated 3 times\n",
      "20 is repated 1 times\n",
      "61 is repated 1 times\n",
      "98 is repated 2 times\n",
      "12 is repated 3 times\n",
      "89 is repated 2 times\n",
      "57 is repated 1 times\n",
      "54 is repated 1 times\n",
      "91 is repated 1 times\n",
      "68 is repated 2 times\n",
      "92 is repated 1 times\n",
      "75 is repated 1 times\n",
      "65 is repated 1 times\n",
      "21 is repated 1 times\n",
      "55 is repated 1 times\n",
      "46 is repated 1 times\n",
      "89 is repated 2 times\n",
      "12 is repated 3 times\n",
      "19 is repated 1 times\n",
      "10 is repated 3 times\n",
      "67 is repated 1 times\n",
      "34 is repated 2 times\n",
      "94 is repated 1 times\n",
      "30 is repated 1 times\n",
      "16 is repated 1 times\n",
      "71 is repated 1 times\n",
      "60 is repated 1 times\n",
      "59 is repated 2 times\n",
      "27 is repated 3 times\n",
      "32 is repated 1 times\n",
      "96 is repated 1 times\n",
      "36 is repated 1 times\n",
      "88 is repated 1 times\n",
      "74 is repated 1 times\n",
      "27 is repated 3 times\n",
      "98 is repated 2 times\n",
      "68 is repated 2 times\n",
      "63 is repated 1 times\n"
     ]
    }
   ],
   "source": [
    "for i in random_list1:\n",
    "    print(\"{} is repated {} times\".format(i,random_list1.count(i)))"
   ]
  },
  {
   "cell_type": "markdown",
   "id": "47ff0d45",
   "metadata": {},
   "source": [
    "$$ remove $$"
   ]
  },
  {
   "cell_type": "code",
   "execution_count": 60,
   "id": "c41a3497",
   "metadata": {},
   "outputs": [],
   "source": [
    "# take a list of some elements\n",
    "# apply remove method\n",
    "list1=[1,2,3,1,2,3]"
   ]
  },
  {
   "cell_type": "code",
   "execution_count": 66,
   "id": "244530c3",
   "metadata": {},
   "outputs": [
    {
     "name": "stdout",
     "output_type": "stream",
     "text": [
      "[1, 2, 1, 2, 3]\n"
     ]
    }
   ],
   "source": [
    "list1=[1,2,3,1,2,3]\n",
    "list1.remove(3)\n",
    "print(list1)"
   ]
  },
  {
   "cell_type": "markdown",
   "id": "bc626744",
   "metadata": {},
   "source": [
    "$ pop $"
   ]
  },
  {
   "cell_type": "code",
   "execution_count": 68,
   "id": "fe767060",
   "metadata": {},
   "outputs": [
    {
     "data": {
      "text/plain": [
       "2"
      ]
     },
     "execution_count": 68,
     "metadata": {},
     "output_type": "execute_result"
    }
   ],
   "source": [
    "list1=[1,2,3,1,2,3]\n",
    "# you can remove the element by using index\n",
    "# in remove method only first occurence element is removing\n",
    "# that problem can avoid by using pop method\n",
    "# at 4th index we have 2 value\n",
    "list1.pop(4)"
   ]
  },
  {
   "cell_type": "code",
   "execution_count": null,
   "id": "10bb11f7",
   "metadata": {},
   "outputs": [],
   "source": [
    "# you cant remove all the repeated element in a list by using list conepets\n",
    "# copy ========== clear\n",
    "# append ======= insert\n",
    "# remove ======= pop\n",
    "# index ======== count"
   ]
  },
  {
   "cell_type": "code",
   "execution_count": 69,
   "id": "c1475d75",
   "metadata": {},
   "outputs": [],
   "source": [
    "list1=[1,2,3,4]\n"
   ]
  },
  {
   "cell_type": "code",
   "execution_count": 70,
   "id": "0d549e08",
   "metadata": {},
   "outputs": [],
   "source": [
    "list2=[1,2,3,4,'Apple',['B',10,'D']]            # list in list"
   ]
  },
  {
   "cell_type": "code",
   "execution_count": 71,
   "id": "42f5c0d0",
   "metadata": {},
   "outputs": [],
   "source": [
    "l=list2[5]"
   ]
  },
  {
   "cell_type": "code",
   "execution_count": 72,
   "id": "3c67805c",
   "metadata": {},
   "outputs": [
    {
     "data": {
      "text/plain": [
       "'B'"
      ]
     },
     "execution_count": 72,
     "metadata": {},
     "output_type": "execute_result"
    }
   ],
   "source": [
    "l[0]"
   ]
  },
  {
   "cell_type": "code",
   "execution_count": 73,
   "id": "9ddeaf09",
   "metadata": {},
   "outputs": [
    {
     "data": {
      "text/plain": [
       "'B'"
      ]
     },
     "execution_count": 73,
     "metadata": {},
     "output_type": "execute_result"
    }
   ],
   "source": [
    "list2[5][0]"
   ]
  },
  {
   "cell_type": "markdown",
   "id": "b296f3c7",
   "metadata": {},
   "source": [
    "$ reverse $"
   ]
  },
  {
   "cell_type": "code",
   "execution_count": 74,
   "id": "15c00011",
   "metadata": {},
   "outputs": [],
   "source": [
    "# try your self\n",
    "a=[1,2,'python']\n",
    "a.reverse()"
   ]
  },
  {
   "cell_type": "code",
   "execution_count": 75,
   "id": "66cbca59",
   "metadata": {},
   "outputs": [
    {
     "data": {
      "text/plain": [
       "['python', 2, 1]"
      ]
     },
     "execution_count": 75,
     "metadata": {},
     "output_type": "execute_result"
    }
   ],
   "source": [
    "a"
   ]
  },
  {
   "cell_type": "markdown",
   "id": "1cc83046",
   "metadata": {},
   "source": [
    "$ sort $"
   ]
  },
  {
   "cell_type": "markdown",
   "id": "8ba1a2b8",
   "metadata": {},
   "source": [
    "- You can sort the elements\n",
    "\n",
    "- by ascending order/descending order"
   ]
  },
  {
   "cell_type": "code",
   "execution_count": 76,
   "id": "93eb5a8c",
   "metadata": {},
   "outputs": [],
   "source": [
    "ele=[1,50,100,25,67,89,9]"
   ]
  },
  {
   "cell_type": "code",
   "execution_count": 79,
   "id": "429a1f1a",
   "metadata": {},
   "outputs": [],
   "source": [
    "ele.sort() # ascending order\n"
   ]
  },
  {
   "cell_type": "code",
   "execution_count": 80,
   "id": "09dbe5d3",
   "metadata": {},
   "outputs": [
    {
     "data": {
      "text/plain": [
       "[1, 9, 25, 50, 67, 89, 100]"
      ]
     },
     "execution_count": 80,
     "metadata": {},
     "output_type": "execute_result"
    }
   ],
   "source": [
    "ele  # ascending order \n",
    "# inside function \n",
    "# it consider reverse=False as default value"
   ]
  },
  {
   "cell_type": "code",
   "execution_count": 81,
   "id": "96816034",
   "metadata": {},
   "outputs": [
    {
     "data": {
      "text/plain": [
       "[100, 89, 67, 50, 25, 9, 1]"
      ]
     },
     "execution_count": 81,
     "metadata": {},
     "output_type": "execute_result"
    }
   ],
   "source": [
    "ele.sort(reverse=True)\n",
    "ele # descending order"
   ]
  },
  {
   "cell_type": "markdown",
   "id": "cd5158f4",
   "metadata": {},
   "source": [
    "$ split - join $"
   ]
  },
  {
   "cell_type": "code",
   "execution_count": 82,
   "id": "e87403f9",
   "metadata": {},
   "outputs": [],
   "source": [
    "string1='hai how are you'\n",
    "# here every word seperated by space\n",
    "# hai ----> how ----> are ----> you\n",
    "words=string1.split(' ')  # list of words"
   ]
  },
  {
   "cell_type": "code",
   "execution_count": 83,
   "id": "e60eb6c0",
   "metadata": {},
   "outputs": [
    {
     "data": {
      "text/plain": [
       "['hai', 'how', 'are', 'you']"
      ]
     },
     "execution_count": 83,
     "metadata": {},
     "output_type": "execute_result"
    }
   ],
   "source": [
    "words \n",
    "# if you want join back as same as string1"
   ]
  },
  {
   "cell_type": "code",
   "execution_count": 87,
   "id": "b3204617",
   "metadata": {},
   "outputs": [
    {
     "data": {
      "text/plain": [
       "'hai how are you'"
      ]
     },
     "execution_count": 87,
     "metadata": {},
     "output_type": "execute_result"
    }
   ],
   "source": [
    "' '.join(words)"
   ]
  },
  {
   "cell_type": "code",
   "execution_count": null,
   "id": "39f72077",
   "metadata": {},
   "outputs": [],
   "source": [
    "# you want conductiing one exam\n",
    "# list of questions \n",
    "# list of Answers\n",
    "# how many are right answers"
   ]
  },
  {
   "cell_type": "code",
   "execution_count": 95,
   "id": "7e5eafd9",
   "metadata": {},
   "outputs": [
    {
     "name": "stdout",
     "output_type": "stream",
     "text": [
      "What is the capital of india:fg\n",
      "wrong,the correct answer is: Delhi\n",
      "How many states in india:gg\n",
      "wrong,the correct answer is: 29\n",
      "Who is president of india:rttg\n",
      "wrong,the correct answer is: Murmu\n",
      "You have 0 correct answers\n"
     ]
    }
   ],
   "source": [
    "questions=['What is the capital of india:',\n",
    "          'How many states in india:',\n",
    "          'Who is president of india:']\n",
    "\n",
    "answers=['Delhi','29','Murmu']\n",
    "\n",
    "right_answer=0\n",
    "\n",
    "for i in range(len(questions)):\n",
    "    gusse=input(questions[i])\n",
    "    \n",
    "    if gusse.lower()==answers[i].lower():\n",
    "        print('correct')\n",
    "        right_answer+=1\n",
    "        \n",
    "    else:\n",
    "        print('wrong,the correct answer is:',answers[i])\n",
    "    \n",
    "        \n",
    "print('You have {} correct answers'.format(right_answer))"
   ]
  },
  {
   "cell_type": "code",
   "execution_count": null,
   "id": "a8905432",
   "metadata": {},
   "outputs": [],
   "source": [
    "list1=[1,10,16,18]\n",
    "list1[1]>=list1[2]\n",
    "\n"
   ]
  },
  {
   "cell_type": "code",
   "execution_count": null,
   "id": "9ea89dac",
   "metadata": {},
   "outputs": [],
   "source": [
    "# he wants to takes list of numbers from user\n",
    "# some pos numbers\n",
    "# zeros \n",
    "# and some negative number\n",
    "# objective: how much percentage of pos number in a list\n",
    "#.          how much precentage of neg number in a list\n",
    "#.           how much precentage of zero in a list \n",
    "\n",
    "# function\n",
    "# try-execpt\n"
   ]
  },
  {
   "cell_type": "code",
   "execution_count": 134,
   "id": "2b5c38ce",
   "metadata": {},
   "outputs": [],
   "source": [
    "def numPercInList():\n",
    "    list1=[]\n",
    "    n = int(input(\"Enter number of elements : \"))\n",
    "    postive_count=0\n",
    "    neg_count=0\n",
    "    zero_count=0\n",
    "    for i in range(0,n): \n",
    "        evl=int(input())\n",
    "        list1.append(evl)\n",
    "    print(list1)\n",
    "\n",
    "    for i in range(len(list1)):\n",
    "        if(list1[i]==0):\n",
    "            zero_count+=1\n",
    "        elif (list1[i]>0):\n",
    "            postive_count+=1\n",
    "        else:\n",
    "            neg_count+=1\n",
    "\n",
    "\n",
    "\n",
    "    print(\"postive num precentage is \",(postive_count/len(list1))*100,\"%\")\n",
    "    print(\"negative num precentage is \",(neg_count/len(list1))*100,\"%\")\n",
    "    print(\"zero num precentage is \",(zero_count/len(list1))*100,\"%\")\n",
    "        \n",
    "        \n",
    "        \n",
    "\n",
    "    "
   ]
  },
  {
   "cell_type": "code",
   "execution_count": 136,
   "id": "14065de1",
   "metadata": {},
   "outputs": [
    {
     "name": "stdout",
     "output_type": "stream",
     "text": [
      "Enter number of elements : 2\n",
      "-1\n",
      "2\n",
      "[-1, 2]\n",
      "postive num precentage is  50.0 %\n",
      "negative num precentage is  50.0 %\n",
      "zero num precentage is  0.0 %\n"
     ]
    }
   ],
   "source": [
    "numPercInList()"
   ]
  },
  {
   "cell_type": "code",
   "execution_count": null,
   "id": "2a7448ba",
   "metadata": {},
   "outputs": [],
   "source": [
    "# clear and copy ============== > list"
   ]
  },
  {
   "cell_type": "code",
   "execution_count": null,
   "id": "b0e706fc",
   "metadata": {},
   "outputs": [],
   "source": [
    "dic={key:value,key:valuue}....."
   ]
  },
  {
   "cell_type": "code",
   "execution_count": null,
   "id": "7f7abad1",
   "metadata": {},
   "outputs": [],
   "source": []
  },
  {
   "cell_type": "code",
   "execution_count": null,
   "id": "286cacfb",
   "metadata": {},
   "outputs": [],
   "source": []
  },
  {
   "cell_type": "code",
   "execution_count": null,
   "id": "bf10557d",
   "metadata": {},
   "outputs": [],
   "source": []
  },
  {
   "cell_type": "code",
   "execution_count": null,
   "id": "fe41bc5f",
   "metadata": {},
   "outputs": [],
   "source": []
  },
  {
   "cell_type": "code",
   "execution_count": null,
   "id": "b3c1a313",
   "metadata": {},
   "outputs": [],
   "source": []
  },
  {
   "cell_type": "code",
   "execution_count": null,
   "id": "3c2a5d88",
   "metadata": {},
   "outputs": [],
   "source": []
  },
  {
   "cell_type": "code",
   "execution_count": null,
   "id": "3cff6168",
   "metadata": {},
   "outputs": [],
   "source": []
  }
 ],
 "metadata": {
  "kernelspec": {
   "display_name": "Python 3 (ipykernel)",
   "language": "python",
   "name": "python3"
  },
  "language_info": {
   "codemirror_mode": {
    "name": "ipython",
    "version": 3
   },
   "file_extension": ".py",
   "mimetype": "text/x-python",
   "name": "python",
   "nbconvert_exporter": "python",
   "pygments_lexer": "ipython3",
   "version": "3.9.12"
  }
 },
 "nbformat": 4,
 "nbformat_minor": 5
}
