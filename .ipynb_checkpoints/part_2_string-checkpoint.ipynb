{
 "cells": [
  {
   "cell_type": "markdown",
   "id": "10ed5cdb",
   "metadata": {},
   "source": [
    "## strings"
   ]
  },
  {
   "cell_type": "code",
   "execution_count": 8,
   "id": "a4386df5",
   "metadata": {},
   "outputs": [],
   "source": [
    "s='python'\n",
    "t=\"hello\"\n",
    "str1=\"\"\"helo \n",
    "     omakar\"\"\""
   ]
  },
  {
   "cell_type": "code",
   "execution_count": 4,
   "id": "e859e242",
   "metadata": {},
   "outputs": [
    {
     "data": {
      "text/plain": [
       "'python'"
      ]
     },
     "execution_count": 4,
     "metadata": {},
     "output_type": "execute_result"
    }
   ],
   "source": [
    "s"
   ]
  },
  {
   "cell_type": "code",
   "execution_count": 5,
   "id": "d0e54846",
   "metadata": {},
   "outputs": [
    {
     "data": {
      "text/plain": [
       "'hello'"
      ]
     },
     "execution_count": 5,
     "metadata": {},
     "output_type": "execute_result"
    }
   ],
   "source": [
    "t"
   ]
  },
  {
   "cell_type": "code",
   "execution_count": 6,
   "id": "475f2bdb",
   "metadata": {},
   "outputs": [
    {
     "data": {
      "text/plain": [
       "'\"helo \\n     omakar'"
      ]
     },
     "execution_count": 6,
     "metadata": {},
     "output_type": "execute_result"
    }
   ],
   "source": [
    "str1"
   ]
  },
  {
   "cell_type": "code",
   "execution_count": 9,
   "id": "08fcbc0d",
   "metadata": {},
   "outputs": [
    {
     "name": "stdout",
     "output_type": "stream",
     "text": [
      "helo \n",
      "     omakar\n"
     ]
    }
   ],
   "source": [
    "print(str1)"
   ]
  },
  {
   "cell_type": "code",
   "execution_count": 18,
   "id": "aad16869",
   "metadata": {},
   "outputs": [
    {
     "name": "stdout",
     "output_type": "stream",
     "text": [
      "i like \"pyton\"\n",
      "i like 'python'\n"
     ]
    }
   ],
   "source": [
    "p='i like \"pyton\"'\n",
    "h=\"i like 'python'\"\n",
    "\n",
    "print(p)\n",
    "print(h)"
   ]
  },
  {
   "cell_type": "code",
   "execution_count": 20,
   "id": "6206ca69",
   "metadata": {},
   "outputs": [
    {
     "data": {
      "text/plain": [
       "13"
      ]
     },
     "execution_count": 20,
     "metadata": {},
     "output_type": "execute_result"
    }
   ],
   "source": [
    "string1=\"i like python\"\n",
    "len(string1)"
   ]
  },
  {
   "cell_type": "code",
   "execution_count": 22,
   "id": "4dabaa13",
   "metadata": {},
   "outputs": [
    {
     "name": "stdout",
     "output_type": "stream",
     "text": [
      "3\n"
     ]
    },
    {
     "data": {
      "text/plain": [
       "'3'"
      ]
     },
     "execution_count": 22,
     "metadata": {},
     "output_type": "execute_result"
    }
   ],
   "source": [
    "input()  # string type\n"
   ]
  },
  {
   "cell_type": "markdown",
   "id": "992148f6",
   "metadata": {},
   "source": [
    "$ Indexing $"
   ]
  },
  {
   "cell_type": "code",
   "execution_count": 24,
   "id": "8fb05fd8",
   "metadata": {},
   "outputs": [
    {
     "data": {
      "text/plain": [
       "6"
      ]
     },
     "execution_count": 24,
     "metadata": {},
     "output_type": "execute_result"
    }
   ],
   "source": [
    "s='python'\n",
    "len(s)"
   ]
  },
  {
   "cell_type": "code",
   "execution_count": 25,
   "id": "d2926867",
   "metadata": {},
   "outputs": [
    {
     "data": {
      "text/plain": [
       "'p'"
      ]
     },
     "execution_count": 25,
     "metadata": {},
     "output_type": "execute_result"
    }
   ],
   "source": [
    "s[0] \n",
    "\n",
    "# i can call a letter by using index.\n",
    "# in python index start with zero."
   ]
  },
  {
   "cell_type": "code",
   "execution_count": 31,
   "id": "406c2d24",
   "metadata": {},
   "outputs": [
    {
     "name": "stdout",
     "output_type": "stream",
     "text": [
      "l\n",
      "a\n"
     ]
    }
   ],
   "source": [
    "name=\"sheelander\"\n",
    "print(name[4])\n",
    "print(name[-5])"
   ]
  },
  {
   "cell_type": "code",
   "execution_count": 39,
   "id": "b995e584",
   "metadata": {},
   "outputs": [
    {
     "name": "stdout",
     "output_type": "stream",
     "text": [
      "p index is 0.\n",
      "y index is 1.\n",
      "t index is 2.\n",
      "h index is 3.\n",
      "o index is 4.\n",
      "n index is 5.\n"
     ]
    }
   ],
   "source": [
    "string='python'\n",
    "\n",
    "for i in range(0,6):\n",
    "    print(\"{} index is {}\".format(string[i],i))"
   ]
  },
  {
   "cell_type": "code",
   "execution_count": 12,
   "id": "1a9a1cd5",
   "metadata": {},
   "outputs": [
    {
     "name": "stdout",
     "output_type": "stream",
     "text": [
      "h index is 0 \n",
      "i index is 1 \n",
      "n index is 2 \n",
      "d index is 3 \n",
      "i index is 4 \n",
      "  index is 5 \n",
      "i index is 6 \n",
      "s index is 7 \n",
      "  index is 8 \n",
      "t index is 9 \n",
      "h index is 10 \n",
      "e index is 11 \n",
      "  index is 12 \n",
      "p index is 13 \n",
      "a index is 14 \n",
      "r index is 15 \n",
      "t index is 16 \n",
      "  index is 17 \n",
      "o index is 18 \n",
      "f index is 19 \n",
      "  index is 20 \n",
      "o index is 21 \n",
      "u index is 22 \n",
      "r index is 23 \n",
      "  index is 24 \n",
      "l index is 25 \n",
      "i index is 26 \n",
      "f index is 27 \n",
      "e index is 28 \n"
     ]
    }
   ],
   "source": [
    "hin=\"hindi is the part of our life\"\n",
    "num=len(hin)\n",
    "for i in range(0,num):\n",
    "    print(\"{} index is {} \".format(hin[i],i))"
   ]
  },
  {
   "cell_type": "code",
   "execution_count": 14,
   "id": "30531b08",
   "metadata": {},
   "outputs": [
    {
     "name": "stdout",
     "output_type": "stream",
     "text": [
      "enter the stringhfjwejfgeb\n",
      "h 0\n",
      "f 1\n",
      "j 2\n",
      "w 3\n",
      "e 4\n",
      "j 5\n",
      "f 6\n",
      "g 7\n",
      "e 8\n",
      "b 9\n"
     ]
    }
   ],
   "source": [
    "string=input(\"enter the string\")\n",
    "num=len(string)\n",
    "for i in range(0,num):\n",
    "    print(string[i],i)"
   ]
  },
  {
   "cell_type": "code",
   "execution_count": 59,
   "id": "86d09f81",
   "metadata": {},
   "outputs": [
    {
     "name": "stdout",
     "output_type": "stream",
     "text": [
      "enter the string:hhhhh\n",
      "error occured: name 'num1' is not defined\n"
     ]
    }
   ],
   "source": [
    "try:\n",
    "    string=input(\"enter the string:\")\n",
    "    num=len(string)\n",
    "    for i in range(0,num1):\n",
    "        print(\"{} index is {}\".format(string[i],i))\n",
    "        \n",
    "except Exception as e:\n",
    "    print(\"error occured:\",e)\n"
   ]
  },
  {
   "cell_type": "code",
   "execution_count": 62,
   "id": "5f7c5c94",
   "metadata": {},
   "outputs": [],
   "source": [
    "def string():  # without arguments.\n",
    "    try:\n",
    "        string=input(\"enter the string:\")\n",
    "        num=len(string)\n",
    "        for i in range(0,num):\n",
    "            print(\"{} index is {}\".format(string[i],i))\n",
    "\n",
    "    except Exception as e:\n",
    "        print(\"error occured:\",e)"
   ]
  },
  {
   "cell_type": "code",
   "execution_count": 63,
   "id": "093f0a7b",
   "metadata": {},
   "outputs": [
    {
     "name": "stdout",
     "output_type": "stream",
     "text": [
      "enter the string:hi\n",
      "h index is 0\n",
      "i index is 1\n"
     ]
    }
   ],
   "source": [
    "string()"
   ]
  },
  {
   "cell_type": "code",
   "execution_count": 65,
   "id": "506c0d18",
   "metadata": {},
   "outputs": [
    {
     "name": "stdout",
     "output_type": "stream",
     "text": [
      "i index is 0\n",
      "n index is 1\n",
      "d index is 2\n",
      "i index is 3\n",
      "a index is 4\n"
     ]
    }
   ],
   "source": [
    "def string(string):  # with arguments.\n",
    "    try:\n",
    "        num=len(string)\n",
    "        for i in range(0,num):\n",
    "            print(\"{} index is {}\".format(string[i],i))\n",
    "\n",
    "    except Exception as e:\n",
    "        print(\"error occured:\",e)\n",
    "        \n",
    "string('india')"
   ]
  },
  {
   "cell_type": "code",
   "execution_count": 79,
   "id": "665d5df2",
   "metadata": {},
   "outputs": [
    {
     "name": "stdout",
     "output_type": "stream",
     "text": [
      "p pos index is 0 and neg imdex is -6\n",
      "y pos index is 1 and neg imdex is -5\n",
      "t pos index is 2 and neg imdex is -4\n",
      "h pos index is 3 and neg imdex is -3\n",
      "o pos index is 4 and neg imdex is -2\n",
      "n pos index is 5 and neg imdex is -1\n"
     ]
    }
   ],
   "source": [
    "string='python'\n",
    "for i in range(0,len(string)):\n",
    "    print(\"{} pos index is {} and neg imdex is {}\".format(string[i],i,i-len(string)))"
   ]
  },
  {
   "cell_type": "code",
   "execution_count": null,
   "id": "060cdbac",
   "metadata": {},
   "outputs": [],
   "source": [
    "## Membership operator... in"
   ]
  },
  {
   "cell_type": "code",
   "execution_count": null,
   "id": "04cc9b43",
   "metadata": {},
   "outputs": [],
   "source": [
    "s='python'\n",
    "\n",
    "'p' in s------->T\n",
    "'y'in s------->T\n",
    "\n"
   ]
  },
  {
   "cell_type": "code",
   "execution_count": 82,
   "id": "f5dd051c",
   "metadata": {},
   "outputs": [
    {
     "name": "stdout",
     "output_type": "stream",
     "text": [
      "p y t h o n "
     ]
    }
   ],
   "source": [
    "for i in s:\n",
    "    print(i,end=' ')\n",
    "    \n",
    "    # in operator will take direct letter"
   ]
  },
  {
   "cell_type": "code",
   "execution_count": null,
   "id": "8c0e98c5",
   "metadata": {},
   "outputs": [],
   "source": [
    "# range------> number---->index\n",
    "# in-----> direct"
   ]
  },
  {
   "cell_type": "code",
   "execution_count": 83,
   "id": "8a16b8b8",
   "metadata": {},
   "outputs": [
    {
     "name": "stdout",
     "output_type": "stream",
     "text": [
      "p y t h o n "
     ]
    }
   ],
   "source": [
    "for i in range(0,len(s)):\n",
    "    print(s[i],end=' ')"
   ]
  },
  {
   "cell_type": "code",
   "execution_count": 89,
   "id": "2e407b1c",
   "metadata": {},
   "outputs": [
    {
     "name": "stdout",
     "output_type": "stream",
     "text": [
      "A\n",
      "p\n",
      "p\n",
      "l\n",
      "e\n"
     ]
    }
   ],
   "source": [
    "a='Apple'\n",
    "i=0\n",
    "while i<len(a):\n",
    "    print(a[i])\n",
    "    i+=1"
   ]
  },
  {
   "cell_type": "code",
   "execution_count": 91,
   "id": "8d1f5a04",
   "metadata": {},
   "outputs": [
    {
     "name": "stdout",
     "output_type": "stream",
     "text": [
      "enter the string here:gugchjsresdfxcvbn\n",
      "u\n",
      "e\n"
     ]
    }
   ],
   "source": [
    "# enter a string\n",
    "# and print the vowels in a string\n",
    "\n",
    "# my_string='hai how are you'\n",
    "\n",
    "A=input(\"enter the string here:\")\n",
    "owels=\"a,e,i,o,u\"\n",
    "for i in A:\n",
    "    if i in owels:\n",
    "        print(i)\n"
   ]
  },
  {
   "cell_type": "code",
   "execution_count": 12,
   "id": "df4a49a3",
   "metadata": {},
   "outputs": [
    {
     "name": "stdout",
     "output_type": "stream",
     "text": [
      "a i o a "
     ]
    }
   ],
   "source": [
    "my_string='cat is not rat'\n",
    "vov=\"a,e,i,o,u\"\n",
    "for i in my_string:\n",
    "    if i in vov:\n",
    "        print(i,end=\" \")"
   ]
  },
  {
   "cell_type": "code",
   "execution_count": 3,
   "id": "708dd0d1",
   "metadata": {},
   "outputs": [
    {
     "name": "stdout",
     "output_type": "stream",
     "text": [
      "enert the stringbchsvjhgqujbxa\n",
      "u a "
     ]
    }
   ],
   "source": [
    "string=input(\"enert the string\")\n",
    "v=\"aeiou\"\n",
    "for i in string:\n",
    "    if i in v:\n",
    "        print(i,end=' ')"
   ]
  },
  {
   "cell_type": "code",
   "execution_count": 15,
   "id": "3ffd9a99",
   "metadata": {},
   "outputs": [
    {
     "name": "stdout",
     "output_type": "stream",
     "text": [
      "enter the string:uytrsedfxc\n",
      "ue "
     ]
    }
   ],
   "source": [
    "# i want to append string into string2\n",
    "# string letters will go into string1\n",
    "\n",
    "my_string=input(\"enter the string:\")\n",
    "string2=''\n",
    "for i in my_string:\n",
    "    if i in 'aeiou':\n",
    "        if i not in string2:\n",
    "            string2=string2+i\n",
    "            \n",
    "print(string2,end=\" \")            \n"
   ]
  },
  {
   "cell_type": "markdown",
   "id": "3bef26f5",
   "metadata": {},
   "source": [
    "string2\n"
   ]
  },
  {
   "cell_type": "markdown",
   "id": "84725474",
   "metadata": {},
   "source": [
    "$ slice $"
   ]
  },
  {
   "cell_type": "code",
   "execution_count": 7,
   "id": "b8fa8e64",
   "metadata": {},
   "outputs": [],
   "source": [
    "stri=\"i love python\"\n"
   ]
  },
  {
   "cell_type": "code",
   "execution_count": 8,
   "id": "5d96e5c3",
   "metadata": {},
   "outputs": [
    {
     "data": {
      "text/plain": [
       "13"
      ]
     },
     "execution_count": 8,
     "metadata": {},
     "output_type": "execute_result"
    }
   ],
   "source": [
    "len(stri)"
   ]
  },
  {
   "cell_type": "code",
   "execution_count": 9,
   "id": "ae7e3073",
   "metadata": {},
   "outputs": [
    {
     "name": "stdout",
     "output_type": "stream",
     "text": [
      "2 3 4 5 6 7 8 9 "
     ]
    }
   ],
   "source": [
    "for i in range(2,10):\n",
    "    print(i,end=\" \")  # start =2,, "
   ]
  },
  {
   "cell_type": "code",
   "execution_count": 12,
   "id": "a2be343c",
   "metadata": {},
   "outputs": [
    {
     "data": {
      "text/plain": [
       "'love pyt'"
      ]
     },
     "execution_count": 12,
     "metadata": {},
     "output_type": "execute_result"
    }
   ],
   "source": [
    "string='i love python'\n",
    "string[2:10]"
   ]
  },
  {
   "cell_type": "code",
   "execution_count": 15,
   "id": "b8f5b1e2",
   "metadata": {},
   "outputs": [
    {
     "data": {
      "text/plain": [
       "'nohtyp evol i'"
      ]
     },
     "execution_count": 15,
     "metadata": {},
     "output_type": "execute_result"
    }
   ],
   "source": [
    "string[::-1]"
   ]
  },
  {
   "cell_type": "code",
   "execution_count": 20,
   "id": "ce9bb21f",
   "metadata": {},
   "outputs": [
    {
     "name": "stdout",
     "output_type": "stream",
     "text": [
      "2 4 6 8 10 12 "
     ]
    }
   ],
   "source": [
    "for i in range(2,13,2):\n",
    "    print(i,end=' ')\n",
    "    \n",
    "# start=2.    stop=end-1=13-1=12\n",
    "# step=2.      direction=the step +2------>+ve"
   ]
  },
  {
   "cell_type": "code",
   "execution_count": null,
   "id": "b5b984af",
   "metadata": {},
   "outputs": [],
   "source": [
    "-13 -12 -11 -10 -9 -8 -7 -6 -5 -4 -3 -2 -1\n",
    "i        l    o  v  e     p  y  t  h  o   n \n",
    "0    1   2    3  4  5  6  7  8  9  10 11  12"
   ]
  },
  {
   "cell_type": "code",
   "execution_count": 17,
   "id": "fc0452ae",
   "metadata": {},
   "outputs": [
    {
     "data": {
      "text/plain": [
       "'lv yhn'"
      ]
     },
     "execution_count": 17,
     "metadata": {},
     "output_type": "execute_result"
    }
   ],
   "source": [
    "string='i love python'\n",
    "string[2:13:2]"
   ]
  },
  {
   "cell_type": "code",
   "execution_count": 23,
   "id": "105727df",
   "metadata": {},
   "outputs": [
    {
     "data": {
      "text/plain": [
       "''"
      ]
     },
     "execution_count": 23,
     "metadata": {},
     "output_type": "execute_result"
    }
   ],
   "source": [
    "string[2:-13:2]\n",
    "string[2:-13:-2]\n",
    "string[-2:-13:2]\n",
    "string[-2:-13:-2]\n",
    "string[-2:13:2]\n",
    "string[-2:13:-2]"
   ]
  },
  {
   "cell_type": "code",
   "execution_count": 24,
   "id": "24ea8954",
   "metadata": {},
   "outputs": [
    {
     "data": {
      "text/plain": [
       "''"
      ]
     },
     "execution_count": 24,
     "metadata": {},
     "output_type": "execute_result"
    }
   ],
   "source": [
    "string[-2:13:-2]"
   ]
  },
  {
   "cell_type": "code",
   "execution_count": 25,
   "id": "581dd496",
   "metadata": {},
   "outputs": [
    {
     "data": {
      "text/plain": [
       "'o'"
      ]
     },
     "execution_count": 25,
     "metadata": {},
     "output_type": "execute_result"
    }
   ],
   "source": [
    "string[-2:13:2]"
   ]
  },
  {
   "cell_type": "code",
   "execution_count": 26,
   "id": "cc86020a",
   "metadata": {},
   "outputs": [
    {
     "data": {
      "text/plain": [
       "'otpeo '"
      ]
     },
     "execution_count": 26,
     "metadata": {},
     "output_type": "execute_result"
    }
   ],
   "source": [
    "string[-2:-13:-2]\n"
   ]
  },
  {
   "cell_type": "code",
   "execution_count": 27,
   "id": "478f0f57",
   "metadata": {},
   "outputs": [
    {
     "data": {
      "text/plain": [
       "''"
      ]
     },
     "execution_count": 27,
     "metadata": {},
     "output_type": "execute_result"
    }
   ],
   "source": [
    "string[-2:-13:2]"
   ]
  },
  {
   "cell_type": "code",
   "execution_count": 28,
   "id": "57e15c5f",
   "metadata": {},
   "outputs": [
    {
     "data": {
      "text/plain": [
       "'l'"
      ]
     },
     "execution_count": 28,
     "metadata": {},
     "output_type": "execute_result"
    }
   ],
   "source": [
    "string[2:-13:-2]"
   ]
  },
  {
   "cell_type": "code",
   "execution_count": 29,
   "id": "6b414ccf",
   "metadata": {},
   "outputs": [
    {
     "data": {
      "text/plain": [
       "['__add__',\n",
       " '__class__',\n",
       " '__contains__',\n",
       " '__delattr__',\n",
       " '__dir__',\n",
       " '__doc__',\n",
       " '__eq__',\n",
       " '__format__',\n",
       " '__ge__',\n",
       " '__getattribute__',\n",
       " '__getitem__',\n",
       " '__getnewargs__',\n",
       " '__gt__',\n",
       " '__hash__',\n",
       " '__init__',\n",
       " '__init_subclass__',\n",
       " '__iter__',\n",
       " '__le__',\n",
       " '__len__',\n",
       " '__lt__',\n",
       " '__mod__',\n",
       " '__mul__',\n",
       " '__ne__',\n",
       " '__new__',\n",
       " '__reduce__',\n",
       " '__reduce_ex__',\n",
       " '__repr__',\n",
       " '__rmod__',\n",
       " '__rmul__',\n",
       " '__setattr__',\n",
       " '__sizeof__',\n",
       " '__str__',\n",
       " '__subclasshook__',\n",
       " 'capitalize',\n",
       " 'casefold',\n",
       " 'center',\n",
       " 'count',\n",
       " 'encode',\n",
       " 'endswith',\n",
       " 'expandtabs',\n",
       " 'find',\n",
       " 'format',\n",
       " 'format_map',\n",
       " 'index',\n",
       " 'isalnum',\n",
       " 'isalpha',\n",
       " 'isascii',\n",
       " 'isdecimal',\n",
       " 'isdigit',\n",
       " 'isidentifier',\n",
       " 'islower',\n",
       " 'isnumeric',\n",
       " 'isprintable',\n",
       " 'isspace',\n",
       " 'istitle',\n",
       " 'isupper',\n",
       " 'join',\n",
       " 'ljust',\n",
       " 'lower',\n",
       " 'lstrip',\n",
       " 'maketrans',\n",
       " 'partition',\n",
       " 'removeprefix',\n",
       " 'removesuffix',\n",
       " 'replace',\n",
       " 'rfind',\n",
       " 'rindex',\n",
       " 'rjust',\n",
       " 'rpartition',\n",
       " 'rsplit',\n",
       " 'rstrip',\n",
       " 'split',\n",
       " 'splitlines',\n",
       " 'startswith',\n",
       " 'strip',\n",
       " 'swapcase',\n",
       " 'title',\n",
       " 'translate',\n",
       " 'upper',\n",
       " 'zfill']"
      ]
     },
     "execution_count": 29,
     "metadata": {},
     "output_type": "execute_result"
    }
   ],
   "source": [
    "string1=\"python\"\n",
    "dir(string1)"
   ]
  },
  {
   "cell_type": "markdown",
   "id": "2b9f8dd1",
   "metadata": {},
   "source": [
    "$upper$"
   ]
  },
  {
   "cell_type": "code",
   "execution_count": 33,
   "id": "e6938b28",
   "metadata": {},
   "outputs": [
    {
     "data": {
      "text/plain": [
       "'I LOVE PYTHON'"
      ]
     },
     "execution_count": 33,
     "metadata": {},
     "output_type": "execute_result"
    }
   ],
   "source": [
    "string='i love python'\n",
    "string.upper()\n",
    "\n",
    "# upper method"
   ]
  },
  {
   "cell_type": "code",
   "execution_count": 35,
   "id": "41cc89d8",
   "metadata": {},
   "outputs": [
    {
     "data": {
      "text/plain": [
       "'I LOVE PYTHON'"
      ]
     },
     "execution_count": 35,
     "metadata": {},
     "output_type": "execute_result"
    }
   ],
   "source": [
    "string_upper=string.upper()\n",
    "string_upper"
   ]
  },
  {
   "cell_type": "code",
   "execution_count": 37,
   "id": "a5b971b1",
   "metadata": {},
   "outputs": [
    {
     "name": "stdout",
     "output_type": "stream",
     "text": [
      "original case: i love python\n",
      "upper case: I LOVE PYTHON\n",
      "lower case: i love python\n"
     ]
    }
   ],
   "source": [
    "string_lower=string_upper.lower()\n",
    "print(\"original case:\",string)\n",
    "print(\"upper case:\",string_upper)\n",
    "print(\"lower case:\",string_lower)"
   ]
  },
  {
   "cell_type": "markdown",
   "id": "e8a87d61",
   "metadata": {},
   "source": [
    "$capatalize$"
   ]
  },
  {
   "cell_type": "code",
   "execution_count": 40,
   "id": "30293d52",
   "metadata": {},
   "outputs": [
    {
     "name": "stdout",
     "output_type": "stream",
     "text": [
      "original case: i love python\n",
      "upper case: I LOVE PYTHON\n",
      "lower case: i love python\n",
      "capitalize: I love python\n"
     ]
    }
   ],
   "source": [
    "string_capatalize=string_lower.capitalize()\n",
    "print(\"original case:\",string)\n",
    "print(\"upper case:\",string_upper)\n",
    "print(\"lower case:\",string_lower)\n",
    "print(\"capitalize:\",string_capatalize)"
   ]
  },
  {
   "cell_type": "markdown",
   "id": "a3a330c6",
   "metadata": {},
   "source": [
    "$case fold$"
   ]
  },
  {
   "cell_type": "code",
   "execution_count": 42,
   "id": "a9cb77d3",
   "metadata": {},
   "outputs": [
    {
     "name": "stdout",
     "output_type": "stream",
     "text": [
      "how are\n",
      "how are\n"
     ]
    }
   ],
   "source": [
    "text='HoW Are'\n",
    "# case fold will convert all the string to lowwer case ....\n",
    "# lower method is same as case fold\n",
    "\n",
    "text_casefold=text.casefold()\n",
    "text_lower=text.lower()\n",
    "print(text_casefold)\n",
    "print(text_lower)"
   ]
  },
  {
   "cell_type": "markdown",
   "id": "dc59895d",
   "metadata": {},
   "source": [
    "$Center$"
   ]
  },
  {
   "cell_type": "code",
   "execution_count": 48,
   "id": "877676da",
   "metadata": {},
   "outputs": [
    {
     "name": "stdout",
     "output_type": "stream",
     "text": [
      "***python***\n"
     ]
    }
   ],
   "source": [
    "word='python'\n",
    "# i want to create a 12 letters and the word should be in center \n",
    "# and surrounded by some special chr*\n",
    "new_word=word.center(12,'*')\n",
    "print(new_word)"
   ]
  },
  {
   "cell_type": "markdown",
   "id": "878ddae7",
   "metadata": {},
   "source": [
    "$index$-$count$-$find$"
   ]
  },
  {
   "cell_type": "code",
   "execution_count": 55,
   "id": "92fa1680",
   "metadata": {},
   "outputs": [
    {
     "name": "stdout",
     "output_type": "stream",
     "text": [
      "p index is 0 \n",
      "y index is 1 \n",
      "t index is 2 \n",
      "h index is 3 \n",
      "o index is 4 \n",
      "n index is 5 \n"
     ]
    }
   ],
   "source": [
    "text1='python'\n",
    "# what is the inder of \"o\" is 4,-2\n",
    "for i in text1:\n",
    "    print(\"{} index is {} \".format(i,text1.index(i)))\n"
   ]
  },
  {
   "cell_type": "code",
   "execution_count": 57,
   "id": "949bbd4c",
   "metadata": {},
   "outputs": [
    {
     "name": "stdout",
     "output_type": "stream",
     "text": [
      "p index is 0 \n",
      "y index is 1 \n",
      "t index is 2 \n",
      "h index is 3 \n",
      "o index is 4 \n",
      "n index is 5 \n"
     ]
    }
   ],
   "source": [
    "for i in range(len(text1)):\n",
    "    print(\"{} index is {} \".format(text1[i],i))\n",
    "    "
   ]
  },
  {
   "cell_type": "code",
   "execution_count": 61,
   "id": "66bc4657",
   "metadata": {},
   "outputs": [
    {
     "name": "stdout",
     "output_type": "stream",
     "text": [
      "7\n",
      "7\n"
     ]
    }
   ],
   "source": [
    "sent1='i like python'\n",
    "sent1.index('python')\n",
    "print(sent1.index('python'))\n",
    "print(sent1.index('p'))"
   ]
  },
  {
   "cell_type": "code",
   "execution_count": 63,
   "id": "cc5d77a2",
   "metadata": {},
   "outputs": [
    {
     "data": {
      "text/plain": [
       "0"
      ]
     },
     "execution_count": 63,
     "metadata": {},
     "output_type": "execute_result"
    }
   ],
   "source": [
    "sent2='ola ola ola'\n",
    "sent2.index('ola')\n",
    "\n",
    "\n",
    "# ola is a substring repaeting at 0,4,7\n",
    "# but index method will provide \n",
    "# only first occurance\n"
   ]
  },
  {
   "cell_type": "code",
   "execution_count": 81,
   "id": "a88c7e95",
   "metadata": {},
   "outputs": [
    {
     "name": "stdout",
     "output_type": "stream",
     "text": [
      "4\n",
      "4\n"
     ]
    }
   ],
   "source": [
    "sent3='ala ola ola'\n",
    "print(sent3.index('ola'))\n",
    "print(sent3.index('ola'))"
   ]
  },
  {
   "cell_type": "markdown",
   "id": "0b7dd051",
   "metadata": {},
   "source": [
    " $count$"
   ]
  },
  {
   "cell_type": "code",
   "execution_count": 72,
   "id": "7211be8a",
   "metadata": {},
   "outputs": [
    {
     "data": {
      "text/plain": [
       "2"
      ]
     },
     "execution_count": 72,
     "metadata": {},
     "output_type": "execute_result"
    }
   ],
   "source": [
    "str1=\"happy\"\n",
    "str1.count('p')"
   ]
  },
  {
   "cell_type": "code",
   "execution_count": 74,
   "id": "8557fdbb",
   "metadata": {},
   "outputs": [
    {
     "data": {
      "text/plain": [
       "2"
      ]
     },
     "execution_count": 74,
     "metadata": {},
     "output_type": "execute_result"
    }
   ],
   "source": [
    "sent2=\"ala olaola\"\n",
    "sent2.count('ola')"
   ]
  },
  {
   "cell_type": "markdown",
   "id": "5b21ad0d",
   "metadata": {},
   "source": [
    "$Mutable$ $Imutalbe$"
   ]
  },
  {
   "cell_type": "code",
   "execution_count": 83,
   "id": "b46dea1e",
   "metadata": {},
   "outputs": [
    {
     "data": {
      "text/plain": [
       "2"
      ]
     },
     "execution_count": 83,
     "metadata": {},
     "output_type": "execute_result"
    }
   ],
   "source": [
    "string='welcome'\n",
    "# welcome replace 'l'------> 'L'\n",
    "\n",
    "string.index('l')"
   ]
  },
  {
   "cell_type": "code",
   "execution_count": 86,
   "id": "8f1cd988",
   "metadata": {},
   "outputs": [
    {
     "ename": "TypeError",
     "evalue": "'str' object does not support item assignment",
     "output_type": "error",
     "traceback": [
      "\u001b[0;31m---------------------------------------------------------------------------\u001b[0m",
      "\u001b[0;31mTypeError\u001b[0m                                 Traceback (most recent call last)",
      "Input \u001b[0;32mIn [86]\u001b[0m, in \u001b[0;36m<cell line: 1>\u001b[0;34m()\u001b[0m\n\u001b[0;32m----> 1\u001b[0m string[\u001b[38;5;241m2\u001b[39m]\u001b[38;5;241m=\u001b[39m\u001b[38;5;124m'\u001b[39m\u001b[38;5;124mL\u001b[39m\u001b[38;5;124m'\u001b[39m\n",
      "\u001b[0;31mTypeError\u001b[0m: 'str' object does not support item assignment"
     ]
    }
   ],
   "source": [
    "string[2]='L'\n",
    "\n",
    "# string are immutable\n",
    "# in strings we can not change the value of by using index"
   ]
  },
  {
   "cell_type": "code",
   "execution_count": 92,
   "id": "7ed07f3c",
   "metadata": {},
   "outputs": [
    {
     "name": "stdout",
     "output_type": "stream",
     "text": [
      "weLcome\n"
     ]
    }
   ],
   "source": [
    "s1=string[:2]\n",
    "s2=string[3:]\n",
    "new_str=s1+ 'L'+s2\n",
    "print(new_str)"
   ]
  },
  {
   "cell_type": "markdown",
   "id": "424d27f0",
   "metadata": {},
   "source": [
    "$replace$"
   ]
  },
  {
   "cell_type": "code",
   "execution_count": 94,
   "id": "30962a34",
   "metadata": {},
   "outputs": [
    {
     "data": {
      "text/plain": [
       "'weLcome'"
      ]
     },
     "execution_count": 94,
     "metadata": {},
     "output_type": "execute_result"
    }
   ],
   "source": [
    "str1='welcome'\n",
    "str1.replace('l','L')"
   ]
  },
  {
   "cell_type": "code",
   "execution_count": null,
   "id": "7c33fcc2",
   "metadata": {},
   "outputs": [],
   "source": []
  },
  {
   "cell_type": "code",
   "execution_count": 17,
   "id": "474f4015",
   "metadata": {},
   "outputs": [],
   "source": [
    "fruits = [4, 32, 64, 32, 16, 32]\n",
    "x = fruits.index(32)\n"
   ]
  },
  {
   "cell_type": "code",
   "execution_count": 18,
   "id": "d5ae11e0",
   "metadata": {},
   "outputs": [
    {
     "data": {
      "text/plain": [
       "1"
      ]
     },
     "execution_count": 18,
     "metadata": {},
     "output_type": "execute_result"
    }
   ],
   "source": [
    "x"
   ]
  },
  {
   "cell_type": "code",
   "execution_count": 19,
   "id": "7bd23087",
   "metadata": {},
   "outputs": [
    {
     "name": "stdout",
     "output_type": "stream",
     "text": [
      "z\n"
     ]
    }
   ],
   "source": [
    "list1 = ['xyz', 'z', 'Pickle']\n",
    "print (max(list1))\n"
   ]
  },
  {
   "cell_type": "code",
   "execution_count": 20,
   "id": "5c428850",
   "metadata": {},
   "outputs": [
    {
     "name": "stdout",
     "output_type": "stream",
     "text": [
      "[30, 40, 50]\n",
      "[10, 20, 30, 40]\n",
      "[40, 50, 60, 70, 80]\n"
     ]
    }
   ],
   "source": [
    "aList = [10, 20, 30, 40, 50, 60, 70, 80]\n",
    "print(aList[2:5])\n",
    "print(aList[:4])\n",
    "print(aList[3:])"
   ]
  },
  {
   "cell_type": "code",
   "execution_count": 21,
   "id": "249b24f1",
   "metadata": {},
   "outputs": [
    {
     "name": "stdout",
     "output_type": "stream",
     "text": [
      "[5, 9, 0, 8]\n"
     ]
    }
   ],
   "source": [
    "list1=[8,0,9,5]\n",
    "print(list1[::-1])"
   ]
  },
  {
   "cell_type": "code",
   "execution_count": 23,
   "id": "a998910a",
   "metadata": {},
   "outputs": [
    {
     "ename": "NameError",
     "evalue": "name 'list_name' is not defined",
     "output_type": "error",
     "traceback": [
      "\u001b[0;31m---------------------------------------------------------------------------\u001b[0m",
      "\u001b[0;31mNameError\u001b[0m                                 Traceback (most recent call last)",
      "Input \u001b[0;32mIn [23]\u001b[0m, in \u001b[0;36m<cell line: 1>\u001b[0;34m()\u001b[0m\n\u001b[0;32m----> 1\u001b[0m \u001b[38;5;28mprint\u001b[39m(\u001b[43mlist_name\u001b[49m\u001b[38;5;241m.\u001b[39msort())\n\u001b[1;32m      2\u001b[0m \u001b[38;5;28mprint\u001b[39m(\u001b[38;5;28mmax\u001b[39m(list_name))\n\u001b[1;32m      3\u001b[0m \u001b[38;5;28mprint\u001b[39m(list_name\u001b[38;5;241m.\u001b[39mreverse())\n",
      "\u001b[0;31mNameError\u001b[0m: name 'list_name' is not defined"
     ]
    }
   ],
   "source": [
    "print(list_name.sort())\n",
    "print(max(list_name))\n",
    "print(list_name.reverse())\n",
    "print(list_name[-1])"
   ]
  },
  {
   "cell_type": "code",
   "execution_count": 24,
   "id": "6a0bdf02",
   "metadata": {},
   "outputs": [
    {
     "name": "stdout",
     "output_type": "stream",
     "text": [
      "10\n"
     ]
    }
   ],
   "source": [
    "l = [None] * 10\n",
    "print(len(l))"
   ]
  },
  {
   "cell_type": "code",
   "execution_count": 25,
   "id": "35af3212",
   "metadata": {},
   "outputs": [
    {
     "name": "stdout",
     "output_type": "stream",
     "text": [
      "[3, 2, 5, 3, 6]\n"
     ]
    }
   ],
   "source": [
    "list1=[3,2,5,7,3,6]\n",
    "list1.pop(3)\n",
    "print(list1)"
   ]
  },
  {
   "cell_type": "code",
   "execution_count": 30,
   "id": "acdc0e6d",
   "metadata": {},
   "outputs": [
    {
     "name": "stdout",
     "output_type": "stream",
     "text": [
      "[10, 20, 30, 40, 50, 60, 70, 80]\n"
     ]
    }
   ],
   "source": [
    "aList = [10, 20, 30, 40, 50, 60, 70, 80]\n",
    "\n",
    "print(aList)"
   ]
  },
  {
   "cell_type": "code",
   "execution_count": 31,
   "id": "95bab2d7",
   "metadata": {},
   "outputs": [
    {
     "name": "stdout",
     "output_type": "stream",
     "text": [
      "['Hello Dear', 'Hello Bye', 'Good Dear', 'Good Bye']\n"
     ]
    }
   ],
   "source": [
    "resList = [x+y for x in ['Hello ', 'Good '] for y in ['Dear', 'Bye']]\n",
    "print(resList)"
   ]
  },
  {
   "cell_type": "code",
   "execution_count": 33,
   "id": "dce04372",
   "metadata": {},
   "outputs": [],
   "source": [
    "list1=[]"
   ]
  },
  {
   "cell_type": "code",
   "execution_count": 34,
   "id": "71415f55",
   "metadata": {},
   "outputs": [],
   "source": [
    "list1=[]*3"
   ]
  },
  {
   "cell_type": "code",
   "execution_count": 35,
   "id": "7a11bd6a",
   "metadata": {},
   "outputs": [],
   "source": [
    "list1=[2,8,7]"
   ]
  },
  {
   "cell_type": "code",
   "execution_count": null,
   "id": "219cf37f",
   "metadata": {},
   "outputs": [],
   "source": []
  }
 ],
 "metadata": {
  "kernelspec": {
   "display_name": "Python 3 (ipykernel)",
   "language": "python",
   "name": "python3"
  },
  "language_info": {
   "codemirror_mode": {
    "name": "ipython",
    "version": 3
   },
   "file_extension": ".py",
   "mimetype": "text/x-python",
   "name": "python",
   "nbconvert_exporter": "python",
   "pygments_lexer": "ipython3",
   "version": "3.9.12"
  }
 },
 "nbformat": 4,
 "nbformat_minor": 5
}
