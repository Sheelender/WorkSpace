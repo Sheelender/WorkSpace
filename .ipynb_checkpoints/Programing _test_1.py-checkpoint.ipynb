{
 "cells": [
  {
   "cell_type": "markdown",
   "id": "c03cd399",
   "metadata": {},
   "source": [
    "## Data type and conversion."
   ]
  },
  {
   "cell_type": "markdown",
   "id": "41c55aae",
   "metadata": {},
   "source": [
    " 1.\n",
    " Assume you have two lists a=[1,3,5,7] b=[2,4,6,8,10]  \n",
    "i.First task is to create a list which has elements from both the list & name it 'ab'  \n",
    " ii.Write a function which can reverse the elements of ab\n",
    "\n",
    " 2.\n",
    "Can a list be converted into a set? Explain with the help of an example.\n",
    " Extract 3000 from the given list\n",
    " Y=[1,3,4,6,7,9,10, 4+7j, \"Hello world\", [2000,3000,1000]]\n",
    "\n",
    "\n",
    " 3.\n",
    " Extract '09' from this:\n",
    " G=[\"2022-09-03\"]\n",
    "\n",
    "\n",
    "\n",
    " 4.Write a code to add a key to a dictionary\n",
    " Use the given dictionary and add a key (4:16)\n",
    " square_dictionary = {1:1, 2:4, 3:9}\n",
    "\n",
    "\n",
    "\n",
    "\n",
    "\n",
    "5.(i)Count the occurence of \"me\" in the given string below.\n",
    " (ii)Extract \"python@gmail\"\n",
    " str=\"Hello,please meet me at 4pm @coffeehouseccd or email me python@gmail.com\"\n",
    "\n",
    "\n",
    " 6.Write the program to multiply the two lists\n",
    " Lists to perform multiplication:\n",
    "\n",
    " num_list_1 = [1, 2, 3, 4]\n",
    "\n",
    " num_list_2 = [0, 5, 2, 1]\n",
    "\n",
    "\n",
    "\n",
    " 7.Write a program to perform following list operations on the list given below:\n",
    "a. Check the length of mix_list_1\n",
    "B. Concatenate the mix_list_1 and mix_list_2\n",
    "C. Repeat the mix_list_2 three times\n",
    "\n",
    " 8.Lists to perform operations:\n",
    "mix_list_1 = ['Learn', 24, 'Blue', False, -8]\n",
    "\n",
    "mix_list_2 = [4, 7, 'Summer']\n",
    "\n",
    "\n",
    "\n",
    "    \n",
    "    \n",
    "    \n",
    "    \n",
    "    \n",
    "\n",
    "\n",
    "9.Write a program to perform following set operations:\n",
    "\n",
    "a. Union\n",
    "b. Intersection\n",
    "c. Set of all the elements of set A that are not in set B\n",
    "d. Set of all the elements of set B that are not in set A\n",
    "e. Symmetric difference\n",
    "Use the below set:\n",
    "\n",
    "A = {1, 4, 5, 2, 6, 3, 40, 7, 87, 4, 71}\n",
    "\n",
    "B = {3, 42, 51, 6, 7, 8, 54, 5}\n",
    "\n",
    "\n",
    "\n",
    "\n",
    "10.Write the program to perform following manipulations:\n",
    "\n",
    "a. Add '7' to the given set\n",
    "b. Remove '3' from a given set\n",
    "c. Clear the set\n",
    "Use the below set for manipulation\n",
    "\n",
    "num_set = {1, 2, 3, 4, 5, 6}\n",
    "\n",
    "\n",
    "\n",
    "11.Replace the elements in the given tuple:\n",
    "\n",
    "a. Replace '2' with '3'\n",
    "b. Replace 'True' in first element with 'False'\n",
    "Use the tuple below:\n",
    "\n",
    "mix_tuple = (['a', 1, True], 2, 'Science', -5\n",
    "             \n",
    "             \n",
    "             \n",
    "             \n",
    "             \n",
    "\n",
    "\n",
    "12.Write a code to perform operations on tuple:\n",
    "\n",
    "a. Check the length of num_tuple\n",
    "b. Concatenate the num_tuple and mix_tuple\n",
    "c. Repeat the mix_tuple two times\n",
    "Tuples to perform operations:\n",
    "\n",
    "num_tuple = (4, 4, 8)\n",
    "\n",
    "mix_tuple = 'John', 5, -2\n",
    "             \n",
    "             \n",
    "             \n",
    "             \n",
    "13.Write a program to perform following built-in list operations:\n",
    "\n",
    "a. Min(list)\n",
    "b. Max(list)\n",
    "c. Sort the elements (use sort() and sorted() function)\n",
    "d. Create a copy of a list\n",
    "e. Remove element '5' from the list\n",
    "\n",
    "Use the below list\n",
    "\n",
    "num_list = [4, 5, 7, -2, 0, 1\n",
    "            \n",
    "            \n",
    "            \n",
    "            \n",
    "            \n",
    "            \n",
    "\n",
    "\n",
    "14.Write a code to retrieve elements from a list\n",
    "\n",
    "a. First element\n",
    "b. Second last element\n",
    "c. First three elements\n",
    "d. Slice the list from 1st index till the last index with an increment of an index by 2\n",
    "Use the below list:\n",
    "\n",
    "mix_list = ['Python', 1, 2, 3, 'Data', True]\n",
    "\n",
    "            \n",
    "            \n",
    "            \n",
    "            \n",
    "15.Create a string with a name 'country' and 'India' as its elements. Perform the following:\n",
    " a. Find its length\n",
    " b. extract its first two letters\n"
   ]
  },
  {
   "cell_type": "code",
   "execution_count": 4,
   "id": "b394eee8",
   "metadata": {},
   "outputs": [
    {
     "name": "stdout",
     "output_type": "stream",
     "text": [
      "Reverse List: [10, 8, 6, 4, 2, 7, 5, 3, 1]\n"
     ]
    }
   ],
   "source": [
    "#1. \n",
    "#Assume you have two lists a=[1,3,5,7] b=[2,4,6,8,10]  \n",
    "#i.First task is to create a list which has elements from both the list & name it 'ab'  \n",
    "#ii.Write a function which can reverse the elements of ab\n",
    "\n",
    "\n",
    "\n",
    "a=[1,3,5,7]\n",
    "b=[2,4,6,8,10] \n",
    "\n",
    "ab=a+b\n",
    "ab.reverse()  #for reverse the list.\n",
    "print(\"Reverse List:\",ab)\n",
    "\n"
   ]
  },
  {
   "cell_type": "code",
   "execution_count": 17,
   "id": "8841a2b4",
   "metadata": {},
   "outputs": [
    {
     "name": "stdout",
     "output_type": "stream",
     "text": [
      "3000\n",
      "<class 'list'>\n",
      "[2000, 1000]\n",
      "[1, 3, 4, 6, 7, 9, 10, (4+7j), 'Hello world', [2000, 1000]]\n"
     ]
    }
   ],
   "source": [
    "#2.\n",
    "#Can a list be converted into a set? Explain with the help of an example.\n",
    "#Extract 3000 from the given list\n",
    "#Y=[1,3,4,6,7,9,10, 4+7j, \"Hello world\", [2000,3000,1000]]\n",
    "\n",
    "\n",
    "y=[1,3,4,6,7,9,10, 4+7j, \"Hello world\", [2000,3000,1000]]\n",
    "x=y[9]\n",
    "print(x[1])\n",
    "print(type([9]))\n",
    "y[9].pop(1) #poping the element 1\n",
    "print(y[9])\n",
    "\n",
    "print(y)\n",
    "\n",
    "\n"
   ]
  },
  {
   "cell_type": "code",
   "execution_count": 46,
   "id": "5a637a38",
   "metadata": {},
   "outputs": [
    {
     "name": "stdout",
     "output_type": "stream",
     "text": [
      "<class 'list'>\n",
      "09\n"
     ]
    }
   ],
   "source": [
    "#3. Extract '09' from this: G=[\"2022-09-03\"]\n",
    "\n",
    "G=[\"2022-09-03\"]\n",
    "y=G[0]\n",
    "print(type(G))\n",
    "print(y[5:7])\n",
    "\n",
    "\n",
    "\n",
    "\n",
    "\n",
    "\n",
    "\n"
   ]
  },
  {
   "cell_type": "code",
   "execution_count": 45,
   "id": "00faed9b",
   "metadata": {},
   "outputs": [
    {
     "name": "stdout",
     "output_type": "stream",
     "text": [
      "{4: 16, 5: 25, 6: 36, 7: 49, 8: 64, 9: 81, 10: 100, 11: 121, 12: 144, 13: 169, 14: 196, 15: 225}\n"
     ]
    }
   ],
   "source": [
    "#.Write a code to add a key to a dictionary Use the given dictionary and add a key ------>\n",
    "#(4:16) square_dictionary = {1:1, 2:4, 3:9}\n",
    "\n",
    "\n",
    "d=dict()\n",
    "for x in range(4,16):\n",
    "    d[x]=x**2\n",
    "print(d)"
   ]
  },
  {
   "cell_type": "code",
   "execution_count": 28,
   "id": "163bb2b8",
   "metadata": {},
   "outputs": [
    {
     "name": "stdout",
     "output_type": "stream",
     "text": [
      "3\n",
      "python@gmail\n"
     ]
    }
   ],
   "source": [
    "##(i)Count the occurence of \"me\" in the given string below. \n",
    "#(ii)Extract \"python@gmail\" str=\"Hello,please meet me at 4pm @coffeehouseccd or email me python@gmail.com\"\n",
    "\n",
    "\n",
    "\n",
    "my_string =\"Hello,please meet me at 4pm @coffeehouseccd or email me python@gmail.com\"\n",
    "\n",
    "my_char = \"me\"\n",
    "\n",
    "print(my_string.count(my_char))\n",
    "print(my_string[56:68])\n"
   ]
  },
  {
   "cell_type": "code",
   "execution_count": 65,
   "id": "13854336",
   "metadata": {},
   "outputs": [
    {
     "name": "stdout",
     "output_type": "stream",
     "text": [
      "The multiply of List1 and List2 is: [0, 10, 6, 4]\n"
     ]
    }
   ],
   "source": [
    "#Write the program to multiply the two lists Lists to perform multiplication:\n",
    "#num_list_1 = [1, 2, 3, 4]\n",
    "#num_list_2 = [0, 5, 2, 1]\n",
    "\n",
    "\n",
    "\n",
    "\n",
    "num_list_1 = [1, 2, 3, 4]\n",
    "num_list_2 = [0, 5, 2, 1]\n",
    "multiply=[i1 * i2 for i1, i2 in zip(num_list_1,num_list_2)]\n",
    "print(\"The multiply of List1 and List2 is:\",multiply)\n",
    "\n",
    "\n",
    "\n",
    "\n",
    "\n"
   ]
  },
  {
   "cell_type": "code",
   "execution_count": 63,
   "id": "1f81df10",
   "metadata": {},
   "outputs": [
    {
     "name": "stdout",
     "output_type": "stream",
     "text": [
      "The length of list1 is: 3\n",
      "Concatenate of list1 and list2 is: ['edureka', 'python', 2019, 1, 2, 3, 4, 5]\n",
      "[1, 2, 3, 4, 5, 1, 2, 3, 4, 5, 1, 2, 3, 4, 5]\n"
     ]
    }
   ],
   "source": [
    "#Write a program to perform following list operations on the list given below: \n",
    "    #a. Check the length of mix_list_1 \n",
    "   # B. Concatenate the mix_list_1 and mix_list_2 \n",
    "    #C. Repeat the mix_list_2 three times\n",
    "    \n",
    "    \n",
    "list1 = ['edureka', 'python', 2019];\n",
    "list2 = [1, 2, 3, 4, 5 ];\n",
    "\n",
    "print(\"The length of list1 is:\",len(list1))\n",
    "\n",
    "list3=list1+list2\n",
    "print(\"Concatenate of list1 and list2 is:\",list3)\n",
    "\n",
    "print(list2*3)"
   ]
  },
  {
   "cell_type": "code",
   "execution_count": null,
   "id": "36e882a0",
   "metadata": {},
   "outputs": [],
   "source": [
    "# 8.Lists to perform operations: \n",
    "# mix_list_1 = ['Learn', 24, 'Blue', False, -8]\n",
    "# mix_list_2 = [4, 7, 'Summer']\n",
    "\n",
    "\n"
   ]
  },
  {
   "cell_type": "code",
   "execution_count": null,
   "id": "55ffc865",
   "metadata": {},
   "outputs": [],
   "source": [
    "#9.Write a program to perform following set operations:\n",
    "\n",
    "#a. Union \n",
    "#b. Intersection \n",
    "#c. Set of all the elements of set A that are not in set B \n",
    "#d. Set of all the elements of set B that are not in set A\n",
    "#e. Symmetric difference Use the below set:\n",
    "\n",
    "#A = {1, 4, 5, 2, 6, 3, 40, 7, 87, 4, 71}\n",
    "\n",
    "#B = {3, 42, 51, 6, 7, 8, 54, 5}"
   ]
  },
  {
   "cell_type": "code",
   "execution_count": 21,
   "id": "30245df4",
   "metadata": {},
   "outputs": [
    {
     "name": "stdout",
     "output_type": "stream",
     "text": [
      "The union of A and B is : {1, 2, 3, 4, 5, 6, 7, 40, 71, 8, 42, 51, 54, 87}\n",
      "The intersection of A and B is: {3, 5, 6, 7}\n",
      "all the elements of set A that are not in set B: {1, 2, 4, 71, 40, 87}\n",
      "all the elements of set B that are not in set A: {8, 42, 51, 54}\n",
      "Symmetric difference of set A and set B is: {1, 2, 4, 8, 40, 42, 71, 51, 54, 87}\n"
     ]
    }
   ],
   "source": [
    "A = {1, 4, 5, 2, 6, 3, 40, 7, 87, 4, 71}\n",
    "B = {3, 42, 51, 6, 7, 8, 54, 5}\n",
    "\n",
    "D=(A.union(B))\n",
    "print(\"The union of A and B is :\",D)\n",
    "\n",
    "E=(A.intersection(B))\n",
    "print(\"The intersection of A and B is:\",E)\n",
    "\n",
    "print(\"all the elements of set A that are not in set B:\",set(A)-set(B))\n",
    "print(\"all the elements of set B that are not in set A:\",set(B)-set(A))\n",
    "\n",
    "F=A.symmetric_difference(B)\n",
    "print(\"Symmetric difference of set A and set B is:\",F)\n"
   ]
  },
  {
   "cell_type": "code",
   "execution_count": null,
   "id": "b1d0f7d7",
   "metadata": {},
   "outputs": [],
   "source": [
    "#10.Write the program to perform following manipulations:\n",
    "#a. Add '7' to the given set \n",
    "#b. Remove '3' from a given set\n",
    "#c. Clear the set Use the below set for manipulation\n",
    "#num_set = {1, 2, 3, 4, 5, 6}"
   ]
  },
  {
   "cell_type": "code",
   "execution_count": 30,
   "id": "7c5b8770",
   "metadata": {},
   "outputs": [
    {
     "name": "stdout",
     "output_type": "stream",
     "text": [
      "Added 7 in the set : {1, 2, 3, 4, 5, 6, 7}\n",
      "Remove 3 in the set :  {1, 2, 4, 5, 6, 7}\n"
     ]
    }
   ],
   "source": [
    "num_set = {1, 2, 3, 4, 5, 6}\n",
    "num_set.add(7)\n",
    "print(\"Added 7 in the set :\",num_set)\n",
    "num_set.remove(3)\n",
    "print(\"Remove 3 in the set : \",num_set)\n",
    "num_set.clear()"
   ]
  },
  {
   "cell_type": "code",
   "execution_count": null,
   "id": "65381ebc",
   "metadata": {},
   "outputs": [],
   "source": [
    "#11.Replace the elements in the given tuple:\n",
    "#a. Replace '2' with '3' \n",
    "#b. Replace 'True' in first element with 'False' Use the tuple below:\n",
    "#mix_tuple = (['a', 1, True], 2, 'Science', -5)"
   ]
  },
  {
   "cell_type": "code",
   "execution_count": 47,
   "id": "6e2869af",
   "metadata": {},
   "outputs": [
    {
     "name": "stdout",
     "output_type": "stream",
     "text": [
      "[['a', 1, True], 2, 'Science', -5]\n",
      "[['a', 1, True], 3, 'Science', -5]\n",
      "Replaced 2 with 3\n",
      "[['a', 1, False], 3, 'Science', -5]\n",
      "Replaced True with False\n"
     ]
    }
   ],
   "source": [
    "mix_tuple = (['a', 1, True], 2, 'Science', -5)\n",
    "q=list(mix_tuple)\n",
    "print(q)\n",
    "q[1]=3\n",
    "print(q)\n",
    "print(\"Replaced 2 with 3\",)\n",
    "\n",
    "\n",
    "q[0][2]=False\n",
    "print(q)\n",
    "print(\"Replaced True with False\")"
   ]
  },
  {
   "cell_type": "code",
   "execution_count": null,
   "id": "d5294a85",
   "metadata": {},
   "outputs": [],
   "source": [
    "#12.Write a code to perform operations on tuple:\n",
    "#a. Check the length of num_tuple \n",
    "#b. Concatenate the num_tuple and mix_tuple \n",
    "#c. Repeat the mix_tuple two times Tuples to perform operations:\n",
    "#num_tuple = (4, 4, 8)\n",
    "#mix_tuple = 'John', 5, -2"
   ]
  },
  {
   "cell_type": "code",
   "execution_count": 60,
   "id": "8795fe62",
   "metadata": {},
   "outputs": [
    {
     "name": "stdout",
     "output_type": "stream",
     "text": [
      "The length of num_tuple is: 3\n",
      "The concatenate of both tuple is: (4, 4, 8, 'John', 5, -2)\n",
      "Repeat the mix_tuple two times Tuples to perform operations: ('John', 5, -2, 'John', 5, -2)\n"
     ]
    }
   ],
   "source": [
    "num_tuple = (4, 4, 8)\n",
    "mix_tuple = 'John', 5, -2\n",
    "print(\"The length of num_tuple is:\".format(num_tuple),len(num_tuple))\n",
    "concatenate=num_tuple+mix_tuple\n",
    "print(\"The concatenate of both tuple is:\",concatenate)\n",
    "print(\"Repeat the mix_tuple two times Tuples to perform operations:\",mix_tuple*2)"
   ]
  },
  {
   "cell_type": "code",
   "execution_count": null,
   "id": "4184b630",
   "metadata": {},
   "outputs": [],
   "source": [
    "#13.Write a program to perform following built-in list operations:\n",
    "#a. Min(list) \n",
    "#b. Max(list) \n",
    "#c. Sort the elements (use sort() and sorted() function)\n",
    "#d. Create a copy of a list \n",
    "#e. Remove element '5' from the list\n",
    "#Use the below list\n",
    "#num_list = [4, 5, 7, -2, 0, 1]"
   ]
  },
  {
   "cell_type": "code",
   "execution_count": 73,
   "id": "896c74ba",
   "metadata": {},
   "outputs": [
    {
     "name": "stdout",
     "output_type": "stream",
     "text": [
      "MIN: -2\n",
      "Max: 7\n",
      "sort: [-2, 0, 1, 4, 5, 7]\n",
      "Sorted: [-2, 0, 1, 4, 5, 7]\n",
      "Remove 5: [-2, 0, 1, 4, 7]\n"
     ]
    }
   ],
   "source": [
    "num_list = [4, 5, 7, -2, 0, 1]\n",
    "print(\"MIN:\",min(num_list))\n",
    "print(\"Max:\",max(num_list))\n",
    "num_list.sort()\n",
    "print(\"sort:\",num_list)\n",
    "print(\"Sorted:\",sorted(num_list))\n",
    "num_list.remove(5)\n",
    "print(\"Remove 5:\",num_list)"
   ]
  },
  {
   "cell_type": "code",
   "execution_count": null,
   "id": "889b7c11",
   "metadata": {},
   "outputs": [],
   "source": [
    "#14.Write a code to retrieve elements from a list\n",
    "#a. First element \n",
    "#b. Second last element \n",
    "#c. First three elements \n",
    "#d. Slice the list from 1st index till the last index with an increment of an index by 2 Use the below list:\n",
    "#mix_list = ['Python', 1, 2, 3, 'Data', True]"
   ]
  },
  {
   "cell_type": "code",
   "execution_count": null,
   "id": "d4562244",
   "metadata": {},
   "outputs": [],
   "source": [
    "mix_list = ['Python', 1, 2, 3, 'Data', True]"
   ]
  },
  {
   "cell_type": "code",
   "execution_count": null,
   "id": "680b00c1",
   "metadata": {},
   "outputs": [],
   "source": []
  }
 ],
 "metadata": {
  "kernelspec": {
   "display_name": "Python 3 (ipykernel)",
   "language": "python",
   "name": "python3"
  },
  "language_info": {
   "codemirror_mode": {
    "name": "ipython",
    "version": 3
   },
   "file_extension": ".py",
   "mimetype": "text/x-python",
   "name": "python",
   "nbconvert_exporter": "python",
   "pygments_lexer": "ipython3",
   "version": "3.9.12"
  }
 },
 "nbformat": 4,
 "nbformat_minor": 5
}
