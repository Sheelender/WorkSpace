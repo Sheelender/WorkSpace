{
 "cells": [
  {
   "cell_type": "code",
   "execution_count": 1,
   "id": "218b3240",
   "metadata": {},
   "outputs": [],
   "source": [
    "import numpy as np    # for array\n",
    "import pandas as pd   # for data_frame\n",
    "import matplotlib.pyplot as plt #visulization\n",
    "import seaborn as sns  # for visulization\n",
    "import random"
   ]
  },
  {
   "cell_type": "code",
   "execution_count": 2,
   "id": "3c2c470d",
   "metadata": {},
   "outputs": [],
   "source": [
    "#correlation\n",
    "#scattterplots"
   ]
  },
  {
   "cell_type": "code",
   "execution_count": 3,
   "id": "5f4b31f8",
   "metadata": {},
   "outputs": [],
   "source": [
    "data=pd.read_csv('/Users/sheelendersharma1/Desktop/data sciece/bank.csv',sep=';',header=None)"
   ]
  },
  {
   "cell_type": "code",
   "execution_count": 4,
   "id": "aab75e3c",
   "metadata": {},
   "outputs": [
    {
     "data": {
      "text/html": [
       "<div>\n",
       "<style scoped>\n",
       "    .dataframe tbody tr th:only-of-type {\n",
       "        vertical-align: middle;\n",
       "    }\n",
       "\n",
       "    .dataframe tbody tr th {\n",
       "        vertical-align: top;\n",
       "    }\n",
       "\n",
       "    .dataframe thead th {\n",
       "        text-align: right;\n",
       "    }\n",
       "</style>\n",
       "<table border=\"1\" class=\"dataframe\">\n",
       "  <thead>\n",
       "    <tr style=\"text-align: right;\">\n",
       "      <th></th>\n",
       "      <th>0</th>\n",
       "      <th>1</th>\n",
       "      <th>2</th>\n",
       "      <th>3</th>\n",
       "      <th>4</th>\n",
       "      <th>5</th>\n",
       "      <th>6</th>\n",
       "      <th>7</th>\n",
       "      <th>8</th>\n",
       "      <th>9</th>\n",
       "      <th>10</th>\n",
       "      <th>11</th>\n",
       "      <th>12</th>\n",
       "      <th>13</th>\n",
       "      <th>14</th>\n",
       "      <th>15</th>\n",
       "      <th>16</th>\n",
       "    </tr>\n",
       "  </thead>\n",
       "  <tbody>\n",
       "    <tr>\n",
       "      <th>0</th>\n",
       "      <td>age</td>\n",
       "      <td>job</td>\n",
       "      <td>marital</td>\n",
       "      <td>education</td>\n",
       "      <td>default</td>\n",
       "      <td>balance</td>\n",
       "      <td>housing</td>\n",
       "      <td>loan</td>\n",
       "      <td>contact</td>\n",
       "      <td>day</td>\n",
       "      <td>month</td>\n",
       "      <td>duration</td>\n",
       "      <td>campaign</td>\n",
       "      <td>pdays</td>\n",
       "      <td>previous</td>\n",
       "      <td>poutcome</td>\n",
       "      <td>y</td>\n",
       "    </tr>\n",
       "    <tr>\n",
       "      <th>1</th>\n",
       "      <td>30</td>\n",
       "      <td>unemployed</td>\n",
       "      <td>married</td>\n",
       "      <td>primary</td>\n",
       "      <td>no</td>\n",
       "      <td>1787</td>\n",
       "      <td>no</td>\n",
       "      <td>no</td>\n",
       "      <td>cellular</td>\n",
       "      <td>19</td>\n",
       "      <td>oct</td>\n",
       "      <td>79</td>\n",
       "      <td>1</td>\n",
       "      <td>-1</td>\n",
       "      <td>0</td>\n",
       "      <td>unknown</td>\n",
       "      <td>no</td>\n",
       "    </tr>\n",
       "    <tr>\n",
       "      <th>2</th>\n",
       "      <td>33</td>\n",
       "      <td>services</td>\n",
       "      <td>married</td>\n",
       "      <td>secondary</td>\n",
       "      <td>no</td>\n",
       "      <td>4789</td>\n",
       "      <td>yes</td>\n",
       "      <td>yes</td>\n",
       "      <td>cellular</td>\n",
       "      <td>11</td>\n",
       "      <td>may</td>\n",
       "      <td>220</td>\n",
       "      <td>1</td>\n",
       "      <td>339</td>\n",
       "      <td>4</td>\n",
       "      <td>failure</td>\n",
       "      <td>no</td>\n",
       "    </tr>\n",
       "    <tr>\n",
       "      <th>3</th>\n",
       "      <td>35</td>\n",
       "      <td>management</td>\n",
       "      <td>single</td>\n",
       "      <td>tertiary</td>\n",
       "      <td>no</td>\n",
       "      <td>1350</td>\n",
       "      <td>yes</td>\n",
       "      <td>no</td>\n",
       "      <td>cellular</td>\n",
       "      <td>16</td>\n",
       "      <td>apr</td>\n",
       "      <td>185</td>\n",
       "      <td>1</td>\n",
       "      <td>330</td>\n",
       "      <td>1</td>\n",
       "      <td>failure</td>\n",
       "      <td>no</td>\n",
       "    </tr>\n",
       "    <tr>\n",
       "      <th>4</th>\n",
       "      <td>30</td>\n",
       "      <td>management</td>\n",
       "      <td>married</td>\n",
       "      <td>tertiary</td>\n",
       "      <td>no</td>\n",
       "      <td>1476</td>\n",
       "      <td>yes</td>\n",
       "      <td>yes</td>\n",
       "      <td>unknown</td>\n",
       "      <td>3</td>\n",
       "      <td>jun</td>\n",
       "      <td>199</td>\n",
       "      <td>4</td>\n",
       "      <td>-1</td>\n",
       "      <td>0</td>\n",
       "      <td>unknown</td>\n",
       "      <td>no</td>\n",
       "    </tr>\n",
       "  </tbody>\n",
       "</table>\n",
       "</div>"
      ],
      "text/plain": [
       "    0           1        2          3        4        5        6     7   \\\n",
       "0  age         job  marital  education  default  balance  housing  loan   \n",
       "1   30  unemployed  married    primary       no     1787       no    no   \n",
       "2   33    services  married  secondary       no     4789      yes   yes   \n",
       "3   35  management   single   tertiary       no     1350      yes    no   \n",
       "4   30  management  married   tertiary       no     1476      yes   yes   \n",
       "\n",
       "         8    9      10        11        12     13        14        15  16  \n",
       "0   contact  day  month  duration  campaign  pdays  previous  poutcome   y  \n",
       "1  cellular   19    oct        79         1     -1         0   unknown  no  \n",
       "2  cellular   11    may       220         1    339         4   failure  no  \n",
       "3  cellular   16    apr       185         1    330         1   failure  no  \n",
       "4   unknown    3    jun       199         4     -1         0   unknown  no  "
      ]
     },
     "execution_count": 4,
     "metadata": {},
     "output_type": "execute_result"
    }
   ],
   "source": [
    "data.head()"
   ]
  },
  {
   "cell_type": "code",
   "execution_count": 5,
   "id": "b4236508",
   "metadata": {},
   "outputs": [
    {
     "ename": "KeyError",
     "evalue": "'age'",
     "output_type": "error",
     "traceback": [
      "\u001b[0;31m---------------------------------------------------------------------------\u001b[0m",
      "\u001b[0;31mKeyError\u001b[0m                                  Traceback (most recent call last)",
      "File \u001b[0;32m~/opt/anaconda3/lib/python3.9/site-packages/pandas/core/indexes/base.py:3621\u001b[0m, in \u001b[0;36mIndex.get_loc\u001b[0;34m(self, key, method, tolerance)\u001b[0m\n\u001b[1;32m   3620\u001b[0m \u001b[38;5;28;01mtry\u001b[39;00m:\n\u001b[0;32m-> 3621\u001b[0m     \u001b[38;5;28;01mreturn\u001b[39;00m \u001b[38;5;28;43mself\u001b[39;49m\u001b[38;5;241;43m.\u001b[39;49m\u001b[43m_engine\u001b[49m\u001b[38;5;241;43m.\u001b[39;49m\u001b[43mget_loc\u001b[49m\u001b[43m(\u001b[49m\u001b[43mcasted_key\u001b[49m\u001b[43m)\u001b[49m\n\u001b[1;32m   3622\u001b[0m \u001b[38;5;28;01mexcept\u001b[39;00m \u001b[38;5;167;01mKeyError\u001b[39;00m \u001b[38;5;28;01mas\u001b[39;00m err:\n",
      "File \u001b[0;32m~/opt/anaconda3/lib/python3.9/site-packages/pandas/_libs/index.pyx:136\u001b[0m, in \u001b[0;36mpandas._libs.index.IndexEngine.get_loc\u001b[0;34m()\u001b[0m\n",
      "File \u001b[0;32m~/opt/anaconda3/lib/python3.9/site-packages/pandas/_libs/index.pyx:144\u001b[0m, in \u001b[0;36mpandas._libs.index.IndexEngine.get_loc\u001b[0;34m()\u001b[0m\n",
      "File \u001b[0;32mpandas/_libs/index_class_helper.pxi:41\u001b[0m, in \u001b[0;36mpandas._libs.index.Int64Engine._check_type\u001b[0;34m()\u001b[0m\n",
      "\u001b[0;31mKeyError\u001b[0m: 'age'",
      "\nThe above exception was the direct cause of the following exception:\n",
      "\u001b[0;31mKeyError\u001b[0m                                  Traceback (most recent call last)",
      "Input \u001b[0;32mIn [5]\u001b[0m, in \u001b[0;36m<cell line: 1>\u001b[0;34m()\u001b[0m\n\u001b[0;32m----> 1\u001b[0m plt\u001b[38;5;241m.\u001b[39mboxplot(\u001b[43mdata\u001b[49m\u001b[43m[\u001b[49m\u001b[38;5;124;43m'\u001b[39;49m\u001b[38;5;124;43mage\u001b[39;49m\u001b[38;5;124;43m'\u001b[39;49m\u001b[43m]\u001b[49m)\n",
      "File \u001b[0;32m~/opt/anaconda3/lib/python3.9/site-packages/pandas/core/frame.py:3505\u001b[0m, in \u001b[0;36mDataFrame.__getitem__\u001b[0;34m(self, key)\u001b[0m\n\u001b[1;32m   3503\u001b[0m \u001b[38;5;28;01mif\u001b[39;00m \u001b[38;5;28mself\u001b[39m\u001b[38;5;241m.\u001b[39mcolumns\u001b[38;5;241m.\u001b[39mnlevels \u001b[38;5;241m>\u001b[39m \u001b[38;5;241m1\u001b[39m:\n\u001b[1;32m   3504\u001b[0m     \u001b[38;5;28;01mreturn\u001b[39;00m \u001b[38;5;28mself\u001b[39m\u001b[38;5;241m.\u001b[39m_getitem_multilevel(key)\n\u001b[0;32m-> 3505\u001b[0m indexer \u001b[38;5;241m=\u001b[39m \u001b[38;5;28;43mself\u001b[39;49m\u001b[38;5;241;43m.\u001b[39;49m\u001b[43mcolumns\u001b[49m\u001b[38;5;241;43m.\u001b[39;49m\u001b[43mget_loc\u001b[49m\u001b[43m(\u001b[49m\u001b[43mkey\u001b[49m\u001b[43m)\u001b[49m\n\u001b[1;32m   3506\u001b[0m \u001b[38;5;28;01mif\u001b[39;00m is_integer(indexer):\n\u001b[1;32m   3507\u001b[0m     indexer \u001b[38;5;241m=\u001b[39m [indexer]\n",
      "File \u001b[0;32m~/opt/anaconda3/lib/python3.9/site-packages/pandas/core/indexes/base.py:3623\u001b[0m, in \u001b[0;36mIndex.get_loc\u001b[0;34m(self, key, method, tolerance)\u001b[0m\n\u001b[1;32m   3621\u001b[0m     \u001b[38;5;28;01mreturn\u001b[39;00m \u001b[38;5;28mself\u001b[39m\u001b[38;5;241m.\u001b[39m_engine\u001b[38;5;241m.\u001b[39mget_loc(casted_key)\n\u001b[1;32m   3622\u001b[0m \u001b[38;5;28;01mexcept\u001b[39;00m \u001b[38;5;167;01mKeyError\u001b[39;00m \u001b[38;5;28;01mas\u001b[39;00m err:\n\u001b[0;32m-> 3623\u001b[0m     \u001b[38;5;28;01mraise\u001b[39;00m \u001b[38;5;167;01mKeyError\u001b[39;00m(key) \u001b[38;5;28;01mfrom\u001b[39;00m \u001b[38;5;21;01merr\u001b[39;00m\n\u001b[1;32m   3624\u001b[0m \u001b[38;5;28;01mexcept\u001b[39;00m \u001b[38;5;167;01mTypeError\u001b[39;00m:\n\u001b[1;32m   3625\u001b[0m     \u001b[38;5;66;03m# If we have a listlike key, _check_indexing_error will raise\u001b[39;00m\n\u001b[1;32m   3626\u001b[0m     \u001b[38;5;66;03m#  InvalidIndexError. Otherwise we fall through and re-raise\u001b[39;00m\n\u001b[1;32m   3627\u001b[0m     \u001b[38;5;66;03m#  the TypeError.\u001b[39;00m\n\u001b[1;32m   3628\u001b[0m     \u001b[38;5;28mself\u001b[39m\u001b[38;5;241m.\u001b[39m_check_indexing_error(key)\n",
      "\u001b[0;31mKeyError\u001b[0m: 'age'"
     ]
    }
   ],
   "source": [
    "plt.boxplot(data['age'])"
   ]
  },
  {
   "cell_type": "code",
   "execution_count": null,
   "id": "97074227",
   "metadata": {},
   "outputs": [],
   "source": [
    "Q1=np.percentile(data['age'],25)\n",
    "Q2=np.percentile(data['age'],50)\n",
    "Q3=np.percentile(data['age'],75)\n",
    "print(\"25 percentile of age value is\",Q1)\n",
    "print(\"50 percentile of age value is\",Q2)\n",
    "print(\"75 percentile of age value is\",Q3)\n"
   ]
  },
  {
   "cell_type": "code",
   "execution_count": null,
   "id": "a08c7ed0",
   "metadata": {},
   "outputs": [],
   "source": [
    "Q1=np.quantile(data['age'],0.25)\n",
    "Q2=np.quantile(data['age'],0.5)\n",
    "Q3=np.quantile(data['age'],0.75)\n",
    "print(\"0.25 quantile of age value is\",Q1)\n",
    "print(\"0.5 quantile of age value is\",Q2)\n",
    "print(\"0.75 quantile of age value is\",Q3)\n"
   ]
  },
  {
   "cell_type": "code",
   "execution_count": null,
   "id": "7a639cbf",
   "metadata": {},
   "outputs": [],
   "source": [
    "IQR=Q3-Q1\n",
    "print('IQR is :',IQR)"
   ]
  },
  {
   "cell_type": "code",
   "execution_count": null,
   "id": "fafdd148",
   "metadata": {},
   "outputs": [],
   "source": [
    "l_b=Q1-1.5*IQR\n",
    "u_b=Q3+1.5*IQR\n",
    "print(\"lower bound is :\",l_b)\n",
    "print(\"upper bound is :\",u_b)"
   ]
  },
  {
   "cell_type": "code",
   "execution_count": null,
   "id": "93640e4c",
   "metadata": {},
   "outputs": [],
   "source": [
    "outliner_age=data[(data['age']>u_b)|(data['age']<l_b)]['age'].values"
   ]
  },
  {
   "cell_type": "code",
   "execution_count": null,
   "id": "54c6ff38",
   "metadata": {},
   "outputs": [],
   "source": [
    "outliner_age"
   ]
  },
  {
   "cell_type": "code",
   "execution_count": null,
   "id": "b1f19257",
   "metadata": {},
   "outputs": [],
   "source": [
    "# Read the file or data:\n",
    "# File_location+file_path.<extenstion>\n",
    "\n",
    "visa_dataset=pd.read_csv('/Users/sheelendersharma1/Desktop/data sciece/Visadataset.csv')"
   ]
  },
  {
   "cell_type": "code",
   "execution_count": null,
   "id": "c2f0fae6",
   "metadata": {},
   "outputs": [],
   "source": [
    "visa_dataset"
   ]
  },
  {
   "cell_type": "code",
   "execution_count": null,
   "id": "9f97b94d",
   "metadata": {},
   "outputs": [],
   "source": [
    "visa_dataset.shape\n",
    "\n",
    "# no of rows are 25480\n",
    "# no of columns are 12"
   ]
  },
  {
   "cell_type": "code",
   "execution_count": null,
   "id": "5064720e",
   "metadata": {},
   "outputs": [],
   "source": [
    "# Which type of problem?   >> supervised\n",
    "# whenever you have labeled data\n",
    "# Your data has dependent on input variable\n",
    "# Your data has dependent variable and independent variable\n",
    "# Your data has output variable\n",
    "# Here the output variable is ---------> case status\n",
    "# It is supervised technique\n",
    "# It is a classification problems\n",
    "\n",
    "#step:\n",
    "# What is the type problem? Labeled data---> superviased\n",
    "# your output table has categorical------> classification\n",
    "# your output has numerical------> regression\n",
    "\n",
    "# use need to check the data"
   ]
  },
  {
   "cell_type": "code",
   "execution_count": null,
   "id": "390e4412",
   "metadata": {},
   "outputs": [],
   "source": [
    "# Fetching all columns\n",
    "visa_dataset.columns"
   ]
  },
  {
   "cell_type": "code",
   "execution_count": null,
   "id": "5c73311f",
   "metadata": {},
   "outputs": [],
   "source": [
    "# Data type\n",
    "visa_dataset.dtypes"
   ]
  },
  {
   "cell_type": "code",
   "execution_count": null,
   "id": "f2caee31",
   "metadata": {},
   "outputs": [],
   "source": [
    "# statistics : Mean ,Median ,std, 25,50,75\n",
    "# only on numerical variables..\n",
    "\n",
    "visa_dataset.describe()"
   ]
  },
  {
   "cell_type": "markdown",
   "id": "312d2dad",
   "metadata": {},
   "source": [
    "$Prevailing wage$"
   ]
  },
  {
   "cell_type": "code",
   "execution_count": null,
   "id": "95853710",
   "metadata": {},
   "outputs": [],
   "source": [
    "visa_dataset['prevailing_wage']"
   ]
  },
  {
   "cell_type": "code",
   "execution_count": null,
   "id": "aaefe5eb",
   "metadata": {},
   "outputs": [],
   "source": [
    "# statstical analysis:\n",
    "visa_dataset['prevailing_wage'].min()"
   ]
  },
  {
   "cell_type": "code",
   "execution_count": null,
   "id": "11764b51",
   "metadata": {},
   "outputs": [],
   "source": [
    "# numpy using\n",
    "np.min(visa_dataset['prevailing_wage'])"
   ]
  },
  {
   "cell_type": "code",
   "execution_count": null,
   "id": "feecc604",
   "metadata": {},
   "outputs": [],
   "source": [
    "visa_dataset['prevailing_wage'].max()"
   ]
  },
  {
   "cell_type": "code",
   "execution_count": null,
   "id": "f68e0fa7",
   "metadata": {},
   "outputs": [],
   "source": [
    "np.max(visa_dataset['prevailing_wage'])"
   ]
  },
  {
   "cell_type": "code",
   "execution_count": null,
   "id": "cc33fde9",
   "metadata": {},
   "outputs": [],
   "source": [
    "visa_dataset['prevailing_wage'].sum()"
   ]
  },
  {
   "cell_type": "code",
   "execution_count": null,
   "id": "ce10bffb",
   "metadata": {},
   "outputs": [],
   "source": [
    "print(\"min:\",visa_dataset['prevailing_wage'].min())\n",
    "print(\"max:\",visa_dataset['prevailing_wage'].max())\n",
    "print(\"mean:\",visa_dataset['prevailing_wage'].mean())\n",
    "print(\"medaian:\",visa_dataset['prevailing_wage'].median())\n",
    "#print(visa_dataset['prevailing_wage'].mode())\n",
    "print(\"sum:\",visa_dataset['prevailing_wage'].sum())\n"
   ]
  },
  {
   "cell_type": "code",
   "execution_count": null,
   "id": "ba6f18f9",
   "metadata": {},
   "outputs": [],
   "source": [
    "dir(np)"
   ]
  },
  {
   "cell_type": "code",
   "execution_count": null,
   "id": "4c8a183c",
   "metadata": {},
   "outputs": [],
   "source": [
    "print(\"min:\",visa_dataset['prevailing_wage'].min(),2)\n",
    "print(\"max:\",visa_dataset['prevailing_wage'].max(),2)\n",
    "print(\"mean :\",round(visa_dataset['prevailing_wage'].mean(),2))\n",
    "print(\"median :\",round(visa_dataset['prevailing_wage'].median(),2))\n",
    "print(\"std:\",round(visa_dataset['prevailing_wage'].std(),2))\n",
    "print(\"25:\",round(visa_dataset['prevailing_wage'],25),2)\n",
    "print(\"50:\",round(visa_dataset['prevailing_wage'],50),2)\n",
    "print(\"75:\",round(visa_dataset['prevailing_wage'],75),2)\n",
    "\n",
    "\n",
    "\n",
    "\n",
    "# round (a,2)\n",
    "# a=visa_dataset['prevailing_wage'].median()"
   ]
  },
  {
   "cell_type": "code",
   "execution_count": null,
   "id": "fba99a56",
   "metadata": {},
   "outputs": [],
   "source": [
    "# Create a dictionary\n",
    "\n",
    "dict_wage={}\n",
    "\n",
    "dict_wage['Count_wage']=visa_dataset['prevailing_wage'].count()\n",
    "dict_wage['Min_wage']=visa_dataset['prevailing_wage'].min()\n",
    "dict_wage['Max_wage']=visa_dataset['prevailing_wage'].max()\n",
    "dict_wage['Mean_wage']=round(visa_dataset['prevailing_wage'].mean(),2)\n",
    "dict_wage['Medain_wage']=round(visa_dataset['prevailing_wage'].median(),2)\n",
    "dict_wage['Std_of_wage']=round(visa_dataset['prevailing_wage'].std(),2)\n",
    "dict_wage['Wage_25']=round(np.percentile(visa_dataset['prevailing_wage'],25),2)\n",
    "dict_wage['Wage_50']=round(np.percentile(visa_dataset['prevailing_wage'],50),2)\n",
    "dict_wage['Wage_75']=round(np.percentile(visa_dataset['prevailing_wage'],75),2)"
   ]
  },
  {
   "cell_type": "code",
   "execution_count": null,
   "id": "00762fe3",
   "metadata": {},
   "outputs": [],
   "source": [
    "wage_data=pd.DataFrame(dict_wage,index=['Wage_details'])\n",
    "wage_data.to_csv(\"Wage_details.csv\") # saving the cvs file\n",
    "wage_data"
   ]
  },
  {
   "cell_type": "code",
   "execution_count": null,
   "id": "4070ab78",
   "metadata": {},
   "outputs": [],
   "source": [
    "visa_dataset.describe()"
   ]
  },
  {
   "cell_type": "code",
   "execution_count": null,
   "id": "fa9b6781",
   "metadata": {},
   "outputs": [],
   "source": [
    "# Find any missing values \n",
    "\n",
    "visa_dataset.isnull().sum()"
   ]
  },
  {
   "cell_type": "code",
   "execution_count": null,
   "id": "9f9a445e",
   "metadata": {},
   "outputs": [],
   "source": [
    "# also use isna()\n",
    "visa_dataset.isna().sum()"
   ]
  },
  {
   "cell_type": "markdown",
   "id": "99ccb710",
   "metadata": {},
   "source": [
    "# For missing value analysis check Analysis on missing values notebook "
   ]
  },
  {
   "cell_type": "code",
   "execution_count": null,
   "id": "8de14a5c",
   "metadata": {},
   "outputs": [],
   "source": [
    "# columns with numerical entries\n",
    "# columns with categorical entries\n",
    "\n",
    "\n",
    "cat_cols=visa_dataset.columns[visa_dataset.dtypes=='O']\n",
    "num_cols=visa_dataset.columns[(visa_dataset.dtypes=='int64')|(visa_dataset.dtypes=='float64')]"
   ]
  },
  {
   "cell_type": "code",
   "execution_count": null,
   "id": "9f2cf307",
   "metadata": {},
   "outputs": [],
   "source": [
    "cat_cols"
   ]
  },
  {
   "cell_type": "code",
   "execution_count": null,
   "id": "ba231fe7",
   "metadata": {},
   "outputs": [],
   "source": [
    "num_cols"
   ]
  },
  {
   "cell_type": "markdown",
   "id": "1b613006",
   "metadata": {},
   "source": [
    "# Prevalling_Wage"
   ]
  },
  {
   "cell_type": "code",
   "execution_count": null,
   "id": "72404f53",
   "metadata": {},
   "outputs": [],
   "source": [
    "visa_dataset['prevailing_wage']"
   ]
  },
  {
   "cell_type": "code",
   "execution_count": null,
   "id": "c3361c85",
   "metadata": {},
   "outputs": [],
   "source": [
    "### Histogram using matplotlib\n",
    "\n",
    "plt.hist(visa_dataset['prevailing_wage'])"
   ]
  },
  {
   "cell_type": "code",
   "execution_count": null,
   "id": "f7801fec",
   "metadata": {},
   "outputs": [],
   "source": [
    "\n",
    "plt.title(\"Histrogram of wages\")\n",
    "plt.hist(visa_dataset['prevailing_wage'],bins=40)\n",
    "plt.ylabel(\"wages\")\n",
    "plt.show()\n",
    "\n",
    "# \n"
   ]
  },
  {
   "cell_type": "code",
   "execution_count": null,
   "id": "0db61e4c",
   "metadata": {},
   "outputs": [],
   "source": [
    "n,bins,patches=plt.hist(visa_dataset['prevailing_wage'],bins=40)\n",
    "# histogram will return 3 values\n",
    "# n= height of each interval/bin\n",
    "# bins=intervalues from last"
   ]
  },
  {
   "cell_type": "code",
   "execution_count": null,
   "id": "d415a9af",
   "metadata": {},
   "outputs": [],
   "source": [
    "n"
   ]
  },
  {
   "cell_type": "code",
   "execution_count": null,
   "id": "4ad053e8",
   "metadata": {},
   "outputs": [],
   "source": [
    "bins"
   ]
  },
  {
   "cell_type": "code",
   "execution_count": null,
   "id": "bcca60fe",
   "metadata": {},
   "outputs": [],
   "source": [
    "patches"
   ]
  },
  {
   "cell_type": "code",
   "execution_count": null,
   "id": "6f044027",
   "metadata": {},
   "outputs": [],
   "source": [
    "len(visa_dataset[visa_dataset['prevailing_wage']<7982])"
   ]
  },
  {
   "cell_type": "code",
   "execution_count": null,
   "id": "99369b7a",
   "metadata": {},
   "outputs": [],
   "source": [
    "7.98234003e+03"
   ]
  },
  {
   "cell_type": "markdown",
   "id": "02b6ed12",
   "metadata": {},
   "source": [
    "**Histogram using seaborn**"
   ]
  },
  {
   "cell_type": "code",
   "execution_count": null,
   "id": "375d7c2e",
   "metadata": {},
   "outputs": [],
   "source": [
    "sns.histplot(data=visa_dataset['prevailing_wage'],kde=True,color='g') # seaborn\n",
    "# kde=kernel density estimation\n",
    "plt.show()"
   ]
  },
  {
   "cell_type": "code",
   "execution_count": null,
   "id": "43fa5354",
   "metadata": {},
   "outputs": [],
   "source": [
    "sns.histplot(data=visa_dataset,x='prevailing_wage',kde=True) # seaborn\n",
    "# kde=kernel density estimation\n",
    "plt.show()"
   ]
  },
  {
   "cell_type": "code",
   "execution_count": null,
   "id": "8e10771f",
   "metadata": {},
   "outputs": [],
   "source": [
    "# In seaborn we have default dataset also avialbel\n",
    "penguins=sns.load_dataset('penguins')\n",
    " \n",
    "# git/hb.com/nwaskom/seaborn-data/blob/master/penguins.cvs"
   ]
  },
  {
   "cell_type": "code",
   "execution_count": null,
   "id": "1724eeea",
   "metadata": {},
   "outputs": [],
   "source": [
    "penguins.columns"
   ]
  },
  {
   "cell_type": "code",
   "execution_count": null,
   "id": "a5a078b3",
   "metadata": {},
   "outputs": [],
   "source": [
    "sns.histplot(data=penguins,x='flipper_length_mm',kde=True)"
   ]
  },
  {
   "cell_type": "code",
   "execution_count": null,
   "id": "742208c4",
   "metadata": {},
   "outputs": [],
   "source": [
    "sns.histplot(data=penguins,x='flipper_length_mm',kde=True,hue='species')"
   ]
  },
  {
   "cell_type": "markdown",
   "id": "0de176b0",
   "metadata": {},
   "source": [
    "$Distribution$$plot$"
   ]
  },
  {
   "cell_type": "code",
   "execution_count": null,
   "id": "f251d9ce",
   "metadata": {},
   "outputs": [],
   "source": [
    "sns.displot(visa_dataset['prevailing_wage'],bins=10,kde=True)\n",
    "plt.show()"
   ]
  },
  {
   "cell_type": "code",
   "execution_count": null,
   "id": "742b1240",
   "metadata": {},
   "outputs": [],
   "source": [
    "sns.kdeplot(visa_dataset['prevailing_wage'],color='g',shade=True)\n",
    "plt.show()\n",
    "\n",
    "# density vs values\n",
    "# KDE=kernel density estimate\n",
    "# probality density"
   ]
  },
  {
   "cell_type": "code",
   "execution_count": null,
   "id": "b95fa749",
   "metadata": {},
   "outputs": [],
   "source": [
    "num_cols"
   ]
  },
  {
   "cell_type": "code",
   "execution_count": null,
   "id": "528aece3",
   "metadata": {},
   "outputs": [],
   "source": [
    "sns.kdeplot(visa_dataset['prevailing_wage'],color='g',shade=True)\n",
    "sns.kdeplot(visa_dataset['no_of_employees'],color='b',shade=True)"
   ]
  },
  {
   "cell_type": "code",
   "execution_count": null,
   "id": "a4b54590",
   "metadata": {},
   "outputs": [],
   "source": [
    "sns.kdeplot(visa_dataset['prevailing_wage'],color='g',shade=True)\n",
    "sns.kdeplot(visa_dataset['no_of_employees'],color='b',shade=True)\n",
    "sns.kdeplot(visa_dataset['yr_of_estab'],color='g',shade=True)\n"
   ]
  },
  {
   "cell_type": "markdown",
   "id": "36c4e62a",
   "metadata": {},
   "source": [
    "**correlations plots**"
   ]
  },
  {
   "cell_type": "markdown",
   "id": "e886ecf2",
   "metadata": {},
   "source": [
    "- relation b/t two fetaures\n",
    "- r -1 to 1\n",
    "- if r = -1<r<0 : negative\n",
    "- if 0<r<1 : postive correlation\n",
    "- if r=0: no correlation"
   ]
  },
  {
   "cell_type": "code",
   "execution_count": null,
   "id": "74e95ffa",
   "metadata": {},
   "outputs": [],
   "source": [
    "# corr is the function\n",
    "visa_dataset.corr()\n",
    "# there is no relation b/t the variable"
   ]
  },
  {
   "cell_type": "code",
   "execution_count": null,
   "id": "eaf37efc",
   "metadata": {},
   "outputs": [],
   "source": [
    "penguins.corr()"
   ]
  },
  {
   "cell_type": "markdown",
   "id": "62d21a07",
   "metadata": {},
   "source": [
    "**heat map to visualize**"
   ]
  },
  {
   "cell_type": "code",
   "execution_count": null,
   "id": "aa71cd65",
   "metadata": {},
   "outputs": [],
   "source": [
    "sns.heatmap(visa_dataset.corr(),annot=True)\n",
    "plt.show()"
   ]
  },
  {
   "cell_type": "code",
   "execution_count": null,
   "id": "2e19aa6b",
   "metadata": {},
   "outputs": [],
   "source": [
    "plt.figure(figsize=(10,5))\n",
    "sns.heatmap(penguins.corr(),annot=True)\n",
    "plt.show()"
   ]
  },
  {
   "cell_type": "markdown",
   "id": "0b6ce12d",
   "metadata": {},
   "source": [
    "**scatter plots**"
   ]
  },
  {
   "cell_type": "code",
   "execution_count": null,
   "id": "7c401f4d",
   "metadata": {},
   "outputs": [],
   "source": [
    "x=visa_dataset['prevailing_wage']\n",
    "y=visa_dataset['no_of_employees']\n",
    "plt.scatter(x,y)\n",
    "plt.show()"
   ]
  },
  {
   "cell_type": "code",
   "execution_count": null,
   "id": "ca874fe8",
   "metadata": {},
   "outputs": [],
   "source": [
    "# Histogram-------- histogram plot\n",
    "# Distribution------ distribution plot\n",
    "# Correlation------- "
   ]
  },
  {
   "cell_type": "code",
   "execution_count": null,
   "id": "53266094",
   "metadata": {},
   "outputs": [],
   "source": [
    "penguins.columns"
   ]
  },
  {
   "cell_type": "code",
   "execution_count": null,
   "id": "18f56b9e",
   "metadata": {},
   "outputs": [],
   "source": [
    "x=penguins['body_mass_g']\n",
    "y=penguins['flipper_length_mm']\n",
    "plt.scatter(x,y)\n",
    "plt.xlabel(\"body mass\")\n",
    "plt.ylabel('flipper length')\n",
    "plt.title(\"Relation plot\")\n",
    "plt.show()"
   ]
  },
  {
   "cell_type": "code",
   "execution_count": null,
   "id": "2623b847",
   "metadata": {},
   "outputs": [],
   "source": [
    "- EDA (explorartory data analysis)\n",
    "- "
   ]
  },
  {
   "cell_type": "code",
   "execution_count": null,
   "id": "3758619a",
   "metadata": {},
   "outputs": [],
   "source": [
    "\n"
   ]
  },
  {
   "cell_type": "code",
   "execution_count": null,
   "id": "04f08d57",
   "metadata": {},
   "outputs": [],
   "source": [
    "visa_dataset.columns"
   ]
  },
  {
   "cell_type": "code",
   "execution_count": null,
   "id": "85e8fc74",
   "metadata": {},
   "outputs": [],
   "source": [
    "## using matplotlib\n",
    "\n",
    "plt.boxplot(visa_dataset['prevailing_wage'])\n",
    "plt.show()"
   ]
  },
  {
   "cell_type": "markdown",
   "id": "a5699411",
   "metadata": {},
   "source": [
    "- outlier analysis note book\n",
    "- just get all the outlier"
   ]
  },
  {
   "cell_type": "markdown",
   "id": "a7d04ea6",
   "metadata": {},
   "source": [
    "- so middile orange line is median that 50% data"
   ]
  },
  {
   "cell_type": "code",
   "execution_count": null,
   "id": "0c8abde4",
   "metadata": {},
   "outputs": [],
   "source": [
    "# using seaborn\n",
    "\n",
    "sns.boxplot(data=visa_dataset['prevailing_wage'])\n",
    "plt.show()"
   ]
  },
  {
   "cell_type": "code",
   "execution_count": null,
   "id": "14aafe41",
   "metadata": {},
   "outputs": [],
   "source": [
    "visa_dataset[visa_dataset['continent']=='Asia']['prevailing_wage'].median()"
   ]
  },
  {
   "cell_type": "code",
   "execution_count": null,
   "id": "258f1a4c",
   "metadata": {},
   "outputs": [],
   "source": [
    "sns.boxplot(x='continent',y='prevailing_wage',data=visa_dataset)\n",
    "plt.show()"
   ]
  },
  {
   "cell_type": "markdown",
   "id": "4daa510a",
   "metadata": {},
   "source": [
    " "
   ]
  },
  {
   "cell_type": "code",
   "execution_count": null,
   "id": "4211970b",
   "metadata": {},
   "outputs": [],
   "source": [
    "visa_dataset.groupby(['continent'])['prevailing_wage'].median()"
   ]
  },
  {
   "cell_type": "code",
   "execution_count": null,
   "id": "23b1ac15",
   "metadata": {},
   "outputs": [],
   "source": [
    "plt.figure(figsize=(10,6))  ## increasing the size 10=horizotal,6=vertical\n",
    "box_plot=sns.boxplot(x='continent',y='prevailing_wage',data=visa_dataset)\n",
    "medians=visa_dataset.groupby(['continent'])['prevailing_wage'].median()\n",
    "for i in box_plot.get_xticks():\n",
    "    box_plot.text(i,\n",
    "                  medians[i],# value\n",
    "                  medians[i],# postion on the boxplot\n",
    "                  horizontalalignment='center',size='small',color='w',weight='semibold')\n"
   ]
  },
  {
   "cell_type": "markdown",
   "id": "daecada5",
   "metadata": {},
   "source": [
    "- continent"
   ]
  },
  {
   "cell_type": "code",
   "execution_count": null,
   "id": "01574660",
   "metadata": {},
   "outputs": [],
   "source": [
    "visa_dataset['continent'].value_counts()"
   ]
  },
  {
   "cell_type": "code",
   "execution_count": null,
   "id": "457d81fe",
   "metadata": {},
   "outputs": [],
   "source": [
    "# in the total data there 1681 rows/observations having Asia as continental\n",
    "# in the total data there 3732 rows/observations having Europe as continental"
   ]
  },
  {
   "cell_type": "code",
   "execution_count": null,
   "id": "ddc3daaa",
   "metadata": {},
   "outputs": [],
   "source": [
    "# one column is continent\n",
    "# other column is count\n",
    "\n"
   ]
  },
  {
   "cell_type": "code",
   "execution_count": null,
   "id": "76a76a65",
   "metadata": {},
   "outputs": [],
   "source": [
    "data={}\n",
    "data['continent']=visa_dataset['continent']\n",
    "data['count']=visa_dataset['continent'].value_counts()\n",
    "pd.DataFrame(data)"
   ]
  },
  {
   "cell_type": "code",
   "execution_count": null,
   "id": "fb134ccc",
   "metadata": {},
   "outputs": [],
   "source": [
    "# method-2\n",
    "count_data=visa_dataset['continent'].value_counts()\n",
    "dict1=dict(count_data)\n",
    "pd.DataFrame(dict1,index=['count'])"
   ]
  },
  {
   "cell_type": "code",
   "execution_count": null,
   "id": "5cb4fad6",
   "metadata": {},
   "outputs": [],
   "source": [
    "# M-3\n",
    "\n",
    "contients=dict(count_data)\n",
    "list_contients=[key for key in contients.keys()] # keys in one list\n",
    "list_count=[value for value in contients.values()] # values are in list\n",
    "contients_data=pd.DataFrame(zip(list_contients,list_count),columns=['continents','count'])\n",
    "contients_data"
   ]
  },
  {
   "cell_type": "code",
   "execution_count": null,
   "id": "93d6430c",
   "metadata": {},
   "outputs": [],
   "source": [
    "sns.barplot(x='continents',y='count',data=contients_data)\n",
    "plt.show()"
   ]
  },
  {
   "cell_type": "code",
   "execution_count": null,
   "id": "4e436f15",
   "metadata": {},
   "outputs": [],
   "source": [
    "# matplot\n",
    "plt.bar('continents','count',data=contients_data)\n",
    "plt.title(\"Bar Plot\")\n",
    "plt.show()"
   ]
  },
  {
   "cell_type": "markdown",
   "id": "da0f9bbe",
   "metadata": {},
   "source": [
    "- count plot"
   ]
  },
  {
   "cell_type": "code",
   "execution_count": null,
   "id": "343adde7",
   "metadata": {},
   "outputs": [],
   "source": [
    "visa_dataset['continent'].value_counts().index\n",
    "# top to bottom"
   ]
  },
  {
   "cell_type": "code",
   "execution_count": null,
   "id": "245e9398",
   "metadata": {},
   "outputs": [],
   "source": [
    "sns.countplot(y='continent',data=visa_dataset)"
   ]
  },
  {
   "cell_type": "code",
   "execution_count": null,
   "id": "8948ca26",
   "metadata": {},
   "outputs": [],
   "source": [
    "sns.countplot(y='continent',data=visa_dataset,order=visa_dataset['continent'].value_counts().index) # in order"
   ]
  },
  {
   "cell_type": "code",
   "execution_count": null,
   "id": "807d66f2",
   "metadata": {},
   "outputs": [],
   "source": [
    "plt.figure(figsize=(8,8))\n",
    "sns.countplot(y='continent',data=visa_dataset,order=visa_dataset['continent'].value_counts().index)\n",
    "plt.title(\"Bar plot\")\n",
    "plt.show()\n"
   ]
  },
  {
   "cell_type": "markdown",
   "id": "7e1425b2",
   "metadata": {},
   "source": [
    "## observation"
   ]
  },
  {
   "cell_type": "markdown",
   "id": "5ad869cb",
   "metadata": {},
   "source": [
    "- Most of the visa candidates belongs to Asia contient   i.e. 16861\n",
    "- second highest visa candidates belongs to Europe i.e 3732\n",
    "- Third highest visa candidates belongs to North America i.e 3732"
   ]
  },
  {
   "cell_type": "code",
   "execution_count": null,
   "id": "b85976c6",
   "metadata": {},
   "outputs": [],
   "source": [
    "# order=['Asia','Europe','...','...']\n",
    "\n",
    "visa_dataset['continent']"
   ]
  },
  {
   "cell_type": "code",
   "execution_count": null,
   "id": "700d56c7",
   "metadata": {},
   "outputs": [],
   "source": [
    "visa_dataset['continent'].value_counts()"
   ]
  },
  {
   "cell_type": "code",
   "execution_count": null,
   "id": "70ed7930",
   "metadata": {},
   "outputs": [],
   "source": []
  },
  {
   "cell_type": "code",
   "execution_count": null,
   "id": "1f3bd743",
   "metadata": {},
   "outputs": [],
   "source": [
    "visa_dataset['education_of_employee'].value_counts()"
   ]
  },
  {
   "cell_type": "code",
   "execution_count": null,
   "id": "be3353c0",
   "metadata": {},
   "outputs": [],
   "source": [
    "sns.countplot(x='education_of_employee',data=visa_dataset,order=visa_dataset['education_of_employee'].value_counts().index)\n",
    "plt.title(\"Bar plot\")\n",
    "plt.show()\n",
    "\n"
   ]
  },
  {
   "cell_type": "markdown",
   "id": "8fa41763",
   "metadata": {},
   "source": [
    "**Observation**"
   ]
  },
  {
   "cell_type": "markdown",
   "id": "58d3de0d",
   "metadata": {},
   "source": [
    "- most of the visa appliers have highest bachelors\n",
    "- second most visa appliers have master's eduction...\n"
   ]
  },
  {
   "cell_type": "code",
   "execution_count": null,
   "id": "fbf166cf",
   "metadata": {},
   "outputs": [],
   "source": [
    "visa_dataset.columns"
   ]
  },
  {
   "cell_type": "code",
   "execution_count": null,
   "id": "5ee4d98d",
   "metadata": {},
   "outputs": [],
   "source": [
    "plt.figure(figsize=(6,6))\n",
    "sns.countplot(x='has_job_experience',data=visa_dataset,order=visa_dataset['has_job_experience'].value_counts().index)\n",
    "plt.title(\"Bar plot\")\n",
    "plt.show()"
   ]
  },
  {
   "cell_type": "markdown",
   "id": "3e677baa",
   "metadata": {},
   "source": [
    "- y has most job experience\n",
    "- n has least job experience as compare to n"
   ]
  },
  {
   "cell_type": "code",
   "execution_count": null,
   "id": "f9313882",
   "metadata": {},
   "outputs": [],
   "source": [
    "plt.figure(figsize=(6,6))\n",
    "sns.countplot(x='education_of_employee',data=visa_dataset,order=visa_dataset['education_of_employee'].value_counts().index)\n",
    "plt.title(\"Bar plot\")\n",
    "plt.show()\n",
    "\n",
    "\n",
    "plt.figure(figsize=(6,6))\n",
    "sns.countplot(x='education_of_employee',data=visa_dataset,hue='has_job_experience',order=visa_dataset['education_of_employee'].value_counts().index)\n",
    "plt.title(\"Bar plot\")\n",
    "plt.show()\n"
   ]
  },
  {
   "cell_type": "code",
   "execution_count": null,
   "id": "8abcb45a",
   "metadata": {},
   "outputs": [],
   "source": [
    "r1=pd.crosstab(visa_dataset['education_of_employee'],\n",
    "            visa_dataset['has_job_experience'])\n",
    "\n",
    "r1"
   ]
  },
  {
   "cell_type": "code",
   "execution_count": null,
   "id": "4a028fc1",
   "metadata": {},
   "outputs": [],
   "source": [
    "len(visa_dataset[(visa_dataset['education_of_employee']==\"Bachelor's\")&\\\n",
    "                (visa_dataset['has_job_experience']=='Y')])\n",
    "\n",
    "# first we have found how many types of esucation is there\n",
    "# in that how many are experience ppl\n",
    "# out of 10234 ppl 5586 are having experince"
   ]
  },
  {
   "cell_type": "markdown",
   "id": "f1c8e2eb",
   "metadata": {},
   "source": [
    "**Observation**"
   ]
  },
  {
   "cell_type": "markdown",
   "id": "ee3461ce",
   "metadata": {},
   "source": [
    "- Most of the visa appliers have highest education as Bachelor's degree Followed by Master "
   ]
  },
  {
   "cell_type": "code",
   "execution_count": null,
   "id": "e6e4ee34",
   "metadata": {},
   "outputs": [],
   "source": [
    "plt.figure(figsize=(6,6))\n",
    "sns.countplot(x='has_job_experience',data=visa_dataset,order=visa_dataset['has_job_experience'].value_counts().index)\n",
    "plt.title(\"Bar plot\")\n",
    "plt.show()\n",
    "\n",
    "\n",
    "plt.figure(figsize=(6,6))\n",
    "sns.countplot(x='has_job_experience',data=visa_dataset,hue='education_of_employee',order=visa_dataset['has_job_experience'].value_counts().index)\n",
    "plt.title(\"Bar plot\")\n",
    "plt.show()"
   ]
  },
  {
   "cell_type": "code",
   "execution_count": null,
   "id": "9fc8c26a",
   "metadata": {},
   "outputs": [],
   "source": [
    "# education_of_emloyee\n",
    "# has_job_experince"
   ]
  },
  {
   "cell_type": "code",
   "execution_count": null,
   "id": "53466798",
   "metadata": {},
   "outputs": [],
   "source": [
    "pd.crosstab(visa_dataset['education_of_employee'],\n",
    "            visa_dataset['has_job_experience'])"
   ]
  },
  {
   "cell_type": "code",
   "execution_count": null,
   "id": "c40e5cca",
   "metadata": {},
   "outputs": [],
   "source": [
    "pd.crosstab(visa_dataset['has_job_experience'],\n",
    "            visa_dataset['education_of_employee'])"
   ]
  },
  {
   "cell_type": "code",
   "execution_count": null,
   "id": "a4b647f7",
   "metadata": {},
   "outputs": [],
   "source": [
    "r1=pd.crosstab(visa_dataset['education_of_employee'],\n",
    "            visa_dataset['has_job_experience'])\n",
    "\n",
    "r1"
   ]
  },
  {
   "cell_type": "code",
   "execution_count": null,
   "id": "6b3dfee1",
   "metadata": {},
   "outputs": [],
   "source": [
    "r1.plot(kind='bar')"
   ]
  },
  {
   "cell_type": "code",
   "execution_count": null,
   "id": "32ab00a5",
   "metadata": {},
   "outputs": [],
   "source": [
    "r1.plot(kind='kde')"
   ]
  },
  {
   "cell_type": "code",
   "execution_count": null,
   "id": "38e04c6e",
   "metadata": {},
   "outputs": [],
   "source": [
    "r1.plot(kind='line')"
   ]
  },
  {
   "cell_type": "code",
   "execution_count": null,
   "id": "b479601c",
   "metadata": {},
   "outputs": [],
   "source": [
    "x=visa_dataset['education_of_employee']\n",
    "y=visa_dataset['has_job_experience']\n",
    "z=visa_dataset['continent']\n",
    "r2=pd.crosstab([x,y],z)\n"
   ]
  },
  {
   "cell_type": "code",
   "execution_count": null,
   "id": "938b12ee",
   "metadata": {},
   "outputs": [],
   "source": [
    "x=visa_dataset['education_of_employee']\n",
    "y=visa_dataset['has_job_experience']\n",
    "z=visa_dataset['continent']\n",
    "pd.crosstab([x,z],y)"
   ]
  },
  {
   "cell_type": "code",
   "execution_count": null,
   "id": "3ad44ccf",
   "metadata": {},
   "outputs": [],
   "source": [
    "r2.plot(kind='bar')"
   ]
  },
  {
   "cell_type": "code",
   "execution_count": null,
   "id": "e140e901",
   "metadata": {},
   "outputs": [],
   "source": [
    "visa_dataset['education_of_employee'].value_counts()"
   ]
  },
  {
   "cell_type": "code",
   "execution_count": null,
   "id": "40f29898",
   "metadata": {},
   "outputs": [],
   "source": [
    "visa_dataset.shape"
   ]
  },
  {
   "cell_type": "code",
   "execution_count": null,
   "id": "547f4de3",
   "metadata": {},
   "outputs": [],
   "source": [
    "visa_dataset['education_of_employee'].value_counts(normalize=True)"
   ]
  },
  {
   "cell_type": "code",
   "execution_count": null,
   "id": "628ef849",
   "metadata": {},
   "outputs": [],
   "source": [
    "# require the job training"
   ]
  },
  {
   "cell_type": "code",
   "execution_count": null,
   "id": "ab81c8f7",
   "metadata": {},
   "outputs": [],
   "source": [
    "plt.figure(figsize=(6,6))\n",
    "sns.countplot(x='requires_job_training',data=visa_dataset,order=visa_dataset['requires_job_training'].value_counts().index)\n",
    "plt.title(\"Bar Plot\")\n",
    "plt.show()"
   ]
  },
  {
   "cell_type": "code",
   "execution_count": null,
   "id": "7e4f3fb0",
   "metadata": {},
   "outputs": [],
   "source": [
    "visa_dataset['requires_job_training'].value_counts(normalize=True)"
   ]
  },
  {
   "cell_type": "markdown",
   "id": "34fbcf22",
   "metadata": {},
   "source": [
    "<b> OBSERVATION: </B> Almost 80% candidates does not require any job training"
   ]
  },
  {
   "cell_type": "code",
   "execution_count": null,
   "id": "a1463a0a",
   "metadata": {},
   "outputs": [],
   "source": []
  },
  {
   "cell_type": "code",
   "execution_count": null,
   "id": "83c46b33",
   "metadata": {},
   "outputs": [],
   "source": [
    "visa_dataset[visa_dataset['education_of_employee']==\"Bachelor's\"].describe()"
   ]
  },
  {
   "cell_type": "code",
   "execution_count": null,
   "id": "3fa0ff07",
   "metadata": {},
   "outputs": [],
   "source": [
    "# count plot based on single categorical varible \n",
    "# bar plot needs two columns one numerical and other one is categorical"
   ]
  },
  {
   "cell_type": "code",
   "execution_count": null,
   "id": "abc285bc",
   "metadata": {},
   "outputs": [],
   "source": [
    "# eductional vs prevaialing wage\n",
    "\n",
    "sns.barplot(x='education_of_employee',\n",
    "           y='prevailing_wage',data=visa_dataset)\n",
    "\n",
    "\n",
    "# It will give the mean values of prevailing_wage based on employee education\n",
    "# Bachelors mean is = 73405.443735\n",
    "# Balck lines are error lines ,which means the mean value have some interval"
   ]
  },
  {
   "cell_type": "code",
   "execution_count": null,
   "id": "ec0f9009",
   "metadata": {},
   "outputs": [],
   "source": [
    "visa_dataset[visa_dataset['education_of_employee']==\"Master's\"]['prevailing_wage'].mean()"
   ]
  },
  {
   "cell_type": "code",
   "execution_count": null,
   "id": "4d6f5871",
   "metadata": {},
   "outputs": [],
   "source": [
    "sns.barplot(x='has_job_experience',\n",
    "           y='prevailing_wage',data=visa_dataset)\n",
    "\n",
    "# It will give the mean values of prevailing_wage based on job experince\n",
    "\n",
    "# Balck lines are error lines ,which means the mean value have some interval"
   ]
  },
  {
   "cell_type": "code",
   "execution_count": null,
   "id": "8f3c8880",
   "metadata": {},
   "outputs": [],
   "source": [
    "visa_dataset.columns"
   ]
  },
  {
   "cell_type": "code",
   "execution_count": null,
   "id": "eaaf8915",
   "metadata": {},
   "outputs": [],
   "source": [
    "visa_dataset['case_status']"
   ]
  },
  {
   "cell_type": "markdown",
   "id": "07d814dd",
   "metadata": {},
   "source": [
    "**Case_status**"
   ]
  },
  {
   "cell_type": "code",
   "execution_count": null,
   "id": "279bc420",
   "metadata": {},
   "outputs": [],
   "source": [
    "visa_dataset['case_status'].value_counts()"
   ]
  },
  {
   "cell_type": "code",
   "execution_count": null,
   "id": "554a4d2b",
   "metadata": {},
   "outputs": [],
   "source": [
    "visa_dataset['case_status'].value_counts(normalize=True)"
   ]
  },
  {
   "cell_type": "code",
   "execution_count": null,
   "id": "84745e16",
   "metadata": {},
   "outputs": [],
   "source": [
    "plt.figure(figsize=(6,6))\n",
    "sns.countplot(x='case_status',data=visa_dataset,order=visa_dataset['case_status'].value_counts().index)\n",
    "plt.title(\"Bar Plot\")\n",
    "plt.show()"
   ]
  },
  {
   "cell_type": "markdown",
   "id": "bf68559c",
   "metadata": {},
   "source": [
    "**pie chart**"
   ]
  },
  {
   "cell_type": "code",
   "execution_count": null,
   "id": "dce90919",
   "metadata": {},
   "outputs": [],
   "source": [
    "# to draw we need values and lables\n",
    "\n",
    "values=visa_dataset['case_status'].value_counts().to_list()\n",
    "lables=visa_dataset['case_status'].value_counts().index.to_list()\n"
   ]
  },
  {
   "cell_type": "code",
   "execution_count": null,
   "id": "030fdb28",
   "metadata": {},
   "outputs": [],
   "source": [
    "values,lables"
   ]
  },
  {
   "cell_type": "code",
   "execution_count": null,
   "id": "285042f0",
   "metadata": {},
   "outputs": [],
   "source": [
    "plt.pie(x=values,labels=lables,autopct=\"%1.2f%%\",\n",
    "       wedgeprops={'edgecolor':'yellow'},\n",
    "       shadow=True,explode=[0.1,0.1],\n",
    "       startangle=90)\n",
    "plt.show()\n",
    "\n",
    "# It the seaborn heat map to display values we us annot=True\n",
    "# In the pie chart we use autopct to dispaly the value"
   ]
  },
  {
   "cell_type": "code",
   "execution_count": null,
   "id": "a2a43c0e",
   "metadata": {},
   "outputs": [],
   "source": []
  }
 ],
 "metadata": {
  "kernelspec": {
   "display_name": "Python 3 (ipykernel)",
   "language": "python",
   "name": "python3"
  },
  "language_info": {
   "codemirror_mode": {
    "name": "ipython",
    "version": 3
   },
   "file_extension": ".py",
   "mimetype": "text/x-python",
   "name": "python",
   "nbconvert_exporter": "python",
   "pygments_lexer": "ipython3",
   "version": "3.9.12"
  }
 },
 "nbformat": 4,
 "nbformat_minor": 5
}
