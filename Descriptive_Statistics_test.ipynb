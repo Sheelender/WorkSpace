{
 "cells": [
  {
   "cell_type": "code",
   "execution_count": null,
   "id": "0576ef1e",
   "metadata": {},
   "outputs": [],
   "source": [
    "Find the mean, and median of the data frame below?\n",
    "#Create a Dictionary of series\n",
    "d = {'Name':pd.Series(['Tom','James','Ricky','Vin','Steve','Smith','Jack',\n",
    "   'Lee','Chanchal','Gasper','Naviya','Andres']),\n",
    "   'Age':pd.Series([25,26,25,23,30,29,23,34,40,30,51,46]),\n",
    "   'Rating':pd.Series([4.23,3.24,3.98,2.56,3.20,4.6,3.8,3.78,2.98,4.80,4.10,3.65])}\n",
    "\n",
    "\n",
    "Find the mode of the data frame\n",
    "d = {'Name':pd.Series(['Tom','James','Ricky','Vin','Steve','Smith','Jack',\n",
    "   'Lee','Chanchal','Gasper','Naviya','Andres']),\n",
    "   'Age':pd.Series([25,26,25,23,30,29,23,34,40,30,51,46]),\n",
    "   'Rating':pd.Series([4.23,3.24,3.98,2.56,3.20,4.6,3.8,3.78,2.98,4.80,4.10,3.65])}\n",
    "\n",
    "\n",
    "harmonic_mean()This function returns the harmonic mean of the data. \n",
    "For three values [2,4,9.7] find out the harmonic mean\n",
    "\n",
    "\n",
    "\n",
    "Consider the ages of five employees as 30, 30, 32, 38, 60 years. Calculate the measures of central tendency.\n",
    "\n",
    "\n",
    "\n",
    "A batsman scores an average of 48 runs in six matches. If his score in five matches is 51, 45,46, 44, and 49.\n",
    "Find his score in the sixth match?\n",
    "\n",
    "\n",
    "\n",
    "\n",
    "\n",
    "\n",
    "\n",
    "\n",
    "\n",
    "\n",
    "\n",
    "\n",
    "\n",
    "\n"
   ]
  },
  {
   "cell_type": "code",
   "execution_count": 3,
   "id": "6e2f9c61",
   "metadata": {},
   "outputs": [
    {
     "name": "stdout",
     "output_type": "stream",
     "text": [
      "Mean of Ratings is: 3.7433333333333336\n",
      "Median of Ratings is: 3.79\n"
     ]
    }
   ],
   "source": [
    "import pandas as pd\n",
    "#Create a DataFrame\n",
    "#d = {'Name':pd.Series(['Tom','James','Ricky','Vin','Steve','Smith','Jack',\n",
    "   'Lee','Chanchal','Gasper','Naviya','Andres']),\n",
    "   'Age':pd.Series([25,26,25,23,30,29,23,34,40,30,51,46]),\n",
    "   'Rating':pd.Series([4.23,3.24,3.98,2.56,3.20,4.6,3.8,3.78,2.98,4.80,4.10,3.65])}\n",
    "\n",
    "\n",
    "\n",
    "df = pd.DataFrame(d)\n",
    "\n",
    "#Find the mean\n",
    "mean_rating = df['Rating'].mean()\n",
    "print(\"Mean of Ratings is:\", mean_rating)\n",
    "\n",
    "#Find the median\n",
    "median_rating = df['Rating'].median()\n",
    "print(\"Median of Ratings is:\", median_rating)"
   ]
  },
  {
   "cell_type": "code",
   "execution_count": 4,
   "id": "8a678871",
   "metadata": {},
   "outputs": [
    {
     "data": {
      "text/html": [
       "<div>\n",
       "<style scoped>\n",
       "    .dataframe tbody tr th:only-of-type {\n",
       "        vertical-align: middle;\n",
       "    }\n",
       "\n",
       "    .dataframe tbody tr th {\n",
       "        vertical-align: top;\n",
       "    }\n",
       "\n",
       "    .dataframe thead th {\n",
       "        text-align: right;\n",
       "    }\n",
       "</style>\n",
       "<table border=\"1\" class=\"dataframe\">\n",
       "  <thead>\n",
       "    <tr style=\"text-align: right;\">\n",
       "      <th></th>\n",
       "      <th>Name</th>\n",
       "      <th>Age</th>\n",
       "      <th>Rating</th>\n",
       "    </tr>\n",
       "  </thead>\n",
       "  <tbody>\n",
       "    <tr>\n",
       "      <th>0</th>\n",
       "      <td>Andres</td>\n",
       "      <td>23.0</td>\n",
       "      <td>2.56</td>\n",
       "    </tr>\n",
       "    <tr>\n",
       "      <th>1</th>\n",
       "      <td>Chanchal</td>\n",
       "      <td>25.0</td>\n",
       "      <td>2.98</td>\n",
       "    </tr>\n",
       "    <tr>\n",
       "      <th>2</th>\n",
       "      <td>Gasper</td>\n",
       "      <td>30.0</td>\n",
       "      <td>3.20</td>\n",
       "    </tr>\n",
       "    <tr>\n",
       "      <th>3</th>\n",
       "      <td>Jack</td>\n",
       "      <td>NaN</td>\n",
       "      <td>3.24</td>\n",
       "    </tr>\n",
       "    <tr>\n",
       "      <th>4</th>\n",
       "      <td>James</td>\n",
       "      <td>NaN</td>\n",
       "      <td>3.65</td>\n",
       "    </tr>\n",
       "    <tr>\n",
       "      <th>5</th>\n",
       "      <td>Lee</td>\n",
       "      <td>NaN</td>\n",
       "      <td>3.78</td>\n",
       "    </tr>\n",
       "    <tr>\n",
       "      <th>6</th>\n",
       "      <td>Naviya</td>\n",
       "      <td>NaN</td>\n",
       "      <td>3.80</td>\n",
       "    </tr>\n",
       "    <tr>\n",
       "      <th>7</th>\n",
       "      <td>Ricky</td>\n",
       "      <td>NaN</td>\n",
       "      <td>3.98</td>\n",
       "    </tr>\n",
       "    <tr>\n",
       "      <th>8</th>\n",
       "      <td>Smith</td>\n",
       "      <td>NaN</td>\n",
       "      <td>4.10</td>\n",
       "    </tr>\n",
       "    <tr>\n",
       "      <th>9</th>\n",
       "      <td>Steve</td>\n",
       "      <td>NaN</td>\n",
       "      <td>4.23</td>\n",
       "    </tr>\n",
       "    <tr>\n",
       "      <th>10</th>\n",
       "      <td>Tom</td>\n",
       "      <td>NaN</td>\n",
       "      <td>4.60</td>\n",
       "    </tr>\n",
       "    <tr>\n",
       "      <th>11</th>\n",
       "      <td>Vin</td>\n",
       "      <td>NaN</td>\n",
       "      <td>4.80</td>\n",
       "    </tr>\n",
       "  </tbody>\n",
       "</table>\n",
       "</div>"
      ],
      "text/plain": [
       "        Name   Age  Rating\n",
       "0     Andres  23.0    2.56\n",
       "1   Chanchal  25.0    2.98\n",
       "2     Gasper  30.0    3.20\n",
       "3       Jack   NaN    3.24\n",
       "4      James   NaN    3.65\n",
       "5        Lee   NaN    3.78\n",
       "6     Naviya   NaN    3.80\n",
       "7      Ricky   NaN    3.98\n",
       "8      Smith   NaN    4.10\n",
       "9      Steve   NaN    4.23\n",
       "10       Tom   NaN    4.60\n",
       "11       Vin   NaN    4.80"
      ]
     },
     "execution_count": 4,
     "metadata": {},
     "output_type": "execute_result"
    }
   ],
   "source": [
    "df = pd.DataFrame(d)\n",
    "\n",
    "df.mode()\n",
    "\n",
    "#     Name  Age  Rating\n",
    "# 0   Jack   23    3.65"
   ]
  },
  {
   "cell_type": "code",
   "execution_count": 5,
   "id": "36d16b4a",
   "metadata": {},
   "outputs": [
    {
     "name": "stdout",
     "output_type": "stream",
     "text": [
      "3.516616314199396\n"
     ]
    }
   ],
   "source": [
    "import statistics\n",
    "\n",
    "data = [2,4,9.7]\n",
    "\n",
    "harmonic_mean = statistics.harmonic_mean(data)\n",
    "\n",
    "print(harmonic_mean) # Output: 4.12"
   ]
  },
  {
   "cell_type": "code",
   "execution_count": 12,
   "id": "016bd289",
   "metadata": {},
   "outputs": [
    {
     "name": "stdout",
     "output_type": "stream",
     "text": [
      "Mean : 38.0\n",
      "Median : 32.0\n",
      "Mode : 30\n"
     ]
    }
   ],
   "source": [
    "import numpy as np \n",
    "import statistics as stats\n",
    "\n",
    "age = np.array([30, 30, 32, 38, 60]) \n",
    "\n",
    "mean = np.mean(age) \n",
    "\n",
    "median = np.median(age) \n",
    "\n",
    "mode = stats.mode(age) #x = stats.mode(speed)\n",
    "\n",
    "print(\"Mean :\", mean) \n",
    "print(\"Median :\", median) \n",
    "print(\"Mode :\", mode) "
   ]
  },
  {
   "cell_type": "code",
   "execution_count": 13,
   "id": "49370c60",
   "metadata": {},
   "outputs": [
    {
     "name": "stdout",
     "output_type": "stream",
     "text": [
      "1\n"
     ]
    }
   ],
   "source": [
    "import statistics\n",
    "\n",
    "scores = [51,45,46,44,49]\n",
    "\n",
    "avg = statistics.mean(scores)\n",
    "\n",
    "sixth_match = 48 - avg\n",
    "\n",
    "print(sixth_match)"
   ]
  },
  {
   "cell_type": "code",
   "execution_count": null,
   "id": "2d25a002",
   "metadata": {},
   "outputs": [],
   "source": []
  }
 ],
 "metadata": {
  "kernelspec": {
   "display_name": "Python 3 (ipykernel)",
   "language": "python",
   "name": "python3"
  },
  "language_info": {
   "codemirror_mode": {
    "name": "ipython",
    "version": 3
   },
   "file_extension": ".py",
   "mimetype": "text/x-python",
   "name": "python",
   "nbconvert_exporter": "python",
   "pygments_lexer": "ipython3",
   "version": "3.9.12"
  }
 },
 "nbformat": 4,
 "nbformat_minor": 5
}
