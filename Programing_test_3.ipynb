{
 "cells": [
  {
   "cell_type": "code",
   "execution_count": 8,
   "id": "777a1943",
   "metadata": {},
   "outputs": [
    {
     "name": "stdout",
     "output_type": "stream",
     "text": [
      "pq\n"
     ]
    }
   ],
   "source": [
    "#1.Accept a number and check whether it is palindrome or not\n",
    "\n",
    "\n",
    "#2.Write a program to display all the numbers which are divisible by 11 but not by 2 between 100 and 500.\n",
    "\n",
    "\n",
    "#3.Write a program to find the sum of the digits of a number accepted from user\n",
    "\n",
    "#4.Write a program to find the factorial of a number.\n",
    "\n",
    "\n",
    "#5.Write a program to display the product of the digits of a number accepted from the user.\n",
    "\n",
    "\n",
    "#6.Calculate the average of the number given in the list through loop.\n",
    "list1=[34,6,43,2,32,44,55,33,32]\n",
    "\n",
    "\n",
    "#7.Reverse string using a for loop (take the input from user).\n",
    "\n",
    "\n",
    "#8.Write a program for generating a fibonacci series starting with 0 and 1 for the next 10 values using a while loop.\n",
    "\n",
    "\n",
    "\n",
    "#9.Write a code to print table of 5 using assignment operand +=.(using while)\n",
    "\n",
    "\n",
    "\n",
    "#10.Write a program swap the keys to values and values to keys of the given dictionary. Module = {'Data Science':1,'Machine Learning':2, 'SQL':3, 'Big Data':4} Output: {1:'Data Science',2:'Machine Learning', 3:'SQL', 4:'Big Data'}\n",
    "    \n",
    "    \n",
    "    \n",
    "   #11. Write a program to extract the words from the given list which have their first character in uppercase. Days = ['Monday', 'tuesday','friday', 'Sunday', 'Saturday'] Output: ['Monday', 'Sunday', 'Saturday'\n",
    "\n",
    "\n",
    "\n",
    "#12.Write a program to count all the elements from wrong text but it should not consider space and vowels\n",
    "wrong=\"\"\"But soft what light through yonder window breaks It is the east and Juliet is the sun Arise fair \n",
    "        sun and kill the envious moon Who is already sick and pale with grief\"\"\"\n",
    "        \n",
    "        \n",
    "        \n",
    "13.# number is armstrong."
   ]
  },
  {
   "cell_type": "code",
   "execution_count": 14,
   "id": "e1dbfb00",
   "metadata": {},
   "outputs": [
    {
     "name": "stdout",
     "output_type": "stream",
     "text": [
      "The original string is : ['Monday', 'tuesday', 'friday', 'Sunday', 'Saturday']\n",
      "The uppercase characters in string are : []\n"
     ]
    }
   ],
   "source": [
    "\n",
    "Days = ['Monday', 'tuesday','friday', 'Sunday', 'Saturday']\n",
    " \n",
    "\n",
    "print(\"The original string is : \" + str(Days))\n",
    " \n",
    "\n",
    "res = [char for char in Days if char.isupper()]\n",
    " \n",
    "\n",
    "print(\"The uppercase characters in string are : \" + str(res))"
   ]
  },
  {
   "cell_type": "code",
   "execution_count": 66,
   "id": "7f766934",
   "metadata": {},
   "outputs": [
    {
     "name": "stdout",
     "output_type": "stream",
     "text": [
      "enter the string:kjwhfgwej\n",
      "NO its not a paindrome kjwhfgwej != jewgfhwjk\n"
     ]
    }
   ],
   "source": [
    "#1.Accept a number and check whether it is palindrome or not\n",
    "a=input(\"enter the string:\")\n",
    "b=a[::-1]\n",
    "if a==b:\n",
    "    print(\"This string is palindrome {}={}\".format(a,b))\n",
    "    \n",
    "else:\n",
    "    print(\"NO its not a paindrome {} != {}\".format(a,b))\n",
    "\n",
    "    \n",
    "\n",
    "    "
   ]
  },
  {
   "cell_type": "code",
   "execution_count": 83,
   "id": "14fff096",
   "metadata": {},
   "outputs": [
    {
     "name": "stdout",
     "output_type": "stream",
     "text": [
      "121\n",
      "143\n",
      "165\n",
      "187\n",
      "209\n",
      "231\n",
      "253\n",
      "275\n",
      "297\n",
      "319\n",
      "341\n",
      "363\n",
      "385\n",
      "407\n",
      "429\n",
      "451\n",
      "473\n",
      "495\n"
     ]
    }
   ],
   "source": [
    "#Write a program to display all the numbers which are divisible by 11 but not by 2 between 100 and 500.\n",
    "for i in range(100,500):\n",
    "    if i%11==0 and i%2==1:\n",
    "        print(i)\n",
    "   \n",
    "    "
   ]
  },
  {
   "cell_type": "code",
   "execution_count": 96,
   "id": "6e4c6550",
   "metadata": {},
   "outputs": [
    {
     "name": "stdout",
     "output_type": "stream",
     "text": [
      "enter the number:567\n",
      "18\n"
     ]
    }
   ],
   "source": [
    "#3.Write a program to find the sum of the digits of a number accepted from user.\n",
    "a=input(\"enter the number:\")\n",
    "sum=0\n",
    "for i in a:\n",
    "    sum=sum + int(i)\n",
    "    \n",
    "print(sum)\n",
    "    \n",
    "\n",
    "    "
   ]
  },
  {
   "cell_type": "code",
   "execution_count": 119,
   "id": "ee5510e4",
   "metadata": {},
   "outputs": [
    {
     "name": "stdout",
     "output_type": "stream",
     "text": [
      "enter the number:5\n",
      "the factroial 5 is = 120\n"
     ]
    }
   ],
   "source": [
    "#4.Write a program to find the factorial of a number.\n",
    "\n",
    "num=eval(input(\"enter the number:\"))\n",
    "factorial=1\n",
    "if num<0:\n",
    "    print(\"not possible\")\n",
    "    \n",
    "elif num==1:\n",
    "    print(\"1\")\n",
    "    \n",
    "else:\n",
    "    for i in range(1,num+1):\n",
    "        factorial=factorial*i\n",
    "        \n",
    "        \n",
    "        \n",
    "print(\"the factroial {} is =\".format(num),factorial)\n"
   ]
  },
  {
   "cell_type": "code",
   "execution_count": 118,
   "id": "8688a19c",
   "metadata": {},
   "outputs": [
    {
     "data": {
      "text/plain": [
       "False"
      ]
     },
     "execution_count": 118,
     "metadata": {},
     "output_type": "execute_result"
    }
   ],
   "source": [
    "'7'==7 "
   ]
  },
  {
   "cell_type": "code",
   "execution_count": 65,
   "id": "08ae1b23",
   "metadata": {},
   "outputs": [
    {
     "name": "stdout",
     "output_type": "stream",
     "text": [
      "enter the number:34\n",
      "12\n"
     ]
    }
   ],
   "source": [
    "#5.Write a program to display the product of the digits of a number accepted from the user.\n",
    "\n",
    "a=input(\"enter the number:\")\n",
    "product=1\n",
    "\n",
    "for i in a:\n",
    "    product=product*int(i)\n",
    "    \n",
    "    \n",
    "print(product)"
   ]
  },
  {
   "cell_type": "code",
   "execution_count": 146,
   "id": "41a133f4",
   "metadata": {},
   "outputs": [
    {
     "name": "stdout",
     "output_type": "stream",
     "text": [
      "The sum of number in list is- 281\n",
      "The average of number in list is- 31.22222222222222\n"
     ]
    }
   ],
   "source": [
    "#6.Calculate the average of the number given in the list through loop.\n",
    "#list1=[34,6,43,2,32,44,55,33,32]\n",
    "\n",
    "\n",
    "list1=[34,6,43,2,32,44,55,33,32]\n",
    "sum=0\n",
    "\n",
    "for i in range(len(list1)):\n",
    "    sum=sum+list1[i]\n",
    "    \n",
    "print(\"The sum of number in list is-\",sum)\n",
    "    \n",
    "print(\"The average of number in list is-\",sum/len(list1))"
   ]
  },
  {
   "cell_type": "code",
   "execution_count": 158,
   "id": "6f3c385b",
   "metadata": {},
   "outputs": [
    {
     "name": "stdout",
     "output_type": "stream",
     "text": [
      "Enter the string:vvdhjhj\n",
      "jhjhdvv\n"
     ]
    }
   ],
   "source": [
    "#7.Reverse string using a for loop (take the input from user).\n",
    "\n",
    "string1=input(\"Enter the string:\")\n",
    "s=''\n",
    "\n",
    "for i in range(len(string1)):\n",
    "    s=string1[::-1]\n",
    "\n",
    "print(s)\n",
    "\n"
   ]
  },
  {
   "cell_type": "code",
   "execution_count": 170,
   "id": "c55cf1cf",
   "metadata": {
    "scrolled": true
   },
   "outputs": [
    {
     "name": "stdout",
     "output_type": "stream",
     "text": [
      "enter the fib range:5\n",
      "0\n",
      "1\n",
      "1\n",
      "2\n",
      "3\n"
     ]
    }
   ],
   "source": [
    "#8.Write a program for generating a fibonacci series starting with 0 and 1 for the next 10 values using a while loop.\n",
    "n=eval(input(\"enter the fib range:\"))\n",
    "\n",
    "def fib(n):\n",
    "    a=0\n",
    "    b=1\n",
    "    \n",
    "    print(a)\n",
    "    print(b)\n",
    "    for i in range(2,n):\n",
    "        c=a+b\n",
    "        a=b\n",
    "        b=c\n",
    "        print(c)\n",
    "        \n",
    "        \n",
    "fib(n)"
   ]
  },
  {
   "cell_type": "code",
   "execution_count": 49,
   "id": "db37c1fd",
   "metadata": {},
   "outputs": [
    {
     "name": "stdout",
     "output_type": "stream",
     "text": [
      "5\n",
      "10\n",
      "15\n",
      "20\n",
      "25\n",
      "30\n",
      "35\n",
      "40\n",
      "45\n",
      "50\n"
     ]
    }
   ],
   "source": [
    "\n",
    "#9.Write a code to print table of 5 using assignment operand +=.(using while)\n",
    "n=10\n",
    "a=0\n",
    "while n>0:\n",
    "    a+=5\n",
    "    print(a)\n",
    "    n=n-1\n",
    "    \n"
   ]
  },
  {
   "cell_type": "code",
   "execution_count": 63,
   "id": "9fd730fc",
   "metadata": {},
   "outputs": [
    {
     "name": "stdout",
     "output_type": "stream",
     "text": [
      "{1: 'Data Science', 2: 'Machine Learning', 3: 'SQL', 4: 'Big Data'}\n"
     ]
    }
   ],
   "source": [
    "#10.Write a program swap the keys to values and values to keys of the given dictionary. \n",
    "#Module = {'Data Science':1,'Machine Learning':2, 'SQL':3, 'Big Data':4} \n",
    "#Output: {1:'Data Science',2:'Machine Learning', 3:'SQL', 4:'Big Data'}\n",
    "    \n",
    "Module = {'Data Science':1,'Machine Learning':2, 'SQL':3, 'Big Data':4}\n",
    "type(Module)\n",
    "len(Module)\n",
    "new_dic={}\n",
    "for key,value in Module.items():\n",
    "    new_dic[value]=key\n",
    "    \n",
    "print(new_dic)"
   ]
  },
  {
   "cell_type": "code",
   "execution_count": null,
   "id": "c95f5e6f",
   "metadata": {},
   "outputs": [],
   "source": []
  },
  {
   "cell_type": "code",
   "execution_count": 48,
   "id": "3f617992",
   "metadata": {},
   "outputs": [
    {
     "name": "stdout",
     "output_type": "stream",
     "text": [
      "['Monday', 'Sunday', 'Saturday']\n"
     ]
    }
   ],
   "source": [
    " #11. Write a program to extract the words from the given list which have their first character in uppercase. \n",
    "    #Days = ['Monday', 'tuesday','friday', 'Sunday', 'Saturday'] Output: ['Monday', 'Sunday', 'Saturday']\n",
    "\n",
    "Days = ['Monday', 'tuesday','friday', 'Sunday', 'Saturday'] \n",
    "\n",
    "\n",
    "type(Days)\n",
    "Days.pop(1)\n",
    "Days.pop(1)\n",
    "print(Days)  # by using pop....\n",
    "\n"
   ]
  },
  {
   "cell_type": "code",
   "execution_count": 70,
   "id": "b6f7186b",
   "metadata": {},
   "outputs": [
    {
     "name": "stdout",
     "output_type": "stream",
     "text": [
      "['Monday', 'Sunday', 'Saturday']\n"
     ]
    }
   ],
   "source": [
    "Days = ['Monday', 'tuesday','friday', 'Sunday', 'Saturday'] \n",
    "list2=[]\n",
    "\n",
    "for i in Days:\n",
    "    if i[0].isupper():\n",
    "        list2.append(i)\n",
    "        \n",
    "\n",
    "print(list2)"
   ]
  },
  {
   "cell_type": "code",
   "execution_count": 31,
   "id": "9d98b721",
   "metadata": {},
   "outputs": [
    {
     "name": "stdout",
     "output_type": "stream",
     "text": [
      "constant: 134\n",
      "vowels: 49\n",
      "Wrong text but it should not consider space and vowels: 85\n"
     ]
    }
   ],
   "source": [
    "#12.Write a program to count all the elements from wrong text but it should not consider space and vowels\n",
    "#wrong=\"\"\"But soft what light through yonder window breaks It is the east and Juliet is the sun Arise fair \n",
    "        #sun and kill the envious moon Who is already sick and pale with grief\"\"\"\n",
    "        \n",
    "        \n",
    "wrong=\"\"\"But soft what light through yonder window breaks It is the east and Juliet is the sun Arise fair \n",
    "        sun and kill the envious moon Who is already sick and pale with grief\"\"\"\n",
    "count=0\n",
    "vov=0\n",
    "for i in range(0,len(wrong)):\n",
    "    ch=wrong[i]\n",
    "    if ( (ch >= 'a' and ch <= 'z') or \n",
    "             (ch >= 'A' and ch <= 'Z') ):\n",
    "        count+=1\n",
    "        \n",
    "    if (ch=='a' or ch=='e' or ch=='i' or ch=='o' or ch=='u' ):\n",
    "        vov+=1\n",
    "            \n",
    "        \n",
    "print(\"constant:\",count)\n",
    "print(\"vowels:\",vov)\n",
    "\n",
    "print(\"Wrong text but it should not consider space and vowels:\",count-vov)\n",
    "                       "
   ]
  },
  {
   "cell_type": "code",
   "execution_count": 75,
   "id": "1b0f4dc5",
   "metadata": {},
   "outputs": [
    {
     "name": "stdout",
     "output_type": "stream",
     "text": [
      "Enter a number: 123\n",
      "123 is not an Armstrong number\n"
     ]
    }
   ],
   "source": [
    "# number is armstrong.\n",
    "\n",
    "num = int(input(\"Enter a number: \"))\n",
    "\n",
    "# initialize sum\n",
    "sum = 0\n",
    "\n",
    "# find the sum of the cube of each digit\n",
    "temp = num\n",
    "while temp > 0:\n",
    "    digit = temp % 10\n",
    "    sum += digit ** 3\n",
    "    temp //= 10\n",
    "\n",
    "# display the result\n",
    "if num == sum:\n",
    "    print(num,\"is an Armstrong number\")\n",
    "else:\n",
    "    print(num,\"is not an Armstrong number\")"
   ]
  },
  {
   "cell_type": "code",
   "execution_count": null,
   "id": "fc5a74cd",
   "metadata": {},
   "outputs": [],
   "source": []
  }
 ],
 "metadata": {
  "kernelspec": {
   "display_name": "Python 3 (ipykernel)",
   "language": "python",
   "name": "python3"
  },
  "language_info": {
   "codemirror_mode": {
    "name": "ipython",
    "version": 3
   },
   "file_extension": ".py",
   "mimetype": "text/x-python",
   "name": "python",
   "nbconvert_exporter": "python",
   "pygments_lexer": "ipython3",
   "version": "3.9.12"
  }
 },
 "nbformat": 4,
 "nbformat_minor": 5
}
