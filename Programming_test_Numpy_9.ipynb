{
 "cells": [
  {
   "cell_type": "code",
   "execution_count": 5,
   "id": "a4958425",
   "metadata": {},
   "outputs": [
    {
     "ename": "SyntaxError",
     "evalue": "invalid syntax (1995638567.py, line 1)",
     "output_type": "error",
     "traceback": [
      "\u001b[0;36m  Input \u001b[0;32mIn [5]\u001b[0;36m\u001b[0m\n\u001b[0;31m    Write a NumPy program to replace the negative values in a NumPy array with 0.\u001b[0m\n\u001b[0m          ^\u001b[0m\n\u001b[0;31mSyntaxError\u001b[0m\u001b[0;31m:\u001b[0m invalid syntax\n"
     ]
    }
   ],
   "source": [
    "Write a NumPy program to replace the negative values in a NumPy array with 0.\n",
    "\n",
    "Write a NumPy program to replace all elements of a NumPy array that are greater than the specified array.[Expected Output:\n",
    "Original array:\n",
    "[[ 0.42436315 0.48558583 0.32924763]\n",
    "[ 0.7439979 0.58220701 0.38213418]\n",
    "[ 0.5097581 0.34528799 0.1563123 ]]\n",
    "Replace all elements of the said array with .5 which are greater than. 5\n",
    "[[ 0.42436315 0.48558583 0.32924763]\n",
    "[ 0.5 0.5 0.38213418]\n",
    "[ 0.5 0.34528799 0.1563123 ]]]\n",
    "\n",
    "\n",
    "Write a NumPy program to convert a NumPy array into Python list structure.\n",
    "\n",
    "\n",
    "Write a NumPy program to shuffle numbers between 0 and 10 (inclusive).\n",
    "\n",
    "\n",
    "Write a NumPy program to convert 1-D arrays as columns into a 2-D array.Sample array: (10,20,30), (40,50,60)\n",
    "    \n",
    "Write a NumPy program to concatenate two 2-dimensional arrays.\n",
    "Sample arrays: ([[0, 1, 3], [5, 7, 9]], [[0, 2, 4], [6, 8, 10]]\n",
    "                \n",
    "                \n",
    "Write a NumPy program to create a 5x5 matrix with row values ranging from 0 to 4.\n",
    "                \n",
    "Write a NumPy program to move axes of an array to new positions. Other axes remain in their original order.[Expected Output:\n",
    "(3, 4, 2)\n",
    "(4, 2, 3)]\n",
    "                \n",
    "                \n",
    "Write a NumPy program to view inputs as arrays with at least two dimensions, three dimensions.\n",
    "\n",
    "\n",
    "Write a NumPy program to create a 4x4 array, now create a new array from the said array swapping first and last, second and third columns.       \n",
    "                \n",
    "Write a NumPy program to multiply two given arrays of the same size element-by-element.\n",
    "\n",
    "Write a NumPy program to create a 4x4 matrix in which 0 and 1 are staggered, with zeros on the main diagonal.\n",
    "                \n",
    "Write a NumPy program to create a 3x3 identity matrix.\n",
    "                \n",
    "Write a NumPy program to create an array of 10 zeros, 10 ones, 10 fives.\n",
    "                \n",
    "Write a NumPy program to get help on the add function.\n",
    "                \n",
    "\n",
    "                \n",
    "\n",
    "                \n",
    "\n",
    "                \n",
    "                \n",
    "    \n",
    "    \n",
    "    \n",
    "\n"
   ]
  },
  {
   "cell_type": "code",
   "execution_count": 76,
   "id": "587ee4d1",
   "metadata": {
    "scrolled": true
   },
   "outputs": [
    {
     "name": "stdout",
     "output_type": "stream",
     "text": [
      "[ 1 -1  2 -2  3 -3  0  4 -4  5 -5]\n",
      "[1 0 2 0 3 0 0 4 0 5 0]\n"
     ]
    }
   ],
   "source": [
    "# Write a NumPy program to replace the negative values in a NumPy array with 0.\n",
    "\n",
    "\n",
    "import numpy as np\n",
    "arr=np.array([1,-1,2,-2,3,-3,0,4,-4,5,-5])\n",
    "print(arr)\n",
    "arr[arr<0]=0\n",
    "print(arr)"
   ]
  },
  {
   "cell_type": "code",
   "execution_count": 77,
   "id": "ab3ba708",
   "metadata": {},
   "outputs": [
    {
     "name": "stdout",
     "output_type": "stream",
     "text": [
      "[-10  -8  -6  -4  -2   0   2   4   6   8]\n",
      "[0 0 0 0 0 0 2 4 6 8]\n"
     ]
    }
   ],
   "source": [
    "# 2nd method\n",
    "\n",
    "arr1=np.array(range(-10,10,2))\n",
    "print(arr1)\n",
    "arr1[arr1<0]=0\n",
    "print(arr1)\n"
   ]
  },
  {
   "cell_type": "markdown",
   "id": "24d4b8a0",
   "metadata": {},
   "source": [
    "Write a NumPy program to replace all elements of a NumPy array that are greater than the specified array.[Expected Output:\n",
    "Original array:\n",
    "[[ 0.42436315 0.48558583 0.32924763]\n",
    "[ 0.7439979 0.58220701 0.38213418]\n",
    "[ 0.5097581 0.34528799 0.1563123 ]]\n",
    "Replace all elements of the said array with .5 which are greater than. 5\n",
    "[[ 0.42436315 0.48558583 0.32924763]\n",
    "[ 0.5 0.5 0.38213418]\n",
    "[ 0.5 0.34528799 0.1563123 ]]]"
   ]
  },
  {
   "cell_type": "code",
   "execution_count": 78,
   "id": "534ef2e3",
   "metadata": {},
   "outputs": [
    {
     "name": "stdout",
     "output_type": "stream",
     "text": [
      "Original array: \n",
      " [[0.42436315 0.48558583 0.32924763]\n",
      " [0.7439979  0.58220701 0.38213418]\n",
      " [0.5097581  0.34528799 0.1563123 ]]\n"
     ]
    },
    {
     "data": {
      "text/plain": [
       "array([[0.42436315, 0.48558583, 0.32924763],\n",
       "       [0.5       , 0.5       , 0.38213418],\n",
       "       [0.5       , 0.34528799, 0.1563123 ]])"
      ]
     },
     "execution_count": 78,
     "metadata": {},
     "output_type": "execute_result"
    }
   ],
   "source": [
    "original_array=np.array([[ 0.42436315,0.48558583,0.32924763],\n",
    "                         [ 0.7439979,0.58220701,0.38213418],\n",
    "                         [ 0.5097581,0.34528799,0.1563123 ]])\n",
    "print(\"Original array:\",'\\n',original_array)\n",
    "original_array[original_array>0.5]=0.5\n",
    "original_array"
   ]
  },
  {
   "cell_type": "code",
   "execution_count": 79,
   "id": "04bc6744",
   "metadata": {},
   "outputs": [
    {
     "name": "stdout",
     "output_type": "stream",
     "text": [
      "numpy array: \n",
      " [[0.36824154 0.95715516]\n",
      " [0.14035078 0.87008726]\n",
      " [0.47360805 0.80091075]\n",
      " [0.52047748 0.67887953]\n",
      " [0.72063265 0.58201979]\n",
      " [0.53737323 0.75861562]]\n",
      "list structure: \n",
      " [[0.36824153984054797, 0.9571551589530464], [0.14035078041264515, 0.8700872583584364], [0.4736080452737105, 0.8009107519796442], [0.5204774795512048, 0.6788795301189603], [0.7206326547259168, 0.5820197920751071], [0.5373732294490107, 0.7586156243223572]]\n"
     ]
    },
    {
     "data": {
      "text/plain": [
       "list"
      ]
     },
     "execution_count": 79,
     "metadata": {},
     "output_type": "execute_result"
    }
   ],
   "source": [
    "#Write a NumPy program to convert a NumPy array into Python list structure.\n",
    "from numpy import random\n",
    "numpy_arr=np.array(random.rand(6,2))\n",
    "print(\"numpy array:\",\"\\n\",numpy_arr)\n",
    "\n",
    "list_str=numpy_arr.tolist()\n",
    "print(\"list structure:\",\"\\n\",list_str)\n",
    "type(list_str)"
   ]
  },
  {
   "cell_type": "code",
   "execution_count": 80,
   "id": "719fb41a",
   "metadata": {},
   "outputs": [
    {
     "name": "stdout",
     "output_type": "stream",
     "text": [
      "numpy array: \n",
      " [0 1 2 3 4 5 6 7 8 9]\n",
      "shuffle number: \n",
      " [1 9 0 5 2 8 6 3 7 4]\n"
     ]
    }
   ],
   "source": [
    "\n",
    "# Write a NumPy program to shuffle numbers between 0 and 10 (inclusive).\n",
    "\n",
    "number=range(0,10)\n",
    "num=np.array(suff_number)\n",
    "print(\"numpy array:\",'\\n',num)\n",
    "random.shuffle(num)\n",
    "print(\"shuffle number:\",'\\n',num)\n"
   ]
  },
  {
   "cell_type": "code",
   "execution_count": 91,
   "id": "f33b57e6",
   "metadata": {},
   "outputs": [
    {
     "name": "stdout",
     "output_type": "stream",
     "text": [
      "2\n",
      "(2, 3)\n",
      "[[10 20]\n",
      " [30 40]\n",
      " [50 60]]\n",
      "(2, 3)\n"
     ]
    }
   ],
   "source": [
    "#Write a NumPy program to convert 1-D arrays as columns into a 2-D array.Sample array: (10,20,30), (40,50,60)\n",
    "arr_1d=np.array([[10,20,30],[40,50,60]])\n",
    "print(arr_1d.ndim)\n",
    "print(arr_1d.shape)\n",
    "print(arr_1d.reshape(3,2))\n",
    "\n"
   ]
  },
  {
   "cell_type": "code",
   "execution_count": 99,
   "id": "4e1e33a2",
   "metadata": {},
   "outputs": [
    {
     "data": {
      "text/plain": [
       "array([[ 0,  1,  3],\n",
       "       [ 5,  7,  9],\n",
       "       [ 0,  2,  4],\n",
       "       [ 6,  8, 10]])"
      ]
     },
     "execution_count": 99,
     "metadata": {},
     "output_type": "execute_result"
    }
   ],
   "source": [
    "#Write a NumPy program to concatenate two 2-dimensional arrays.\n",
    "#Sample arrays: ([[0, 1, 3], [5, 7, 9]], [[0, 2, 4], [6, 8, 10]]\n",
    "\n",
    "\n",
    "array1=np.array([[0, 1, 3],[5, 7, 9]])\n",
    "array2=np.array([[0, 2, 4],[6, 8, 10]])\n",
    "con=np.concatenate([array1,array2]) \n",
    "con"
   ]
  },
  {
   "cell_type": "code",
   "execution_count": 127,
   "id": "383a86f0",
   "metadata": {},
   "outputs": [
    {
     "name": "stdout",
     "output_type": "stream",
     "text": [
      "[0 1 2 3 4]\n"
     ]
    },
    {
     "data": {
      "text/plain": [
       "array([[0, 1, 2, 3, 4],\n",
       "       [0, 1, 2, 3, 4],\n",
       "       [0, 1, 2, 3, 4],\n",
       "       [0, 1, 2, 3, 4],\n",
       "       [0, 1, 2, 3, 4]])"
      ]
     },
     "execution_count": 127,
     "metadata": {},
     "output_type": "execute_result"
    }
   ],
   "source": [
    "#Write a NumPy program to create a 5x5 matrix with row values ranging from 0 to 4\n",
    "matrix=np.arange(5)\n",
    "print(matrix)\n",
    "mat2=np.tile(matrix,(5,1))\n",
    "mat2"
   ]
  },
  {
   "cell_type": "code",
   "execution_count": null,
   "id": "27eb18d8",
   "metadata": {},
   "outputs": [],
   "source": [
    "# Write a NumPy program to move axes of an array to new positions. Other axes remain in their original order.\n",
    "# [Expected Output:\n",
    "# (3, 4, 2)\n",
    "# (4, 2, 3)]\n",
    "\n",
    "num=np.array([3,4,2])\n"
   ]
  },
  {
   "cell_type": "code",
   "execution_count": null,
   "id": "ce06f6bb",
   "metadata": {},
   "outputs": [],
   "source": []
  },
  {
   "cell_type": "code",
   "execution_count": null,
   "id": "0db21e85",
   "metadata": {},
   "outputs": [],
   "source": [
    "\n"
   ]
  },
  {
   "cell_type": "code",
   "execution_count": null,
   "id": "95e330b9",
   "metadata": {},
   "outputs": [],
   "source": [
    "\n"
   ]
  },
  {
   "cell_type": "code",
   "execution_count": null,
   "id": "4ee92fbc",
   "metadata": {},
   "outputs": [],
   "source": [
    "\n"
   ]
  },
  {
   "cell_type": "code",
   "execution_count": null,
   "id": "059e16ab",
   "metadata": {},
   "outputs": [],
   "source": []
  },
  {
   "cell_type": "code",
   "execution_count": null,
   "id": "1e6ad922",
   "metadata": {},
   "outputs": [],
   "source": []
  },
  {
   "cell_type": "code",
   "execution_count": null,
   "id": "a93bf1c6",
   "metadata": {},
   "outputs": [],
   "source": []
  },
  {
   "cell_type": "code",
   "execution_count": null,
   "id": "22b56d36",
   "metadata": {},
   "outputs": [],
   "source": []
  },
  {
   "cell_type": "code",
   "execution_count": null,
   "id": "5ade0705",
   "metadata": {},
   "outputs": [],
   "source": []
  },
  {
   "cell_type": "code",
   "execution_count": null,
   "id": "8432bec9",
   "metadata": {},
   "outputs": [],
   "source": []
  },
  {
   "cell_type": "code",
   "execution_count": null,
   "id": "41062d58",
   "metadata": {},
   "outputs": [],
   "source": []
  },
  {
   "cell_type": "code",
   "execution_count": null,
   "id": "0eaebe45",
   "metadata": {},
   "outputs": [],
   "source": []
  },
  {
   "cell_type": "code",
   "execution_count": null,
   "id": "f67be7ea",
   "metadata": {},
   "outputs": [],
   "source": [
    "\n"
   ]
  },
  {
   "cell_type": "code",
   "execution_count": null,
   "id": "4336ee93",
   "metadata": {},
   "outputs": [],
   "source": [
    "\n"
   ]
  },
  {
   "cell_type": "code",
   "execution_count": null,
   "id": "b8e7cefb",
   "metadata": {},
   "outputs": [],
   "source": [
    "\n"
   ]
  },
  {
   "cell_type": "code",
   "execution_count": null,
   "id": "43d63062",
   "metadata": {},
   "outputs": [],
   "source": []
  },
  {
   "cell_type": "code",
   "execution_count": null,
   "id": "2f35f5e4",
   "metadata": {},
   "outputs": [],
   "source": []
  },
  {
   "cell_type": "code",
   "execution_count": null,
   "id": "c44396eb",
   "metadata": {},
   "outputs": [],
   "source": []
  },
  {
   "cell_type": "code",
   "execution_count": null,
   "id": "5ac79dde",
   "metadata": {},
   "outputs": [],
   "source": []
  },
  {
   "cell_type": "code",
   "execution_count": null,
   "id": "1bcfc48d",
   "metadata": {},
   "outputs": [],
   "source": []
  },
  {
   "cell_type": "code",
   "execution_count": null,
   "id": "9274e1c2",
   "metadata": {},
   "outputs": [],
   "source": []
  },
  {
   "cell_type": "code",
   "execution_count": null,
   "id": "93f2d9d6",
   "metadata": {},
   "outputs": [],
   "source": []
  },
  {
   "cell_type": "code",
   "execution_count": null,
   "id": "728ddff4",
   "metadata": {},
   "outputs": [],
   "source": []
  },
  {
   "cell_type": "code",
   "execution_count": null,
   "id": "832c206b",
   "metadata": {},
   "outputs": [],
   "source": []
  },
  {
   "cell_type": "code",
   "execution_count": null,
   "id": "044b66de",
   "metadata": {},
   "outputs": [],
   "source": []
  },
  {
   "cell_type": "code",
   "execution_count": null,
   "id": "43a020d8",
   "metadata": {},
   "outputs": [],
   "source": []
  },
  {
   "cell_type": "code",
   "execution_count": null,
   "id": "516103b1",
   "metadata": {},
   "outputs": [],
   "source": []
  }
 ],
 "metadata": {
  "kernelspec": {
   "display_name": "Python 3 (ipykernel)",
   "language": "python",
   "name": "python3"
  },
  "language_info": {
   "codemirror_mode": {
    "name": "ipython",
    "version": 3
   },
   "file_extension": ".py",
   "mimetype": "text/x-python",
   "name": "python",
   "nbconvert_exporter": "python",
   "pygments_lexer": "ipython3",
   "version": "3.9.12"
  }
 },
 "nbformat": 4,
 "nbformat_minor": 5
}
