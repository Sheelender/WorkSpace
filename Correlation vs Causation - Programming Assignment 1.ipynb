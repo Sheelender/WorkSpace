{
 "cells": [
  {
   "cell_type": "code",
   "execution_count": null,
   "id": "06a09853",
   "metadata": {},
   "outputs": [],
   "source": [
    "Write a NumPy program to compute cross-correlation of two given arrays.\n",
    "\n",
    "\n",
    "\n",
    "Write a NumPy program to compute the mean, standard deviation, and variance of a given array along the second axis.\n",
    "\n",
    "\n",
    "program to compute the weighted of a given array.\n",
    "\n",
    "\n",
    "\n",
    "\n",
    "\n",
    "Write a NumPy program to compute the covariance matrix of two given arrays.\n",
    "\n",
    "\n",
    "Write a NumPy program to compute the 80th percentile for all elements in a given array along the second axis.\n",
    " \n",
    "    \n",
    "    \n",
    "Write a NumPy program to calculate the difference between the maximum and the minimum values of a given array along the second axis.\n",
    " \n",
    "    \n",
    "    \n",
    "Write a NumPy program to get the minimum and maximum value of a given array along the second axis.\n",
    "\n",
    "\n",
    "Python program to find the maximum and minimum value of a given flattened array.\n",
    "\n",
    "\n",
    "Write a NumPy program to test element-wise of a given array for finiteness (not infinity or not Not a Number), positive or negative infinity, for NaN, for NaT (not a time), for negative infinity, for positive infinity\n",
    "\n",
    "\n",
    "program to compute the weighted average along the axis of array.\n",
    "\n",
    "\n",
    " Write a Python program to count number of occurrences of each value in a given array of non-negative integers\n",
    " \n",
    "\n",
    "\n",
    "\n",
    "\n",
    "\n",
    "\n",
    "\n",
    "\n",
    "\n",
    "\n",
    "\n",
    "\n",
    "\n",
    "\n",
    "\n",
    "\n",
    "\n",
    "\n",
    "\n"
   ]
  },
  {
   "cell_type": "code",
   "execution_count": 2,
   "id": "2ebac907",
   "metadata": {},
   "outputs": [
    {
     "name": "stdout",
     "output_type": "stream",
     "text": [
      "The weighted average of given array is 4.555555555555555\n"
     ]
    }
   ],
   "source": [
    "import numpy as np\n",
    "def weighted_average(array, weights):\n",
    "    weighted_sum = 0\n",
    "    for i in range(len(array)):\n",
    "        weighted_sum += array[i] * weights[i]\n",
    "    return weighted_sum/sum(weights)\n",
    "\n",
    "array = [2, 3, 4, 5, 6]\n",
    "weights = [1, 1, 2, 2, 3]\n",
    "\n",
    "print(\"The weighted average of given array is\", weighted_average(array, weights))"
   ]
  },
  {
   "cell_type": "code",
   "execution_count": 6,
   "id": "0f962c53",
   "metadata": {},
   "outputs": [
    {
     "name": "stdout",
     "output_type": "stream",
     "text": [
      "Original array:\n",
      "[1 0 inf -inf nan numpy.datetime64('NaT')]\n",
      "Test a given array for finiteness:\n"
     ]
    },
    {
     "ename": "TypeError",
     "evalue": "ufunc 'isfinite' not supported for the input types, and the inputs could not be safely coerced to any supported types according to the casting rule ''safe''",
     "output_type": "error",
     "traceback": [
      "\u001b[0;31m---------------------------------------------------------------------------\u001b[0m",
      "\u001b[0;31mTypeError\u001b[0m                                 Traceback (most recent call last)",
      "Input \u001b[0;32mIn [6]\u001b[0m, in \u001b[0;36m<cell line: 6>\u001b[0;34m()\u001b[0m\n\u001b[1;32m      4\u001b[0m \u001b[38;5;28mprint\u001b[39m(x)\n\u001b[1;32m      5\u001b[0m \u001b[38;5;28mprint\u001b[39m(\u001b[38;5;124m\"\u001b[39m\u001b[38;5;124mTest a given array for finiteness:\u001b[39m\u001b[38;5;124m\"\u001b[39m)\n\u001b[0;32m----> 6\u001b[0m \u001b[38;5;28mprint\u001b[39m(\u001b[43mnp\u001b[49m\u001b[38;5;241;43m.\u001b[39;49m\u001b[43misfinite\u001b[49m\u001b[43m(\u001b[49m\u001b[43mx\u001b[49m\u001b[43m)\u001b[49m)\n\u001b[1;32m      7\u001b[0m \u001b[38;5;28mprint\u001b[39m(\u001b[38;5;124m\"\u001b[39m\u001b[38;5;124mTest a given array for positive or negative infinity:\u001b[39m\u001b[38;5;124m\"\u001b[39m)\n\u001b[1;32m      8\u001b[0m \u001b[38;5;28mprint\u001b[39m(np\u001b[38;5;241m.\u001b[39misinf(x))\n",
      "\u001b[0;31mTypeError\u001b[0m: ufunc 'isfinite' not supported for the input types, and the inputs could not be safely coerced to any supported types according to the casting rule ''safe''"
     ]
    }
   ],
   "source": [
    "import numpy as np \n",
    "x = np.array([1, 0, np.inf, -np.inf, np.nan, np.datetime64('NaT')])\n",
    "print(\"Original array:\")\n",
    "print(x)\n",
    "print(\"Test a given array for finiteness:\")\n",
    "print(np.isfinite(x))\n",
    "print(\"Test a given array for positive or negative infinity:\")\n",
    "print(np.isinf(x))\n",
    "print(\"Test a given array for NaN:\")\n",
    "print(np.isnan(x))\n",
    "print(\"Test a given array for NaT (not a time):\")\n",
    "print(np.isnat(x))"
   ]
  },
  {
   "cell_type": "code",
   "execution_count": 10,
   "id": "b82a6c11",
   "metadata": {},
   "outputs": [
    {
     "name": "stdout",
     "output_type": "stream",
     "text": [
      "Original array:\n",
      "[0, 1, 6, 1, 4, 1, 2, 2, 7]\n",
      "Number of occurrences of each value in array: \n"
     ]
    },
    {
     "ename": "NameError",
     "evalue": "name 'Counter' is not defined",
     "output_type": "error",
     "traceback": [
      "\u001b[0;31m---------------------------------------------------------------------------\u001b[0m",
      "\u001b[0;31mNameError\u001b[0m                                 Traceback (most recent call last)",
      "Input \u001b[0;32mIn [10]\u001b[0m, in \u001b[0;36m<cell line: 6>\u001b[0;34m()\u001b[0m\n\u001b[1;32m      3\u001b[0m \u001b[38;5;28mprint\u001b[39m(array_num)\n\u001b[1;32m      5\u001b[0m \u001b[38;5;28mprint\u001b[39m(\u001b[38;5;124m\"\u001b[39m\u001b[38;5;124mNumber of occurrences of each value in array: \u001b[39m\u001b[38;5;124m\"\u001b[39m)\n\u001b[0;32m----> 6\u001b[0m count_num \u001b[38;5;241m=\u001b[39m \u001b[43mCounter\u001b[49m(array_num)\n\u001b[1;32m      7\u001b[0m \u001b[38;5;28mprint\u001b[39m(count_num)\n",
      "\u001b[0;31mNameError\u001b[0m: name 'Counter' is not defined"
     ]
    }
   ],
   "source": [
    "array_num = [0, 1, 6, 1, 4, 1, 2, 2, 7]\n",
    "print(\"Original array:\")\n",
    "print(array_num)\n",
    "\n",
    "print(\"Number of occurrences of each value in array: \")\n",
    "count_num = Counter(array_num)\n",
    "print(count_num)"
   ]
  },
  {
   "cell_type": "code",
   "execution_count": 13,
   "id": "ba88cdc4",
   "metadata": {},
   "outputs": [
    {
     "name": "stdout",
     "output_type": "stream",
     "text": [
      "[0, 2, 2, 2, 2, 2]\n"
     ]
    }
   ],
   "source": [
    "import numpy as np\n",
    "import matplotlib.pyplot as plt\n",
    "\n",
    "def computeHistogram(nums, bins): \n",
    "    histogram = [0] * len(bins)\n",
    "    for num in nums:\n",
    "        for i in range(len(bins)):\n",
    "            if num <= bins[i]:\n",
    "                histogram[i] += 1\n",
    "                break\n",
    "    return histogram\n",
    "\n",
    "nums = [1, 2, 3, 4, 5, 6, 7, 8, 9, 10]\n",
    "bins = [0, 2, 4, 6, 8, 10]\n",
    "\n",
    "print(computeHistogram(nums, bins))\n",
    "# Output: [2, 2, 2, 2, 2]"
   ]
  },
  {
   "cell_type": "code",
   "execution_count": 14,
   "id": "776c9d01",
   "metadata": {},
   "outputs": [
    {
     "data": {
      "image/png": "[encoded data removed]",
      "text/plain": [
       "<Figure size 432x288 with 1 Axes>"
      ]
     },
     "metadata": {
      "needs_background": "light"
     },
     "output_type": "display_data"
    }
   ],
   "source": [
    "import matplotlib.pyplot as plt \n",
    "  \n",
    "# x-axis values \n",
    "x = [1,2,3,4,5,6,7,8,9,10] \n",
    "# y-axis values \n",
    "y = [2,4,5,7,6,8,9,11,12,12] \n",
    "  \n",
    "# plotting points as a scatter plot \n",
    "plt.scatter(x, y, label= \"stars\", color= \"green\",  \n",
    "            marker= \"*\", s=30) \n",
    "  \n",
    "# x-axis label \n",
    "plt.xlabel('x - axis') \n",
    "# frequency label \n",
    "plt.ylabel('y - axis') \n",
    "# plot title \n",
    "plt.title('My scatter plot!') \n",
    "# showing legend \n",
    "plt.legend() \n",
    "  \n",
    "# function to show the plot \n",
    "plt.show()"
   ]
  },
  {
   "cell_type": "code",
   "execution_count": 20,
   "id": "b1689a2f",
   "metadata": {},
   "outputs": [
    {
     "data": {
      "image/png": "[encoded data removed]",
      "text/plain": [
       "<Figure size 432x288 with 1 Axes>"
      ]
     },
     "metadata": {
      "needs_background": "light"
     },
     "output_type": "display_data"
    }
   ],
   "source": [
    "\n",
    "import matplotlib.pyplot as plt\n",
    "import numpy as np\n",
    "\n",
    "x = np.arange(40,180,20)\n",
    "y = np.arange(80,220,20)\n",
    "plt.scatter(x, y, color=\"blue\")\n",
    "plt.title(\"Scatter Plot\")\n",
    "plt.xlabel(\"x\")\n",
    "plt.ylabel(\"y\")\n",
    "plt.show()"
   ]
  },
  {
   "cell_type": "code",
   "execution_count": null,
   "id": "49590f41",
   "metadata": {},
   "outputs": [],
   "source": []
  }
 ],
 "metadata": {
  "kernelspec": {
   "display_name": "Python 3 (ipykernel)",
   "language": "python",
   "name": "python3"
  },
  "language_info": {
   "codemirror_mode": {
    "name": "ipython",
    "version": 3
   },
   "file_extension": ".py",
   "mimetype": "text/x-python",
   "name": "python",
   "nbconvert_exporter": "python",
   "pygments_lexer": "ipython3",
   "version": "3.9.12"
  }
 },
 "nbformat": 4,
 "nbformat_minor": 5
}
