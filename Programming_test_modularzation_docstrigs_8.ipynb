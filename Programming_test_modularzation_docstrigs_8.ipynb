{
 "cells": [
  {
   "cell_type": "code",
   "execution_count": null,
   "id": "428b8ffd",
   "metadata": {},
   "outputs": [],
   "source": [
    "5#Write a program to make your own module and import the py file as a module\n",
    "\n",
    "\n",
    "\n",
    "1#Write a simple code to make a package that contains modules\n",
    "\n",
    "2#How to use the built-in function dir()  to list all valid attributes and methods for that module? Module -math\n",
    "\n",
    "\n",
    "3#Write a code to see builtin modules name from a module, For example, sys\n",
    "\n",
    "\n",
    "4#Write a code to turn the Fibonacci function into a module, on import Fibonacci it would return the Fibonacci of a number.\n",
    "\n",
    "\n"
   ]
  },
  {
   "cell_type": "code",
   "execution_count": null,
   "id": "b9427ecb",
   "metadata": {},
   "outputs": [],
   "source": [
    "#5.Save this code in a file named mymodule.py\n",
    "\n",
    "def greeting(name):\n",
    "  print(\"Hello, \" + name)\n",
    "\n",
    "#Import the module named mymodule, and call the greeting function:\n",
    "\n",
    "import mymodule\n",
    "\n",
    "mymodule.greeting(\"Ekeeda\")\n",
    "\n"
   ]
  },
  {
   "cell_type": "code",
   "execution_count": null,
   "id": "88db9ac9",
   "metadata": {},
   "outputs": [],
   "source": [
    "#1.\n",
    "#Write a simple code to make a package that contains modules in python\n",
    "\n",
    "#Create a folder named \"my_package\" and inside it, create a file named __init__.py.\n",
    "\n",
    "#In the __init__.py file, you can write the code to import the modules you want to include in your package. For example, if you want to include the math and random modules, you would write the following in __init__.py:\n",
    "\n",
    "a_package\n",
    "   __init__.py\n",
    "   module_a.py\n",
    "   a_sub_package\n",
    "     __init__.py\n",
    "     module_b.py\n",
    "    \n",
    "    \n",
    "    import a_package\n",
    "    a_package.a_name\n",
    "    \n",
    "    "
   ]
  },
  {
   "cell_type": "code",
   "execution_count": null,
   "id": "b61eec0b",
   "metadata": {},
   "outputs": [],
   "source": [
    "2#How to use the built-in function dir()  to list all valid attributes and methods for that module? Module -math.\n",
    "\n",
    "dir(math)"
   ]
  },
  {
   "cell_type": "code",
   "execution_count": 1,
   "id": "4ac7833e",
   "metadata": {},
   "outputs": [
    {
     "name": "stdout",
     "output_type": "stream",
     "text": [
      "('_abc', '_ast', '_codecs', '_collections', '_functools', '_imp', '_io', '_locale', '_operator', '_peg_parser', '_signal', '_sre', '_stat', '_string', '_symtable', '_thread', '_tracemalloc', '_warnings', '_weakref', 'atexit', 'builtins', 'errno', 'faulthandler', 'gc', 'itertools', 'marshal', 'posix', 'pwd', 'sys', 'time', 'xxsubtype')\n"
     ]
    }
   ],
   "source": [
    "#3.Write a code to see builtin modules name from a module, For example, sys\n",
    "\n",
    "import sys\n",
    "\n",
    "print(sys.builtin_module_names)\n"
   ]
  },
  {
   "cell_type": "code",
   "execution_count": 7,
   "id": "fba4fb24",
   "metadata": {},
   "outputs": [],
   "source": [
    "#5.Write a code to turn the Fibonacci function into a module, on import Fibonacci it would return the Fibonacci of a number.\n",
    "\n",
    "def Fibonacci(n):\n",
    "    if n<0: \n",
    "        print(\"Incorrect input\") \n",
    "    elif n==1:\n",
    "        return 0\n",
    "    elif n==2:\n",
    "        return 1\n",
    "    else:\n",
    "        return Fibonacci(n)"
   ]
  },
  {
   "cell_type": "code",
   "execution_count": 9,
   "id": "da8c0ee1",
   "metadata": {},
   "outputs": [
    {
     "name": "stdout",
     "output_type": "stream",
     "text": [
      "Incorrect input\n"
     ]
    }
   ],
   "source": [
    "Fibonacci(-1)"
   ]
  },
  {
   "cell_type": "code",
   "execution_count": null,
   "id": "41ef9b07",
   "metadata": {},
   "outputs": [],
   "source": []
  }
 ],
 "metadata": {
  "kernelspec": {
   "display_name": "Python 3 (ipykernel)",
   "language": "python",
   "name": "python3"
  },
  "language_info": {
   "codemirror_mode": {
    "name": "ipython",
    "version": 3
   },
   "file_extension": ".py",
   "mimetype": "text/x-python",
   "name": "python",
   "nbconvert_exporter": "python",
   "pygments_lexer": "ipython3",
   "version": "3.9.12"
  }
 },
 "nbformat": 4,
 "nbformat_minor": 5
}
