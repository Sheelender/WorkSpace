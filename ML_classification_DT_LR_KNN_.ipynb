{
 "cells": [
  {
   "cell_type": "markdown",
   "id": "2e67ee20",
   "metadata": {},
   "source": [
    "## Objctive:\n",
    "\n",
    "- Will take bank marketing data set\n",
    "\n",
    "- Will apply Model developemnt\n",
    "\n",
    "- Logistic regression\n",
    "\n",
    "- Decision tree\n",
    "\n",
    "- Navi bayes\n",
    "\n",
    "- KNN\n",
    "\n",
    "- Evaluation techniques\n",
    "\n",
    "- Hyperparameter tuning"
   ]
  },
  {
   "cell_type": "code",
   "execution_count": 6,
   "id": "783923cc",
   "metadata": {},
   "outputs": [],
   "source": [
    "import numpy as np\n",
    "import pandas as pd\n",
    "import matplotlib.pyplot as plt\n",
    "import seaborn as sns"
   ]
  },
  {
   "cell_type": "code",
   "execution_count": 90,
   "id": "1b2be88a",
   "metadata": {},
   "outputs": [],
   "source": [
    "data=pd.read_csv('/Users/sheelendersharma1/Desktop/data sciece/bank.csv',sep=';')"
   ]
  },
  {
   "cell_type": "code",
   "execution_count": 91,
   "id": "f25d7505",
   "metadata": {},
   "outputs": [
    {
     "data": {
      "text/html": [
       "<div>\n",
       "<style scoped>\n",
       "    .dataframe tbody tr th:only-of-type {\n",
       "        vertical-align: middle;\n",
       "    }\n",
       "\n",
       "    .dataframe tbody tr th {\n",
       "        vertical-align: top;\n",
       "    }\n",
       "\n",
       "    .dataframe thead th {\n",
       "        text-align: right;\n",
       "    }\n",
       "</style>\n",
       "<table border=\"1\" class=\"dataframe\">\n",
       "  <thead>\n",
       "    <tr style=\"text-align: right;\">\n",
       "      <th></th>\n",
       "      <th>age</th>\n",
       "      <th>job</th>\n",
       "      <th>marital</th>\n",
       "      <th>education</th>\n",
       "      <th>default</th>\n",
       "      <th>balance</th>\n",
       "      <th>housing</th>\n",
       "      <th>loan</th>\n",
       "      <th>contact</th>\n",
       "      <th>day</th>\n",
       "      <th>month</th>\n",
       "      <th>duration</th>\n",
       "      <th>campaign</th>\n",
       "      <th>pdays</th>\n",
       "      <th>previous</th>\n",
       "      <th>poutcome</th>\n",
       "      <th>y</th>\n",
       "    </tr>\n",
       "  </thead>\n",
       "  <tbody>\n",
       "    <tr>\n",
       "      <th>0</th>\n",
       "      <td>30</td>\n",
       "      <td>unemployed</td>\n",
       "      <td>married</td>\n",
       "      <td>primary</td>\n",
       "      <td>no</td>\n",
       "      <td>1787</td>\n",
       "      <td>no</td>\n",
       "      <td>no</td>\n",
       "      <td>cellular</td>\n",
       "      <td>19</td>\n",
       "      <td>oct</td>\n",
       "      <td>79</td>\n",
       "      <td>1</td>\n",
       "      <td>-1</td>\n",
       "      <td>0</td>\n",
       "      <td>unknown</td>\n",
       "      <td>no</td>\n",
       "    </tr>\n",
       "    <tr>\n",
       "      <th>1</th>\n",
       "      <td>33</td>\n",
       "      <td>services</td>\n",
       "      <td>married</td>\n",
       "      <td>secondary</td>\n",
       "      <td>no</td>\n",
       "      <td>4789</td>\n",
       "      <td>yes</td>\n",
       "      <td>yes</td>\n",
       "      <td>cellular</td>\n",
       "      <td>11</td>\n",
       "      <td>may</td>\n",
       "      <td>220</td>\n",
       "      <td>1</td>\n",
       "      <td>339</td>\n",
       "      <td>4</td>\n",
       "      <td>failure</td>\n",
       "      <td>no</td>\n",
       "    </tr>\n",
       "    <tr>\n",
       "      <th>2</th>\n",
       "      <td>35</td>\n",
       "      <td>management</td>\n",
       "      <td>single</td>\n",
       "      <td>tertiary</td>\n",
       "      <td>no</td>\n",
       "      <td>1350</td>\n",
       "      <td>yes</td>\n",
       "      <td>no</td>\n",
       "      <td>cellular</td>\n",
       "      <td>16</td>\n",
       "      <td>apr</td>\n",
       "      <td>185</td>\n",
       "      <td>1</td>\n",
       "      <td>330</td>\n",
       "      <td>1</td>\n",
       "      <td>failure</td>\n",
       "      <td>no</td>\n",
       "    </tr>\n",
       "    <tr>\n",
       "      <th>3</th>\n",
       "      <td>30</td>\n",
       "      <td>management</td>\n",
       "      <td>married</td>\n",
       "      <td>tertiary</td>\n",
       "      <td>no</td>\n",
       "      <td>1476</td>\n",
       "      <td>yes</td>\n",
       "      <td>yes</td>\n",
       "      <td>unknown</td>\n",
       "      <td>3</td>\n",
       "      <td>jun</td>\n",
       "      <td>199</td>\n",
       "      <td>4</td>\n",
       "      <td>-1</td>\n",
       "      <td>0</td>\n",
       "      <td>unknown</td>\n",
       "      <td>no</td>\n",
       "    </tr>\n",
       "    <tr>\n",
       "      <th>4</th>\n",
       "      <td>59</td>\n",
       "      <td>blue-collar</td>\n",
       "      <td>married</td>\n",
       "      <td>secondary</td>\n",
       "      <td>no</td>\n",
       "      <td>0</td>\n",
       "      <td>yes</td>\n",
       "      <td>no</td>\n",
       "      <td>unknown</td>\n",
       "      <td>5</td>\n",
       "      <td>may</td>\n",
       "      <td>226</td>\n",
       "      <td>1</td>\n",
       "      <td>-1</td>\n",
       "      <td>0</td>\n",
       "      <td>unknown</td>\n",
       "      <td>no</td>\n",
       "    </tr>\n",
       "  </tbody>\n",
       "</table>\n",
       "</div>"
      ],
      "text/plain": [
       "   age          job  marital  education default  balance housing loan  \\\n",
       "0   30   unemployed  married    primary      no     1787      no   no   \n",
       "1   33     services  married  secondary      no     4789     yes  yes   \n",
       "2   35   management   single   tertiary      no     1350     yes   no   \n",
       "3   30   management  married   tertiary      no     1476     yes  yes   \n",
       "4   59  blue-collar  married  secondary      no        0     yes   no   \n",
       "\n",
       "    contact  day month  duration  campaign  pdays  previous poutcome   y  \n",
       "0  cellular   19   oct        79         1     -1         0  unknown  no  \n",
       "1  cellular   11   may       220         1    339         4  failure  no  \n",
       "2  cellular   16   apr       185         1    330         1  failure  no  \n",
       "3   unknown    3   jun       199         4     -1         0  unknown  no  \n",
       "4   unknown    5   may       226         1     -1         0  unknown  no  "
      ]
     },
     "execution_count": 91,
     "metadata": {},
     "output_type": "execute_result"
    }
   ],
   "source": [
    "data.head()"
   ]
  },
  {
   "cell_type": "code",
   "execution_count": 92,
   "id": "a8865ac2",
   "metadata": {},
   "outputs": [
    {
     "data": {
      "text/plain": [
       "age           int64\n",
       "job          object\n",
       "marital      object\n",
       "education    object\n",
       "default      object\n",
       "balance       int64\n",
       "housing      object\n",
       "loan         object\n",
       "contact      object\n",
       "day           int64\n",
       "month        object\n",
       "duration      int64\n",
       "campaign      int64\n",
       "pdays         int64\n",
       "previous      int64\n",
       "poutcome     object\n",
       "y            object\n",
       "dtype: object"
      ]
     },
     "execution_count": 92,
     "metadata": {},
     "output_type": "execute_result"
    }
   ],
   "source": [
    "data.dtypes"
   ]
  },
  {
   "cell_type": "markdown",
   "id": "fd297321",
   "metadata": {},
   "source": [
    "*step -3:*"
   ]
  },
  {
   "cell_type": "markdown",
   "id": "91d07b54",
   "metadata": {},
   "source": [
    "- you need to perform EDA\n",
    "- you need to understand about features\n",
    "- you need to perform feature selection"
   ]
  },
  {
   "cell_type": "markdown",
   "id": "4785c610",
   "metadata": {},
   "source": [
    "*step-4:*\n",
    "    "
   ]
  },
  {
   "cell_type": "markdown",
   "id": "2a9356a6",
   "metadata": {},
   "source": [
    "# convert categorical column to numerical data\n",
    "\n",
    "- Mapping technique\n",
    "- get dummies\n",
    "- lables encoder"
   ]
  },
  {
   "cell_type": "code",
   "execution_count": 93,
   "id": "8cb3d21e",
   "metadata": {},
   "outputs": [],
   "source": [
    "# will seperate categorical columns\n",
    "\n",
    "#for key in dict(data.dtypes):\n",
    "#    if dict(data.dtypes)[key] in ['object']\n",
    " #   print(key)\n",
    "    \n",
    "\n",
    "    \n",
    "cat=[key for key in dict(data.dtypes) if dict(data.dtypes)[key] in ['object']]"
   ]
  },
  {
   "cell_type": "code",
   "execution_count": 94,
   "id": "269e71de",
   "metadata": {},
   "outputs": [
    {
     "data": {
      "text/plain": [
       "['job',\n",
       " 'marital',\n",
       " 'education',\n",
       " 'default',\n",
       " 'housing',\n",
       " 'loan',\n",
       " 'contact',\n",
       " 'month',\n",
       " 'poutcome',\n",
       " 'y']"
      ]
     },
     "execution_count": 94,
     "metadata": {},
     "output_type": "execute_result"
    }
   ],
   "source": [
    "cat"
   ]
  },
  {
   "cell_type": "markdown",
   "id": "2769c8aa",
   "metadata": {},
   "source": [
    "$Label Encoder$"
   ]
  },
  {
   "cell_type": "code",
   "execution_count": 95,
   "id": "0c8c483e",
   "metadata": {},
   "outputs": [],
   "source": [
    "from sklearn.preprocessing import LabelEncoder\n",
    "l=LabelEncoder()\n",
    "for i in cat:\n",
    "    data[i]=l.fit_transform(data[i])\n",
    "    \n",
    "   # data['job']=l.fit_transform(data['job'])"
   ]
  },
  {
   "cell_type": "code",
   "execution_count": 96,
   "id": "b3c68295",
   "metadata": {},
   "outputs": [
    {
     "data": {
      "text/html": [
       "<div>\n",
       "<style scoped>\n",
       "    .dataframe tbody tr th:only-of-type {\n",
       "        vertical-align: middle;\n",
       "    }\n",
       "\n",
       "    .dataframe tbody tr th {\n",
       "        vertical-align: top;\n",
       "    }\n",
       "\n",
       "    .dataframe thead th {\n",
       "        text-align: right;\n",
       "    }\n",
       "</style>\n",
       "<table border=\"1\" class=\"dataframe\">\n",
       "  <thead>\n",
       "    <tr style=\"text-align: right;\">\n",
       "      <th></th>\n",
       "      <th>age</th>\n",
       "      <th>job</th>\n",
       "      <th>marital</th>\n",
       "      <th>education</th>\n",
       "      <th>default</th>\n",
       "      <th>balance</th>\n",
       "      <th>housing</th>\n",
       "      <th>loan</th>\n",
       "      <th>contact</th>\n",
       "      <th>day</th>\n",
       "      <th>month</th>\n",
       "      <th>duration</th>\n",
       "      <th>campaign</th>\n",
       "      <th>pdays</th>\n",
       "      <th>previous</th>\n",
       "      <th>poutcome</th>\n",
       "      <th>y</th>\n",
       "    </tr>\n",
       "  </thead>\n",
       "  <tbody>\n",
       "    <tr>\n",
       "      <th>0</th>\n",
       "      <td>30</td>\n",
       "      <td>10</td>\n",
       "      <td>1</td>\n",
       "      <td>0</td>\n",
       "      <td>0</td>\n",
       "      <td>1787</td>\n",
       "      <td>0</td>\n",
       "      <td>0</td>\n",
       "      <td>0</td>\n",
       "      <td>19</td>\n",
       "      <td>10</td>\n",
       "      <td>79</td>\n",
       "      <td>1</td>\n",
       "      <td>-1</td>\n",
       "      <td>0</td>\n",
       "      <td>3</td>\n",
       "      <td>0</td>\n",
       "    </tr>\n",
       "    <tr>\n",
       "      <th>1</th>\n",
       "      <td>33</td>\n",
       "      <td>7</td>\n",
       "      <td>1</td>\n",
       "      <td>1</td>\n",
       "      <td>0</td>\n",
       "      <td>4789</td>\n",
       "      <td>1</td>\n",
       "      <td>1</td>\n",
       "      <td>0</td>\n",
       "      <td>11</td>\n",
       "      <td>8</td>\n",
       "      <td>220</td>\n",
       "      <td>1</td>\n",
       "      <td>339</td>\n",
       "      <td>4</td>\n",
       "      <td>0</td>\n",
       "      <td>0</td>\n",
       "    </tr>\n",
       "    <tr>\n",
       "      <th>2</th>\n",
       "      <td>35</td>\n",
       "      <td>4</td>\n",
       "      <td>2</td>\n",
       "      <td>2</td>\n",
       "      <td>0</td>\n",
       "      <td>1350</td>\n",
       "      <td>1</td>\n",
       "      <td>0</td>\n",
       "      <td>0</td>\n",
       "      <td>16</td>\n",
       "      <td>0</td>\n",
       "      <td>185</td>\n",
       "      <td>1</td>\n",
       "      <td>330</td>\n",
       "      <td>1</td>\n",
       "      <td>0</td>\n",
       "      <td>0</td>\n",
       "    </tr>\n",
       "    <tr>\n",
       "      <th>3</th>\n",
       "      <td>30</td>\n",
       "      <td>4</td>\n",
       "      <td>1</td>\n",
       "      <td>2</td>\n",
       "      <td>0</td>\n",
       "      <td>1476</td>\n",
       "      <td>1</td>\n",
       "      <td>1</td>\n",
       "      <td>2</td>\n",
       "      <td>3</td>\n",
       "      <td>6</td>\n",
       "      <td>199</td>\n",
       "      <td>4</td>\n",
       "      <td>-1</td>\n",
       "      <td>0</td>\n",
       "      <td>3</td>\n",
       "      <td>0</td>\n",
       "    </tr>\n",
       "    <tr>\n",
       "      <th>4</th>\n",
       "      <td>59</td>\n",
       "      <td>1</td>\n",
       "      <td>1</td>\n",
       "      <td>1</td>\n",
       "      <td>0</td>\n",
       "      <td>0</td>\n",
       "      <td>1</td>\n",
       "      <td>0</td>\n",
       "      <td>2</td>\n",
       "      <td>5</td>\n",
       "      <td>8</td>\n",
       "      <td>226</td>\n",
       "      <td>1</td>\n",
       "      <td>-1</td>\n",
       "      <td>0</td>\n",
       "      <td>3</td>\n",
       "      <td>0</td>\n",
       "    </tr>\n",
       "  </tbody>\n",
       "</table>\n",
       "</div>"
      ],
      "text/plain": [
       "   age  job  marital  education  default  balance  housing  loan  contact  \\\n",
       "0   30   10        1          0        0     1787        0     0        0   \n",
       "1   33    7        1          1        0     4789        1     1        0   \n",
       "2   35    4        2          2        0     1350        1     0        0   \n",
       "3   30    4        1          2        0     1476        1     1        2   \n",
       "4   59    1        1          1        0        0        1     0        2   \n",
       "\n",
       "   day  month  duration  campaign  pdays  previous  poutcome  y  \n",
       "0   19     10        79         1     -1         0         3  0  \n",
       "1   11      8       220         1    339         4         0  0  \n",
       "2   16      0       185         1    330         1         0  0  \n",
       "3    3      6       199         4     -1         0         3  0  \n",
       "4    5      8       226         1     -1         0         3  0  "
      ]
     },
     "execution_count": 96,
     "metadata": {},
     "output_type": "execute_result"
    }
   ],
   "source": [
    "data.head()"
   ]
  },
  {
   "cell_type": "markdown",
   "id": "270f1cbd",
   "metadata": {},
   "source": [
    "$Step-5$\n",
    "\n",
    "*Divide data into input and output*\n"
   ]
  },
  {
   "cell_type": "code",
   "execution_count": 97,
   "id": "ec52f0bc",
   "metadata": {},
   "outputs": [],
   "source": [
    "# in our data output column is 'y'\n",
    "# will drop that column so that we have input data\n",
    "# will select only 'y' column so that we have output data\n",
    "\n",
    "X=data.drop('y',axis=1)\n",
    "y=data['y']"
   ]
  },
  {
   "cell_type": "code",
   "execution_count": 98,
   "id": "3f4e9f08",
   "metadata": {},
   "outputs": [
    {
     "data": {
      "text/html": [
       "<div>\n",
       "<style scoped>\n",
       "    .dataframe tbody tr th:only-of-type {\n",
       "        vertical-align: middle;\n",
       "    }\n",
       "\n",
       "    .dataframe tbody tr th {\n",
       "        vertical-align: top;\n",
       "    }\n",
       "\n",
       "    .dataframe thead th {\n",
       "        text-align: right;\n",
       "    }\n",
       "</style>\n",
       "<table border=\"1\" class=\"dataframe\">\n",
       "  <thead>\n",
       "    <tr style=\"text-align: right;\">\n",
       "      <th></th>\n",
       "      <th>age</th>\n",
       "      <th>job</th>\n",
       "      <th>marital</th>\n",
       "      <th>education</th>\n",
       "      <th>default</th>\n",
       "      <th>balance</th>\n",
       "      <th>housing</th>\n",
       "      <th>loan</th>\n",
       "      <th>contact</th>\n",
       "      <th>day</th>\n",
       "      <th>month</th>\n",
       "      <th>duration</th>\n",
       "      <th>campaign</th>\n",
       "      <th>pdays</th>\n",
       "      <th>previous</th>\n",
       "      <th>poutcome</th>\n",
       "    </tr>\n",
       "  </thead>\n",
       "  <tbody>\n",
       "    <tr>\n",
       "      <th>0</th>\n",
       "      <td>30</td>\n",
       "      <td>10</td>\n",
       "      <td>1</td>\n",
       "      <td>0</td>\n",
       "      <td>0</td>\n",
       "      <td>1787</td>\n",
       "      <td>0</td>\n",
       "      <td>0</td>\n",
       "      <td>0</td>\n",
       "      <td>19</td>\n",
       "      <td>10</td>\n",
       "      <td>79</td>\n",
       "      <td>1</td>\n",
       "      <td>-1</td>\n",
       "      <td>0</td>\n",
       "      <td>3</td>\n",
       "    </tr>\n",
       "    <tr>\n",
       "      <th>1</th>\n",
       "      <td>33</td>\n",
       "      <td>7</td>\n",
       "      <td>1</td>\n",
       "      <td>1</td>\n",
       "      <td>0</td>\n",
       "      <td>4789</td>\n",
       "      <td>1</td>\n",
       "      <td>1</td>\n",
       "      <td>0</td>\n",
       "      <td>11</td>\n",
       "      <td>8</td>\n",
       "      <td>220</td>\n",
       "      <td>1</td>\n",
       "      <td>339</td>\n",
       "      <td>4</td>\n",
       "      <td>0</td>\n",
       "    </tr>\n",
       "    <tr>\n",
       "      <th>2</th>\n",
       "      <td>35</td>\n",
       "      <td>4</td>\n",
       "      <td>2</td>\n",
       "      <td>2</td>\n",
       "      <td>0</td>\n",
       "      <td>1350</td>\n",
       "      <td>1</td>\n",
       "      <td>0</td>\n",
       "      <td>0</td>\n",
       "      <td>16</td>\n",
       "      <td>0</td>\n",
       "      <td>185</td>\n",
       "      <td>1</td>\n",
       "      <td>330</td>\n",
       "      <td>1</td>\n",
       "      <td>0</td>\n",
       "    </tr>\n",
       "    <tr>\n",
       "      <th>3</th>\n",
       "      <td>30</td>\n",
       "      <td>4</td>\n",
       "      <td>1</td>\n",
       "      <td>2</td>\n",
       "      <td>0</td>\n",
       "      <td>1476</td>\n",
       "      <td>1</td>\n",
       "      <td>1</td>\n",
       "      <td>2</td>\n",
       "      <td>3</td>\n",
       "      <td>6</td>\n",
       "      <td>199</td>\n",
       "      <td>4</td>\n",
       "      <td>-1</td>\n",
       "      <td>0</td>\n",
       "      <td>3</td>\n",
       "    </tr>\n",
       "    <tr>\n",
       "      <th>4</th>\n",
       "      <td>59</td>\n",
       "      <td>1</td>\n",
       "      <td>1</td>\n",
       "      <td>1</td>\n",
       "      <td>0</td>\n",
       "      <td>0</td>\n",
       "      <td>1</td>\n",
       "      <td>0</td>\n",
       "      <td>2</td>\n",
       "      <td>5</td>\n",
       "      <td>8</td>\n",
       "      <td>226</td>\n",
       "      <td>1</td>\n",
       "      <td>-1</td>\n",
       "      <td>0</td>\n",
       "      <td>3</td>\n",
       "    </tr>\n",
       "  </tbody>\n",
       "</table>\n",
       "</div>"
      ],
      "text/plain": [
       "   age  job  marital  education  default  balance  housing  loan  contact  \\\n",
       "0   30   10        1          0        0     1787        0     0        0   \n",
       "1   33    7        1          1        0     4789        1     1        0   \n",
       "2   35    4        2          2        0     1350        1     0        0   \n",
       "3   30    4        1          2        0     1476        1     1        2   \n",
       "4   59    1        1          1        0        0        1     0        2   \n",
       "\n",
       "   day  month  duration  campaign  pdays  previous  poutcome  \n",
       "0   19     10        79         1     -1         0         3  \n",
       "1   11      8       220         1    339         4         0  \n",
       "2   16      0       185         1    330         1         0  \n",
       "3    3      6       199         4     -1         0         3  \n",
       "4    5      8       226         1     -1         0         3  "
      ]
     },
     "execution_count": 98,
     "metadata": {},
     "output_type": "execute_result"
    }
   ],
   "source": [
    "X.head()"
   ]
  },
  {
   "cell_type": "code",
   "execution_count": 99,
   "id": "bdf97be5",
   "metadata": {},
   "outputs": [
    {
     "data": {
      "text/plain": [
       "0    0\n",
       "1    0\n",
       "2    0\n",
       "3    0\n",
       "4    0\n",
       "Name: y, dtype: int64"
      ]
     },
     "execution_count": 99,
     "metadata": {},
     "output_type": "execute_result"
    }
   ],
   "source": [
    "y.head()"
   ]
  },
  {
   "cell_type": "markdown",
   "id": "ed242a84",
   "metadata": {},
   "source": [
    "- Divide data into input(X) and output(y)\n",
    "\n",
    "- Divide input data into two parts train input data(X_train) and test input data(X_test)\n",
    "\n",
    "- Divide output data into two parts train output data(y_train) and test output data(y_test)\n",
    "\n",
    "- Model will develop using train input data(X_train) and train output data(y_train)\n",
    "\n",
    "- Pass test input data(X_test) to the model\n",
    "\n",
    "- Then model will give y_predicted data\n",
    "\n",
    "- Now compare y_predictions with test output data(y_test)"
   ]
  },
  {
   "cell_type": "markdown",
   "id": "477a4f71",
   "metadata": {},
   "source": [
    "$step-6$\n",
    "**Apply train test split**"
   ]
  },
  {
   "cell_type": "code",
   "execution_count": 100,
   "id": "0d659a59",
   "metadata": {},
   "outputs": [],
   "source": [
    "from sklearn.model_selection import train_test_split\n",
    "X_train,X_test,y_train,y_test=train_test_split(X,y,test_size=0.3,random_state=1234)"
   ]
  },
  {
   "cell_type": "code",
   "execution_count": 101,
   "id": "9734737a",
   "metadata": {},
   "outputs": [
    {
     "data": {
      "text/plain": [
       "((3164, 16), (1357, 16), (1357,), (3164,))"
      ]
     },
     "execution_count": 101,
     "metadata": {},
     "output_type": "execute_result"
    }
   ],
   "source": [
    "X_train.shape,X_test.shape,y_test.shape,y_train.shape"
   ]
  },
  {
   "cell_type": "code",
   "execution_count": 102,
   "id": "3e3379fd",
   "metadata": {},
   "outputs": [
    {
     "data": {
      "text/html": [
       "<div>\n",
       "<style scoped>\n",
       "    .dataframe tbody tr th:only-of-type {\n",
       "        vertical-align: middle;\n",
       "    }\n",
       "\n",
       "    .dataframe tbody tr th {\n",
       "        vertical-align: top;\n",
       "    }\n",
       "\n",
       "    .dataframe thead th {\n",
       "        text-align: right;\n",
       "    }\n",
       "</style>\n",
       "<table border=\"1\" class=\"dataframe\">\n",
       "  <thead>\n",
       "    <tr style=\"text-align: right;\">\n",
       "      <th></th>\n",
       "      <th>age</th>\n",
       "      <th>job</th>\n",
       "      <th>marital</th>\n",
       "      <th>education</th>\n",
       "      <th>default</th>\n",
       "      <th>balance</th>\n",
       "      <th>housing</th>\n",
       "      <th>loan</th>\n",
       "      <th>contact</th>\n",
       "      <th>day</th>\n",
       "      <th>month</th>\n",
       "      <th>duration</th>\n",
       "      <th>campaign</th>\n",
       "      <th>pdays</th>\n",
       "      <th>previous</th>\n",
       "      <th>poutcome</th>\n",
       "    </tr>\n",
       "  </thead>\n",
       "  <tbody>\n",
       "    <tr>\n",
       "      <th>679</th>\n",
       "      <td>44</td>\n",
       "      <td>3</td>\n",
       "      <td>1</td>\n",
       "      <td>0</td>\n",
       "      <td>0</td>\n",
       "      <td>3706</td>\n",
       "      <td>0</td>\n",
       "      <td>0</td>\n",
       "      <td>2</td>\n",
       "      <td>17</td>\n",
       "      <td>6</td>\n",
       "      <td>209</td>\n",
       "      <td>3</td>\n",
       "      <td>-1</td>\n",
       "      <td>0</td>\n",
       "      <td>3</td>\n",
       "    </tr>\n",
       "    <tr>\n",
       "      <th>3214</th>\n",
       "      <td>41</td>\n",
       "      <td>1</td>\n",
       "      <td>1</td>\n",
       "      <td>0</td>\n",
       "      <td>0</td>\n",
       "      <td>-204</td>\n",
       "      <td>1</td>\n",
       "      <td>1</td>\n",
       "      <td>2</td>\n",
       "      <td>6</td>\n",
       "      <td>6</td>\n",
       "      <td>42</td>\n",
       "      <td>1</td>\n",
       "      <td>-1</td>\n",
       "      <td>0</td>\n",
       "      <td>3</td>\n",
       "    </tr>\n",
       "    <tr>\n",
       "      <th>1925</th>\n",
       "      <td>33</td>\n",
       "      <td>7</td>\n",
       "      <td>1</td>\n",
       "      <td>1</td>\n",
       "      <td>0</td>\n",
       "      <td>0</td>\n",
       "      <td>1</td>\n",
       "      <td>0</td>\n",
       "      <td>1</td>\n",
       "      <td>22</td>\n",
       "      <td>5</td>\n",
       "      <td>44</td>\n",
       "      <td>8</td>\n",
       "      <td>-1</td>\n",
       "      <td>0</td>\n",
       "      <td>3</td>\n",
       "    </tr>\n",
       "    <tr>\n",
       "      <th>234</th>\n",
       "      <td>30</td>\n",
       "      <td>8</td>\n",
       "      <td>2</td>\n",
       "      <td>1</td>\n",
       "      <td>0</td>\n",
       "      <td>3096</td>\n",
       "      <td>0</td>\n",
       "      <td>0</td>\n",
       "      <td>0</td>\n",
       "      <td>26</td>\n",
       "      <td>4</td>\n",
       "      <td>123</td>\n",
       "      <td>1</td>\n",
       "      <td>-1</td>\n",
       "      <td>0</td>\n",
       "      <td>3</td>\n",
       "    </tr>\n",
       "    <tr>\n",
       "      <th>2807</th>\n",
       "      <td>60</td>\n",
       "      <td>0</td>\n",
       "      <td>1</td>\n",
       "      <td>3</td>\n",
       "      <td>0</td>\n",
       "      <td>1088</td>\n",
       "      <td>1</td>\n",
       "      <td>0</td>\n",
       "      <td>0</td>\n",
       "      <td>26</td>\n",
       "      <td>8</td>\n",
       "      <td>149</td>\n",
       "      <td>1</td>\n",
       "      <td>-1</td>\n",
       "      <td>0</td>\n",
       "      <td>3</td>\n",
       "    </tr>\n",
       "  </tbody>\n",
       "</table>\n",
       "</div>"
      ],
      "text/plain": [
       "      age  job  marital  education  default  balance  housing  loan  contact  \\\n",
       "679    44    3        1          0        0     3706        0     0        2   \n",
       "3214   41    1        1          0        0     -204        1     1        2   \n",
       "1925   33    7        1          1        0        0        1     0        1   \n",
       "234    30    8        2          1        0     3096        0     0        0   \n",
       "2807   60    0        1          3        0     1088        1     0        0   \n",
       "\n",
       "      day  month  duration  campaign  pdays  previous  poutcome  \n",
       "679    17      6       209         3     -1         0         3  \n",
       "3214    6      6        42         1     -1         0         3  \n",
       "1925   22      5        44         8     -1         0         3  \n",
       "234    26      4       123         1     -1         0         3  \n",
       "2807   26      8       149         1     -1         0         3  "
      ]
     },
     "execution_count": 102,
     "metadata": {},
     "output_type": "execute_result"
    }
   ],
   "source": [
    "X_train.head()"
   ]
  },
  {
   "cell_type": "code",
   "execution_count": 103,
   "id": "5406e35f",
   "metadata": {},
   "outputs": [
    {
     "data": {
      "text/plain": [
       "(4521, 17)"
      ]
     },
     "execution_count": 103,
     "metadata": {},
     "output_type": "execute_result"
    }
   ],
   "source": [
    "data.shape"
   ]
  },
  {
   "cell_type": "code",
   "execution_count": 104,
   "id": "00300f85",
   "metadata": {},
   "outputs": [
    {
     "data": {
      "text/plain": [
       "679     0\n",
       "3214    0\n",
       "1925    0\n",
       "234     0\n",
       "2807    0\n",
       "Name: y, dtype: int64"
      ]
     },
     "execution_count": 104,
     "metadata": {},
     "output_type": "execute_result"
    }
   ],
   "source": [
    "y_train.head()"
   ]
  },
  {
   "cell_type": "markdown",
   "id": "c2f37530",
   "metadata": {},
   "source": [
    "# case-1:with out standardization of data\n",
    "\n"
   ]
  },
  {
   "cell_type": "markdown",
   "id": "991e368b",
   "metadata": {},
   "source": [
    "## with out Hyperpramater tuning"
   ]
  },
  {
   "cell_type": "markdown",
   "id": "6b5be0ff",
   "metadata": {},
   "source": [
    "$step-7$:\n",
    "    \n",
    "**Model Development**"
   ]
  },
  {
   "cell_type": "markdown",
   "id": "5f6debac",
   "metadata": {},
   "source": [
    "### 1.Decision Tree"
   ]
  },
  {
   "cell_type": "code",
   "execution_count": 105,
   "id": "7bb07e3a",
   "metadata": {},
   "outputs": [
    {
     "data": {
      "text/plain": [
       "DecisionTreeClassifier()"
      ]
     },
     "execution_count": 105,
     "metadata": {},
     "output_type": "execute_result"
    }
   ],
   "source": [
    "from sklearn.tree import DecisionTreeClassifier\n",
    "tree_model=DecisionTreeClassifier()\n",
    "tree_model"
   ]
  },
  {
   "cell_type": "code",
   "execution_count": 106,
   "id": "c579258d",
   "metadata": {},
   "outputs": [
    {
     "data": {
      "text/plain": [
       "{'ccp_alpha': 0.0,\n",
       " 'class_weight': None,\n",
       " 'criterion': 'gini',\n",
       " 'max_depth': None,\n",
       " 'max_features': None,\n",
       " 'max_leaf_nodes': None,\n",
       " 'min_impurity_decrease': 0.0,\n",
       " 'min_samples_leaf': 1,\n",
       " 'min_samples_split': 2,\n",
       " 'min_weight_fraction_leaf': 0.0,\n",
       " 'random_state': None,\n",
       " 'splitter': 'best'}"
      ]
     },
     "execution_count": 106,
     "metadata": {},
     "output_type": "execute_result"
    }
   ],
   "source": [
    "tree_model.get_params()"
   ]
  },
  {
   "cell_type": "code",
   "execution_count": 107,
   "id": "11b6c4cf",
   "metadata": {},
   "outputs": [
    {
     "data": {
      "text/plain": [
       "DecisionTreeClassifier()"
      ]
     },
     "execution_count": 107,
     "metadata": {},
     "output_type": "execute_result"
    }
   ],
   "source": [
    "tree_model.fit(X=X_train,y=y_train)"
   ]
  },
  {
   "cell_type": "code",
   "execution_count": null,
   "id": "a24b40c5",
   "metadata": {},
   "outputs": [],
   "source": []
  },
  {
   "cell_type": "markdown",
   "id": "f9c7130f",
   "metadata": {},
   "source": [
    "$Step-8$\n",
    "**Prediction**"
   ]
  },
  {
   "cell_type": "code",
   "execution_count": 108,
   "id": "211fb051",
   "metadata": {},
   "outputs": [
    {
     "data": {
      "text/plain": [
       "array([0, 0, 0, ..., 0, 0, 0])"
      ]
     },
     "execution_count": 108,
     "metadata": {},
     "output_type": "execute_result"
    }
   ],
   "source": [
    "y_dt_pred=tree_model.predict(X_test)\n",
    "y_dt_pred"
   ]
  },
  {
   "cell_type": "code",
   "execution_count": 109,
   "id": "f8f3896f",
   "metadata": {},
   "outputs": [
    {
     "name": "stdout",
     "output_type": "stream",
     "text": [
      "[0 0 0 0 0 0 0 0 0 0 0 0 0 0 0 0 0 0 0 0]\n",
      "[0 0 0 0 0 0 1 0 0 0 0 0 0 0 0 0 0 0 0 0]\n"
     ]
    }
   ],
   "source": [
    "print(y_test.values[:20])\n",
    "print(y_dt_pred[:20])"
   ]
  },
  {
   "cell_type": "markdown",
   "id": "28ae512c",
   "metadata": {},
   "source": [
    "$step-9$"
   ]
  },
  {
   "cell_type": "markdown",
   "id": "488c97d2",
   "metadata": {},
   "source": [
    "**Evalaition**"
   ]
  },
  {
   "cell_type": "code",
   "execution_count": 110,
   "id": "42b0ee5f",
   "metadata": {},
   "outputs": [],
   "source": [
    "from sklearn.metrics import accuracy_score,precision_score,recall_score,f1_score\n",
    "from sklearn.metrics import classification_report,roc_auc_score\n",
    "from sklearn.metrics import confusion_matrix"
   ]
  },
  {
   "cell_type": "code",
   "execution_count": 111,
   "id": "9fc8fab3",
   "metadata": {},
   "outputs": [
    {
     "name": "stdout",
     "output_type": "stream",
     "text": [
      "Accuracy using DT: 86.0\n"
     ]
    }
   ],
   "source": [
    "# Accuracy_score\n",
    "\n",
    "dt_acc=accuracy_score(y_test,y_dt_pred)\n",
    "dt_acc=round(dt_acc,2)*100\n",
    "print(\"Accuracy using DT:\",dt_acc)"
   ]
  },
  {
   "cell_type": "code",
   "execution_count": 112,
   "id": "6cb0490f",
   "metadata": {},
   "outputs": [
    {
     "data": {
      "text/plain": [
       "array([[1104,   95],\n",
       "       [  98,   60]])"
      ]
     },
     "execution_count": 112,
     "metadata": {},
     "output_type": "execute_result"
    }
   ],
   "source": [
    "# confusion matrix:\n",
    "\n",
    "dt_cnf=confusion_matrix(y_test,y_dt_pred)\n",
    "dt_cnf\n"
   ]
  },
  {
   "cell_type": "markdown",
   "id": "022d44bd",
   "metadata": {},
   "source": [
    "<img src=\"https://miro.medium.com/v2/resize:fit:712/1*Z54JgbS4DUwWSknhDCvNTQ.png\" jsaction=\"load:XAeZkd;\" jsname=\"HiaYvf\" class=\"n3VNCb pT0Scc KAlRDb\" alt=\"Understanding Confusion Matrix | by Sarang Narkhede | Towards Data Science\" data-noaft=\"1\" style=\"width: 353.333px; height: 265px; margin: 0px;\">"
   ]
  },
  {
   "cell_type": "code",
   "execution_count": 113,
   "id": "ec072bfe",
   "metadata": {},
   "outputs": [
    {
     "name": "stdout",
     "output_type": "stream",
     "text": [
      "TN: 1104\n",
      "TP: 60\n",
      "FP: 95\n",
      "FN: 98\n"
     ]
    }
   ],
   "source": [
    "tn,fp,fn,tp=confusion_matrix(y_test,y_dt_pred).ravel()\n",
    "print(\"TN:\",tn)\n",
    "print(\"TP:\",tp)\n",
    "print(\"FP:\",fp)\n",
    "print(\"FN:\",fn)"
   ]
  },
  {
   "cell_type": "code",
   "execution_count": 114,
   "id": "484cd3eb",
   "metadata": {},
   "outputs": [
    {
     "data": {
      "text/plain": [
       "<AxesSubplot:>"
      ]
     },
     "execution_count": 114,
     "metadata": {},
     "output_type": "execute_result"
    },
    {
     "data": {
      "image/png": "[encoded data removed]",
      "text/plain": [
       "<Figure size 432x288 with 2 Axes>"
      ]
     },
     "metadata": {
      "needs_background": "light"
     },
     "output_type": "display_data"
    }
   ],
   "source": [
    "sns.heatmap(dt_cnf,annot=True,cmap='Blues')"
   ]
  },
  {
   "cell_type": "code",
   "execution_count": 115,
   "id": "225163bd",
   "metadata": {},
   "outputs": [
    {
     "data": {
      "text/plain": [
       "<AxesSubplot:>"
      ]
     },
     "execution_count": 115,
     "metadata": {},
     "output_type": "execute_result"
    },
    {
     "data": {
      "image/png": "[encoded data removed]",
      "text/plain": [
       "<Figure size 432x288 with 2 Axes>"
      ]
     },
     "metadata": {
      "needs_background": "light"
     },
     "output_type": "display_data"
    }
   ],
   "source": [
    "sns.heatmap(dt_cnf/np.sum(dt_cnf),\n",
    "            annot=True,\n",
    "            cmap='Blues')"
   ]
  },
  {
   "cell_type": "markdown",
   "id": "e171f2fe",
   "metadata": {},
   "source": [
    "$Precision$"
   ]
  },
  {
   "cell_type": "code",
   "execution_count": 116,
   "id": "7e4e7e5c",
   "metadata": {},
   "outputs": [
    {
     "data": {
      "text/plain": [
       "0.3870967741935484"
      ]
     },
     "execution_count": 116,
     "metadata": {},
     "output_type": "execute_result"
    }
   ],
   "source": [
    "# Precision = tp/(tp+fp)\n",
    "pr=tp/(tp+fp)\n",
    "pr"
   ]
  },
  {
   "cell_type": "code",
   "execution_count": 117,
   "id": "072012d2",
   "metadata": {},
   "outputs": [
    {
     "data": {
      "text/plain": [
       "0.3870967741935484"
      ]
     },
     "execution_count": 117,
     "metadata": {},
     "output_type": "execute_result"
    }
   ],
   "source": [
    "dt_pr=precision_score(y_test,y_dt_pred)\n",
    "dt_pr"
   ]
  },
  {
   "cell_type": "markdown",
   "id": "b7540a0b",
   "metadata": {},
   "source": [
    "$Recall$"
   ]
  },
  {
   "cell_type": "code",
   "execution_count": 118,
   "id": "bc275317",
   "metadata": {},
   "outputs": [
    {
     "data": {
      "text/plain": [
       "0.379746835443038"
      ]
     },
     "execution_count": 118,
     "metadata": {},
     "output_type": "execute_result"
    }
   ],
   "source": [
    "# Recall\n",
    "recall=tp/(tp+fn)\n",
    "recall"
   ]
  },
  {
   "cell_type": "code",
   "execution_count": 119,
   "id": "f2b230c9",
   "metadata": {},
   "outputs": [
    {
     "data": {
      "text/plain": [
       "0.379746835443038"
      ]
     },
     "execution_count": 119,
     "metadata": {},
     "output_type": "execute_result"
    }
   ],
   "source": [
    "dt_recall=recall_score(y_test,y_dt_pred)\n",
    "dt_recall"
   ]
  },
  {
   "cell_type": "markdown",
   "id": "251fbc11",
   "metadata": {},
   "source": [
    "$F1 score$"
   ]
  },
  {
   "cell_type": "code",
   "execution_count": 120,
   "id": "7d3ea742",
   "metadata": {},
   "outputs": [
    {
     "data": {
      "text/plain": [
       "0.38338658146964855"
      ]
     },
     "execution_count": 120,
     "metadata": {},
     "output_type": "execute_result"
    }
   ],
   "source": [
    "# F1 score\n",
    "#F1 = 2 * (precision * recall) / (precision + recall)\n",
    "f1=2*(pr*recall)/(pr+recall)\n",
    "f1\n",
    "\n"
   ]
  },
  {
   "cell_type": "code",
   "execution_count": 121,
   "id": "0d8cae60",
   "metadata": {},
   "outputs": [
    {
     "data": {
      "text/plain": [
       "0.38338658146964855"
      ]
     },
     "execution_count": 121,
     "metadata": {},
     "output_type": "execute_result"
    }
   ],
   "source": [
    "dt_F1_score=f1_score(y_test,y_dt_pred)\n",
    "dt_F1_score"
   ]
  },
  {
   "cell_type": "code",
   "execution_count": 122,
   "id": "2a0ab32b",
   "metadata": {},
   "outputs": [
    {
     "data": {
      "text/html": [
       "<div>\n",
       "<style scoped>\n",
       "    .dataframe tbody tr th:only-of-type {\n",
       "        vertical-align: middle;\n",
       "    }\n",
       "\n",
       "    .dataframe tbody tr th {\n",
       "        vertical-align: top;\n",
       "    }\n",
       "\n",
       "    .dataframe thead th {\n",
       "        text-align: right;\n",
       "    }\n",
       "</style>\n",
       "<table border=\"1\" class=\"dataframe\">\n",
       "  <thead>\n",
       "    <tr style=\"text-align: right;\">\n",
       "      <th></th>\n",
       "      <th>DT_accuracy</th>\n",
       "      <th>DT_precision</th>\n",
       "      <th>DT_recall</th>\n",
       "      <th>Dt_F1_score</th>\n",
       "    </tr>\n",
       "  </thead>\n",
       "  <tbody>\n",
       "    <tr>\n",
       "      <th>Decision Tree</th>\n",
       "      <td>86.0</td>\n",
       "      <td>0.39</td>\n",
       "      <td>0.38</td>\n",
       "      <td>0.38</td>\n",
       "    </tr>\n",
       "  </tbody>\n",
       "</table>\n",
       "</div>"
      ],
      "text/plain": [
       "               DT_accuracy  DT_precision  DT_recall  Dt_F1_score\n",
       "Decision Tree         86.0          0.39       0.38         0.38"
      ]
     },
     "execution_count": 122,
     "metadata": {},
     "output_type": "execute_result"
    }
   ],
   "source": [
    "dict1={\"DT_accuracy\":round(dt_acc,2),\n",
    "      \"DT_precision\":round(dt_pr,2),\n",
    "      \"DT_recall\":round(dt_recall,2),\n",
    "      \"Dt_F1_score\":round(dt_F1_score,2)}\n",
    "pd.DataFrame(dict1,index=['Decision Tree'])"
   ]
  },
  {
   "cell_type": "markdown",
   "id": "e36dc301",
   "metadata": {},
   "source": [
    "$classification$"
   ]
  },
  {
   "cell_type": "code",
   "execution_count": 123,
   "id": "bc6dff8d",
   "metadata": {},
   "outputs": [
    {
     "name": "stdout",
     "output_type": "stream",
     "text": [
      "              precision    recall  f1-score   support\n",
      "\n",
      "           0       0.92      0.92      0.92      1199\n",
      "           1       0.39      0.38      0.38       158\n",
      "\n",
      "    accuracy                           0.86      1357\n",
      "   macro avg       0.65      0.65      0.65      1357\n",
      "weighted avg       0.86      0.86      0.86      1357\n",
      "\n"
     ]
    }
   ],
   "source": [
    "print(classification_report(y_test,y_dt_pred))\n",
    "# Support:number of actual occurences\n",
    "# total observation in test data is 1357\n",
    "# in that number of 0's as target is 1199\n",
    "# in that number of 1's target is 158"
   ]
  },
  {
   "cell_type": "markdown",
   "id": "bcb9b598",
   "metadata": {},
   "source": [
    "# Your task is \n",
    "\n",
    "what is ment by marco avg and weighted avg"
   ]
  },
  {
   "cell_type": "markdown",
   "id": "ffc2bd03",
   "metadata": {},
   "source": [
    " # ROC AUC"
   ]
  },
  {
   "cell_type": "markdown",
   "id": "fdc3a88a",
   "metadata": {},
   "source": [
    "- There are two claases are there\n",
    "- for every observation it will give probablities\n",
    "- Which ever is the higest probability that class will be the output\n"
   ]
  },
  {
   "cell_type": "code",
   "execution_count": null,
   "id": "8b240b3a",
   "metadata": {},
   "outputs": [],
   "source": []
  },
  {
   "cell_type": "code",
   "execution_count": 124,
   "id": "84cd6601",
   "metadata": {},
   "outputs": [],
   "source": [
    "probs=tree_model.predict_proba(X_test)"
   ]
  },
  {
   "cell_type": "code",
   "execution_count": 125,
   "id": "ef685c4c",
   "metadata": {},
   "outputs": [
    {
     "data": {
      "text/html": [
       "<div>\n",
       "<style scoped>\n",
       "    .dataframe tbody tr th:only-of-type {\n",
       "        vertical-align: middle;\n",
       "    }\n",
       "\n",
       "    .dataframe tbody tr th {\n",
       "        vertical-align: top;\n",
       "    }\n",
       "\n",
       "    .dataframe thead th {\n",
       "        text-align: right;\n",
       "    }\n",
       "</style>\n",
       "<table border=\"1\" class=\"dataframe\">\n",
       "  <thead>\n",
       "    <tr style=\"text-align: right;\">\n",
       "      <th></th>\n",
       "      <th>class_0</th>\n",
       "      <th>class_1</th>\n",
       "    </tr>\n",
       "  </thead>\n",
       "  <tbody>\n",
       "    <tr>\n",
       "      <th>0</th>\n",
       "      <td>1.0</td>\n",
       "      <td>0.0</td>\n",
       "    </tr>\n",
       "    <tr>\n",
       "      <th>1</th>\n",
       "      <td>1.0</td>\n",
       "      <td>0.0</td>\n",
       "    </tr>\n",
       "    <tr>\n",
       "      <th>2</th>\n",
       "      <td>1.0</td>\n",
       "      <td>0.0</td>\n",
       "    </tr>\n",
       "    <tr>\n",
       "      <th>3</th>\n",
       "      <td>1.0</td>\n",
       "      <td>0.0</td>\n",
       "    </tr>\n",
       "    <tr>\n",
       "      <th>4</th>\n",
       "      <td>1.0</td>\n",
       "      <td>0.0</td>\n",
       "    </tr>\n",
       "    <tr>\n",
       "      <th>5</th>\n",
       "      <td>1.0</td>\n",
       "      <td>0.0</td>\n",
       "    </tr>\n",
       "    <tr>\n",
       "      <th>6</th>\n",
       "      <td>0.0</td>\n",
       "      <td>1.0</td>\n",
       "    </tr>\n",
       "    <tr>\n",
       "      <th>7</th>\n",
       "      <td>1.0</td>\n",
       "      <td>0.0</td>\n",
       "    </tr>\n",
       "    <tr>\n",
       "      <th>8</th>\n",
       "      <td>1.0</td>\n",
       "      <td>0.0</td>\n",
       "    </tr>\n",
       "    <tr>\n",
       "      <th>9</th>\n",
       "      <td>1.0</td>\n",
       "      <td>0.0</td>\n",
       "    </tr>\n",
       "  </tbody>\n",
       "</table>\n",
       "</div>"
      ],
      "text/plain": [
       "   class_0  class_1\n",
       "0      1.0      0.0\n",
       "1      1.0      0.0\n",
       "2      1.0      0.0\n",
       "3      1.0      0.0\n",
       "4      1.0      0.0\n",
       "5      1.0      0.0\n",
       "6      0.0      1.0\n",
       "7      1.0      0.0\n",
       "8      1.0      0.0\n",
       "9      1.0      0.0"
      ]
     },
     "execution_count": 125,
     "metadata": {},
     "output_type": "execute_result"
    }
   ],
   "source": [
    "prob_data=pd.DataFrame(probs,columns=['class_0','class_1'])\n",
    "prob_data.head(10)"
   ]
  },
  {
   "cell_type": "code",
   "execution_count": 126,
   "id": "6849a30d",
   "metadata": {},
   "outputs": [
    {
     "name": "stdout",
     "output_type": "stream",
     "text": [
      "[0 0 0 0 0 0 1 0 0 0 0 0 0 0 0 0 0 0 0 0]\n",
      "[0 0 0 0 0 0 0 0 0 0 0 0 0 0 0 0 0 0 0 0]\n"
     ]
    }
   ],
   "source": [
    "print(y_dt_pred[:20])  #these are classes\n",
    "print(y_test.values[:20]) "
   ]
  },
  {
   "cell_type": "code",
   "execution_count": 127,
   "id": "6cc8e3ad",
   "metadata": {},
   "outputs": [
    {
     "data": {
      "text/plain": [
       "[<matplotlib.lines.Line2D at 0x11e43ee50>]"
      ]
     },
     "execution_count": 127,
     "metadata": {},
     "output_type": "execute_result"
    },
    {
     "data": {
      "image/png": "[encoded data removed]",
      "text/plain": [
       "<Figure size 432x288 with 1 Axes>"
      ]
     },
     "metadata": {
      "needs_background": "light"
     },
     "output_type": "display_data"
    }
   ],
   "source": [
    "# X-axis=FPR=1-TNR=FP/N\n",
    "# Y-axis=TPR=TP/P\n",
    "\n",
    "from sklearn.metrics import roc_curve\n",
    "\n",
    "y_dt_pred_prob=tree_model.predict_proba(X_test)[:,1]\n",
    "fpr,tpr,threshold=roc_curve(y_test,y_dt_pred_prob)\n",
    "plt.plot(fpr,tpr)\n"
   ]
  },
  {
   "cell_type": "code",
   "execution_count": 128,
   "id": "8ab6d931",
   "metadata": {},
   "outputs": [
    {
     "ename": "ImportError",
     "evalue": "cannot import name 'roc_score' from 'sklearn.metrics' (/Users/sheelendersharma1/opt/anaconda3/lib/python3.9/site-packages/sklearn/metrics/__init__.py)",
     "output_type": "error",
     "traceback": [
      "\u001b[0;31m---------------------------------------------------------------------------\u001b[0m",
      "\u001b[0;31mImportError\u001b[0m                               Traceback (most recent call last)",
      "Input \u001b[0;32mIn [128]\u001b[0m, in \u001b[0;36m<cell line: 8>\u001b[0;34m()\u001b[0m\n\u001b[1;32m      5\u001b[0m tree_model\n\u001b[1;32m      7\u001b[0m \u001b[38;5;28;01mfrom\u001b[39;00m \u001b[38;5;21;01msklearn\u001b[39;00m\u001b[38;5;21;01m.\u001b[39;00m\u001b[38;5;21;01mmetrics\u001b[39;00m \u001b[38;5;28;01mimport\u001b[39;00m accuracy_score,precision_score,recall_score,f1_score\n\u001b[0;32m----> 8\u001b[0m \u001b[38;5;28;01mfrom\u001b[39;00m \u001b[38;5;21;01msklearn\u001b[39;00m\u001b[38;5;21;01m.\u001b[39;00m\u001b[38;5;21;01mmetrics\u001b[39;00m \u001b[38;5;28;01mimport\u001b[39;00m classification_report, roc_score\n\u001b[1;32m      9\u001b[0m \u001b[38;5;28;01mfrom\u001b[39;00m \u001b[38;5;21;01msklearn\u001b[39;00m\u001b[38;5;21;01m.\u001b[39;00m\u001b[38;5;21;01mmetrics\u001b[39;00m \u001b[38;5;28;01mimport\u001b[39;00m confusion_matrix\n\u001b[1;32m     11\u001b[0m dt_acc\u001b[38;5;241m=\u001b[39maccuracy_score(y_test,y_dt_pred)\n",
      "\u001b[0;31mImportError\u001b[0m: cannot import name 'roc_score' from 'sklearn.metrics' (/Users/sheelendersharma1/opt/anaconda3/lib/python3.9/site-packages/sklearn/metrics/__init__.py)"
     ]
    }
   ],
   "source": [
    "# AT one place\n",
    "\n",
    "from sklearn.tree import DecisionTreeClassifier\n",
    "tree_model=DecisionTreeClassifier()\n",
    "tree_model\n",
    "\n",
    "from sklearn.metrics import accuracy_score,precision_score,recall_score,f1_score\n",
    "from sklearn.metrics import classification_report, roc_score\n",
    "from sklearn.metrics import confusion_matrix\n",
    "\n",
    "dt_acc=accuracy_score(y_test,y_dt_pred)\n",
    "dt_pr=precision_score(y_test,y_dt_pred)\n",
    "dt_recall=recall_score(y_test,y_dt_pred)\n",
    "dt_f1_score=f1_score(y_test,y_dt_pred)\n",
    "\n",
    "dict1={\"DT_accuracy\":round(dt_acc,2),\n",
    "      \"DT_precision\":round(dt_pr,2),\n",
    "      \"DT_recall\":round(dt_recall,2),\n",
    "      \"Dt_F1_score\":round(dt_F1_score,2)}\n",
    "pd.DataFrame(dict1,index=['Decision Tree'])"
   ]
  },
  {
   "cell_type": "markdown",
   "id": "10d81c7b",
   "metadata": {},
   "source": [
    "# 2.NaviBayes"
   ]
  },
  {
   "cell_type": "code",
   "execution_count": 129,
   "id": "5fc8923b",
   "metadata": {},
   "outputs": [],
   "source": [
    "from sklearn.naive_bayes import GaussianNB\n",
    "Navie=GaussianNB()\n"
   ]
  },
  {
   "cell_type": "code",
   "execution_count": 130,
   "id": "9c7a5b53",
   "metadata": {},
   "outputs": [
    {
     "data": {
      "text/plain": [
       "GaussianNB()"
      ]
     },
     "execution_count": 130,
     "metadata": {},
     "output_type": "execute_result"
    }
   ],
   "source": [
    "Navie=Navie.fit(X=X_train,y=y_train)\n",
    "Navie\n"
   ]
  },
  {
   "cell_type": "code",
   "execution_count": 131,
   "id": "fbd6dcf2",
   "metadata": {},
   "outputs": [],
   "source": [
    "y_nb_pred=Navie.predict(X_test)"
   ]
  },
  {
   "cell_type": "code",
   "execution_count": 132,
   "id": "e5aba853",
   "metadata": {},
   "outputs": [
    {
     "data": {
      "text/html": [
       "<div>\n",
       "<style scoped>\n",
       "    .dataframe tbody tr th:only-of-type {\n",
       "        vertical-align: middle;\n",
       "    }\n",
       "\n",
       "    .dataframe tbody tr th {\n",
       "        vertical-align: top;\n",
       "    }\n",
       "\n",
       "    .dataframe thead th {\n",
       "        text-align: right;\n",
       "    }\n",
       "</style>\n",
       "<table border=\"1\" class=\"dataframe\">\n",
       "  <thead>\n",
       "    <tr style=\"text-align: right;\">\n",
       "      <th></th>\n",
       "      <th>NB_accuracy</th>\n",
       "      <th>NB_precision</th>\n",
       "      <th>NB_recall</th>\n",
       "      <th>NB_F1_score</th>\n",
       "    </tr>\n",
       "  </thead>\n",
       "  <tbody>\n",
       "    <tr>\n",
       "      <th>Naive_Bayes</th>\n",
       "      <td>86.0</td>\n",
       "      <td>0.39</td>\n",
       "      <td>0.38</td>\n",
       "      <td>0.38</td>\n",
       "    </tr>\n",
       "  </tbody>\n",
       "</table>\n",
       "</div>"
      ],
      "text/plain": [
       "             NB_accuracy  NB_precision  NB_recall  NB_F1_score\n",
       "Naive_Bayes         86.0          0.39       0.38         0.38"
      ]
     },
     "execution_count": 132,
     "metadata": {},
     "output_type": "execute_result"
    }
   ],
   "source": [
    "nb_acc=accuracy_score(y_test,y_nb_pred)\n",
    "nb_pr=precision_score(y_test,y_nb_pred)\n",
    "nb_recall=recall_score(y_test,y_nb_pred)\n",
    "nb_f1_score=f1_score(y_test,y_nb_pred)\n",
    "\n",
    "dict1={\"NB_accuracy\":round(dt_acc,2),\n",
    "      \"NB_precision\":round(dt_pr,2),\n",
    "      \"NB_recall\":round(dt_recall,2),\n",
    "      \"NB_F1_score\":round(dt_F1_score,2)}\n",
    "pd.DataFrame(dict1,index=['Naive_Bayes'])\n",
    "\n"
   ]
  },
  {
   "cell_type": "code",
   "execution_count": 133,
   "id": "78fea369",
   "metadata": {},
   "outputs": [
    {
     "data": {
      "text/html": [
       "<div>\n",
       "<style scoped>\n",
       "    .dataframe tbody tr th:only-of-type {\n",
       "        vertical-align: middle;\n",
       "    }\n",
       "\n",
       "    .dataframe tbody tr th {\n",
       "        vertical-align: top;\n",
       "    }\n",
       "\n",
       "    .dataframe thead th {\n",
       "        text-align: right;\n",
       "    }\n",
       "</style>\n",
       "<table border=\"1\" class=\"dataframe\">\n",
       "  <thead>\n",
       "    <tr style=\"text-align: right;\">\n",
       "      <th></th>\n",
       "      <th>Decision_Tree</th>\n",
       "      <th>Naive_Bayes</th>\n",
       "    </tr>\n",
       "  </thead>\n",
       "  <tbody>\n",
       "    <tr>\n",
       "      <th>Accuracy</th>\n",
       "      <td>86.000000</td>\n",
       "      <td>0.811349</td>\n",
       "    </tr>\n",
       "    <tr>\n",
       "      <th>Precison</th>\n",
       "      <td>0.387097</td>\n",
       "      <td>0.275229</td>\n",
       "    </tr>\n",
       "    <tr>\n",
       "      <th>Recall</th>\n",
       "      <td>0.379747</td>\n",
       "      <td>0.379747</td>\n",
       "    </tr>\n",
       "    <tr>\n",
       "      <th>F1score</th>\n",
       "      <td>0.383387</td>\n",
       "      <td>0.319149</td>\n",
       "    </tr>\n",
       "  </tbody>\n",
       "</table>\n",
       "</div>"
      ],
      "text/plain": [
       "          Decision_Tree  Naive_Bayes\n",
       "Accuracy      86.000000     0.811349\n",
       "Precison       0.387097     0.275229\n",
       "Recall         0.379747     0.379747\n",
       "F1score        0.383387     0.319149"
      ]
     },
     "execution_count": 133,
     "metadata": {},
     "output_type": "execute_result"
    }
   ],
   "source": [
    "dt_list=[dt_acc,dt_pr,dt_recall,dt_F1_score]\n",
    "nb_list=[nb_acc,nb_pr,nb_recall,nb_f1_score]\n",
    "pd.DataFrame(zip(dt_list,nb_list),\n",
    "             columns=['Decision_Tree','Naive_Bayes'],\n",
    "             index=['Accuracy','Precison','Recall','F1score'])\n",
    "\n"
   ]
  },
  {
   "cell_type": "markdown",
   "id": "4dfa0b2e",
   "metadata": {},
   "source": [
    "# 3.Logistic Regression"
   ]
  },
  {
   "cell_type": "code",
   "execution_count": 134,
   "id": "d7387315",
   "metadata": {},
   "outputs": [
    {
     "data": {
      "text/plain": [
       "LogisticRegression()"
      ]
     },
     "execution_count": 134,
     "metadata": {},
     "output_type": "execute_result"
    }
   ],
   "source": [
    "from sklearn.linear_model import LogisticRegression\n",
    "Logist=LogisticRegression()\n",
    "Logist"
   ]
  },
  {
   "cell_type": "code",
   "execution_count": 135,
   "id": "d53a8b13",
   "metadata": {},
   "outputs": [
    {
     "name": "stderr",
     "output_type": "stream",
     "text": [
      "/Users/sheelendersharma1/opt/anaconda3/lib/python3.9/site-packages/sklearn/linear_model/_logistic.py:814: ConvergenceWarning: lbfgs failed to converge (status=1):\n",
      "STOP: TOTAL NO. of ITERATIONS REACHED LIMIT.\n",
      "\n",
      "Increase the number of iterations (max_iter) or scale the data as shown in:\n",
      "    https://scikit-learn.org/stable/modules/preprocessing.html\n",
      "Please also refer to the documentation for alternative solver options:\n",
      "    https://scikit-learn.org/stable/modules/linear_model.html#logistic-regression\n",
      "  n_iter_i = _check_optimize_result(\n"
     ]
    }
   ],
   "source": [
    "Logist=Logist.fit(X_train,y_train)"
   ]
  },
  {
   "cell_type": "code",
   "execution_count": 136,
   "id": "b736f5d5",
   "metadata": {},
   "outputs": [],
   "source": [
    "y_Logist_pred=Logist.predict(X_test)"
   ]
  },
  {
   "cell_type": "code",
   "execution_count": 137,
   "id": "74327b82",
   "metadata": {},
   "outputs": [
    {
     "data": {
      "text/html": [
       "<div>\n",
       "<style scoped>\n",
       "    .dataframe tbody tr th:only-of-type {\n",
       "        vertical-align: middle;\n",
       "    }\n",
       "\n",
       "    .dataframe tbody tr th {\n",
       "        vertical-align: top;\n",
       "    }\n",
       "\n",
       "    .dataframe thead th {\n",
       "        text-align: right;\n",
       "    }\n",
       "</style>\n",
       "<table border=\"1\" class=\"dataframe\">\n",
       "  <thead>\n",
       "    <tr style=\"text-align: right;\">\n",
       "      <th></th>\n",
       "      <th>Logist_accuracy</th>\n",
       "      <th>Logist_precision</th>\n",
       "      <th>Logist_recall</th>\n",
       "      <th>Logist_F1_score</th>\n",
       "    </tr>\n",
       "  </thead>\n",
       "  <tbody>\n",
       "    <tr>\n",
       "      <th>Naive_Bayes</th>\n",
       "      <td>0.88</td>\n",
       "      <td>0.5</td>\n",
       "      <td>0.14</td>\n",
       "      <td>0.22</td>\n",
       "    </tr>\n",
       "  </tbody>\n",
       "</table>\n",
       "</div>"
      ],
      "text/plain": [
       "             Logist_accuracy  Logist_precision  Logist_recall  Logist_F1_score\n",
       "Naive_Bayes             0.88               0.5           0.14             0.22"
      ]
     },
     "execution_count": 137,
     "metadata": {},
     "output_type": "execute_result"
    }
   ],
   "source": [
    "Logist_acc=accuracy_score(y_test,y_Logist_pred)\n",
    "Logist_pr=precision_score(y_test,y_Logist_pred)\n",
    "Logist_recall=recall_score(y_test,y_Logist_pred)\n",
    "Logist_f1_score=f1_score(y_test,y_Logist_pred)\n",
    "\n",
    "dict1={\"Logist_accuracy\":round(Logist_acc,2),\n",
    "      \"Logist_precision\":round(Logist_pr,2),\n",
    "      \"Logist_recall\":round(Logist_recall,2),\n",
    "      \"Logist_F1_score\":round(Logist_f1_score,2)}\n",
    "pd.DataFrame(dict1,index=['Naive_Bayes'])"
   ]
  },
  {
   "cell_type": "markdown",
   "id": "c8114635",
   "metadata": {},
   "source": [
    "# 4.KNN"
   ]
  },
  {
   "cell_type": "code",
   "execution_count": 138,
   "id": "e737953f",
   "metadata": {},
   "outputs": [
    {
     "data": {
      "text/plain": [
       "KNeighborsClassifier()"
      ]
     },
     "execution_count": 138,
     "metadata": {},
     "output_type": "execute_result"
    }
   ],
   "source": [
    "from sklearn.neighbors import KNeighborsClassifier\n",
    "knn=KNeighborsClassifier()\n",
    "knn"
   ]
  },
  {
   "cell_type": "code",
   "execution_count": 139,
   "id": "40879dd2",
   "metadata": {},
   "outputs": [],
   "source": [
    "knn=knn.fit(X_train,y_train)"
   ]
  },
  {
   "cell_type": "code",
   "execution_count": 140,
   "id": "f15c3b35",
   "metadata": {},
   "outputs": [],
   "source": [
    "y_knn_pred=knn.predict(X_test)"
   ]
  },
  {
   "cell_type": "code",
   "execution_count": 141,
   "id": "dc9cb770",
   "metadata": {},
   "outputs": [
    {
     "data": {
      "text/html": [
       "<div>\n",
       "<style scoped>\n",
       "    .dataframe tbody tr th:only-of-type {\n",
       "        vertical-align: middle;\n",
       "    }\n",
       "\n",
       "    .dataframe tbody tr th {\n",
       "        vertical-align: top;\n",
       "    }\n",
       "\n",
       "    .dataframe thead th {\n",
       "        text-align: right;\n",
       "    }\n",
       "</style>\n",
       "<table border=\"1\" class=\"dataframe\">\n",
       "  <thead>\n",
       "    <tr style=\"text-align: right;\">\n",
       "      <th></th>\n",
       "      <th>KNN_accuracy</th>\n",
       "      <th>KNN_precision</th>\n",
       "      <th>KNN_recall</th>\n",
       "      <th>KNN_F1_score</th>\n",
       "    </tr>\n",
       "  </thead>\n",
       "  <tbody>\n",
       "    <tr>\n",
       "      <th>KNN</th>\n",
       "      <td>0.88</td>\n",
       "      <td>0.42</td>\n",
       "      <td>0.19</td>\n",
       "      <td>0.26</td>\n",
       "    </tr>\n",
       "  </tbody>\n",
       "</table>\n",
       "</div>"
      ],
      "text/plain": [
       "     KNN_accuracy  KNN_precision  KNN_recall  KNN_F1_score\n",
       "KNN          0.88           0.42        0.19          0.26"
      ]
     },
     "execution_count": 141,
     "metadata": {},
     "output_type": "execute_result"
    }
   ],
   "source": [
    "knn_acc=accuracy_score(y_test,y_knn_pred)\n",
    "knn_pr=precision_score(y_test,y_knn_pred)\n",
    "knn_recall=recall_score(y_test,y_knn_pred)\n",
    "knn_f1_score=f1_score(y_test,y_knn_pred)\n",
    "\n",
    "dict1={\"KNN_accuracy\":round(knn_acc,2),\n",
    "      \"KNN_precision\":round(knn_pr,2),\n",
    "      \"KNN_recall\":round(knn_recall,2),\n",
    "      \"KNN_F1_score\":round(knn_f1_score,2)}\n",
    "pd.DataFrame(dict1,index=['KNN'])"
   ]
  },
  {
   "cell_type": "markdown",
   "id": "35bc1527",
   "metadata": {},
   "source": [
    "# 5.Random Forest"
   ]
  },
  {
   "cell_type": "code",
   "execution_count": 142,
   "id": "b34d2fd0",
   "metadata": {},
   "outputs": [
    {
     "data": {
      "text/plain": [
       "RandomForestClassifier()"
      ]
     },
     "execution_count": 142,
     "metadata": {},
     "output_type": "execute_result"
    }
   ],
   "source": [
    "from sklearn.ensemble import RandomForestClassifier\n",
    "RF=RandomForestClassifier()\n",
    "RF"
   ]
  },
  {
   "cell_type": "code",
   "execution_count": 143,
   "id": "3e10bab1",
   "metadata": {},
   "outputs": [],
   "source": [
    "RF=RF.fit(X_train,y_train)"
   ]
  },
  {
   "cell_type": "code",
   "execution_count": 144,
   "id": "18e7cc29",
   "metadata": {},
   "outputs": [],
   "source": [
    "y_RF_pred=RF.predict(X_test)"
   ]
  },
  {
   "cell_type": "code",
   "execution_count": 145,
   "id": "345de95a",
   "metadata": {},
   "outputs": [
    {
     "data": {
      "text/html": [
       "<div>\n",
       "<style scoped>\n",
       "    .dataframe tbody tr th:only-of-type {\n",
       "        vertical-align: middle;\n",
       "    }\n",
       "\n",
       "    .dataframe tbody tr th {\n",
       "        vertical-align: top;\n",
       "    }\n",
       "\n",
       "    .dataframe thead th {\n",
       "        text-align: right;\n",
       "    }\n",
       "</style>\n",
       "<table border=\"1\" class=\"dataframe\">\n",
       "  <thead>\n",
       "    <tr style=\"text-align: right;\">\n",
       "      <th></th>\n",
       "      <th>RF_accuracy</th>\n",
       "      <th>RF_precision</th>\n",
       "      <th>RF_recall</th>\n",
       "      <th>RF_F1_score</th>\n",
       "    </tr>\n",
       "  </thead>\n",
       "  <tbody>\n",
       "    <tr>\n",
       "      <th>RF</th>\n",
       "      <td>0.89</td>\n",
       "      <td>0.58</td>\n",
       "      <td>0.23</td>\n",
       "      <td>0.33</td>\n",
       "    </tr>\n",
       "  </tbody>\n",
       "</table>\n",
       "</div>"
      ],
      "text/plain": [
       "    RF_accuracy  RF_precision  RF_recall  RF_F1_score\n",
       "RF         0.89          0.58       0.23         0.33"
      ]
     },
     "execution_count": 145,
     "metadata": {},
     "output_type": "execute_result"
    }
   ],
   "source": [
    "RF_acc=accuracy_score(y_test,y_RF_pred)\n",
    "RF_pr=precision_score(y_test,y_RF_pred)\n",
    "RF_recall=recall_score(y_test,y_RF_pred)\n",
    "RF_f1_score=f1_score(y_test,y_RF_pred)\n",
    "\n",
    "dict1={\"RF_accuracy\":round(RF_acc,2),\n",
    "      \"RF_precision\":round(RF_pr,2),\n",
    "      \"RF_recall\":round(RF_recall,2),\n",
    "      \"RF_F1_score\":round(RF_f1_score,2)}\n",
    "pd.DataFrame(dict1,index=['RF'])"
   ]
  },
  {
   "cell_type": "markdown",
   "id": "b9bd7231",
   "metadata": {},
   "source": [
    "# 6. SVM "
   ]
  },
  {
   "cell_type": "code",
   "execution_count": 146,
   "id": "a7bae1b8",
   "metadata": {},
   "outputs": [
    {
     "data": {
      "text/plain": [
       "SVC()"
      ]
     },
     "execution_count": 146,
     "metadata": {},
     "output_type": "execute_result"
    }
   ],
   "source": [
    "from sklearn.svm import SVC\n",
    "SVM=SVC()\n",
    "SVM"
   ]
  },
  {
   "cell_type": "code",
   "execution_count": 147,
   "id": "9c41d2f1",
   "metadata": {},
   "outputs": [],
   "source": [
    "SVM=SVM.fit(X_train,y_train)"
   ]
  },
  {
   "cell_type": "code",
   "execution_count": 148,
   "id": "48ca89c5",
   "metadata": {},
   "outputs": [],
   "source": [
    "y_SVM_pred=SVM.predict(X_test)"
   ]
  },
  {
   "cell_type": "code",
   "execution_count": 149,
   "id": "034658d1",
   "metadata": {},
   "outputs": [
    {
     "name": "stderr",
     "output_type": "stream",
     "text": [
      "/Users/sheelendersharma1/opt/anaconda3/lib/python3.9/site-packages/sklearn/metrics/_classification.py:1318: UndefinedMetricWarning: Precision is ill-defined and being set to 0.0 due to no predicted samples. Use `zero_division` parameter to control this behavior.\n",
      "  _warn_prf(average, modifier, msg_start, len(result))\n"
     ]
    },
    {
     "data": {
      "text/html": [
       "<div>\n",
       "<style scoped>\n",
       "    .dataframe tbody tr th:only-of-type {\n",
       "        vertical-align: middle;\n",
       "    }\n",
       "\n",
       "    .dataframe tbody tr th {\n",
       "        vertical-align: top;\n",
       "    }\n",
       "\n",
       "    .dataframe thead th {\n",
       "        text-align: right;\n",
       "    }\n",
       "</style>\n",
       "<table border=\"1\" class=\"dataframe\">\n",
       "  <thead>\n",
       "    <tr style=\"text-align: right;\">\n",
       "      <th></th>\n",
       "      <th>SVM_accuracy</th>\n",
       "      <th>SVM_precision</th>\n",
       "      <th>SVM_recall</th>\n",
       "      <th>SVM_F1_score</th>\n",
       "    </tr>\n",
       "  </thead>\n",
       "  <tbody>\n",
       "    <tr>\n",
       "      <th>SVM</th>\n",
       "      <td>0.88</td>\n",
       "      <td>0.0</td>\n",
       "      <td>0.0</td>\n",
       "      <td>0.0</td>\n",
       "    </tr>\n",
       "  </tbody>\n",
       "</table>\n",
       "</div>"
      ],
      "text/plain": [
       "     SVM_accuracy  SVM_precision  SVM_recall  SVM_F1_score\n",
       "SVM          0.88            0.0         0.0           0.0"
      ]
     },
     "execution_count": 149,
     "metadata": {},
     "output_type": "execute_result"
    }
   ],
   "source": [
    "SVM_acc=accuracy_score(y_test,y_SVM_pred)\n",
    "SVM_pr=precision_score(y_test,y_SVM_pred)\n",
    "SVM_recall=recall_score(y_test,y_SVM_pred)\n",
    "SVM_f1_score=f1_score(y_test,y_SVM_pred)\n",
    "\n",
    "dict1={\"SVM_accuracy\":round(SVM_acc,2),\n",
    "      \"SVM_precision\":round(SVM_pr,2),\n",
    "      \"SVM_recall\":round(SVM_recall,2),\n",
    "      \"SVM_F1_score\":round(SVM_f1_score,2)}\n",
    "pd.DataFrame(dict1,index=['SVM'])"
   ]
  },
  {
   "cell_type": "code",
   "execution_count": 150,
   "id": "7b0f6afc",
   "metadata": {},
   "outputs": [
    {
     "data": {
      "text/html": [
       "<div>\n",
       "<style scoped>\n",
       "    .dataframe tbody tr th:only-of-type {\n",
       "        vertical-align: middle;\n",
       "    }\n",
       "\n",
       "    .dataframe tbody tr th {\n",
       "        vertical-align: top;\n",
       "    }\n",
       "\n",
       "    .dataframe thead th {\n",
       "        text-align: right;\n",
       "    }\n",
       "</style>\n",
       "<table border=\"1\" class=\"dataframe\">\n",
       "  <thead>\n",
       "    <tr style=\"text-align: right;\">\n",
       "      <th></th>\n",
       "      <th>Decision_Tree</th>\n",
       "      <th>Naive_Bayes</th>\n",
       "      <th>Logist</th>\n",
       "      <th>knn</th>\n",
       "      <th>RF</th>\n",
       "      <th>SVM</th>\n",
       "    </tr>\n",
       "  </thead>\n",
       "  <tbody>\n",
       "    <tr>\n",
       "      <th>Accuracy</th>\n",
       "      <td>86.000000</td>\n",
       "      <td>0.811349</td>\n",
       "      <td>0.883567</td>\n",
       "      <td>0.875461</td>\n",
       "      <td>0.890936</td>\n",
       "      <td>0.883567</td>\n",
       "    </tr>\n",
       "    <tr>\n",
       "      <th>Precison</th>\n",
       "      <td>0.387097</td>\n",
       "      <td>0.275229</td>\n",
       "      <td>0.500000</td>\n",
       "      <td>0.422535</td>\n",
       "      <td>0.578125</td>\n",
       "      <td>0.000000</td>\n",
       "    </tr>\n",
       "    <tr>\n",
       "      <th>Recall</th>\n",
       "      <td>0.379747</td>\n",
       "      <td>0.379747</td>\n",
       "      <td>0.139241</td>\n",
       "      <td>0.189873</td>\n",
       "      <td>0.234177</td>\n",
       "      <td>0.000000</td>\n",
       "    </tr>\n",
       "    <tr>\n",
       "      <th>F1score</th>\n",
       "      <td>0.383387</td>\n",
       "      <td>0.319149</td>\n",
       "      <td>0.217822</td>\n",
       "      <td>0.262009</td>\n",
       "      <td>0.333333</td>\n",
       "      <td>0.000000</td>\n",
       "    </tr>\n",
       "  </tbody>\n",
       "</table>\n",
       "</div>"
      ],
      "text/plain": [
       "          Decision_Tree  Naive_Bayes    Logist       knn        RF       SVM\n",
       "Accuracy      86.000000     0.811349  0.883567  0.875461  0.890936  0.883567\n",
       "Precison       0.387097     0.275229  0.500000  0.422535  0.578125  0.000000\n",
       "Recall         0.379747     0.379747  0.139241  0.189873  0.234177  0.000000\n",
       "F1score        0.383387     0.319149  0.217822  0.262009  0.333333  0.000000"
      ]
     },
     "execution_count": 150,
     "metadata": {},
     "output_type": "execute_result"
    }
   ],
   "source": [
    "dt_list=[dt_acc,dt_pr,dt_recall,dt_F1_score]\n",
    "nb_list=[nb_acc,nb_pr,nb_recall,nb_f1_score]\n",
    "Logist_list=[Logist_acc,Logist_pr,Logist_recall,Logist_f1_score]\n",
    "knn_list=[knn_acc,knn_pr,knn_recall,knn_f1_score]\n",
    "RF_list=[RF_acc,RF_pr,RF_recall,RF_f1_score]\n",
    "SVM_list=[SVM_acc,SVM_pr,SVM_recall,SVM_f1_score]\n",
    "\n",
    "\n",
    "\n",
    "pd.DataFrame(zip(dt_list,nb_list,Logist_list,knn_list,RF_list,SVM_list),\n",
    "             columns=['Decision_Tree','Naive_Bayes','Logist','knn','RF','SVM'],\n",
    "             index=['Accuracy','Precison','Recall','F1score'])"
   ]
  },
  {
   "cell_type": "markdown",
   "id": "1a4c8e44",
   "metadata": {},
   "source": [
    "## Case-2:"
   ]
  },
  {
   "cell_type": "markdown",
   "id": "b4827204",
   "metadata": {},
   "source": [
    "*Standardisation of data*"
   ]
  },
  {
   "cell_type": "markdown",
   "id": "5f5b98cd",
   "metadata": {},
   "source": [
    "<img src=\"https://www.thedataschool.co.uk/content/images/2021/06/z-formula.png\" jsaction=\"load:XAeZkd;\" jsname=\"HiaYvf\" class=\"n3VNCb pT0Scc KAlRDb\" role=\"\" aria-label=\"\" alt=\"The Data School - Data Prep and Analysis Series -Standardize vs Normalize  Data Part 1\" data-noaft=\"1\" style=\"width: 346px; height: 109px; margin: 15.55px 0px;\">"
   ]
  },
  {
   "cell_type": "code",
   "execution_count": 151,
   "id": "d9947adc",
   "metadata": {},
   "outputs": [],
   "source": [
    "from sklearn.preprocessing import StandardScaler\n",
    "s=StandardScaler()\n",
    "X_sd=s.fit_transform(X)"
   ]
  },
  {
   "cell_type": "code",
   "execution_count": 152,
   "id": "39573303",
   "metadata": {},
   "outputs": [],
   "source": [
    "X_sd=pd.DataFrame(X_sd,columns=X.columns)"
   ]
  },
  {
   "cell_type": "code",
   "execution_count": 153,
   "id": "44383715",
   "metadata": {},
   "outputs": [
    {
     "data": {
      "text/html": [
       "<div>\n",
       "<style scoped>\n",
       "    .dataframe tbody tr th:only-of-type {\n",
       "        vertical-align: middle;\n",
       "    }\n",
       "\n",
       "    .dataframe tbody tr th {\n",
       "        vertical-align: top;\n",
       "    }\n",
       "\n",
       "    .dataframe thead th {\n",
       "        text-align: right;\n",
       "    }\n",
       "</style>\n",
       "<table border=\"1\" class=\"dataframe\">\n",
       "  <thead>\n",
       "    <tr style=\"text-align: right;\">\n",
       "      <th></th>\n",
       "      <th>age</th>\n",
       "      <th>job</th>\n",
       "      <th>marital</th>\n",
       "      <th>education</th>\n",
       "      <th>default</th>\n",
       "      <th>balance</th>\n",
       "      <th>housing</th>\n",
       "      <th>loan</th>\n",
       "      <th>contact</th>\n",
       "      <th>day</th>\n",
       "      <th>month</th>\n",
       "      <th>duration</th>\n",
       "      <th>campaign</th>\n",
       "      <th>pdays</th>\n",
       "      <th>previous</th>\n",
       "      <th>poutcome</th>\n",
       "    </tr>\n",
       "  </thead>\n",
       "  <tbody>\n",
       "    <tr>\n",
       "      <th>0</th>\n",
       "      <td>-1.056270</td>\n",
       "      <td>1.716804</td>\n",
       "      <td>-0.246429</td>\n",
       "      <td>-1.644755</td>\n",
       "      <td>-0.130759</td>\n",
       "      <td>0.121072</td>\n",
       "      <td>-1.142051</td>\n",
       "      <td>-0.424756</td>\n",
       "      <td>-0.723642</td>\n",
       "      <td>0.374052</td>\n",
       "      <td>1.485414</td>\n",
       "      <td>-0.711861</td>\n",
       "      <td>-0.576829</td>\n",
       "      <td>-0.407218</td>\n",
       "      <td>-0.320413</td>\n",
       "      <td>0.444413</td>\n",
       "    </tr>\n",
       "    <tr>\n",
       "      <th>1</th>\n",
       "      <td>-0.772583</td>\n",
       "      <td>0.795246</td>\n",
       "      <td>-0.246429</td>\n",
       "      <td>-0.309038</td>\n",
       "      <td>-0.130759</td>\n",
       "      <td>1.118644</td>\n",
       "      <td>0.875617</td>\n",
       "      <td>2.354292</td>\n",
       "      <td>-0.723642</td>\n",
       "      <td>-0.596026</td>\n",
       "      <td>0.819288</td>\n",
       "      <td>-0.169194</td>\n",
       "      <td>-0.576829</td>\n",
       "      <td>2.989044</td>\n",
       "      <td>2.041734</td>\n",
       "      <td>-2.579961</td>\n",
       "    </tr>\n",
       "    <tr>\n",
       "      <th>2</th>\n",
       "      <td>-0.583458</td>\n",
       "      <td>-0.126313</td>\n",
       "      <td>1.421396</td>\n",
       "      <td>1.026680</td>\n",
       "      <td>-0.130759</td>\n",
       "      <td>-0.024144</td>\n",
       "      <td>0.875617</td>\n",
       "      <td>-0.424756</td>\n",
       "      <td>-0.723642</td>\n",
       "      <td>0.010273</td>\n",
       "      <td>-1.845220</td>\n",
       "      <td>-0.303898</td>\n",
       "      <td>-0.576829</td>\n",
       "      <td>2.899143</td>\n",
       "      <td>0.270124</td>\n",
       "      <td>-2.579961</td>\n",
       "    </tr>\n",
       "    <tr>\n",
       "      <th>3</th>\n",
       "      <td>-1.056270</td>\n",
       "      <td>-0.126313</td>\n",
       "      <td>-0.246429</td>\n",
       "      <td>1.026680</td>\n",
       "      <td>-0.130759</td>\n",
       "      <td>0.017726</td>\n",
       "      <td>0.875617</td>\n",
       "      <td>2.354292</td>\n",
       "      <td>1.495133</td>\n",
       "      <td>-1.566105</td>\n",
       "      <td>0.153161</td>\n",
       "      <td>-0.250017</td>\n",
       "      <td>0.387967</td>\n",
       "      <td>-0.407218</td>\n",
       "      <td>-0.320413</td>\n",
       "      <td>0.444413</td>\n",
       "    </tr>\n",
       "    <tr>\n",
       "      <th>4</th>\n",
       "      <td>1.686036</td>\n",
       "      <td>-1.047871</td>\n",
       "      <td>-0.246429</td>\n",
       "      <td>-0.309038</td>\n",
       "      <td>-0.130759</td>\n",
       "      <td>-0.472753</td>\n",
       "      <td>0.875617</td>\n",
       "      <td>-0.424756</td>\n",
       "      <td>1.495133</td>\n",
       "      <td>-1.323585</td>\n",
       "      <td>0.819288</td>\n",
       "      <td>-0.146102</td>\n",
       "      <td>-0.576829</td>\n",
       "      <td>-0.407218</td>\n",
       "      <td>-0.320413</td>\n",
       "      <td>0.444413</td>\n",
       "    </tr>\n",
       "    <tr>\n",
       "      <th>...</th>\n",
       "      <td>...</td>\n",
       "      <td>...</td>\n",
       "      <td>...</td>\n",
       "      <td>...</td>\n",
       "      <td>...</td>\n",
       "      <td>...</td>\n",
       "      <td>...</td>\n",
       "      <td>...</td>\n",
       "      <td>...</td>\n",
       "      <td>...</td>\n",
       "      <td>...</td>\n",
       "      <td>...</td>\n",
       "      <td>...</td>\n",
       "      <td>...</td>\n",
       "      <td>...</td>\n",
       "      <td>...</td>\n",
       "    </tr>\n",
       "    <tr>\n",
       "      <th>4516</th>\n",
       "      <td>-0.772583</td>\n",
       "      <td>0.795246</td>\n",
       "      <td>-0.246429</td>\n",
       "      <td>-0.309038</td>\n",
       "      <td>-0.130759</td>\n",
       "      <td>-0.583410</td>\n",
       "      <td>0.875617</td>\n",
       "      <td>-0.424756</td>\n",
       "      <td>-0.723642</td>\n",
       "      <td>1.707910</td>\n",
       "      <td>-0.179903</td>\n",
       "      <td>0.250315</td>\n",
       "      <td>0.709566</td>\n",
       "      <td>-0.407218</td>\n",
       "      <td>-0.320413</td>\n",
       "      <td>0.444413</td>\n",
       "    </tr>\n",
       "    <tr>\n",
       "      <th>4517</th>\n",
       "      <td>1.496912</td>\n",
       "      <td>0.488060</td>\n",
       "      <td>-0.246429</td>\n",
       "      <td>1.026680</td>\n",
       "      <td>7.647669</td>\n",
       "      <td>-1.573671</td>\n",
       "      <td>0.875617</td>\n",
       "      <td>2.354292</td>\n",
       "      <td>1.495133</td>\n",
       "      <td>-0.838546</td>\n",
       "      <td>0.819288</td>\n",
       "      <td>-0.427057</td>\n",
       "      <td>-0.576829</td>\n",
       "      <td>-0.407218</td>\n",
       "      <td>-0.320413</td>\n",
       "      <td>0.444413</td>\n",
       "    </tr>\n",
       "    <tr>\n",
       "      <th>4518</th>\n",
       "      <td>1.496912</td>\n",
       "      <td>1.409618</td>\n",
       "      <td>-0.246429</td>\n",
       "      <td>-0.309038</td>\n",
       "      <td>-0.130759</td>\n",
       "      <td>-0.374724</td>\n",
       "      <td>-1.142051</td>\n",
       "      <td>-0.424756</td>\n",
       "      <td>-0.723642</td>\n",
       "      <td>0.374052</td>\n",
       "      <td>-1.512157</td>\n",
       "      <td>-0.434754</td>\n",
       "      <td>2.639160</td>\n",
       "      <td>-0.407218</td>\n",
       "      <td>-0.320413</td>\n",
       "      <td>0.444413</td>\n",
       "    </tr>\n",
       "    <tr>\n",
       "      <th>4519</th>\n",
       "      <td>-1.245394</td>\n",
       "      <td>-1.047871</td>\n",
       "      <td>-0.246429</td>\n",
       "      <td>-0.309038</td>\n",
       "      <td>-0.130759</td>\n",
       "      <td>-0.094925</td>\n",
       "      <td>-1.142051</td>\n",
       "      <td>-0.424756</td>\n",
       "      <td>-0.723642</td>\n",
       "      <td>-1.202326</td>\n",
       "      <td>-0.846030</td>\n",
       "      <td>-0.519426</td>\n",
       "      <td>0.387967</td>\n",
       "      <td>1.710451</td>\n",
       "      <td>1.451197</td>\n",
       "      <td>-1.571836</td>\n",
       "    </tr>\n",
       "    <tr>\n",
       "      <th>4520</th>\n",
       "      <td>0.267602</td>\n",
       "      <td>-0.740685</td>\n",
       "      <td>1.421396</td>\n",
       "      <td>1.026680</td>\n",
       "      <td>-0.130759</td>\n",
       "      <td>-0.095257</td>\n",
       "      <td>0.875617</td>\n",
       "      <td>2.354292</td>\n",
       "      <td>-0.723642</td>\n",
       "      <td>-1.566105</td>\n",
       "      <td>-1.845220</td>\n",
       "      <td>0.311894</td>\n",
       "      <td>-0.255231</td>\n",
       "      <td>2.090033</td>\n",
       "      <td>3.813344</td>\n",
       "      <td>-1.571836</td>\n",
       "    </tr>\n",
       "  </tbody>\n",
       "</table>\n",
       "<p>4521 rows × 16 columns</p>\n",
       "</div>"
      ],
      "text/plain": [
       "           age       job   marital  education   default   balance   housing  \\\n",
       "0    -1.056270  1.716804 -0.246429  -1.644755 -0.130759  0.121072 -1.142051   \n",
       "1    -0.772583  0.795246 -0.246429  -0.309038 -0.130759  1.118644  0.875617   \n",
       "2    -0.583458 -0.126313  1.421396   1.026680 -0.130759 -0.024144  0.875617   \n",
       "3    -1.056270 -0.126313 -0.246429   1.026680 -0.130759  0.017726  0.875617   \n",
       "4     1.686036 -1.047871 -0.246429  -0.309038 -0.130759 -0.472753  0.875617   \n",
       "...        ...       ...       ...        ...       ...       ...       ...   \n",
       "4516 -0.772583  0.795246 -0.246429  -0.309038 -0.130759 -0.583410  0.875617   \n",
       "4517  1.496912  0.488060 -0.246429   1.026680  7.647669 -1.573671  0.875617   \n",
       "4518  1.496912  1.409618 -0.246429  -0.309038 -0.130759 -0.374724 -1.142051   \n",
       "4519 -1.245394 -1.047871 -0.246429  -0.309038 -0.130759 -0.094925 -1.142051   \n",
       "4520  0.267602 -0.740685  1.421396   1.026680 -0.130759 -0.095257  0.875617   \n",
       "\n",
       "          loan   contact       day     month  duration  campaign     pdays  \\\n",
       "0    -0.424756 -0.723642  0.374052  1.485414 -0.711861 -0.576829 -0.407218   \n",
       "1     2.354292 -0.723642 -0.596026  0.819288 -0.169194 -0.576829  2.989044   \n",
       "2    -0.424756 -0.723642  0.010273 -1.845220 -0.303898 -0.576829  2.899143   \n",
       "3     2.354292  1.495133 -1.566105  0.153161 -0.250017  0.387967 -0.407218   \n",
       "4    -0.424756  1.495133 -1.323585  0.819288 -0.146102 -0.576829 -0.407218   \n",
       "...        ...       ...       ...       ...       ...       ...       ...   \n",
       "4516 -0.424756 -0.723642  1.707910 -0.179903  0.250315  0.709566 -0.407218   \n",
       "4517  2.354292  1.495133 -0.838546  0.819288 -0.427057 -0.576829 -0.407218   \n",
       "4518 -0.424756 -0.723642  0.374052 -1.512157 -0.434754  2.639160 -0.407218   \n",
       "4519 -0.424756 -0.723642 -1.202326 -0.846030 -0.519426  0.387967  1.710451   \n",
       "4520  2.354292 -0.723642 -1.566105 -1.845220  0.311894 -0.255231  2.090033   \n",
       "\n",
       "      previous  poutcome  \n",
       "0    -0.320413  0.444413  \n",
       "1     2.041734 -2.579961  \n",
       "2     0.270124 -2.579961  \n",
       "3    -0.320413  0.444413  \n",
       "4    -0.320413  0.444413  \n",
       "...        ...       ...  \n",
       "4516 -0.320413  0.444413  \n",
       "4517 -0.320413  0.444413  \n",
       "4518 -0.320413  0.444413  \n",
       "4519  1.451197 -1.571836  \n",
       "4520  3.813344 -1.571836  \n",
       "\n",
       "[4521 rows x 16 columns]"
      ]
     },
     "execution_count": 153,
     "metadata": {},
     "output_type": "execute_result"
    }
   ],
   "source": [
    "X_sd"
   ]
  },
  {
   "cell_type": "code",
   "execution_count": 154,
   "id": "c07093ac",
   "metadata": {},
   "outputs": [],
   "source": [
    "# Divide data into train test split\n",
    "\n",
    "from sklearn.model_selection import train_test_split\n",
    "x_train_sd,x_test_sd,y_train_sd,y_test_sd=train_test_split(X_sd,y,test_size=0.3,\n",
    "                                                          random_state=1234)"
   ]
  },
  {
   "cell_type": "code",
   "execution_count": 155,
   "id": "e99ef4f1",
   "metadata": {},
   "outputs": [
    {
     "data": {
      "text/html": [
       "<div>\n",
       "<style scoped>\n",
       "    .dataframe tbody tr th:only-of-type {\n",
       "        vertical-align: middle;\n",
       "    }\n",
       "\n",
       "    .dataframe tbody tr th {\n",
       "        vertical-align: top;\n",
       "    }\n",
       "\n",
       "    .dataframe thead th {\n",
       "        text-align: right;\n",
       "    }\n",
       "</style>\n",
       "<table border=\"1\" class=\"dataframe\">\n",
       "  <thead>\n",
       "    <tr style=\"text-align: right;\">\n",
       "      <th></th>\n",
       "      <th>DT_accuracy</th>\n",
       "      <th>DT_precision</th>\n",
       "      <th>DT_recall</th>\n",
       "      <th>Dt_F1_score</th>\n",
       "    </tr>\n",
       "  </thead>\n",
       "  <tbody>\n",
       "    <tr>\n",
       "      <th>Decision Tree</th>\n",
       "      <td>0.87</td>\n",
       "      <td>0.42</td>\n",
       "      <td>0.42</td>\n",
       "      <td>0.42</td>\n",
       "    </tr>\n",
       "  </tbody>\n",
       "</table>\n",
       "</div>"
      ],
      "text/plain": [
       "               DT_accuracy  DT_precision  DT_recall  Dt_F1_score\n",
       "Decision Tree         0.87          0.42       0.42         0.42"
      ]
     },
     "execution_count": 155,
     "metadata": {},
     "output_type": "execute_result"
    }
   ],
   "source": [
    "# =============== Decision Tree ================\n",
    "from sklearn.tree import DecisionTreeClassifier\n",
    "tree_model=DecisionTreeClassifier()\n",
    "tree_model\n",
    "tree_model.fit(X=x_train_sd,y=y_train_sd)\n",
    "y_dt_pred=tree_model.predict(x_test_sd)\n",
    "\n",
    "from sklearn.metrics import accuracy_score,precision_score,recall_score,f1_score\n",
    "from sklearn.metrics import classification_report, roc_curve\n",
    "from sklearn.metrics import confusion_matrix\n",
    "\n",
    "dt_sd_acc=accuracy_score(y_test_sd,y_dt_pred)\n",
    "dt_sd_pr=precision_score(y_test_sd,y_dt_pred)\n",
    "dt_sd_recall=recall_score(y_test_sd,y_dt_pred)\n",
    "dt_sd_f1_score=f1_score(y_test_sd,y_dt_pred)\n",
    "\n",
    "dict1={\"DT_accuracy\":round(dt_sd_acc,2),\n",
    "      \"DT_precision\":round(dt_sd_pr,2),\n",
    "      \"DT_recall\":round(dt_sd_recall,2),\n",
    "      \"Dt_F1_score\":round(dt_sd_f1_score,2)}\n",
    "pd.DataFrame(dict1,index=['Decision Tree'])\n",
    "\n",
    "\n",
    "\n"
   ]
  },
  {
   "cell_type": "code",
   "execution_count": 156,
   "id": "c0c5e71c",
   "metadata": {},
   "outputs": [
    {
     "data": {
      "text/plain": [
       "[<matplotlib.lines.Line2D at 0x122f1dc70>]"
      ]
     },
     "execution_count": 156,
     "metadata": {},
     "output_type": "execute_result"
    },
    {
     "data": {
      "image/png": "[encoded data removed]",
      "text/plain": [
       "<Figure size 432x288 with 1 Axes>"
      ]
     },
     "metadata": {
      "needs_background": "light"
     },
     "output_type": "display_data"
    }
   ],
   "source": [
    "y_dt_pred_prob=tree_model.predict_proba(x_test_sd)[:,1]\n",
    "fpr,tpr,threshold=roc_curve(y_test_sd,y_dt_pred_prob)\n",
    "plt.plot(fpr,tpr)"
   ]
  },
  {
   "cell_type": "code",
   "execution_count": 157,
   "id": "a116cadd",
   "metadata": {},
   "outputs": [
    {
     "data": {
      "text/html": [
       "<div>\n",
       "<style scoped>\n",
       "    .dataframe tbody tr th:only-of-type {\n",
       "        vertical-align: middle;\n",
       "    }\n",
       "\n",
       "    .dataframe tbody tr th {\n",
       "        vertical-align: top;\n",
       "    }\n",
       "\n",
       "    .dataframe thead th {\n",
       "        text-align: right;\n",
       "    }\n",
       "</style>\n",
       "<table border=\"1\" class=\"dataframe\">\n",
       "  <thead>\n",
       "    <tr style=\"text-align: right;\">\n",
       "      <th></th>\n",
       "      <th>knn_accuracy</th>\n",
       "      <th>knn_precision</th>\n",
       "      <th>knn_recall</th>\n",
       "      <th>knn_F1_score</th>\n",
       "    </tr>\n",
       "  </thead>\n",
       "  <tbody>\n",
       "    <tr>\n",
       "      <th>KNN</th>\n",
       "      <td>0.87</td>\n",
       "      <td>0.42</td>\n",
       "      <td>0.42</td>\n",
       "      <td>0.42</td>\n",
       "    </tr>\n",
       "  </tbody>\n",
       "</table>\n",
       "</div>"
      ],
      "text/plain": [
       "     knn_accuracy  knn_precision  knn_recall  knn_F1_score\n",
       "KNN          0.87           0.42        0.42          0.42"
      ]
     },
     "execution_count": 157,
     "metadata": {},
     "output_type": "execute_result"
    }
   ],
   "source": [
    "\n",
    "# =============== KNN ================\n",
    "from sklearn.neighbors import KNeighborsClassifier\n",
    "knn=KNeighborsClassifier()\n",
    "knn\n",
    "knn.fit(X=x_train_sd,y=y_train_sd)\n",
    "y_knn_pred=tree_model.predict(x_test_sd)\n",
    "\n",
    "\n",
    "\n",
    "knn_sd_acc=accuracy_score(y_test_sd,y_knn_pred)\n",
    "knn_sd_pr=precision_score(y_test_sd,y_knn_pred)\n",
    "knn_sd_recall=recall_score(y_test_sd,y_knn_pred)\n",
    "knn_sd_f1_score=f1_score(y_test_sd,y_knn_pred)\n",
    "\n",
    "dict1={\"knn_accuracy\":round(knn_sd_acc,2),\n",
    "      \"knn_precision\":round(knn_sd_pr,2),\n",
    "      \"knn_recall\":round(knn_sd_recall,2),\n",
    "      \"knn_F1_score\":round(knn_sd_f1_score,2)}\n",
    "pd.DataFrame(dict1,index=['KNN'])"
   ]
  },
  {
   "cell_type": "code",
   "execution_count": 158,
   "id": "aabf4063",
   "metadata": {},
   "outputs": [
    {
     "data": {
      "text/html": [
       "<div>\n",
       "<style scoped>\n",
       "    .dataframe tbody tr th:only-of-type {\n",
       "        vertical-align: middle;\n",
       "    }\n",
       "\n",
       "    .dataframe tbody tr th {\n",
       "        vertical-align: top;\n",
       "    }\n",
       "\n",
       "    .dataframe thead th {\n",
       "        text-align: right;\n",
       "    }\n",
       "</style>\n",
       "<table border=\"1\" class=\"dataframe\">\n",
       "  <thead>\n",
       "    <tr style=\"text-align: right;\">\n",
       "      <th></th>\n",
       "      <th>knn_accuracy</th>\n",
       "      <th>knn_precision</th>\n",
       "      <th>knn_recall</th>\n",
       "      <th>knn_F1_score</th>\n",
       "    </tr>\n",
       "  </thead>\n",
       "  <tbody>\n",
       "    <tr>\n",
       "      <th>KNN</th>\n",
       "      <td>0.87</td>\n",
       "      <td>0.42</td>\n",
       "      <td>0.42</td>\n",
       "      <td>0.42</td>\n",
       "    </tr>\n",
       "  </tbody>\n",
       "</table>\n",
       "</div>"
      ],
      "text/plain": [
       "     knn_accuracy  knn_precision  knn_recall  knn_F1_score\n",
       "KNN          0.87           0.42        0.42          0.42"
      ]
     },
     "execution_count": 158,
     "metadata": {},
     "output_type": "execute_result"
    }
   ],
   "source": [
    "# =============== Logistic Regression ================\n",
    "from sklearn.linear_model import LogisticRegression\n",
    "Logist=LogisticRegression()\n",
    "Logist\n",
    "Logist.fit(X=x_train_sd,y=y_train_sd)\n",
    "y_Logist_pred=tree_model.predict(x_test_sd)\n",
    "\n",
    "\n",
    "\n",
    "Logist_sd_acc=accuracy_score(y_test_sd,y_Logist_pred)\n",
    "Logist_sd_pr=precision_score(y_test_sd,y_Logist_pred)\n",
    "Logist_sd_recall=recall_score(y_test_sd,y_Logist_pred)\n",
    "Logist_sd_f1_score=f1_score(y_test_sd,y_knn_pred)\n",
    "\n",
    "dict1={\"knn_accuracy\":round(knn_sd_acc,2),\n",
    "      \"knn_precision\":round(knn_sd_pr,2),\n",
    "      \"knn_recall\":round(knn_sd_recall,2),\n",
    "      \"knn_F1_score\":round(knn_sd_f1_score,2)}\n",
    "pd.DataFrame(dict1,index=['KNN'])"
   ]
  },
  {
   "cell_type": "markdown",
   "id": "010cfb5e",
   "metadata": {},
   "source": [
    "# Hyper parameter  tuning"
   ]
  },
  {
   "cell_type": "markdown",
   "id": "d31a0898",
   "metadata": {},
   "source": [
    "## Decision tree"
   ]
  },
  {
   "cell_type": "code",
   "execution_count": 159,
   "id": "ab675948",
   "metadata": {},
   "outputs": [
    {
     "data": {
      "text/plain": [
       "DecisionTreeClassifier()"
      ]
     },
     "execution_count": 159,
     "metadata": {},
     "output_type": "execute_result"
    }
   ],
   "source": [
    "from sklearn.model_selection import GridSearchCV,cross_val_score\n",
    "grid_tree=DecisionTreeClassifier()\n",
    "grid_tree"
   ]
  },
  {
   "cell_type": "code",
   "execution_count": 160,
   "id": "838587ba",
   "metadata": {},
   "outputs": [
    {
     "data": {
      "text/plain": [
       "{'ccp_alpha': 0.0,\n",
       " 'class_weight': None,\n",
       " 'criterion': 'gini',\n",
       " 'max_depth': None,\n",
       " 'max_features': None,\n",
       " 'max_leaf_nodes': None,\n",
       " 'min_impurity_decrease': 0.0,\n",
       " 'min_samples_leaf': 1,\n",
       " 'min_samples_split': 2,\n",
       " 'min_weight_fraction_leaf': 0.0,\n",
       " 'random_state': None,\n",
       " 'splitter': 'best'}"
      ]
     },
     "execution_count": 160,
     "metadata": {},
     "output_type": "execute_result"
    }
   ],
   "source": [
    "grid_tree.get_params()"
   ]
  },
  {
   "cell_type": "code",
   "execution_count": 161,
   "id": "f0cd4303",
   "metadata": {},
   "outputs": [],
   "source": [
    "grid_param={\"criterion\":['gini','entropy'],\n",
    "           \"max_depth\":[3,4,5,6,7,8]}\n",
    "\n"
   ]
  },
  {
   "cell_type": "code",
   "execution_count": 162,
   "id": "178838e6",
   "metadata": {},
   "outputs": [],
   "source": [
    "grid_model=GridSearchCV(grid_tree,\n",
    "                       param_grid=grid_param,\n",
    "                       scoring='accuracy',\n",
    "                       cv=5,verbose=False)"
   ]
  },
  {
   "cell_type": "code",
   "execution_count": 163,
   "id": "fd658181",
   "metadata": {},
   "outputs": [
    {
     "data": {
      "text/plain": [
       "GridSearchCV(cv=5, estimator=DecisionTreeClassifier(),\n",
       "             param_grid={'criterion': ['gini', 'entropy'],\n",
       "                         'max_depth': [3, 4, 5, 6, 7, 8]},\n",
       "             scoring='accuracy', verbose=False)"
      ]
     },
     "execution_count": 163,
     "metadata": {},
     "output_type": "execute_result"
    }
   ],
   "source": [
    "grid_model.fit(X_train,y_train)"
   ]
  },
  {
   "cell_type": "code",
   "execution_count": 164,
   "id": "d1080e99",
   "metadata": {},
   "outputs": [
    {
     "data": {
      "text/plain": [
       "DecisionTreeClassifier(max_depth=5)"
      ]
     },
     "execution_count": 164,
     "metadata": {},
     "output_type": "execute_result"
    }
   ],
   "source": [
    "grid_model.best_estimator_"
   ]
  },
  {
   "cell_type": "code",
   "execution_count": 165,
   "id": "fff0ec14",
   "metadata": {},
   "outputs": [
    {
     "data": {
      "text/plain": [
       "{'criterion': 'gini', 'max_depth': 5}"
      ]
     },
     "execution_count": 165,
     "metadata": {},
     "output_type": "execute_result"
    }
   ],
   "source": [
    "grid_model.best_params_"
   ]
  },
  {
   "cell_type": "code",
   "execution_count": 166,
   "id": "cd9e7f60",
   "metadata": {},
   "outputs": [
    {
     "data": {
      "text/plain": [
       "0.8906443097966286"
      ]
     },
     "execution_count": 166,
     "metadata": {},
     "output_type": "execute_result"
    }
   ],
   "source": [
    "grid_model.best_score_"
   ]
  },
  {
   "cell_type": "code",
   "execution_count": 167,
   "id": "eb2c8a2e",
   "metadata": {},
   "outputs": [
    {
     "data": {
      "text/plain": [
       "0.890327854100426"
      ]
     },
     "execution_count": 167,
     "metadata": {},
     "output_type": "execute_result"
    }
   ],
   "source": [
    "cross_val_score(grid_model.best_estimator_,\n",
    "               X_train,y_train,scoring='accuracy').mean()"
   ]
  },
  {
   "cell_type": "code",
   "execution_count": 168,
   "id": "b0c800af",
   "metadata": {},
   "outputs": [
    {
     "data": {
      "text/plain": [
       "KNeighborsClassifier()"
      ]
     },
     "execution_count": 168,
     "metadata": {},
     "output_type": "execute_result"
    }
   ],
   "source": [
    "# show me the KNN hyperparameters\n",
    "\n",
    "\n",
    "from sklearn.model_selection import GridSearchCV,cross_val_score\n",
    "grid_knn=KNeighborsClassifier()\n",
    "grid_knn"
   ]
  },
  {
   "cell_type": "code",
   "execution_count": 169,
   "id": "923a5e63",
   "metadata": {},
   "outputs": [
    {
     "data": {
      "text/plain": [
       "{'algorithm': 'auto',\n",
       " 'leaf_size': 30,\n",
       " 'metric': 'minkowski',\n",
       " 'metric_params': None,\n",
       " 'n_jobs': None,\n",
       " 'n_neighbors': 5,\n",
       " 'p': 2,\n",
       " 'weights': 'uniform'}"
      ]
     },
     "execution_count": 169,
     "metadata": {},
     "output_type": "execute_result"
    }
   ],
   "source": [
    "grid_knn.get_params()"
   ]
  },
  {
   "cell_type": "code",
   "execution_count": 170,
   "id": "8601214e",
   "metadata": {},
   "outputs": [],
   "source": [
    "grid_param=grid_param={\"leaf_size\":[20],\n",
    "                      \"n_neighbors\":[4]}"
   ]
  },
  {
   "cell_type": "code",
   "execution_count": 171,
   "id": "42cd30f8",
   "metadata": {},
   "outputs": [],
   "source": [
    "grid_model=GridSearchCV(grid_knn,\n",
    "                       param_grid=grid_param,\n",
    "                       scoring='accuracy',\n",
    "                       cv=5,verbose=False)"
   ]
  },
  {
   "cell_type": "code",
   "execution_count": 172,
   "id": "6b51bf83",
   "metadata": {},
   "outputs": [
    {
     "data": {
      "text/plain": [
       "GridSearchCV(cv=5, estimator=KNeighborsClassifier(),\n",
       "             param_grid={'leaf_size': [20], 'n_neighbors': [4]},\n",
       "             scoring='accuracy', verbose=False)"
      ]
     },
     "execution_count": 172,
     "metadata": {},
     "output_type": "execute_result"
    }
   ],
   "source": [
    "grid_model.fit(X_train,y_train)"
   ]
  },
  {
   "cell_type": "code",
   "execution_count": 173,
   "id": "99bfa6d0",
   "metadata": {},
   "outputs": [
    {
     "data": {
      "text/plain": [
       "KNeighborsClassifier(leaf_size=20, n_neighbors=4)"
      ]
     },
     "execution_count": 173,
     "metadata": {},
     "output_type": "execute_result"
    }
   ],
   "source": [
    "grid_model.best_estimator_"
   ]
  },
  {
   "cell_type": "code",
   "execution_count": 174,
   "id": "039de502",
   "metadata": {},
   "outputs": [
    {
     "data": {
      "text/plain": [
       "0.8773691683164356"
      ]
     },
     "execution_count": 174,
     "metadata": {},
     "output_type": "execute_result"
    }
   ],
   "source": [
    "grid_model.best_score_"
   ]
  },
  {
   "cell_type": "code",
   "execution_count": 175,
   "id": "cdeba968",
   "metadata": {},
   "outputs": [
    {
     "data": {
      "text/plain": [
       "0"
      ]
     },
     "execution_count": 175,
     "metadata": {},
     "output_type": "execute_result"
    }
   ],
   "source": [
    "grid_model.best_index_"
   ]
  },
  {
   "cell_type": "code",
   "execution_count": 176,
   "id": "87279d36",
   "metadata": {},
   "outputs": [
    {
     "data": {
      "text/plain": [
       "{'leaf_size': 20, 'n_neighbors': 4}"
      ]
     },
     "execution_count": 176,
     "metadata": {},
     "output_type": "execute_result"
    }
   ],
   "source": [
    "grid_model.best_params_"
   ]
  },
  {
   "cell_type": "code",
   "execution_count": 177,
   "id": "7e3d38f5",
   "metadata": {},
   "outputs": [
    {
     "name": "stdout",
     "output_type": "stream",
     "text": [
      "Fitting 5 folds for each of 64 candidates, totalling 320 fits\n",
      "KNeighborsClassifier(leaf_size=20, n_neighbors=10)\n",
      "{'algorithm': 'auto', 'leaf_size': 20, 'n_neighbors': 10}\n",
      "0.8798968144459776\n"
     ]
    },
    {
     "data": {
      "text/plain": [
       "array([0.87993681, 0.89099526, 0.87045814, 0.88467615, 0.87341772])"
      ]
     },
     "execution_count": 177,
     "metadata": {},
     "output_type": "execute_result"
    }
   ],
   "source": [
    "# Diffrent parameter\n",
    "from sklearn.neighbors import KNeighborsClassifier\n",
    "knn_grid=KNeighborsClassifier()\n",
    "knn_grid.get_params()\n",
    "knn_grid_para={\"n_neighbors\":[5,6,7,10],\n",
    "              \"leaf_size\":[20,30,40,50],\n",
    "              \"algorithm\" :['auto', 'ball_tree', 'kd_tree', 'brute']}\n",
    "knn_grid_model=GridSearchCV(knn_grid, \n",
    "                        cv=5,       \n",
    "                        param_grid=knn_grid_para, \n",
    "                        scoring=\"accuracy\", \n",
    "                       verbose=True)\n",
    "knn_grid_model.fit(X_train,y_train)\n",
    "print(knn_grid_model.best_estimator_)\n",
    "print(knn_grid_model.best_params_)\n",
    "print(knn_grid_model.best_score_)\n",
    "\n",
    "cross_val_score(knn_grid_model.best_estimator_,\n",
    "               X_train,y_train,\n",
    "               scoring='accuracy')"
   ]
  },
  {
   "cell_type": "markdown",
   "id": "4cc121de",
   "metadata": {},
   "source": [
    "# linear Regrission"
   ]
  },
  {
   "cell_type": "code",
   "execution_count": 4,
   "id": "3c5295a3",
   "metadata": {},
   "outputs": [],
   "source": [
    "import pandas as pd\n",
    "from sklearn import linear_model"
   ]
  },
  {
   "cell_type": "code",
   "execution_count": 7,
   "id": "bd219863",
   "metadata": {},
   "outputs": [],
   "source": [
    "df=pd.read_csv('/Users/sheelendersharma1/Desktop/data sciece/priya.csv')"
   ]
  },
  {
   "cell_type": "code",
   "execution_count": 9,
   "id": "27dff863",
   "metadata": {},
   "outputs": [
    {
     "data": {
      "text/html": [
       "<div>\n",
       "<style scoped>\n",
       "    .dataframe tbody tr th:only-of-type {\n",
       "        vertical-align: middle;\n",
       "    }\n",
       "\n",
       "    .dataframe tbody tr th {\n",
       "        vertical-align: top;\n",
       "    }\n",
       "\n",
       "    .dataframe thead th {\n",
       "        text-align: right;\n",
       "    }\n",
       "</style>\n",
       "<table border=\"1\" class=\"dataframe\">\n",
       "  <thead>\n",
       "    <tr style=\"text-align: right;\">\n",
       "      <th></th>\n",
       "      <th>type of phnoe</th>\n",
       "      <th>ram</th>\n",
       "      <th>rom</th>\n",
       "      <th>rate</th>\n",
       "      <th>wt</th>\n",
       "    </tr>\n",
       "  </thead>\n",
       "  <tbody>\n",
       "    <tr>\n",
       "      <th>0</th>\n",
       "      <td>5</td>\n",
       "      <td>8</td>\n",
       "      <td>128</td>\n",
       "      <td>29000</td>\n",
       "      <td>200</td>\n",
       "    </tr>\n",
       "    <tr>\n",
       "      <th>1</th>\n",
       "      <td>4</td>\n",
       "      <td>4</td>\n",
       "      <td>64</td>\n",
       "      <td>15000</td>\n",
       "      <td>300</td>\n",
       "    </tr>\n",
       "    <tr>\n",
       "      <th>2</th>\n",
       "      <td>4</td>\n",
       "      <td>4</td>\n",
       "      <td>16</td>\n",
       "      <td>12000</td>\n",
       "      <td>180</td>\n",
       "    </tr>\n",
       "    <tr>\n",
       "      <th>3</th>\n",
       "      <td>4</td>\n",
       "      <td>6</td>\n",
       "      <td>128</td>\n",
       "      <td>20000</td>\n",
       "      <td>250</td>\n",
       "    </tr>\n",
       "    <tr>\n",
       "      <th>4</th>\n",
       "      <td>5</td>\n",
       "      <td>8</td>\n",
       "      <td>256</td>\n",
       "      <td>18000</td>\n",
       "      <td>290</td>\n",
       "    </tr>\n",
       "  </tbody>\n",
       "</table>\n",
       "</div>"
      ],
      "text/plain": [
       "   type of phnoe  ram   rom   rate   wt\n",
       "0              5     8  128  29000  200\n",
       "1              4     4   64  15000  300\n",
       "2              4     4   16  12000  180\n",
       "3              4     6  128  20000  250\n",
       "4              5     8  256  18000  290"
      ]
     },
     "execution_count": 9,
     "metadata": {},
     "output_type": "execute_result"
    }
   ],
   "source": [
    "df.head()"
   ]
  },
  {
   "cell_type": "code",
   "execution_count": 13,
   "id": "5b64ddde",
   "metadata": {},
   "outputs": [],
   "source": [
    "X=df[['rom','wt']]\n",
    "y=df['rate']"
   ]
  },
  {
   "cell_type": "code",
   "execution_count": 14,
   "id": "4ecab55e",
   "metadata": {},
   "outputs": [
    {
     "data": {
      "text/plain": [
       "LinearRegression()"
      ]
     },
     "execution_count": 14,
     "metadata": {},
     "output_type": "execute_result"
    }
   ],
   "source": [
    "regs=linear_model.LinearRegression()\n",
    "regs.fit(X,y)"
   ]
  },
  {
   "cell_type": "code",
   "execution_count": 16,
   "id": "b59bb84a",
   "metadata": {},
   "outputs": [
    {
     "name": "stdout",
     "output_type": "stream",
     "text": [
      "[35365.12797185]\n"
     ]
    },
    {
     "name": "stderr",
     "output_type": "stream",
     "text": [
      "/Users/sheelendersharma1/opt/anaconda3/lib/python3.9/site-packages/sklearn/base.py:450: UserWarning: X does not have valid feature names, but LinearRegression was fitted with feature names\n",
      "  warnings.warn(\n"
     ]
    }
   ],
   "source": [
    "pr=regs.predict([[512,300]])\n",
    "print(pr)"
   ]
  },
  {
   "cell_type": "code",
   "execution_count": null,
   "id": "c25c5db1",
   "metadata": {},
   "outputs": [],
   "source": [
    "y=b0+b1*x1\n",
    "\n",
    "b0=constant\n",
    "b1=cofficent\n",
    "x1=independent varible\n",
    "y=dependent varible"
   ]
  },
  {
   "cell_type": "code",
   "execution_count": 41,
   "id": "3708333d",
   "metadata": {},
   "outputs": [],
   "source": [
    "# Dcsision Tree\n",
    "\n",
    "import pandas as pd\n",
    "from sklearn.tree import DecisionTreeClassifier\n",
    "import matplotlib.pyplot as plt\n",
    "\n"
   ]
  },
  {
   "cell_type": "code",
   "execution_count": 51,
   "id": "cba83962",
   "metadata": {},
   "outputs": [
    {
     "ename": "SyntaxError",
     "evalue": "invalid syntax (3905644280.py, line 2)",
     "output_type": "error",
     "traceback": [
      "\u001b[0;36m  Input \u001b[0;32mIn [51]\u001b[0;36m\u001b[0m\n\u001b[0;31m    \"experience\":'2','3','6','5','4'),\u001b[0m\n\u001b[0m                        ^\u001b[0m\n\u001b[0;31mSyntaxError\u001b[0m\u001b[0;31m:\u001b[0m invalid syntax\n"
     ]
    }
   ],
   "source": [
    "df={\"age\":(9[23,26,22,24,25]),\n",
    "      \"experience\":'2','3','6','5','4'),\n",
    "      \"rank\":'6','5','7','3','1'),\n",
    "      \"qualified\":'0','1','3','1','2'),\n",
    "      \"heired\":'0','1','1','0','1'}\n",
    "pd.DataFrame(df,index=['0','1','2','3','4'])"
   ]
  },
  {
   "cell_type": "code",
   "execution_count": 42,
   "id": "bd7a7cf8",
   "metadata": {},
   "outputs": [
    {
     "data": {
      "text/html": [
       "<div>\n",
       "<style scoped>\n",
       "    .dataframe tbody tr th:only-of-type {\n",
       "        vertical-align: middle;\n",
       "    }\n",
       "\n",
       "    .dataframe tbody tr th {\n",
       "        vertical-align: top;\n",
       "    }\n",
       "\n",
       "    .dataframe thead th {\n",
       "        text-align: right;\n",
       "    }\n",
       "</style>\n",
       "<table border=\"1\" class=\"dataframe\">\n",
       "  <thead>\n",
       "    <tr style=\"text-align: right;\">\n",
       "      <th></th>\n",
       "      <th>age</th>\n",
       "      <th>experience rank</th>\n",
       "      <th>Unnamed: 2</th>\n",
       "      <th>qualified</th>\n",
       "      <th>heired</th>\n",
       "    </tr>\n",
       "  </thead>\n",
       "  <tbody>\n",
       "    <tr>\n",
       "      <th>0</th>\n",
       "      <td>23</td>\n",
       "      <td>2</td>\n",
       "      <td>6</td>\n",
       "      <td>0</td>\n",
       "      <td>0</td>\n",
       "    </tr>\n",
       "    <tr>\n",
       "      <th>1</th>\n",
       "      <td>26</td>\n",
       "      <td>3</td>\n",
       "      <td>5</td>\n",
       "      <td>1</td>\n",
       "      <td>1</td>\n",
       "    </tr>\n",
       "    <tr>\n",
       "      <th>2</th>\n",
       "      <td>22</td>\n",
       "      <td>6</td>\n",
       "      <td>7</td>\n",
       "      <td>3</td>\n",
       "      <td>1</td>\n",
       "    </tr>\n",
       "    <tr>\n",
       "      <th>3</th>\n",
       "      <td>24</td>\n",
       "      <td>5</td>\n",
       "      <td>3</td>\n",
       "      <td>1</td>\n",
       "      <td>0</td>\n",
       "    </tr>\n",
       "    <tr>\n",
       "      <th>4</th>\n",
       "      <td>23</td>\n",
       "      <td>4</td>\n",
       "      <td>1</td>\n",
       "      <td>2</td>\n",
       "      <td>1</td>\n",
       "    </tr>\n",
       "  </tbody>\n",
       "</table>\n",
       "</div>"
      ],
      "text/plain": [
       "   age   experience rank   Unnamed: 2  qualified   heired\n",
       "0    23                 2           6           0       0\n",
       "1    26                 3           5           1       1\n",
       "2    22                 6           7           3       1\n",
       "3    24                 5           3           1       0\n",
       "4    23                 4           1           2       1"
      ]
     },
     "execution_count": 42,
     "metadata": {},
     "output_type": "execute_result"
    }
   ],
   "source": [
    "df=pd.read_csv('/Users/sheelendersharma1/Desktop/data sciece/decision tree.csv')\n",
    "df.head()"
   ]
  },
  {
   "cell_type": "code",
   "execution_count": 45,
   "id": "45607fd3",
   "metadata": {},
   "outputs": [],
   "source": [
    "feature=['age','experience rank','qualified']"
   ]
  },
  {
   "cell_type": "code",
   "execution_count": 46,
   "id": "e431bf9a",
   "metadata": {},
   "outputs": [
    {
     "ename": "KeyError",
     "evalue": "\"None of [Index(['age', 'experience rank', 'qualified'], dtype='object')] are in the [columns]\"",
     "output_type": "error",
     "traceback": [
      "\u001b[0;31m---------------------------------------------------------------------------\u001b[0m",
      "\u001b[0;31mKeyError\u001b[0m                                  Traceback (most recent call last)",
      "Input \u001b[0;32mIn [46]\u001b[0m, in \u001b[0;36m<cell line: 1>\u001b[0;34m()\u001b[0m\n\u001b[0;32m----> 1\u001b[0m x\u001b[38;5;241m=\u001b[39m\u001b[43mdf\u001b[49m\u001b[43m[\u001b[49m\u001b[43mfeature\u001b[49m\u001b[43m]\u001b[49m\n\u001b[1;32m      3\u001b[0m y\u001b[38;5;241m=\u001b[39mdf[\u001b[38;5;124m'\u001b[39m\u001b[38;5;124mheired\u001b[39m\u001b[38;5;124m'\u001b[39m]\n\u001b[1;32m      5\u001b[0m dtree\u001b[38;5;241m=\u001b[39mDecisionTreeClassifier() \n",
      "File \u001b[0;32m~/opt/anaconda3/lib/python3.9/site-packages/pandas/core/frame.py:3511\u001b[0m, in \u001b[0;36mDataFrame.__getitem__\u001b[0;34m(self, key)\u001b[0m\n\u001b[1;32m   3509\u001b[0m     \u001b[38;5;28;01mif\u001b[39;00m is_iterator(key):\n\u001b[1;32m   3510\u001b[0m         key \u001b[38;5;241m=\u001b[39m \u001b[38;5;28mlist\u001b[39m(key)\n\u001b[0;32m-> 3511\u001b[0m     indexer \u001b[38;5;241m=\u001b[39m \u001b[38;5;28;43mself\u001b[39;49m\u001b[38;5;241;43m.\u001b[39;49m\u001b[43mcolumns\u001b[49m\u001b[38;5;241;43m.\u001b[39;49m\u001b[43m_get_indexer_strict\u001b[49m\u001b[43m(\u001b[49m\u001b[43mkey\u001b[49m\u001b[43m,\u001b[49m\u001b[43m \u001b[49m\u001b[38;5;124;43m\"\u001b[39;49m\u001b[38;5;124;43mcolumns\u001b[39;49m\u001b[38;5;124;43m\"\u001b[39;49m\u001b[43m)\u001b[49m[\u001b[38;5;241m1\u001b[39m]\n\u001b[1;32m   3513\u001b[0m \u001b[38;5;66;03m# take() does not accept boolean indexers\u001b[39;00m\n\u001b[1;32m   3514\u001b[0m \u001b[38;5;28;01mif\u001b[39;00m \u001b[38;5;28mgetattr\u001b[39m(indexer, \u001b[38;5;124m\"\u001b[39m\u001b[38;5;124mdtype\u001b[39m\u001b[38;5;124m\"\u001b[39m, \u001b[38;5;28;01mNone\u001b[39;00m) \u001b[38;5;241m==\u001b[39m \u001b[38;5;28mbool\u001b[39m:\n",
      "File \u001b[0;32m~/opt/anaconda3/lib/python3.9/site-packages/pandas/core/indexes/base.py:5782\u001b[0m, in \u001b[0;36mIndex._get_indexer_strict\u001b[0;34m(self, key, axis_name)\u001b[0m\n\u001b[1;32m   5779\u001b[0m \u001b[38;5;28;01melse\u001b[39;00m:\n\u001b[1;32m   5780\u001b[0m     keyarr, indexer, new_indexer \u001b[38;5;241m=\u001b[39m \u001b[38;5;28mself\u001b[39m\u001b[38;5;241m.\u001b[39m_reindex_non_unique(keyarr)\n\u001b[0;32m-> 5782\u001b[0m \u001b[38;5;28;43mself\u001b[39;49m\u001b[38;5;241;43m.\u001b[39;49m\u001b[43m_raise_if_missing\u001b[49m\u001b[43m(\u001b[49m\u001b[43mkeyarr\u001b[49m\u001b[43m,\u001b[49m\u001b[43m \u001b[49m\u001b[43mindexer\u001b[49m\u001b[43m,\u001b[49m\u001b[43m \u001b[49m\u001b[43maxis_name\u001b[49m\u001b[43m)\u001b[49m\n\u001b[1;32m   5784\u001b[0m keyarr \u001b[38;5;241m=\u001b[39m \u001b[38;5;28mself\u001b[39m\u001b[38;5;241m.\u001b[39mtake(indexer)\n\u001b[1;32m   5785\u001b[0m \u001b[38;5;28;01mif\u001b[39;00m \u001b[38;5;28misinstance\u001b[39m(key, Index):\n\u001b[1;32m   5786\u001b[0m     \u001b[38;5;66;03m# GH 42790 - Preserve name from an Index\u001b[39;00m\n",
      "File \u001b[0;32m~/opt/anaconda3/lib/python3.9/site-packages/pandas/core/indexes/base.py:5842\u001b[0m, in \u001b[0;36mIndex._raise_if_missing\u001b[0;34m(self, key, indexer, axis_name)\u001b[0m\n\u001b[1;32m   5840\u001b[0m     \u001b[38;5;28;01mif\u001b[39;00m use_interval_msg:\n\u001b[1;32m   5841\u001b[0m         key \u001b[38;5;241m=\u001b[39m \u001b[38;5;28mlist\u001b[39m(key)\n\u001b[0;32m-> 5842\u001b[0m     \u001b[38;5;28;01mraise\u001b[39;00m \u001b[38;5;167;01mKeyError\u001b[39;00m(\u001b[38;5;124mf\u001b[39m\u001b[38;5;124m\"\u001b[39m\u001b[38;5;124mNone of [\u001b[39m\u001b[38;5;132;01m{\u001b[39;00mkey\u001b[38;5;132;01m}\u001b[39;00m\u001b[38;5;124m] are in the [\u001b[39m\u001b[38;5;132;01m{\u001b[39;00maxis_name\u001b[38;5;132;01m}\u001b[39;00m\u001b[38;5;124m]\u001b[39m\u001b[38;5;124m\"\u001b[39m)\n\u001b[1;32m   5844\u001b[0m not_found \u001b[38;5;241m=\u001b[39m \u001b[38;5;28mlist\u001b[39m(ensure_index(key)[missing_mask\u001b[38;5;241m.\u001b[39mnonzero()[\u001b[38;5;241m0\u001b[39m]]\u001b[38;5;241m.\u001b[39munique())\n\u001b[1;32m   5845\u001b[0m \u001b[38;5;28;01mraise\u001b[39;00m \u001b[38;5;167;01mKeyError\u001b[39;00m(\u001b[38;5;124mf\u001b[39m\u001b[38;5;124m\"\u001b[39m\u001b[38;5;132;01m{\u001b[39;00mnot_found\u001b[38;5;132;01m}\u001b[39;00m\u001b[38;5;124m not in index\u001b[39m\u001b[38;5;124m\"\u001b[39m)\n",
      "\u001b[0;31mKeyError\u001b[0m: \"None of [Index(['age', 'experience rank', 'qualified'], dtype='object')] are in the [columns]\""
     ]
    }
   ],
   "source": [
    "x=df[feature]\n",
    "\n",
    "y=df['heired']\n",
    "\n",
    "dtree=DecisionTreeClassifier() \n",
    "dtree=dtree.fit(x, y)\n",
    "\n",
    "tree.plot_tree(dtree, feature_names=feature)"
   ]
  },
  {
   "cell_type": "code",
   "execution_count": null,
   "id": "80bb8eeb",
   "metadata": {},
   "outputs": [],
   "source": []
  },
  {
   "cell_type": "code",
   "execution_count": null,
   "id": "993d5d53",
   "metadata": {},
   "outputs": [],
   "source": []
  },
  {
   "cell_type": "code",
   "execution_count": null,
   "id": "a8ca969f",
   "metadata": {},
   "outputs": [],
   "source": []
  },
  {
   "cell_type": "code",
   "execution_count": null,
   "id": "3d5f58b1",
   "metadata": {},
   "outputs": [],
   "source": []
  },
  {
   "cell_type": "code",
   "execution_count": null,
   "id": "0c5d7809",
   "metadata": {},
   "outputs": [],
   "source": []
  }
 ],
 "metadata": {
  "kernelspec": {
   "display_name": "Python 3 (ipykernel)",
   "language": "python",
   "name": "python3"
  },
  "language_info": {
   "codemirror_mode": {
    "name": "ipython",
    "version": 3
   },
   "file_extension": ".py",
   "mimetype": "text/x-python",
   "name": "python",
   "nbconvert_exporter": "python",
   "pygments_lexer": "ipython3",
   "version": "3.9.12"
  }
 },
 "nbformat": 4,
 "nbformat_minor": 5
}
