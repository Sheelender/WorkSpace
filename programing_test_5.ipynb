{
 "cells": [
  {
   "cell_type": "code",
   "execution_count": null,
   "id": "721c832c",
   "metadata": {},
   "outputs": [],
   "source": [
    "#1.Write a program that accepts a list from the user and print the alternate element of the list.\n",
    "\n",
    "\n",
    "#2.Write a python program to input a list of strings, return the maximum length of strings entered.\n",
    "\n",
    "\n",
    "#3.Write a program that rotates the element of a list so that the element at the first index moves to the second index, the element in the second index moves to the third index, etc., and the element in the last index moves to the first index.\n",
    "\n",
    "\n",
    "#4.Find the sum of each row of matrix of size m x n. For example for the following matrix output will be like this :\n",
    "#Sum of row 1 = 32\n",
    "#Sum of row 2 = 31\n",
    "#Sum of row 3 = 63\n",
    "\n",
    "\n",
    "#5.Write a program to add two matrices of size n x m\n",
    "\n",
    "\n",
    "#6.Write a program to multiply two matrices.\n",
    "\n",
    "#7.Given a list of N integers, and an integer K, find the number of pairs of elements in the array whose sum is equal to K.\n",
    "\n",
    "\n",
    "\n",
    "#8.Python program to compare two equal sized list and print the first index where they differ\n",
    "\n",
    "\n",
    "\n",
    "#9.Find out the first repeating element in a list\n",
    "\n",
    "\n",
    "\n",
    "#10.Given an unsorted list A of size N that contains only non-negative integers, find a continuous sub-list which adds to a given number S.\n",
    "#In case of multiple sub-lists, return the sub-list which comes first on moving from left to right.\n",
    "\n",
    "\n",
    "\n",
    "#11.Find missing numbers in a sorted list range.\n",
    "\n",
    "\n",
    "\n",
    "\n",
    "#12.Given a list of positive integers. Find the length of the longest sub-sequence such that elements in the subsequence are consecutive integers, the consecutive numbers can be in any order.\n",
    "\n",
    "\n",
    "#13.Concatenate every element across lists using list comprehension\n",
    "\n",
    "\n",
    "#14.Count occurrence of repeated element in list\n",
    "\n",
    "\n",
    "#15.Reverse a List using slice.\n",
    "\n",
    "\n",
    "\n"
   ]
  },
  {
   "cell_type": "code",
   "execution_count": 21,
   "id": "0405ad16",
   "metadata": {},
   "outputs": [
    {
     "name": "stdout",
     "output_type": "stream",
     "text": [
      "[45, 15, 39, 14, 39, 88, 73, 1, 95, 2]\n"
     ]
    }
   ],
   "source": [
    "#1.Write a program that accepts a list from the user and print the alternate element of the list.\n",
    "\n",
    "import random\n",
    "list1=[]\n",
    "for i in range(random.randint(0,10)):\n",
    "    n=random.randint(1,100)\n",
    "    list1.append(n)\n",
    "    \n",
    "print(list1)\n",
    "    \n",
    "    "
   ]
  },
  {
   "cell_type": "code",
   "execution_count": 25,
   "id": "b58ac364",
   "metadata": {},
   "outputs": [
    {
     "name": "stdout",
     "output_type": "stream",
     "text": [
      "enter the list:1,2,3,4\n",
      "['1,2,3,4']\n"
     ]
    },
    {
     "data": {
      "text/plain": [
       "list"
      ]
     },
     "execution_count": 25,
     "metadata": {},
     "output_type": "execute_result"
    }
   ],
   "source": [
    "n=input(\"enter the list:\")\n",
    "list2=[]\n",
    "\n",
    "list2.append(n)\n",
    "print(list2)\n",
    "type(list2)"
   ]
  },
  {
   "cell_type": "code",
   "execution_count": 2,
   "id": "1bceec14",
   "metadata": {},
   "outputs": [
    {
     "data": {
      "text/plain": [
       "4"
      ]
     },
     "execution_count": 2,
     "metadata": {},
     "output_type": "execute_result"
    }
   ],
   "source": [
    "#2.Write a python program to input a list of strings, return the maximum length of strings entered.\n",
    "\n",
    "\n",
    "list3=['Apple','Banana','orange','Cat']\n",
    "max(list3),min(list3) \n",
    "len(list3)"
   ]
  },
  {
   "cell_type": "code",
   "execution_count": 8,
   "id": "ef9be2f6",
   "metadata": {},
   "outputs": [
    {
     "name": "stdout",
     "output_type": "stream",
     "text": [
      "Enter the list: 1,2,3,4,5,6\n",
      "Original List: [(1, 2, 3, 4, 5, 6)]\n",
      "Rotated List\n",
      "[(6, 1, 2, 3, 4, 5)] l:\n",
      "[(4, 5, 6, 1, 2, 3)] p:\n"
     ]
    }
   ],
   "source": [
    "#3.Write a program that rotates the element of a list so that the element at the first index moves to the second index.\n",
    "\n",
    "l = eval(input(\"Enter the list: \"))\n",
    "print(\"Original List:\",[l])\n",
    "\n",
    "\n",
    "l = l[-1:] + l[:-1]  # rotation.....\n",
    "p = l[-2:] + l[:-2]\n",
    "print(\"Rotated List\")\n",
    "print([l],'l:')\n",
    "print([p],'p:')\n",
    "\n",
    "\n",
    "\n",
    "\n"
   ]
  },
  {
   "cell_type": "code",
   "execution_count": 30,
   "id": "870df1c3",
   "metadata": {},
   "outputs": [
    {
     "name": "stdout",
     "output_type": "stream",
     "text": [
      "enter the n value: 3\n",
      "enter the m value: 3\n",
      "6\n",
      "3\n",
      "8\n",
      "3\n",
      "9\n",
      "2\n",
      "9\n",
      "3\n",
      "5\n",
      "6 3 8 \n",
      "3 9 2 \n",
      "9 3 5 \n",
      "Sum of row 1 : 17\n",
      "Sum of row 2 : 14\n",
      "Sum of row 3 : 17\n"
     ]
    }
   ],
   "source": [
    "#4.Find the sum of each row of matrix of size m x n. For example for the following matrix output will be like this :\n",
    "#Sum of row 1 = 32\n",
    "#Sum of row 2 = 31\n",
    "#Sum of row 3 = 63\n",
    "\n",
    "#a=[[1,2,3],\n",
    "#   [4,5,6],\n",
    " #  [7,8,9]]\n",
    "#len(a)\n",
    "#sum_row1=a[0][0]+a[0][1]+a[0][2]\n",
    "#print(sum_row1)\n",
    "\n",
    "\n",
    "\n",
    "n=eval(input(\"enter the n value: \"))\n",
    "m=eval(input(\"enter the m value: \"))\n",
    " \n",
    "    \n",
    "matrix=[]\n",
    "\n",
    "\n",
    "# For user input \n",
    "for i in range(n):\n",
    "    data =[] \n",
    "    for j in range(m):\n",
    "         data.append(int(input())) \n",
    "    matrix.append(data) \n",
    "    \n",
    "    \n",
    "# printing matrix\n",
    "\n",
    "for i in range(n):\n",
    "    for j in range(m):\n",
    "        print(matrix[i][j],end=' ')\n",
    "    print()\n",
    "    \n",
    "# For printing row wise sum \n",
    "for i in range(n):\n",
    "    sum = 0\n",
    "    for j in range(m): \n",
    "        sum = sum + matrix[i][j]\n",
    "    print('Sum of row',i+1,':',sum) \n"
   ]
  },
  {
   "cell_type": "code",
   "execution_count": 2,
   "id": "4f6050d6",
   "metadata": {},
   "outputs": [
    {
     "name": "stdout",
     "output_type": "stream",
     "text": [
      "enter the n1 value: 3,4,5,6,7\n",
      "enter the m1 value: 4,6,3,6\n"
     ]
    },
    {
     "ename": "TypeError",
     "evalue": "'tuple' object cannot be interpreted as an integer",
     "output_type": "error",
     "traceback": [
      "\u001b[0;31m---------------------------------------------------------------------------\u001b[0m",
      "\u001b[0;31mTypeError\u001b[0m                                 Traceback (most recent call last)",
      "Input \u001b[0;32mIn [2]\u001b[0m, in \u001b[0;36m<cell line: 7>\u001b[0;34m()\u001b[0m\n\u001b[1;32m      3\u001b[0m m1\u001b[38;5;241m=\u001b[39m\u001b[38;5;28meval\u001b[39m(\u001b[38;5;28minput\u001b[39m(\u001b[38;5;124m\"\u001b[39m\u001b[38;5;124menter the m1 value: \u001b[39m\u001b[38;5;124m\"\u001b[39m))\n\u001b[1;32m      5\u001b[0m matrix1\u001b[38;5;241m=\u001b[39m[]\n\u001b[0;32m----> 7\u001b[0m \u001b[38;5;28;01mfor\u001b[39;00m i \u001b[38;5;129;01min\u001b[39;00m \u001b[38;5;28;43mrange\u001b[39;49m\u001b[43m(\u001b[49m\u001b[43mn1\u001b[49m\u001b[43m)\u001b[49m:\n\u001b[1;32m      8\u001b[0m     data\u001b[38;5;241m=\u001b[39m[]\n\u001b[1;32m      9\u001b[0m     \u001b[38;5;28;01mfor\u001b[39;00m j \u001b[38;5;129;01min\u001b[39;00m \u001b[38;5;28mrange\u001b[39m(m1):\n",
      "\u001b[0;31mTypeError\u001b[0m: 'tuple' object cannot be interpreted as an integer"
     ]
    }
   ],
   "source": [
    "#### Write a program to add two matrices of size n x m\n",
    "n1=eval(input(\"enter the n1 value: \"))\n",
    "m1=eval(input(\"enter the m1 value: \"))\n",
    " \n",
    "matrix1=[]\n",
    "\n",
    "for i in range(n1):\n",
    "    data=[]\n",
    "    for j in range(m1):\n",
    "        data.append(int(input()))\n",
    "    matrix.append(data)\n",
    "    \n",
    "\n",
    "for i in range(n1):\n",
    "    for j in range(m1):\n",
    "        print(matrix[i][j],end=' ')\n",
    "    print()\n",
    "    \n",
    "    \n",
    "n2=eval(input(\"enter the n2 value: \"))\n",
    "m2=eval(input(\"enter the m2 value: \"))\n",
    " \n",
    "matrix2=[]\n",
    "\n",
    "for i in range(n2):\n",
    "    data=[]\n",
    "    for j in range(m2):\n",
    "        data.append(int(input()))\n",
    "    matrix.append(data)\n",
    "    \n",
    "\n",
    "for i in range(n2):\n",
    "    for j in range(m2):\n",
    "        print(matrix[i][j],end=' ')\n",
    "    print()\n",
    "    \n",
    "    \n",
    "sum_of_matrix=[matrix1+matrix2]\n",
    "print(sum_of_matrix)\n"
   ]
  },
  {
   "cell_type": "code",
   "execution_count": null,
   "id": "1436853c",
   "metadata": {},
   "outputs": [],
   "source": [
    "5### list_num=[1,2,3,4,5,6]\n",
    "taget=input(\"enter the target value:\")\n",
    "if list_num[0]+list_num[1]==taget:\n",
    "    print(\"yes\")\n",
    "        \n",
    "else:\n",
    "    print(\"no\")"
   ]
  },
  {
   "cell_type": "code",
   "execution_count": 21,
   "id": "03bb0e9d",
   "metadata": {},
   "outputs": [
    {
     "data": {
      "text/plain": [
       "['__add__',\n",
       " '__class__',\n",
       " '__class_getitem__',\n",
       " '__contains__',\n",
       " '__delattr__',\n",
       " '__delitem__',\n",
       " '__dir__',\n",
       " '__doc__',\n",
       " '__eq__',\n",
       " '__format__',\n",
       " '__ge__',\n",
       " '__getattribute__',\n",
       " '__getitem__',\n",
       " '__gt__',\n",
       " '__hash__',\n",
       " '__iadd__',\n",
       " '__imul__',\n",
       " '__init__',\n",
       " '__init_subclass__',\n",
       " '__iter__',\n",
       " '__le__',\n",
       " '__len__',\n",
       " '__lt__',\n",
       " '__mul__',\n",
       " '__ne__',\n",
       " '__new__',\n",
       " '__reduce__',\n",
       " '__reduce_ex__',\n",
       " '__repr__',\n",
       " '__reversed__',\n",
       " '__rmul__',\n",
       " '__setattr__',\n",
       " '__setitem__',\n",
       " '__sizeof__',\n",
       " '__str__',\n",
       " '__subclasshook__',\n",
       " 'append',\n",
       " 'clear',\n",
       " 'copy',\n",
       " 'count',\n",
       " 'extend',\n",
       " 'index',\n",
       " 'insert',\n",
       " 'pop',\n",
       " 'remove',\n",
       " 'reverse',\n",
       " 'sort']"
      ]
     },
     "execution_count": 21,
     "metadata": {},
     "output_type": "execute_result"
    }
   ],
   "source": [
    "dir(list)"
   ]
  },
  {
   "cell_type": "code",
   "execution_count": null,
   "id": "77386ffc",
   "metadata": {},
   "outputs": [],
   "source": []
  }
 ],
 "metadata": {
  "kernelspec": {
   "display_name": "Python 3 (ipykernel)",
   "language": "python",
   "name": "python3"
  },
  "language_info": {
   "codemirror_mode": {
    "name": "ipython",
    "version": 3
   },
   "file_extension": ".py",
   "mimetype": "text/x-python",
   "name": "python",
   "nbconvert_exporter": "python",
   "pygments_lexer": "ipython3",
   "version": "3.9.12"
  }
 },
 "nbformat": 4,
 "nbformat_minor": 5
}
