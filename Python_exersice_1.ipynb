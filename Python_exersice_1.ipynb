{
 "cells": [
  {
   "cell_type": "markdown",
   "id": "bd18c96e",
   "metadata": {},
   "source": [
    "#Introduction to Python\n",
    "#Assignment 1\n",
    "\n",
    "\n",
    "\n",
    "#Write Python Program for the following:\n",
    "\n",
    "#1.Ramesh’s basic salary is input through the keyboard. His dearness allowance is 40% of basic salary, and house rent allowance is 20% of basic salary. Write a program to calculate his gross salary.\n",
    "\n",
    "#2.The distance between two cities (in km.) is input through the keyboard. Write a program to convert and print this distance in meters, feet, inches and centimeters.\n",
    "\n",
    "#3.If the marks obtained by a student in five different subjects are input through the keyboard, find out the aggregate marks and percentage marks obtained by the student. Assume that the maximum marks that can be obtained by a student in each subject is 100.\n",
    "\n",
    "#4.Temperature of a city in Fahrenheit degrees is input through the keyboard. Write a program to convert this temperature into Centigrade degrees.\n",
    "\n",
    "#5.The length & breadth of a rectangle and radius of a circle are input through the keyboard. Write a program to calculate the area & perimeter of the rectangle, and the area & circumference of the circle.\n",
    "\n",
    "#6.Two numbers are input through the keyboard into two locations C and D. Write a program to interchange the contents of C and D.\n",
    "\n",
    "#7.If a five-digit number is input through the keyboard, write a program to reverse the number.\n",
    "\n",
    "#8.If a four-digit number is input through the keyboard, write a program to obtain the sum of the first and last digit of this number.\n",
    "\n",
    "#9.In a town, the percentage of men is 52. The percentage of total literacy is 48. If total percentage of literate men is 35 of the total population, write a program to find the total number of illiterate men and women if the population of the town is 80,000.\n",
    "\n",
    "#10.A cashier has currency notes of denominations 10, 50 and 100. If the amount to be withdrawn is input through the keyboard in hundreds, find the total number of currency notes of each denomination the cashier will have to give to the withdrawer.\n",
    "\n"
   ]
  },
  {
   "cell_type": "code",
   "execution_count": 8,
   "id": "8ce93821",
   "metadata": {},
   "outputs": [
    {
     "name": "stdout",
     "output_type": "stream",
     "text": [
      "What is the Basic salary of Ramesh:200.3\n",
      "The allowance is 80.12 and The house_rent is 40.06 \n",
      "The gross salary of Ramesh is: 320.48\n"
     ]
    }
   ],
   "source": [
    "#1.Ramesh’s basic salary is input through the keyboard. His dearness allowance is 40% of basic salary, and house rent allowance is 20% of basic salary.\n",
    "#Write a program to calculate his gross salary.\n",
    "\n",
    "basic_salary=eval(input(\"What is the Basic salary of Ramesh:\"))\n",
    "allowance=basic_salary*40/100\n",
    "house_rent=basic_salary*20/100\n",
    "\n",
    "Gross_salary=basic_salary+allowance+house_rent\n",
    "print('The allowance is {} and The house_rent is {} '.format(allowance,house_rent))\n",
    "print(\"The gross salary of Ramesh is:\",Gross_salary)\n",
    "\n",
    "\n",
    "\n",
    "\n",
    "\n"
   ]
  },
  {
   "cell_type": "code",
   "execution_count": 15,
   "id": "779688c5",
   "metadata": {},
   "outputs": [
    {
     "name": "stdout",
     "output_type": "stream",
     "text": [
      "Enter the Distance between the cities in KM:75375623\n",
      "IN meter=7537562300\n",
      "IN feet=247295358963.32\n",
      "In inches=2967544232184.217\n",
      "IN CM=7537562300000\n"
     ]
    }
   ],
   "source": [
    "#2.The distance between two cities (in km.) is input through the keyboard. \n",
    "#Write a program to convert and print this distance in meters, feet, inches and centimeters.\n",
    "\n",
    "DISTANCE=eval(input(\"Enter the Distance between the cities in KM:\"))\n",
    "meter=DISTANCE*100\n",
    "feet=DISTANCE*3280.84\n",
    "inches=DISTANCE*39370.079\n",
    "cm=DISTANCE*100000\n",
    "\n",
    "print(\"IN meter={}\\nIN feet={}\\nIn inches={}\\nIN CM={}\".format(meter,feet,inches,cm))\n",
    "\n",
    "\n",
    "\n",
    "\n",
    "\n"
   ]
  },
  {
   "cell_type": "code",
   "execution_count": 23,
   "id": "0d6bc378",
   "metadata": {},
   "outputs": [
    {
     "name": "stdout",
     "output_type": "stream",
     "text": [
      "Hindi:1\n",
      "English:2\n",
      "Maths:3\n",
      "SST:4\n",
      "Science:5\n",
      "The total marks obtained: 15\n",
      "percentage: 3.0\n"
     ]
    }
   ],
   "source": [
    "#3.If the marks obtained by a student in five different subjects are input through the keyboard,\n",
    "#find out the aggregate marks and percentage marks obtained by the student. \n",
    "#Assume that the maximum marks that can be obtained by a student in each subject is 100.\n",
    "\n",
    "\n",
    "marks=eval(input(\"Hindi:\")),eval(input(\"English:\")),eval(input(\"Maths:\")),eval(input(\"SST:\")),eval(input(\"Science:\"))\n",
    "\n",
    "total=sum(marks)\n",
    "print(\"The total marks obtained:\",total)\n",
    "percentage=(total/500)*100\n",
    "\n",
    "print(\"percentage:\",percentage)\n",
    "\n"
   ]
  },
  {
   "cell_type": "code",
   "execution_count": 30,
   "id": "0cafd782",
   "metadata": {},
   "outputs": [
    {
     "name": "stdout",
     "output_type": "stream",
     "text": [
      "Write temperature in Fahrenheit:66\n",
      "Tem in Centigrade degrees is  18.88888888888889 C.\n"
     ]
    }
   ],
   "source": [
    "#4.Temperature of a city in Fahrenheit degrees is input through the keyboard. \n",
    "#Write a program to convert this temperature into Centigrade degrees.\n",
    "\n",
    "\n",
    "F=eval(input(\"Write temperature in Fahrenheit:\"))\n",
    "degree=(F-32)*5/9\n",
    "print('Tem in Centigrade degrees is ',degree,\"C.\")\n",
    "\n",
    "\n",
    "\n"
   ]
  },
  {
   "cell_type": "code",
   "execution_count": 10,
   "id": "550c8896",
   "metadata": {},
   "outputs": [
    {
     "name": "stdout",
     "output_type": "stream",
     "text": [
      "Length:33\n",
      "Breadth:44\n",
      "Area of Rectangle: 1452\n",
      "Perimeter of Rectangle: 154\n",
      "Radius of circle:3\n",
      "Area of circle: 18.84955592153876\n"
     ]
    }
   ],
   "source": [
    "#5.The length & breadth of a rectangle and radius of a circle are input through the keyboard. \n",
    "#Write a program to calculate the area & perimeter of the rectangle, and the area & circumference of the circle.\n",
    "\n",
    "Length=eval(input(\"Length:\"))\n",
    "Breadth=eval(input(\"Breadth:\"))\n",
    "\n",
    "area_of_rectangle=Length*Breadth\n",
    "perimeter=2*(Length+Breadth)\n",
    "\n",
    "\n",
    "print(\"Area of Rectangle:\",area_of_rectangle)\n",
    "print(\"Perimeter of Rectangle:\",perimeter)\n",
    "\n",
    "import math\n",
    "Radius=eval(input(\"Radius of circle:\"))\n",
    "Area=math.pi*2*Radius\n",
    "print(\"Area of circle:\",Area)\n",
    "\n",
    "\n",
    "\n"
   ]
  },
  {
   "cell_type": "code",
   "execution_count": 13,
   "id": "83b8cc2f",
   "metadata": {},
   "outputs": [
    {
     "name": "stdout",
     "output_type": "stream",
     "text": [
      "Enter the Content of C:3\n",
      "Enter the Content of D:4\n",
      "c: 4\n",
      "d: 3\n"
     ]
    }
   ],
   "source": [
    "#6.Two numbers are input through the keyboard into two locations C and D. \n",
    "#Write a program to interchange the contents of C and D.\n",
    "\n",
    "\n",
    "c=eval(input(\"Enter the Content of C:\"))\n",
    "d=eval(input(\"Enter the Content of D:\"))\n",
    "\n",
    "c,d=d,c\n",
    "\n",
    "print(\"c:\",c)\n",
    "print(\"d:\",d)\n",
    "\n",
    "\n",
    "\n",
    "\n",
    "\n"
   ]
  },
  {
   "cell_type": "code",
   "execution_count": 41,
   "id": "5ec8c0b1",
   "metadata": {},
   "outputs": [
    {
     "name": "stdout",
     "output_type": "stream",
     "text": [
      "enter the number:12346\n",
      "64321\n"
     ]
    }
   ],
   "source": [
    "#7.If a five-digit number is input through the keyboard, write a program to reverse the number.\n",
    "\n",
    "\n",
    "number=int(input(\"enter the number:\"))\n",
    "new=0\n",
    "for i in range(5):\n",
    "    digit=number%10\n",
    "    new=new*10+digit\n",
    "    number//=10\n",
    "\n",
    "    \n",
    "print(new)\n",
    "\n",
    "    \n",
    "\n"
   ]
  },
  {
   "cell_type": "code",
   "execution_count": 40,
   "id": "8ca316ea",
   "metadata": {},
   "outputs": [
    {
     "name": "stdout",
     "output_type": "stream",
     "text": [
      "54321\n"
     ]
    }
   ],
   "source": [
    "num=12345\n",
    "print(str(num)[::-1])"
   ]
  },
  {
   "cell_type": "code",
   "execution_count": 47,
   "id": "4ed6890b",
   "metadata": {},
   "outputs": [
    {
     "name": "stdout",
     "output_type": "stream",
     "text": [
      "Enter the number:1234\n",
      "5\n"
     ]
    }
   ],
   "source": [
    "#8.If a four-digit number is input through the keyboard, \n",
    "#write a program to obtain the sum of the first and last digit of this number.\n",
    "\n",
    "\n",
    "num=int(input('Enter the number:'))\n",
    "first=num//1000\n",
    "last=num%10\n",
    "\n",
    "\n",
    "print(first+last)\n",
    "\n",
    "\n"
   ]
  },
  {
   "cell_type": "code",
   "execution_count": 68,
   "id": "19169d52",
   "metadata": {},
   "outputs": [
    {
     "name": "stdout",
     "output_type": "stream",
     "text": [
      "Enter the population80000\n",
      "Total population: 80000\n",
      "number of men: 41600.0\n",
      "number of literate men 14560.0\n",
      "num of total lateracy: 38400.0\n",
      "women literacy: 23840.0\n",
      "total number of literacy: 38400.0\n",
      "True\n"
     ]
    }
   ],
   "source": [
    "#9.In a town, the percentage of men is 52. \n",
    "#The percentage of total literacy is 48. If total percentage of literate men is 35 of the total population.\n",
    "#write a program to find the total number of illiterate men and women if the population of the town is 80,000.\n",
    "\n",
    "total_population=int(input(\"Enter the population\"))\n",
    "print(\"Total population:\",total_population)\n",
    "men=total_population*52/100\n",
    "\n",
    "print(\"number of men:\",men)\n",
    "literate_men=men*35/100\n",
    "print(\"number of literate men\",literate_men)\n",
    "\n",
    "total_literacy=48/100*total_population\n",
    "print(\"num of total lateracy:\",total_literacy)\n",
    "\n",
    "women_literate=total_literacy-literate_men\n",
    "print(\"women literacy:\",women_literate)\n",
    "\n",
    "\n",
    "print(\"total number of literacy:\",women_literate+literate_men)\n",
    "\n",
    "if total_literacy==women_literate+literate_men:\n",
    "    print(True)\n",
    "    \n",
    "else:\n",
    "    print(false)\n",
    "    \n",
    "\n",
    "\n",
    "\n",
    "\n",
    "\n",
    "\n",
    "\n",
    "\n",
    "\n",
    "\n",
    "\n"
   ]
  },
  {
   "cell_type": "code",
   "execution_count": 51,
   "id": "5f7138ed",
   "metadata": {},
   "outputs": [
    {
     "name": "stdout",
     "output_type": "stream",
     "text": [
      "Enter the amount:100\n",
      "10notes:10,50notes:2,100notes:1 "
     ]
    }
   ],
   "source": [
    "#10.A cashier has currency notes of denominations 10, 50 and 100.\n",
    "#If the amount to be withdrawn is input through the keyboard in hundreds, \n",
    "#find the total number of currency notes of each denomination the cashier will have to give to the withdrawer.\n",
    "\n",
    "\n",
    "\n",
    "\n",
    "amount=int(input(\"Enter the amount:\"))\n",
    "\n",
    "note10=amount//10\n",
    "note50=amount//50\n",
    "note100=amount//100\n",
    "\n",
    "print(\"10notes:{},50notes:{},100notes:{}\".format(note10,note50,note100),end=' ')\n",
    "\n"
   ]
  },
  {
   "cell_type": "code",
   "execution_count": null,
   "id": "10853b23",
   "metadata": {},
   "outputs": [],
   "source": []
  }
 ],
 "metadata": {
  "kernelspec": {
   "display_name": "Python 3 (ipykernel)",
   "language": "python",
   "name": "python3"
  },
  "language_info": {
   "codemirror_mode": {
    "name": "ipython",
    "version": 3
   },
   "file_extension": ".py",
   "mimetype": "text/x-python",
   "name": "python",
   "nbconvert_exporter": "python",
   "pygments_lexer": "ipython3",
   "version": "3.9.12"
  }
 },
 "nbformat": 4,
 "nbformat_minor": 5
}
