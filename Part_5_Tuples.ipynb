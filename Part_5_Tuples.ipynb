{
 "cells": [
  {
   "cell_type": "code",
   "execution_count": null,
   "id": "3b234fa2",
   "metadata": {},
   "outputs": [],
   "source": [
    "string1=\"python\"\n",
    "list1=[1,2,3,4,5,6,7]\n",
    "dict1={\"string\":20,\"python\":30}\n"
   ]
  },
  {
   "cell_type": "markdown",
   "id": "cf16d6a1",
   "metadata": {},
   "source": [
    "$ Tuple $"
   ]
  },
  {
   "cell_type": "code",
   "execution_count": 1,
   "id": "e896c231",
   "metadata": {},
   "outputs": [
    {
     "data": {
      "text/plain": [
       "('Mobile', 'Laptop', 'Powerbank', 10, 20, 30, 40, 30.2)"
      ]
     },
     "execution_count": 1,
     "metadata": {},
     "output_type": "execute_result"
    }
   ],
   "source": [
    "elements=('Mobile','Laptop','Powerbank',10,20,30,40,30.2)\n",
    "elements"
   ]
  },
  {
   "cell_type": "code",
   "execution_count": 2,
   "id": "82b2093e",
   "metadata": {},
   "outputs": [
    {
     "data": {
      "text/plain": [
       "tuple"
      ]
     },
     "execution_count": 2,
     "metadata": {},
     "output_type": "execute_result"
    }
   ],
   "source": [
    "type(elements)"
   ]
  },
  {
   "cell_type": "code",
   "execution_count": 3,
   "id": "ba4c7d2f",
   "metadata": {},
   "outputs": [
    {
     "data": {
      "text/plain": [
       "('tea', 'coffe', 'milk', 10, 20)"
      ]
     },
     "execution_count": 3,
     "metadata": {},
     "output_type": "execute_result"
    }
   ],
   "source": [
    "items='tea','coffe','milk',10,20\n",
    "items"
   ]
  },
  {
   "cell_type": "code",
   "execution_count": 4,
   "id": "85b2bfa1",
   "metadata": {},
   "outputs": [
    {
     "data": {
      "text/plain": [
       "tuple"
      ]
     },
     "execution_count": 4,
     "metadata": {},
     "output_type": "execute_result"
    }
   ],
   "source": [
    "type(items)"
   ]
  },
  {
   "cell_type": "code",
   "execution_count": 5,
   "id": "ce0dba19",
   "metadata": {},
   "outputs": [],
   "source": [
    "a=10,20"
   ]
  },
  {
   "cell_type": "code",
   "execution_count": 6,
   "id": "ab93cee9",
   "metadata": {},
   "outputs": [
    {
     "data": {
      "text/plain": [
       "tuple"
      ]
     },
     "execution_count": 6,
     "metadata": {},
     "output_type": "execute_result"
    }
   ],
   "source": [
    "type(a)"
   ]
  },
  {
   "cell_type": "code",
   "execution_count": 7,
   "id": "76979d4a",
   "metadata": {},
   "outputs": [
    {
     "data": {
      "text/plain": [
       "('Mobile', 'Laptop', 'Powerbank', 10, 20, 30, 40, 30.2)"
      ]
     },
     "execution_count": 7,
     "metadata": {},
     "output_type": "execute_result"
    }
   ],
   "source": [
    "elements"
   ]
  },
  {
   "cell_type": "code",
   "execution_count": 8,
   "id": "a8612e6b",
   "metadata": {},
   "outputs": [
    {
     "data": {
      "text/plain": [
       "(30.2, 40, 30, 20, 10, 'Powerbank', 'Laptop', 'Mobile')"
      ]
     },
     "execution_count": 8,
     "metadata": {},
     "output_type": "execute_result"
    }
   ],
   "source": [
    "elements[::-1]"
   ]
  },
  {
   "cell_type": "code",
   "execution_count": 9,
   "id": "1964fd59",
   "metadata": {},
   "outputs": [
    {
     "data": {
      "text/plain": [
       "('Powerbank', 10, 20)"
      ]
     },
     "execution_count": 9,
     "metadata": {},
     "output_type": "execute_result"
    }
   ],
   "source": [
    "elements[2:5]\n",
    "# start=2\n",
    "# end=end-1=5-1=4\n",
    "# postive"
   ]
  },
  {
   "cell_type": "markdown",
   "id": "5f1ec68f",
   "metadata": {},
   "source": [
    "$ mutable and immutable $"
   ]
  },
  {
   "cell_type": "code",
   "execution_count": 10,
   "id": "98633a38",
   "metadata": {},
   "outputs": [
    {
     "ename": "TypeError",
     "evalue": "'tuple' object does not support item assignment",
     "output_type": "error",
     "traceback": [
      "\u001b[0;31m---------------------------------------------------------------------------\u001b[0m",
      "\u001b[0;31mTypeError\u001b[0m                                 Traceback (most recent call last)",
      "Input \u001b[0;32mIn [10]\u001b[0m, in \u001b[0;36m<cell line: 1>\u001b[0;34m()\u001b[0m\n\u001b[0;32m----> 1\u001b[0m elements[\u001b[38;5;241m1\u001b[39m]\u001b[38;5;241m=\u001b[39m\u001b[38;5;124m'\u001b[39m\u001b[38;5;124mair\u001b[39m\u001b[38;5;124m'\u001b[39m\n",
      "\u001b[0;31mTypeError\u001b[0m: 'tuple' object does not support item assignment"
     ]
    }
   ],
   "source": [
    "elements[1]='air'\n",
    "# TypeError: 'tuple' object does not support item assignment\n"
   ]
  },
  {
   "cell_type": "markdown",
   "id": "81cf60b4",
   "metadata": {},
   "source": [
    "- we cant change the value by using index\n",
    "- tuples are IMMUTABLE\n",
    "- Heterogeneoous:tuple might have different data type values\n",
    "- Tuples can have duplicates\n",
    "- Elements seperated by cooma \n",
    "- Lists can have multiples data items.."
   ]
  },
  {
   "cell_type": "code",
   "execution_count": 11,
   "id": "f5ada036",
   "metadata": {},
   "outputs": [
    {
     "data": {
      "text/plain": [
       "('Mobile', 'Laptop', 'Powerbank', 10, 20, 30, 40, 30.2)"
      ]
     },
     "execution_count": 11,
     "metadata": {},
     "output_type": "execute_result"
    }
   ],
   "source": [
    "elements\n"
   ]
  },
  {
   "cell_type": "code",
   "execution_count": 16,
   "id": "029e0872",
   "metadata": {},
   "outputs": [
    {
     "data": {
      "text/plain": [
       "40"
      ]
     },
     "execution_count": 16,
     "metadata": {},
     "output_type": "execute_result"
    }
   ],
   "source": [
    "elements1=(10,20,30,40,30.2)\n",
    "max(elements1)"
   ]
  },
  {
   "cell_type": "code",
   "execution_count": 17,
   "id": "8ce3d1ff",
   "metadata": {},
   "outputs": [
    {
     "data": {
      "text/plain": [
       "'Powerbank'"
      ]
     },
     "execution_count": 17,
     "metadata": {},
     "output_type": "execute_result"
    }
   ],
   "source": [
    "max('Mobile', 'Laptop', 'Powerbank')"
   ]
  },
  {
   "cell_type": "code",
   "execution_count": 20,
   "id": "40f34737",
   "metadata": {},
   "outputs": [
    {
     "name": "stdout",
     "output_type": "stream",
     "text": [
      "77\n",
      "76\n",
      "80\n"
     ]
    }
   ],
   "source": [
    "print(ord('M'))\n",
    "print(ord('L'))\n",
    "print(ord('P')) # 80 is max >>>>>>> actic value."
   ]
  },
  {
   "cell_type": "code",
   "execution_count": 24,
   "id": "54f0af3f",
   "metadata": {},
   "outputs": [
    {
     "ename": "SyntaxError",
     "evalue": "invalid syntax (2649099825.py, line 1)",
     "output_type": "error",
     "traceback": [
      "\u001b[0;36m  Input \u001b[0;32mIn [24]\u001b[0;36m\u001b[0m\n\u001b[0;31m    for i in range(:z):\u001b[0m\n\u001b[0m                   ^\u001b[0m\n\u001b[0;31mSyntaxError\u001b[0m\u001b[0;31m:\u001b[0m invalid syntax\n"
     ]
    }
   ],
   "source": [
    "for i in range(:z):\n",
    "    print(ord(i))"
   ]
  },
  {
   "cell_type": "code",
   "execution_count": 25,
   "id": "75618a1c",
   "metadata": {},
   "outputs": [
    {
     "data": {
      "text/plain": [
       "(10, 20, 30, 40, 30.2, 'Mobile', 'Laptop', 'Powerbank', 10, 20, 30, 40, 30.2)"
      ]
     },
     "execution_count": 25,
     "metadata": {},
     "output_type": "execute_result"
    }
   ],
   "source": [
    "elements1+elements"
   ]
  },
  {
   "cell_type": "code",
   "execution_count": 27,
   "id": "467d9d92",
   "metadata": {},
   "outputs": [
    {
     "data": {
      "text/plain": [
       "True"
      ]
     },
     "execution_count": 27,
     "metadata": {},
     "output_type": "execute_result"
    }
   ],
   "source": [
    "'mobile' not in elements"
   ]
  },
  {
   "cell_type": "code",
   "execution_count": 28,
   "id": "73bb6336",
   "metadata": {},
   "outputs": [
    {
     "data": {
      "text/plain": [
       "True"
      ]
     },
     "execution_count": 28,
     "metadata": {},
     "output_type": "execute_result"
    }
   ],
   "source": [
    "'Mobile' in elements"
   ]
  },
  {
   "cell_type": "code",
   "execution_count": 29,
   "id": "a566d0ba",
   "metadata": {},
   "outputs": [
    {
     "name": "stdout",
     "output_type": "stream",
     "text": [
      "Mobile\n",
      "Laptop\n",
      "Powerbank\n",
      "10\n",
      "20\n",
      "30\n",
      "40\n",
      "30.2\n"
     ]
    }
   ],
   "source": [
    "for i in elements:\n",
    "    print(i)"
   ]
  },
  {
   "cell_type": "code",
   "execution_count": 30,
   "id": "e3bbd539",
   "metadata": {},
   "outputs": [],
   "source": [
    "# converting tuple......to list\n",
    "\n",
    "ele=list(elements1)"
   ]
  },
  {
   "cell_type": "code",
   "execution_count": 31,
   "id": "43426fd4",
   "metadata": {},
   "outputs": [
    {
     "data": {
      "text/plain": [
       "[10, 20, 30, 40, 30.2]"
      ]
     },
     "execution_count": 31,
     "metadata": {},
     "output_type": "execute_result"
    }
   ],
   "source": [
    "ele"
   ]
  },
  {
   "cell_type": "code",
   "execution_count": 32,
   "id": "7cb66056",
   "metadata": {},
   "outputs": [
    {
     "data": {
      "text/plain": [
       "1"
      ]
     },
     "execution_count": 32,
     "metadata": {},
     "output_type": "execute_result"
    }
   ],
   "source": [
    "ele.count(10)"
   ]
  },
  {
   "cell_type": "code",
   "execution_count": 33,
   "id": "f90a55e6",
   "metadata": {},
   "outputs": [
    {
     "data": {
      "text/plain": [
       "0"
      ]
     },
     "execution_count": 33,
     "metadata": {},
     "output_type": "execute_result"
    }
   ],
   "source": [
    "ele.index(10)\n"
   ]
  },
  {
   "cell_type": "code",
   "execution_count": null,
   "id": "4c45fa16",
   "metadata": {},
   "outputs": [],
   "source": [
    "# - INBUILT FUNCTION                       - METHOD\n",
    "# -- print                                 - append\n",
    "#-  type                                  - count..rtc\n",
    "#-  len\n",
    "#-  max\n",
    "#-  min"
   ]
  },
  {
   "cell_type": "code",
   "execution_count": 34,
   "id": "87da1d81",
   "metadata": {},
   "outputs": [
    {
     "data": {
      "text/plain": [
       "['__add__',\n",
       " '__class__',\n",
       " '__class_getitem__',\n",
       " '__contains__',\n",
       " '__delattr__',\n",
       " '__delitem__',\n",
       " '__dir__',\n",
       " '__doc__',\n",
       " '__eq__',\n",
       " '__format__',\n",
       " '__ge__',\n",
       " '__getattribute__',\n",
       " '__getitem__',\n",
       " '__gt__',\n",
       " '__hash__',\n",
       " '__iadd__',\n",
       " '__imul__',\n",
       " '__init__',\n",
       " '__init_subclass__',\n",
       " '__iter__',\n",
       " '__le__',\n",
       " '__len__',\n",
       " '__lt__',\n",
       " '__mul__',\n",
       " '__ne__',\n",
       " '__new__',\n",
       " '__reduce__',\n",
       " '__reduce_ex__',\n",
       " '__repr__',\n",
       " '__reversed__',\n",
       " '__rmul__',\n",
       " '__setattr__',\n",
       " '__setitem__',\n",
       " '__sizeof__',\n",
       " '__str__',\n",
       " '__subclasshook__',\n",
       " 'append',\n",
       " 'clear',\n",
       " 'copy',\n",
       " 'count',\n",
       " 'extend',\n",
       " 'index',\n",
       " 'insert',\n",
       " 'pop',\n",
       " 'remove',\n",
       " 'reverse',\n",
       " 'sort']"
      ]
     },
     "execution_count": 34,
     "metadata": {},
     "output_type": "execute_result"
    }
   ],
   "source": [
    "dir(ele)"
   ]
  },
  {
   "cell_type": "code",
   "execution_count": null,
   "id": "2e77d9bc",
   "metadata": {},
   "outputs": [],
   "source": []
  }
 ],
 "metadata": {
  "kernelspec": {
   "display_name": "Python 3 (ipykernel)",
   "language": "python",
   "name": "python3"
  },
  "language_info": {
   "codemirror_mode": {
    "name": "ipython",
    "version": 3
   },
   "file_extension": ".py",
   "mimetype": "text/x-python",
   "name": "python",
   "nbconvert_exporter": "python",
   "pygments_lexer": "ipython3",
   "version": "3.9.12"
  }
 },
 "nbformat": 4,
 "nbformat_minor": 5
}
