{
 "cells": [
  {
   "cell_type": "markdown",
   "id": "34736f8f",
   "metadata": {},
   "source": [
    "# Import Required Libraries"
   ]
  },
  {
   "cell_type": "code",
   "execution_count": 1,
   "id": "f29b0a46",
   "metadata": {},
   "outputs": [],
   "source": [
    "import numpy as np\n",
    "import pandas as pd\n",
    "import matplotlib.pyplot as plt\n",
    "import seaborn as sns"
   ]
  },
  {
   "cell_type": "markdown",
   "id": "2abbf2e5",
   "metadata": {},
   "source": [
    "# Load the Data"
   ]
  },
  {
   "cell_type": "code",
   "execution_count": 2,
   "id": "07d709e8",
   "metadata": {},
   "outputs": [],
   "source": [
    "data1=sns.load_dataset(\"taxis\")"
   ]
  },
  {
   "cell_type": "code",
   "execution_count": 3,
   "id": "022d1dac",
   "metadata": {},
   "outputs": [
    {
     "data": {
      "text/html": [
       "<div>\n",
       "<style scoped>\n",
       "    .dataframe tbody tr th:only-of-type {\n",
       "        vertical-align: middle;\n",
       "    }\n",
       "\n",
       "    .dataframe tbody tr th {\n",
       "        vertical-align: top;\n",
       "    }\n",
       "\n",
       "    .dataframe thead th {\n",
       "        text-align: right;\n",
       "    }\n",
       "</style>\n",
       "<table border=\"1\" class=\"dataframe\">\n",
       "  <thead>\n",
       "    <tr style=\"text-align: right;\">\n",
       "      <th></th>\n",
       "      <th>pickup</th>\n",
       "      <th>dropoff</th>\n",
       "      <th>passengers</th>\n",
       "      <th>distance</th>\n",
       "      <th>fare</th>\n",
       "      <th>tip</th>\n",
       "      <th>tolls</th>\n",
       "      <th>total</th>\n",
       "      <th>color</th>\n",
       "      <th>payment</th>\n",
       "      <th>pickup_zone</th>\n",
       "      <th>dropoff_zone</th>\n",
       "      <th>pickup_borough</th>\n",
       "      <th>dropoff_borough</th>\n",
       "    </tr>\n",
       "  </thead>\n",
       "  <tbody>\n",
       "    <tr>\n",
       "      <th>0</th>\n",
       "      <td>2019-03-23 20:21:09</td>\n",
       "      <td>2019-03-23 20:27:24</td>\n",
       "      <td>1</td>\n",
       "      <td>1.60</td>\n",
       "      <td>7.0</td>\n",
       "      <td>2.15</td>\n",
       "      <td>0.0</td>\n",
       "      <td>12.95</td>\n",
       "      <td>yellow</td>\n",
       "      <td>credit card</td>\n",
       "      <td>Lenox Hill West</td>\n",
       "      <td>UN/Turtle Bay South</td>\n",
       "      <td>Manhattan</td>\n",
       "      <td>Manhattan</td>\n",
       "    </tr>\n",
       "    <tr>\n",
       "      <th>1</th>\n",
       "      <td>2019-03-04 16:11:55</td>\n",
       "      <td>2019-03-04 16:19:00</td>\n",
       "      <td>1</td>\n",
       "      <td>0.79</td>\n",
       "      <td>5.0</td>\n",
       "      <td>0.00</td>\n",
       "      <td>0.0</td>\n",
       "      <td>9.30</td>\n",
       "      <td>yellow</td>\n",
       "      <td>cash</td>\n",
       "      <td>Upper West Side South</td>\n",
       "      <td>Upper West Side South</td>\n",
       "      <td>Manhattan</td>\n",
       "      <td>Manhattan</td>\n",
       "    </tr>\n",
       "    <tr>\n",
       "      <th>2</th>\n",
       "      <td>2019-03-27 17:53:01</td>\n",
       "      <td>2019-03-27 18:00:25</td>\n",
       "      <td>1</td>\n",
       "      <td>1.37</td>\n",
       "      <td>7.5</td>\n",
       "      <td>2.36</td>\n",
       "      <td>0.0</td>\n",
       "      <td>14.16</td>\n",
       "      <td>yellow</td>\n",
       "      <td>credit card</td>\n",
       "      <td>Alphabet City</td>\n",
       "      <td>West Village</td>\n",
       "      <td>Manhattan</td>\n",
       "      <td>Manhattan</td>\n",
       "    </tr>\n",
       "    <tr>\n",
       "      <th>3</th>\n",
       "      <td>2019-03-10 01:23:59</td>\n",
       "      <td>2019-03-10 01:49:51</td>\n",
       "      <td>1</td>\n",
       "      <td>7.70</td>\n",
       "      <td>27.0</td>\n",
       "      <td>6.15</td>\n",
       "      <td>0.0</td>\n",
       "      <td>36.95</td>\n",
       "      <td>yellow</td>\n",
       "      <td>credit card</td>\n",
       "      <td>Hudson Sq</td>\n",
       "      <td>Yorkville West</td>\n",
       "      <td>Manhattan</td>\n",
       "      <td>Manhattan</td>\n",
       "    </tr>\n",
       "    <tr>\n",
       "      <th>4</th>\n",
       "      <td>2019-03-30 13:27:42</td>\n",
       "      <td>2019-03-30 13:37:14</td>\n",
       "      <td>3</td>\n",
       "      <td>2.16</td>\n",
       "      <td>9.0</td>\n",
       "      <td>1.10</td>\n",
       "      <td>0.0</td>\n",
       "      <td>13.40</td>\n",
       "      <td>yellow</td>\n",
       "      <td>credit card</td>\n",
       "      <td>Midtown East</td>\n",
       "      <td>Yorkville West</td>\n",
       "      <td>Manhattan</td>\n",
       "      <td>Manhattan</td>\n",
       "    </tr>\n",
       "  </tbody>\n",
       "</table>\n",
       "</div>"
      ],
      "text/plain": [
       "                pickup              dropoff  passengers  distance  fare   tip  \\\n",
       "0  2019-03-23 20:21:09  2019-03-23 20:27:24           1      1.60   7.0  2.15   \n",
       "1  2019-03-04 16:11:55  2019-03-04 16:19:00           1      0.79   5.0  0.00   \n",
       "2  2019-03-27 17:53:01  2019-03-27 18:00:25           1      1.37   7.5  2.36   \n",
       "3  2019-03-10 01:23:59  2019-03-10 01:49:51           1      7.70  27.0  6.15   \n",
       "4  2019-03-30 13:27:42  2019-03-30 13:37:14           3      2.16   9.0  1.10   \n",
       "\n",
       "   tolls  total   color      payment            pickup_zone  \\\n",
       "0    0.0  12.95  yellow  credit card        Lenox Hill West   \n",
       "1    0.0   9.30  yellow         cash  Upper West Side South   \n",
       "2    0.0  14.16  yellow  credit card          Alphabet City   \n",
       "3    0.0  36.95  yellow  credit card              Hudson Sq   \n",
       "4    0.0  13.40  yellow  credit card           Midtown East   \n",
       "\n",
       "            dropoff_zone pickup_borough dropoff_borough  \n",
       "0    UN/Turtle Bay South      Manhattan       Manhattan  \n",
       "1  Upper West Side South      Manhattan       Manhattan  \n",
       "2           West Village      Manhattan       Manhattan  \n",
       "3         Yorkville West      Manhattan       Manhattan  \n",
       "4         Yorkville West      Manhattan       Manhattan  "
      ]
     },
     "execution_count": 3,
     "metadata": {},
     "output_type": "execute_result"
    }
   ],
   "source": [
    "data1.head()"
   ]
  },
  {
   "cell_type": "markdown",
   "id": "f5589a7e",
   "metadata": {},
   "source": [
    "**1.Basic information about data - EDA**"
   ]
  },
  {
   "cell_type": "code",
   "execution_count": 4,
   "id": "49879883",
   "metadata": {},
   "outputs": [
    {
     "data": {
      "text/plain": [
       "Index(['pickup', 'dropoff', 'passengers', 'distance', 'fare', 'tip', 'tolls',\n",
       "       'total', 'color', 'payment', 'pickup_zone', 'dropoff_zone',\n",
       "       'pickup_borough', 'dropoff_borough'],\n",
       "      dtype='object')"
      ]
     },
     "execution_count": 4,
     "metadata": {},
     "output_type": "execute_result"
    }
   ],
   "source": [
    "data1.columns"
   ]
  },
  {
   "cell_type": "code",
   "execution_count": 5,
   "id": "c087d8c7",
   "metadata": {},
   "outputs": [
    {
     "name": "stdout",
     "output_type": "stream",
     "text": [
      "<class 'pandas.core.frame.DataFrame'>\n",
      "RangeIndex: 6433 entries, 0 to 6432\n",
      "Data columns (total 14 columns):\n",
      " #   Column           Non-Null Count  Dtype  \n",
      "---  ------           --------------  -----  \n",
      " 0   pickup           6433 non-null   object \n",
      " 1   dropoff          6433 non-null   object \n",
      " 2   passengers       6433 non-null   int64  \n",
      " 3   distance         6433 non-null   float64\n",
      " 4   fare             6433 non-null   float64\n",
      " 5   tip              6433 non-null   float64\n",
      " 6   tolls            6433 non-null   float64\n",
      " 7   total            6433 non-null   float64\n",
      " 8   color            6433 non-null   object \n",
      " 9   payment          6389 non-null   object \n",
      " 10  pickup_zone      6407 non-null   object \n",
      " 11  dropoff_zone     6388 non-null   object \n",
      " 12  pickup_borough   6407 non-null   object \n",
      " 13  dropoff_borough  6388 non-null   object \n",
      "dtypes: float64(5), int64(1), object(8)\n",
      "memory usage: 703.7+ KB\n"
     ]
    }
   ],
   "source": [
    "data1.info()"
   ]
  },
  {
   "cell_type": "code",
   "execution_count": 6,
   "id": "5f8e479a",
   "metadata": {},
   "outputs": [
    {
     "data": {
      "text/html": [
       "<div>\n",
       "<style scoped>\n",
       "    .dataframe tbody tr th:only-of-type {\n",
       "        vertical-align: middle;\n",
       "    }\n",
       "\n",
       "    .dataframe tbody tr th {\n",
       "        vertical-align: top;\n",
       "    }\n",
       "\n",
       "    .dataframe thead th {\n",
       "        text-align: right;\n",
       "    }\n",
       "</style>\n",
       "<table border=\"1\" class=\"dataframe\">\n",
       "  <thead>\n",
       "    <tr style=\"text-align: right;\">\n",
       "      <th></th>\n",
       "      <th>passengers</th>\n",
       "      <th>distance</th>\n",
       "      <th>fare</th>\n",
       "      <th>tip</th>\n",
       "      <th>tolls</th>\n",
       "      <th>total</th>\n",
       "    </tr>\n",
       "  </thead>\n",
       "  <tbody>\n",
       "    <tr>\n",
       "      <th>count</th>\n",
       "      <td>6433.000000</td>\n",
       "      <td>6433.000000</td>\n",
       "      <td>6433.000000</td>\n",
       "      <td>6433.00000</td>\n",
       "      <td>6433.000000</td>\n",
       "      <td>6433.000000</td>\n",
       "    </tr>\n",
       "    <tr>\n",
       "      <th>mean</th>\n",
       "      <td>1.539251</td>\n",
       "      <td>3.024617</td>\n",
       "      <td>13.091073</td>\n",
       "      <td>1.97922</td>\n",
       "      <td>0.325273</td>\n",
       "      <td>18.517794</td>\n",
       "    </tr>\n",
       "    <tr>\n",
       "      <th>std</th>\n",
       "      <td>1.203768</td>\n",
       "      <td>3.827867</td>\n",
       "      <td>11.551804</td>\n",
       "      <td>2.44856</td>\n",
       "      <td>1.415267</td>\n",
       "      <td>13.815570</td>\n",
       "    </tr>\n",
       "    <tr>\n",
       "      <th>min</th>\n",
       "      <td>0.000000</td>\n",
       "      <td>0.000000</td>\n",
       "      <td>1.000000</td>\n",
       "      <td>0.00000</td>\n",
       "      <td>0.000000</td>\n",
       "      <td>1.300000</td>\n",
       "    </tr>\n",
       "    <tr>\n",
       "      <th>25%</th>\n",
       "      <td>1.000000</td>\n",
       "      <td>0.980000</td>\n",
       "      <td>6.500000</td>\n",
       "      <td>0.00000</td>\n",
       "      <td>0.000000</td>\n",
       "      <td>10.800000</td>\n",
       "    </tr>\n",
       "    <tr>\n",
       "      <th>50%</th>\n",
       "      <td>1.000000</td>\n",
       "      <td>1.640000</td>\n",
       "      <td>9.500000</td>\n",
       "      <td>1.70000</td>\n",
       "      <td>0.000000</td>\n",
       "      <td>14.160000</td>\n",
       "    </tr>\n",
       "    <tr>\n",
       "      <th>75%</th>\n",
       "      <td>2.000000</td>\n",
       "      <td>3.210000</td>\n",
       "      <td>15.000000</td>\n",
       "      <td>2.80000</td>\n",
       "      <td>0.000000</td>\n",
       "      <td>20.300000</td>\n",
       "    </tr>\n",
       "    <tr>\n",
       "      <th>max</th>\n",
       "      <td>6.000000</td>\n",
       "      <td>36.700000</td>\n",
       "      <td>150.000000</td>\n",
       "      <td>33.20000</td>\n",
       "      <td>24.020000</td>\n",
       "      <td>174.820000</td>\n",
       "    </tr>\n",
       "  </tbody>\n",
       "</table>\n",
       "</div>"
      ],
      "text/plain": [
       "        passengers     distance         fare         tip        tolls  \\\n",
       "count  6433.000000  6433.000000  6433.000000  6433.00000  6433.000000   \n",
       "mean      1.539251     3.024617    13.091073     1.97922     0.325273   \n",
       "std       1.203768     3.827867    11.551804     2.44856     1.415267   \n",
       "min       0.000000     0.000000     1.000000     0.00000     0.000000   \n",
       "25%       1.000000     0.980000     6.500000     0.00000     0.000000   \n",
       "50%       1.000000     1.640000     9.500000     1.70000     0.000000   \n",
       "75%       2.000000     3.210000    15.000000     2.80000     0.000000   \n",
       "max       6.000000    36.700000   150.000000    33.20000    24.020000   \n",
       "\n",
       "             total  \n",
       "count  6433.000000  \n",
       "mean     18.517794  \n",
       "std      13.815570  \n",
       "min       1.300000  \n",
       "25%      10.800000  \n",
       "50%      14.160000  \n",
       "75%      20.300000  \n",
       "max     174.820000  "
      ]
     },
     "execution_count": 6,
     "metadata": {},
     "output_type": "execute_result"
    }
   ],
   "source": [
    "data1.describe()"
   ]
  },
  {
   "cell_type": "markdown",
   "id": "27bfb5e1",
   "metadata": {},
   "source": [
    "**2. Duplicate values**"
   ]
  },
  {
   "cell_type": "code",
   "execution_count": 7,
   "id": "e02299bc",
   "metadata": {},
   "outputs": [
    {
     "data": {
      "text/plain": [
       "0"
      ]
     },
     "execution_count": 7,
     "metadata": {},
     "output_type": "execute_result"
    }
   ],
   "source": [
    "data1.duplicated().sum()"
   ]
  },
  {
   "cell_type": "markdown",
   "id": "dc85baaf",
   "metadata": {},
   "source": [
    "**3. Unique values in the data**\n"
   ]
  },
  {
   "cell_type": "code",
   "execution_count": 8,
   "id": "b9169f23",
   "metadata": {},
   "outputs": [
    {
     "data": {
      "text/plain": [
       "array([1, 3, 0, 6, 5, 2, 4])"
      ]
     },
     "execution_count": 8,
     "metadata": {},
     "output_type": "execute_result"
    }
   ],
   "source": [
    "data1['passengers'].unique()\n"
   ]
  },
  {
   "cell_type": "code",
   "execution_count": 9,
   "id": "11b1e59f",
   "metadata": {},
   "outputs": [
    {
     "data": {
      "text/plain": [
       "array(['credit card', 'cash', nan], dtype=object)"
      ]
     },
     "execution_count": 9,
     "metadata": {},
     "output_type": "execute_result"
    }
   ],
   "source": [
    "data1['payment'].unique()"
   ]
  },
  {
   "cell_type": "code",
   "execution_count": 10,
   "id": "00ee0347",
   "metadata": {},
   "outputs": [
    {
     "data": {
      "text/plain": [
       "array(['2019-03-23 20:21:09', '2019-03-04 16:11:55',\n",
       "       '2019-03-27 17:53:01', ..., '2019-03-23 22:55:18',\n",
       "       '2019-03-04 10:09:25', '2019-03-13 19:31:22'], dtype=object)"
      ]
     },
     "execution_count": 10,
     "metadata": {},
     "output_type": "execute_result"
    }
   ],
   "source": [
    "data1['pickup'].unique()"
   ]
  },
  {
   "cell_type": "markdown",
   "id": "b5392948",
   "metadata": {},
   "source": [
    "**Visualize the Unique counts**"
   ]
  },
  {
   "cell_type": "code",
   "execution_count": 11,
   "id": "9ca5c4e9",
   "metadata": {},
   "outputs": [
    {
     "name": "stderr",
     "output_type": "stream",
     "text": [
      "/Users/sheelendersharma1/opt/anaconda3/lib/python3.9/site-packages/seaborn/_decorators.py:36: FutureWarning: Pass the following variable as a keyword arg: x. From version 0.12, the only valid positional argument will be `data`, and passing other arguments without an explicit keyword will result in an error or misinterpretation.\n",
      "  warnings.warn(\n"
     ]
    },
    {
     "data": {
      "text/plain": [
       "[]"
      ]
     },
     "execution_count": 11,
     "metadata": {},
     "output_type": "execute_result"
    },
    {
     "data": {
      "image/png": "[encoded data removed]",
      "text/plain": [
       "<Figure size 432x288 with 1 Axes>"
      ]
     },
     "metadata": {
      "needs_background": "light"
     },
     "output_type": "display_data"
    }
   ],
   "source": [
    "sns.countplot(data1['passengers'])\n",
    "plt.plot()"
   ]
  },
  {
   "cell_type": "markdown",
   "id": "8e14808c",
   "metadata": {},
   "source": [
    "$$Obeservation$$"
   ]
  },
  {
   "cell_type": "markdown",
   "id": "1fc51121",
   "metadata": {},
   "source": [
    "- Most of rides for 1 passenger\n",
    "- least of rides for 0,4 passenger"
   ]
  },
  {
   "cell_type": "markdown",
   "id": "aecd3307",
   "metadata": {},
   "source": [
    "**5. Find the Null values**"
   ]
  },
  {
   "cell_type": "code",
   "execution_count": 12,
   "id": "d626e0f7",
   "metadata": {},
   "outputs": [
    {
     "data": {
      "text/plain": [
       "pickup              0\n",
       "dropoff             0\n",
       "passengers          0\n",
       "distance            0\n",
       "fare                0\n",
       "tip                 0\n",
       "tolls               0\n",
       "total               0\n",
       "color               0\n",
       "payment            44\n",
       "pickup_zone        26\n",
       "dropoff_zone       45\n",
       "pickup_borough     26\n",
       "dropoff_borough    45\n",
       "dtype: int64"
      ]
     },
     "execution_count": 12,
     "metadata": {},
     "output_type": "execute_result"
    }
   ],
   "source": [
    "data1.isnull().sum()"
   ]
  },
  {
   "cell_type": "code",
   "execution_count": 13,
   "id": "6909ed5d",
   "metadata": {},
   "outputs": [],
   "source": [
    "cat_cols=data1.columns[data1.dtypes=='O']\n",
    "num_cols=data1.columns[(data1.dtypes=='int64')|(data1.dtypes=='float64')]"
   ]
  },
  {
   "cell_type": "code",
   "execution_count": 14,
   "id": "e06a5d73",
   "metadata": {},
   "outputs": [
    {
     "data": {
      "text/plain": [
       "Index(['pickup', 'dropoff', 'color', 'payment', 'pickup_zone', 'dropoff_zone',\n",
       "       'pickup_borough', 'dropoff_borough'],\n",
       "      dtype='object')"
      ]
     },
     "execution_count": 14,
     "metadata": {},
     "output_type": "execute_result"
    }
   ],
   "source": [
    "cat_cols"
   ]
  },
  {
   "cell_type": "code",
   "execution_count": 15,
   "id": "1600e979",
   "metadata": {},
   "outputs": [
    {
     "data": {
      "text/plain": [
       "Index(['passengers', 'distance', 'fare', 'tip', 'tolls', 'total'], dtype='object')"
      ]
     },
     "execution_count": 15,
     "metadata": {},
     "output_type": "execute_result"
    }
   ],
   "source": [
    "num_cols"
   ]
  },
  {
   "cell_type": "code",
   "execution_count": 16,
   "id": "f40ec77b",
   "metadata": {},
   "outputs": [
    {
     "data": {
      "text/plain": [
       "passengers    0\n",
       "distance      0\n",
       "fare          0\n",
       "tip           0\n",
       "tolls         0\n",
       "total         0\n",
       "dtype: int64"
      ]
     },
     "execution_count": 16,
     "metadata": {},
     "output_type": "execute_result"
    }
   ],
   "source": [
    "data1[num_cols].isnull().sum()"
   ]
  },
  {
   "cell_type": "code",
   "execution_count": null,
   "id": "e1a6e907",
   "metadata": {},
   "outputs": [],
   "source": []
  },
  {
   "cell_type": "code",
   "execution_count": 17,
   "id": "3c6044e9",
   "metadata": {},
   "outputs": [
    {
     "data": {
      "image/png": "[encoded data removed]",
      "text/plain": [
       "<Figure size 432x288 with 1 Axes>"
      ]
     },
     "metadata": {
      "needs_background": "light"
     },
     "output_type": "display_data"
    }
   ],
   "source": [
    "sns.histplot(data=data1['passengers'],kde=True,color='g') # seaborn\n",
    "# kde=kernel density estimation\n",
    "plt.show()"
   ]
  },
  {
   "cell_type": "code",
   "execution_count": 18,
   "id": "1925e32a",
   "metadata": {},
   "outputs": [
    {
     "data": {
      "image/png": "[encoded data removed]",
      "text/plain": [
       "<Figure size 432x288 with 1 Axes>"
      ]
     },
     "metadata": {
      "needs_background": "light"
     },
     "output_type": "display_data"
    }
   ],
   "source": [
    "sns.histplot(data=data1,x='passengers',kde=True,hue='payment')\n",
    "plt.title(\"PAYMENT MODE PLOT\")\n",
    "plt.show()"
   ]
  },
  {
   "cell_type": "markdown",
   "id": "8d15a3e1",
   "metadata": {},
   "source": [
    "# Analysing on Earning"
   ]
  },
  {
   "cell_type": "code",
   "execution_count": 19,
   "id": "ffa8947c",
   "metadata": {},
   "outputs": [
    {
     "name": "stdout",
     "output_type": "stream",
     "text": [
      "Total Fare: 84214.87\n"
     ]
    }
   ],
   "source": [
    "Fare=data1['fare'].sum()\n",
    "print(\"Total Fare:\",Fare)"
   ]
  },
  {
   "cell_type": "code",
   "execution_count": 20,
   "id": "9a56c782",
   "metadata": {},
   "outputs": [
    {
     "name": "stdout",
     "output_type": "stream",
     "text": [
      "Average is: 9.5\n"
     ]
    }
   ],
   "source": [
    "Average=data1['fare'].median()\n",
    "print(\"Average is:\",Average)"
   ]
  },
  {
   "cell_type": "markdown",
   "id": "fe0a4f2e",
   "metadata": {},
   "source": [
    "*Outliner*"
   ]
  },
  {
   "cell_type": "code",
   "execution_count": 23,
   "id": "e19e107b",
   "metadata": {},
   "outputs": [
    {
     "name": "stdout",
     "output_type": "stream",
     "text": [
      "0.25 quantile of fare value is 6.5\n",
      "0.5 quantile of fare value is 9.5\n",
      "0.75 quantile of fare value is 15.0\n"
     ]
    }
   ],
   "source": [
    "Q1=np.quantile(data1['fare'],0.25)\n",
    "Q2=np.quantile(data1['fare'],0.5)\n",
    "Q3=np.quantile(data1['fare'],0.75)\n",
    "print(\"0.25 quantile of fare value is\",Q1)\n",
    "print(\"0.5 quantile of fare value is\",Q2)\n",
    "print(\"0.75 quantile of fare value is\",Q3)"
   ]
  },
  {
   "cell_type": "code",
   "execution_count": 24,
   "id": "0c1d5ecc",
   "metadata": {},
   "outputs": [
    {
     "name": "stdout",
     "output_type": "stream",
     "text": [
      "IQR is : 8.5\n"
     ]
    }
   ],
   "source": [
    "IQR=Q3-Q1\n",
    "print('IQR is :',IQR)"
   ]
  },
  {
   "cell_type": "code",
   "execution_count": 27,
   "id": "d4e61e88",
   "metadata": {},
   "outputs": [
    {
     "name": "stdout",
     "output_type": "stream",
     "text": [
      "Lower bound is : -6.25\n",
      "Upper bound is : 27.75\n"
     ]
    }
   ],
   "source": [
    "l_b=Q1-1.5*IQR\n",
    "u_b=Q3+1.5*IQR\n",
    "print(\"Lower bound is :\",l_b)\n",
    "print(\"Upper bound is :\",u_b)"
   ]
  },
  {
   "cell_type": "code",
   "execution_count": 32,
   "id": "0ac6056b",
   "metadata": {},
   "outputs": [
    {
     "data": {
      "text/plain": [
       "array([ 31.5 ,  80.  ,  28.  ,  29.5 ,  36.  ,  52.  ,  30.  ,  33.5 ,\n",
       "        30.  ,  39.5 ,  37.61,  36.  ,  34.  ,  29.5 ,  52.  ,  28.5 ,\n",
       "        52.  ,  39.5 ,  40.  ,  46.5 ,  48.5 ,  28.  ,  32.  ,  52.  ,\n",
       "        29.5 ,  28.  ,  36.  ,  38.5 ,  40.5 ,  52.  ,  52.  ,  52.  ,\n",
       "        50.5 ,  35.5 ,  45.  ,  52.  ,  52.  ,  36.5 ,  35.5 ,  30.5 ,\n",
       "        33.  ,  28.5 ,  29.5 ,  37.58,  36.  ,  32.  ,  34.  ,  28.  ,\n",
       "        37.  ,  47.5 ,  31.  ,  28.  ,  41.53, 120.  ,  28.  ,  52.  ,\n",
       "        28.5 ,  33.  ,  52.  ,  32.5 ,  44.  ,  33.  ,  35.5 ,  31.5 ,\n",
       "        49.  ,  52.  ,  30.5 ,  52.  ,  52.  ,  52.  ,  57.  ,  52.  ,\n",
       "        40.  ,  38.  ,  31.5 ,  35.5 ,  34.  ,  29.5 ,  52.  ,  30.5 ,\n",
       "        45.  ,  52.  ,  28.5 ,  28.  ,  52.  ,  52.  ,  52.  ,  52.  ,\n",
       "        39.  ,  52.  ,  32.5 ,  31.  ,  52.  ,  29.  ,  52.  ,  32.  ,\n",
       "        52.  ,  42.  ,  30.5 ,  28.5 ,  38.  ,  52.  ,  29.  ,  31.  ,\n",
       "        28.5 ,  49.5 ,  52.  ,  29.5 ,  28.  ,  32.  ,  29.  ,  31.5 ,\n",
       "        39.  ,  29.5 ,  35.5 ,  67.5 ,  52.  ,  35.  ,  35.  ,  52.  ,\n",
       "        52.  ,  30.  ,  52.  ,  43.5 ,  44.5 ,  29.5 ,  52.  ,  40.  ,\n",
       "        59.5 ,  52.  ,  38.5 ,  52.  ,  28.5 ,  52.  ,  31.5 ,  38.  ,\n",
       "        72.  ,  29.5 ,  36.  ,  56.  ,  52.  ,  52.  ,  41.  ,  40.5 ,\n",
       "        52.  ,  52.  ,  59.5 ,  28.5 ,  52.  ,  52.  ,  52.  ,  52.  ,\n",
       "        39.  ,  52.  ,  31.5 ,  33.  ,  33.5 ,  52.  ,  37.5 ,  52.  ,\n",
       "        52.  ,  30.5 ,  30.5 ,  40.5 ,  32.  ,  52.  ,  42.5 ,  50.  ,\n",
       "        43.  ,  31.  ,  37.  ,  31.  ,  32.  ,  37.5 ,  44.  ,  28.5 ,\n",
       "        39.5 ,  44.  ,  46.01,  36.5 ,  52.  ,  52.  ,  28.  ,  36.02,\n",
       "        31.5 ,  50.5 ,  52.  ,  44.  ,  35.5 ,  33.  , 130.  ,  28.  ,\n",
       "        29.5 ,  28.  ,  52.  ,  33.5 ,  52.  ,  31.5 ,  52.  ,  36.  ,\n",
       "        52.  ,  69.06,  52.  ,  52.  ,  84.  ,  52.  ,  31.5 ,  31.  ,\n",
       "        34.  ,  29.5 ,  52.  ,  33.5 ,  30.  ,  35.  ,  52.  ,  30.5 ,\n",
       "        30.  ,  51.5 ,  52.  ,  28.  ,  42.5 ,  41.  ,  37.  ,  52.  ,\n",
       "        37.  ,  28.5 ,  29.5 ,  29.5 ,  52.  ,  52.  ,  52.  ,  34.5 ,\n",
       "        30.  ,  46.  ,  42.5 ,  28.5 ,  33.  ,  55.  ,  39.  ,  48.  ,\n",
       "        45.5 ,  52.  ,  32.  ,  46.  ,  33.  ,  31.  ,  35.5 ,  52.  ,\n",
       "        34.  ,  35.  ,  52.  ,  43.  ,  78.  ,  28.5 ,  52.  ,  52.  ,\n",
       "        33.  ,  33.5 ,  52.  ,  28.5 ,  52.  ,  50.5 ,  36.  ,  39.  ,\n",
       "        39.  ,  30.  ,  52.  ,  52.  ,  32.  ,  45.5 ,  70.  ,  38.  ,\n",
       "        52.  ,  28.5 ,  52.  ,  40.  ,  30.  ,  52.  ,  36.  ,  36.  ,\n",
       "        44.5 ,  52.  ,  30.  ,  28.5 ,  65.  ,  52.  ,  28.  ,  36.  ,\n",
       "        29.5 ,  49.12,  36.  ,  28.  ,  50.  ,  52.  ,  28.5 ,  29.5 ,\n",
       "        39.  ,  33.  ,  36.  ,  44.  ,  34.  ,  29.5 ,  29.  ,  41.  ,\n",
       "        46.  ,  56.74,  52.  ,  40.  ,  28.5 ,  87.5 ,  52.  ,  34.  ,\n",
       "        52.  ,  52.  ,  29.  ,  29.  ,  52.  ,  52.  ,  66.  ,  52.  ,\n",
       "        29.5 ,  39.  ,  32.5 ,  40.  ,  52.  ,  31.  ,  52.  ,  52.  ,\n",
       "       103.  ,  79.5 ,  27.95,  32.  ,  43.5 ,  30.  ,  38.  ,  29.5 ,\n",
       "        52.  ,  28.  ,  40.  ,  37.  ,  42.5 ,  29.  ,  40.  ,  52.  ,\n",
       "        52.  ,  31.5 ,  52.  ,  52.  ,  52.  ,  29.  ,  52.  ,  30.  ,\n",
       "        36.  ,  28.5 ,  42.5 ,  52.  ,  28.  ,  52.  ,  32.  ,  28.5 ,\n",
       "        33.5 ,  50.  ,  41.5 ,  34.5 ,  39.  ,  35.  , 143.5 ,  52.  ,\n",
       "        48.  ,  52.  ,  36.5 ,  28.5 ,  42.5 ,  52.  ,  38.  ,  31.5 ,\n",
       "        52.  ,  45.71,  52.  ,  31.67,  52.  ,  48.  ,  29.5 ,  45.  ,\n",
       "        75.5 ,  96.5 ,  52.  ,  28.5 ,  29.5 ,  28.5 ,  52.  ,  31.5 ,\n",
       "        52.  ,  52.  ,  40.  ,  42.5 ,  34.  ,  52.  ,  36.5 ,  41.5 ,\n",
       "        52.  ,  28.  ,  38.5 ,  37.  ,  42.  ,  52.  ,  38.5 ,  30.  ,\n",
       "        43.5 ,  59.5 ,  33.5 ,  34.5 ,  47.5 ,  38.  ,  31.  ,  36.  ,\n",
       "        34.  ,  42.87,  67.5 ,  38.  ,  34.  ,  40.5 ,  30.5 ,  36.5 ,\n",
       "        62.5 ,  30.5 ,  52.  ,  35.  ,  52.  ,  36.5 ,  29.  , 100.  ,\n",
       "        28.  ,  30.  ,  33.5 ,  46.  ,  42.  ,  49.5 ,  33.5 ,  52.  ,\n",
       "        52.  ,  52.  ,  28.5 ,  52.  ,  31.  ,  37.18,  34.  ,  31.  ,\n",
       "        35.  ,  52.  ,  52.  ,  31.  ,  56.  ,  52.  ,  31.5 ,  52.  ,\n",
       "        52.  ,  32.5 ,  35.5 ,  52.  ,  32.  ,  41.  ,  35.5 ,  52.  ,\n",
       "        38.  ,  52.  ,  29.5 ,  30.5 ,  58.5 ,  34.  ,  52.  ,  29.  ,\n",
       "        31.5 ,  38.5 ,  31.  , 150.  ,  33.5 ,  52.  ,  52.  ,  42.82,\n",
       "        38.5 ,  63.53,  39.5 ,  61.  ,  35.88,  50.74,  32.  ,  33.5 ,\n",
       "        28.  ,  31.5 ,  35.5 ,  34.86,  47.  ,  40.56,  29.  ,  31.5 ,\n",
       "        93.5 ,  35.  ,  30.5 ,  40.51,  36.5 ,  31.  ,  42.  , 150.  ,\n",
       "        44.2 ,  40.24,  33.53,  52.  ,  34.49,  46.5 ,  58.  ,  65.59,\n",
       "        30.5 ,  33.67,  37.6 ,  56.12,  31.  ,  49.  ,  38.28,  30.  ,\n",
       "        41.85,  45.  ,  40.5 ,  43.  ,  86.14,  57.  ,  60.52,  30.  ,\n",
       "        33.01,  33.  ,  38.61,  31.  ,  36.5 ,  48.89,  31.5 ,  45.5 ,\n",
       "        36.  ,  46.5 ,  36.5 ,  39.  ,  32.26,  31.  ,  28.5 ,  54.16,\n",
       "        44.  ,  33.65,  36.5 ,  30.  ,  29.  ,  81.86,  50.5 ,  34.5 ,\n",
       "        31.5 ,  28.16,  49.  ,  36.5 ,  33.78,  54.  ,  33.54,  31.8 ,\n",
       "        33.22,  58.99,  54.  ,  39.35,  32.5 ,  34.67,  39.  ,  37.5 ,\n",
       "        33.  ,  42.  ,  29.5 ,  32.  ,  40.5 ,  39.  ,  33.5 ,  34.  ,\n",
       "        70.  ,  32.5 ,  56.13,  55.  ,  28.  ,  33.27,  33.5 ,  62.5 ,\n",
       "        39.5 ,  71.2 ,  41.63,  50.5 ,  43.5 ,  35.  ,  33.  ,  58.  ])"
      ]
     },
     "execution_count": 32,
     "metadata": {},
     "output_type": "execute_result"
    }
   ],
   "source": [
    "outliner_age=data1[(data1['fare']>u_b)|(data1['fare']<l_b)]['fare'].values\n",
    "outliner_age\n"
   ]
  },
  {
   "cell_type": "code",
   "execution_count": 33,
   "id": "bf0f7d0d",
   "metadata": {},
   "outputs": [
    {
     "data": {
      "image/png": "[encoded data removed]",
      "text/plain": [
       "<Figure size 432x288 with 1 Axes>"
      ]
     },
     "metadata": {
      "needs_background": "light"
     },
     "output_type": "display_data"
    }
   ],
   "source": [
    "plt.boxplot(data1['fare'])\n",
    "plt.show()"
   ]
  },
  {
   "cell_type": "code",
   "execution_count": 44,
   "id": "41398d56",
   "metadata": {},
   "outputs": [
    {
     "data": {
      "text/plain": [
       "36.7"
      ]
     },
     "execution_count": 44,
     "metadata": {},
     "output_type": "execute_result"
    }
   ],
   "source": [
    "data1['distance'].max()"
   ]
  },
  {
   "cell_type": "code",
   "execution_count": null,
   "id": "964377de",
   "metadata": {},
   "outputs": [],
   "source": []
  }
 ],
 "metadata": {
  "kernelspec": {
   "display_name": "Python 3 (ipykernel)",
   "language": "python",
   "name": "python3"
  },
  "language_info": {
   "codemirror_mode": {
    "name": "ipython",
    "version": 3
   },
   "file_extension": ".py",
   "mimetype": "text/x-python",
   "name": "python",
   "nbconvert_exporter": "python",
   "pygments_lexer": "ipython3",
   "version": "3.9.12"
  }
 },
 "nbformat": 4,
 "nbformat_minor": 5
}
