{
 "cells": [
  {
   "cell_type": "code",
   "execution_count": null,
   "id": "7047ea22",
   "metadata": {},
   "outputs": [],
   "source": [
    "\n",
    "What are the differentiate File Attributes in Python?\n",
    "\n",
    "What is file mode? Name the default file mode.\n",
    "\n",
    "\n",
    "Write a statement to write the string”Welcome! Please have a seat” in the file wel.txt, that has not yet been created.\n",
    "\n",
    "\n",
    "\n",
    "Write a statement in Python to perform the following operations\n",
    "To open a binary file “LOG.DAT” in read mode\n",
    "To open a binary file“LOG.DAT” in write mode\n",
    "\n",
    "\n",
    "Write a program to count the words “to” and “the” present in a text file “python.txt”.\n",
    "\n",
    "Write a program to display all the lines in a file “python.txt” along with line/record number.\n",
    "\n",
    "Write a program to display all the lines in a file “python.txt” which have the word “to” in it.\n",
    "\n",
    "\n",
    "Observe the following code and answer the question that follow:\n",
    "File=open(“Mydata”,”a”)\n",
    "____________# Blank 1\n",
    "File.close()\n",
    "What type (Text/Binary) of file is Mydata?\n",
    "Fill the Blank 1 with statement to write ”ABC” in the file ”Mydata”.\n",
    "\n",
    "What are the differentiate File Attributes in Python\n",
    "\n",
    "\n",
    "\n",
    "\n",
    "\n",
    "\n",
    "\n",
    "\n",
    "\n",
    "\n",
    "\n",
    "\n",
    "\n",
    "\n",
    "\n",
    "\n",
    "\n",
    "\n",
    "\n",
    "\n",
    "\n",
    "\n",
    "\n"
   ]
  }
 ],
 "metadata": {
  "kernelspec": {
   "display_name": "Python 3 (ipykernel)",
   "language": "python",
   "name": "python3"
  },
  "language_info": {
   "codemirror_mode": {
    "name": "ipython",
    "version": 3
   },
   "file_extension": ".py",
   "mimetype": "text/x-python",
   "name": "python",
   "nbconvert_exporter": "python",
   "pygments_lexer": "ipython3",
   "version": "3.9.12"
  }
 },
 "nbformat": 4,
 "nbformat_minor": 5
}
