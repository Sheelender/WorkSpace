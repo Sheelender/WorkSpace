{
 "cells": [
  {
   "cell_type": "code",
   "execution_count": null,
   "id": "d7b8fa3f",
   "metadata": {},
   "outputs": [],
   "source": [
    "## Data type and conversion."
   ]
  },
  {
   "cell_type": "markdown",
   "id": "1759e16e",
   "metadata": {},
   "source": [
    " 1.\n",
    " Assume you have two lists a=[1,3,5,7] b=[2,4,6,8,10]  \n",
    "i.First task is to create a list which has elements from both the list & name it 'ab'  \n",
    " ii.Write a function which can reverse the elements of ab\n",
    "\n",
    " 2.\n",
    "Can a list be converted into a set? Explain with the help of an example.\n",
    " Extract 3000 from the given list\n",
    " Y=[1,3,4,6,7,9,10, 4+7j, \"Hello world\", [2000,3000,1000]]\n",
    "\n",
    "\n",
    " 3.\n",
    " Extract '09' from this:\n",
    " G=[\"2022-09-03\"]\n",
    "\n",
    "\n",
    "\n",
    " 4.Write a code to add a key to a dictionary\n",
    " Use the given dictionary and add a key (4:16)\n",
    " square_dictionary = {1:1, 2:4, 3:9}\n",
    "\n",
    "\n",
    "\n",
    "\n",
    "\n",
    "5.(i)Count the occurence of \"me\" in the given string below.\n",
    " (ii)Extract \"python@gmail\"\n",
    " str=\"Hello,please meet me at 4pm @coffeehouseccd or email me python@gmail.com\"\n",
    "\n",
    "\n",
    " 6.Write the program to multiply the two lists\n",
    " Lists to perform multiplication:\n",
    "\n",
    " num_list_1 = [1, 2, 3, 4]\n",
    "\n",
    " num_list_2 = [0, 5, 2, 1]\n",
    "\n",
    "\n",
    "\n",
    " 7.Write a program to perform following list operations on the list given below:\n",
    "a. Check the length of mix_list_1\n",
    "B. Concatenate the mix_list_1 and mix_list_2\n",
    "C. Repeat the mix_list_2 three times\n",
    "\n",
    " 8.Lists to perform operations:\n",
    "mix_list_1 = ['Learn', 24, 'Blue', False, -8]\n",
    "\n",
    "mix_list_2 = [4, 7, 'Summer']\n",
    "\n",
    "\n",
    "\n",
    "    \n",
    "    \n",
    "    \n",
    "    \n",
    "    \n",
    "\n",
    "\n",
    "9.Write a program to perform following set operations:\n",
    "\n",
    "a. Union\n",
    "b. Intersection\n",
    "c. Set of all the elements of set A that are not in set B\n",
    "d. Set of all the elements of set B that are not in set A\n",
    "e. Symmetric difference\n",
    "Use the below set:\n",
    "\n",
    "A = {1, 4, 5, 2, 6, 3, 40, 7, 87, 4, 71}\n",
    "\n",
    "B = {3, 42, 51, 6, 7, 8, 54, 5}\n",
    "\n",
    "\n",
    "\n",
    "\n",
    "10.Write the program to perform following manipulations:\n",
    "\n",
    "a. Add '7' to the given set\n",
    "b. Remove '3' from a given set\n",
    "c. Clear the set\n",
    "Use the below set for manipulation\n",
    "\n",
    "num_set = {1, 2, 3, 4, 5, 6}\n",
    "\n",
    "\n",
    "\n",
    "11.Replace the elements in the given tuple:\n",
    "\n",
    "a. Replace '2' with '3'\n",
    "b. Replace 'True' in first element with 'False'\n",
    "Use the tuple below:\n",
    "\n",
    "mix_tuple = (['a', 1, True], 2, 'Science', -5\n",
    "             \n",
    "             \n",
    "             \n",
    "             \n",
    "             \n",
    "\n",
    "\n",
    "12.Write a code to perform operations on tuple:\n",
    "\n",
    "a. Check the length of num_tuple\n",
    "b. Concatenate the num_tuple and mix_tuple\n",
    "c. Repeat the mix_tuple two times\n",
    "Tuples to perform operations:\n",
    "\n",
    "num_tuple = (4, 4, 8)\n",
    "\n",
    "mix_tuple = 'John', 5, -2\n",
    "             \n",
    "             \n",
    "             \n",
    "             \n",
    "13.Write a program to perform following built-in list operations:\n",
    "\n",
    "a. Min(list)\n",
    "b. Max(list)\n",
    "c. Sort the elements (use sort() and sorted() function)\n",
    "d. Create a copy of a list\n",
    "e. Remove element '5' from the list\n",
    "\n",
    "Use the below list\n",
    "\n",
    "num_list = [4, 5, 7, -2, 0, 1\n",
    "            \n",
    "            \n",
    "            \n",
    "            \n",
    "            \n",
    "            \n",
    "\n",
    "\n",
    "14.Write a code to retrieve elements from a list\n",
    "\n",
    "a. First element\n",
    "b. Second last element\n",
    "c. First three elements\n",
    "d. Slice the list from 1st index till the last index with an increment of an index by 2\n",
    "Use the below list:\n",
    "\n",
    "mix_list = ['Python', 1, 2, 3, 'Data', True]\n",
    "\n",
    "            \n",
    "            \n",
    "            \n",
    "            \n",
    "15.Create a string with a name 'country' and 'India' as its elements. Perform the following:\n",
    " a. Find its length\n",
    " b. extract its first two letters\n"
   ]
  },
  {
   "cell_type": "code",
   "execution_count": 105,
   "id": "dce654fe",
   "metadata": {},
   "outputs": [
    {
     "name": "stdout",
     "output_type": "stream",
     "text": [
      "Reverse List: [10, 8, 6, 4, 2, 7, 5, 3, 1]\n"
     ]
    }
   ],
   "source": [
    "#1. \n",
    "#Assume you have two lists a=[1,3,5,7] b=[2,4,6,8,10]  \n",
    "#i.First task is to create a list which has elements from both the list & name it 'ab'  \n",
    "#ii.Write a function which can reverse the elements of ab\n",
    "\n",
    "\n",
    "\n",
    "a=[1,3,5,7]\n",
    "b=[2,4,6,8,10] \n",
    "\n",
    "ab=a+b\n",
    "ab.reverse()  #for reverse the list.\n",
    "print(\"Reverse List:\",ab)\n",
    "\n"
   ]
  },
  {
   "cell_type": "code",
   "execution_count": 106,
   "id": "0fe91784",
   "metadata": {},
   "outputs": [
    {
     "name": "stdout",
     "output_type": "stream",
     "text": [
      "3000\n",
      "<class 'list'>\n",
      "[2000, 1000]\n",
      "[1, 3, 4, 6, 7, 9, 10, (4+7j), 'Hello world', [2000, 1000]]\n"
     ]
    }
   ],
   "source": [
    "#2.\n",
    "#Can a list be converted into a set? Explain with the help of an example.\n",
    "#Extract 3000 from the given list\n",
    "#Y=[1,3,4,6,7,9,10, 4+7j, \"Hello world\", [2000,3000,1000]]\n",
    "\n",
    "\n",
    "y=[1,3,4,6,7,9,10, 4+7j, \"Hello world\", [2000,3000,1000]]\n",
    "x=y[9]\n",
    "print(x[1])\n",
    "print(type([9]))\n",
    "y[9].pop(1) #poping the element 1\n",
    "print(y[9])\n",
    "\n",
    "print(y)\n",
    "\n",
    "\n",
    "\n",
    "\n"
   ]
  },
  {
   "cell_type": "code",
   "execution_count": 107,
   "id": "0f4783f7",
   "metadata": {},
   "outputs": [
    {
     "name": "stdout",
     "output_type": "stream",
     "text": [
      "<class 'list'>\n",
      "09\n"
     ]
    }
   ],
   "source": [
    "#3. Extract '09' from this: G=[\"2022-09-03\"]\n",
    "\n",
    "G=[\"2022-09-03\"]\n",
    "y=G[0]\n",
    "print(type(G))\n",
    "print(y[5:7])\n",
    "\n",
    "\n",
    "\n",
    "\n",
    "\n",
    "\n",
    "\n"
   ]
  },
  {
   "cell_type": "code",
   "execution_count": 14,
   "id": "807b6975",
   "metadata": {},
   "outputs": [
    {
     "data": {
      "text/plain": [
       "{1: 1, 2: 4, 3: 9, 4: 16}"
      ]
     },
     "execution_count": 14,
     "metadata": {},
     "output_type": "execute_result"
    }
   ],
   "source": [
    "#.Write a code to add a key to a dictionary Use the given dictionary and add a key ------>\n",
    "#(4:16) square_dictionary = {1:1, 2:4, 3:9}\n",
    "\n",
    "square_dictionary = {1:1, 2:4, 3:9}\n",
    "\n",
    "square_dictionary[4]=16\n",
    "square_dictionary"
   ]
  },
  {
   "cell_type": "code",
   "execution_count": 16,
   "id": "a4a144e4",
   "metadata": {},
   "outputs": [
    {
     "name": "stdout",
     "output_type": "stream",
     "text": [
      "3\n",
      "python@gmail\n"
     ]
    }
   ],
   "source": [
    "##(i)Count the occurence of \"me\" in the given string below. \n",
    "#(ii)Extract \"python@gmail\" str=\"Hello,please meet me at 4pm @coffeehouseccd or email me python@gmail.com\"\n",
    "\n",
    "\n",
    "\n",
    "my_string =\"Hello,please meet me at 4pm @coffeehouseccd or email me python@gmail.com\"\n",
    "\n",
    "my_char = \"me\"\n",
    "\n",
    "print(my_string.count(my_char))\n",
    "print(my_string[56:68])\n",
    "my_char.find(\"python@\")\n"
   ]
  },
  {
   "cell_type": "code",
   "execution_count": 110,
   "id": "d07065cf",
   "metadata": {},
   "outputs": [
    {
     "name": "stdout",
     "output_type": "stream",
     "text": [
      "The multiply of List1 and List2 is: [0, 10, 6, 4]\n"
     ]
    }
   ],
   "source": [
    "#Write the program to multiply the two lists Lists to perform multiplication:\n",
    "#num_list_1 = [1, 2, 3, 4]\n",
    "#num_list_2 = [0, 5, 2, 1]\n",
    "\n",
    "\n",
    "\n",
    "\n",
    "num_list_1 = [1, 2, 3, 4]\n",
    "num_list_2 = [0, 5, 2, 1]\n",
    "multiply=[i1 * i2 for i1, i2 in zip(num_list_1,num_list_2)]\n",
    "print(\"The multiply of List1 and List2 is:\",multiply)\n",
    "\n",
    "\n",
    "\n",
    "#2.method..\n",
    "\n",
    "for i in range(0,len(num_list_1)):\n",
    "    multi.append(num_list_1[i]*num_list_2[i])\n",
    "print(multi)\n"
   ]
  },
  {
   "cell_type": "code",
   "execution_count": 111,
   "id": "a7e9e399",
   "metadata": {},
   "outputs": [
    {
     "name": "stdout",
     "output_type": "stream",
     "text": [
      "The length of list1 is: 3\n",
      "Concatenate of list1 and list2 is: ['edureka', 'python', 2019, 1, 2, 3, 4, 5]\n",
      "[1, 2, 3, 4, 5, 1, 2, 3, 4, 5, 1, 2, 3, 4, 5]\n"
     ]
    }
   ],
   "source": [
    "#Write a program to perform following list operations on the list given below: \n",
    "    #a. Check the length of mix_list_1 \n",
    "   # B. Concatenate the mix_list_1 and mix_list_2 \n",
    "    #C. Repeat the mix_list_2 three times\n",
    "    \n",
    "    \n",
    "list1 = ['edureka', 'python', 2019];\n",
    "list2 = [1, 2, 3, 4, 5 ];\n",
    "\n",
    "print(\"The length of list1 is:\",len(list1))\n",
    "\n",
    "list3=list1+list2\n",
    "print(\"Concatenate of list1 and list2 is:\",list3)\n",
    "\n",
    "print(list2*3)"
   ]
  },
  {
   "cell_type": "code",
   "execution_count": 113,
   "id": "517dc438",
   "metadata": {},
   "outputs": [],
   "source": [
    "# 8.Lists to perform operations: \n",
    "# mix_list_1 = ['Learn', 24, 'Blue', False, -8]\n",
    "# mix_list_2 = [4, 7, 'Summer']\n",
    "\n",
    "mix_list_1 = ['Learn', 24, 'Blue', False, -8]\n",
    "mix_list_2 = [4, 7, 'Summer']\n",
    "\n",
    "\n"
   ]
  },
  {
   "cell_type": "code",
   "execution_count": null,
   "id": "8b277acf",
   "metadata": {},
   "outputs": [],
   "source": [
    "#9.Write a program to perform following set operations:\n",
    "\n",
    "#a. Union \n",
    "#b. Intersection \n",
    "#c. Set of all the elements of set A that are not in set B \n",
    "#d. Set of all the elements of set B that are not in set A\n",
    "#e. Symmetric difference Use the below set:\n",
    "\n",
    "#A = {1, 4, 5, 2, 6, 3, 40, 7, 87, 4, 71}\n",
    "\n",
    "#B = {3, 42, 51, 6, 7, 8, 54, 5}"
   ]
  },
  {
   "cell_type": "code",
   "execution_count": null,
   "id": "25bbee12",
   "metadata": {},
   "outputs": [],
   "source": [
    "A = {1, 4, 5, 2, 6, 3, 40, 7, 87, 4, 71}\n",
    "B = {3, 42, 51, 6, 7, 8, 54, 5}\n",
    "\n",
    "D=(A.union(B))\n",
    "print(\"The union of A and B is :\",D)\n",
    "\n",
    "E=(A.intersection(B))\n",
    "print(\"The intersection of A and B is:\",E)\n",
    "\n",
    "print(\"all the elements of set A that are not in set B:\",set(A)-set(B))\n",
    "print(\"all the elements of set B that are not in set A:\",set(B)-set(A))\n",
    "\n",
    "F=A.symmetric_difference(B)\n",
    "print(\"Symmetric difference of set A and set B is:\",F)\n"
   ]
  },
  {
   "cell_type": "code",
   "execution_count": null,
   "id": "d44007ef",
   "metadata": {},
   "outputs": [],
   "source": [
    "#10.Write the program to perform following manipulations:\n",
    "#a. Add '7' to the given set \n",
    "#b. Remove '3' from a given set\n",
    "#c. Clear the set Use the below set for manipulation\n",
    "#num_set = {1, 2, 3, 4, 5, 6}"
   ]
  },
  {
   "cell_type": "code",
   "execution_count": null,
   "id": "52b04574",
   "metadata": {},
   "outputs": [],
   "source": [
    "num_set = {1, 2, 3, 4, 5, 6}\n",
    "num_set.add(7)\n",
    "print(\"Added 7 in the set :\",num_set)\n",
    "num_set.remove(3)\n",
    "print(\"Remove 3 in the set : \",num_set)\n",
    "num_set.clear()"
   ]
  },
  {
   "cell_type": "code",
   "execution_count": null,
   "id": "031a2e87",
   "metadata": {},
   "outputs": [],
   "source": [
    "#11.Replace the elements in the given tuple:\n",
    "#a. Replace '2' with '3' \n",
    "#b. Replace 'True' in first element with 'False' Use the tuple below:\n",
    "#mix_tuple = (['a', 1, True], 2, 'Science', -5)"
   ]
  },
  {
   "cell_type": "code",
   "execution_count": null,
   "id": "f7186763",
   "metadata": {},
   "outputs": [],
   "source": [
    "mix_tuple = (['a', 1, True], 2, 'Science', -5)\n",
    "q=list(mix_tuple)\n",
    "print(q)\n",
    "q[1]=3\n",
    "print(q)\n",
    "print(\"Replaced 2 with 3\",)\n",
    "\n",
    "\n",
    "q[0][2]=False\n",
    "print(q)\n",
    "print(\"Replaced True with False\")"
   ]
  },
  {
   "cell_type": "code",
   "execution_count": null,
   "id": "104e80b1",
   "metadata": {},
   "outputs": [],
   "source": [
    "#12.Write a code to perform operations on tuple:\n",
    "#a. Check the length of num_tuple \n",
    "#b. Concatenate the num_tuple and mix_tuple \n",
    "#c. Repeat the mix_tuple two times Tuples to perform operations:\n",
    "#num_tuple = (4, 4, 8)\n",
    "#mix_tuple = 'John', 5, -2"
   ]
  },
  {
   "cell_type": "code",
   "execution_count": null,
   "id": "87184584",
   "metadata": {},
   "outputs": [],
   "source": [
    "num_tuple = (4, 4, 8)\n",
    "mix_tuple = 'John', 5, -2\n",
    "print(\"The length of num_tuple is:\".format(num_tuple),len(num_tuple))\n",
    "concatenate=num_tuple+mix_tuple\n",
    "print(\"The concatenate of both tuple is:\",concatenate)\n",
    "print(\"Repeat the mix_tuple two times Tuples to perform operations:\",mix_tuple*2)"
   ]
  },
  {
   "cell_type": "code",
   "execution_count": null,
   "id": "534508de",
   "metadata": {},
   "outputs": [],
   "source": [
    "#13.Write a program to perform following built-in list operations:\n",
    "#a. Min(list) \n",
    "#b. Max(list) \n",
    "#c. Sort the elements (use sort() and sorted() function)\n",
    "#d. Create a copy of a list \n",
    "#e. Remove element '5' from the list\n",
    "#Use the below list\n",
    "#num_list = [4, 5, 7, -2, 0, 1]"
   ]
  },
  {
   "cell_type": "code",
   "execution_count": null,
   "id": "bc051597",
   "metadata": {},
   "outputs": [],
   "source": [
    "num_list = [4, 5, 7, -2, 0, 1]\n",
    "print(\"MIN:\",min(num_list))\n",
    "print(\"Max:\",max(num_list))\n",
    "num_list.sort()\n",
    "print(\"sort:\",num_list)\n",
    "print(\"Sorted:\",sorted(num_list))\n",
    "num_list.remove(5)\n",
    "print(\"Remove 5:\",num_list)"
   ]
  },
  {
   "cell_type": "code",
   "execution_count": null,
   "id": "aa55b784",
   "metadata": {},
   "outputs": [],
   "source": [
    "#14.Write a code to retrieve elements from a list\n",
    "#a. First element \n",
    "#b. Second last element \n",
    "#c. First three elements \n",
    "#d. Slice the list from 1st index till the last index with an increment of an index by 2 Use the below list:\n",
    "#mix_list = ['Python', 1, 2, 3, 'Data', True]"
   ]
  },
  {
   "cell_type": "code",
   "execution_count": 32,
   "id": "28dcda6c",
   "metadata": {},
   "outputs": [
    {
     "name": "stdout",
     "output_type": "stream",
     "text": [
      "First element: Python\n",
      "second last element: Data\n",
      "Python,1,2,\r\n",
      "['Python', 2, 'Data']\n"
     ]
    }
   ],
   "source": [
    "mix_list = ['Python', 1, 2, 3, 'Data', True]\n",
    "print(\"First element:\",mix_list[0])\n",
    "print(\"second last element:\",mix_list[-2])\n",
    "for i in range(3):\n",
    "    print(mix_list[i],end=\",\")\n",
    "    \n",
    "    \n",
    "print(\"\\r\")\n",
    "\n",
    "print(mix_list[:5:2])\n"
   ]
  },
  {
   "cell_type": "code",
   "execution_count": null,
   "id": "313034fe",
   "metadata": {},
   "outputs": [],
   "source": [
    "#15.Create a string with a name 'country' and 'India' as its elements. Perform the following:\n",
    "#a. Find its length\n",
    " #b. extract its first two letters"
   ]
  },
  {
   "cell_type": "code",
   "execution_count": 100,
   "id": "184786d3",
   "metadata": {},
   "outputs": [
    {
     "name": "stdout",
     "output_type": "stream",
     "text": [
      "Length of string a: 13\n",
      "Extract its first two letters: co\n"
     ]
    }
   ],
   "source": [
    "a=\"country,India\"\n",
    "print(\"Length of string a:\",len(a))\n",
    "print(\"Extract its first two letters:\",a[:2])\n"
   ]
  },
  {
   "cell_type": "code",
   "execution_count": 114,
   "id": "4f217a2b",
   "metadata": {},
   "outputs": [
    {
     "data": {
      "text/plain": [
       "'hello, world, universe'"
      ]
     },
     "execution_count": 114,
     "metadata": {},
     "output_type": "execute_result"
    }
   ],
   "source": [
    "t = '%(a)s, %(b)s, %(c)s'\n",
    "t % dict(a='hello', b='world', c='universe')\n"
   ]
  },
  {
   "cell_type": "markdown",
   "id": "3d9aa981",
   "metadata": {},
   "source": [
    "## Calculater using Function."
   ]
  },
  {
   "cell_type": "code",
   "execution_count": 4,
   "id": "b02ca645",
   "metadata": {},
   "outputs": [
    {
     "ename": "TypeError",
     "evalue": "'int' object is not iterable",
     "output_type": "error",
     "traceback": [
      "\u001b[0;31m---------------------------------------------------------------------------\u001b[0m",
      "\u001b[0;31mTypeError\u001b[0m                                 Traceback (most recent call last)",
      "Input \u001b[0;32mIn [4]\u001b[0m, in \u001b[0;36m<cell line: 2>\u001b[0;34m()\u001b[0m\n\u001b[1;32m      1\u001b[0m s\u001b[38;5;241m=\u001b[39m{\u001b[38;5;241m1\u001b[39m, \u001b[38;5;241m2\u001b[39m, \u001b[38;5;241m3\u001b[39m}\n\u001b[0;32m----> 2\u001b[0m \u001b[43ms\u001b[49m\u001b[38;5;241;43m.\u001b[39;49m\u001b[43mupdate\u001b[49m\u001b[43m(\u001b[49m\u001b[38;5;241;43m4\u001b[39;49m\u001b[43m)\u001b[49m\n\u001b[1;32m      3\u001b[0m \u001b[38;5;28mprint\u001b[39m(s)\n",
      "\u001b[0;31mTypeError\u001b[0m: 'int' object is not iterable"
     ]
    }
   ],
   "source": [
    "\n",
    "    \n",
    "s={1, 2, 3}\n",
    "s.update(4)\n",
    "print(s)"
   ]
  },
  {
   "cell_type": "code",
   "execution_count": 5,
   "id": "587d6290",
   "metadata": {},
   "outputs": [
    {
     "ename": "TypeError",
     "evalue": "unsupported operand type(s) for +: 'set' and 'set'",
     "output_type": "error",
     "traceback": [
      "\u001b[0;31m---------------------------------------------------------------------------\u001b[0m",
      "\u001b[0;31mTypeError\u001b[0m                                 Traceback (most recent call last)",
      "Input \u001b[0;32mIn [5]\u001b[0m, in \u001b[0;36m<cell line: 3>\u001b[0;34m()\u001b[0m\n\u001b[1;32m      1\u001b[0m a\u001b[38;5;241m=\u001b[39m{\u001b[38;5;241m5\u001b[39m,\u001b[38;5;241m6\u001b[39m,\u001b[38;5;241m7\u001b[39m,\u001b[38;5;241m8\u001b[39m}\n\u001b[1;32m      2\u001b[0m b\u001b[38;5;241m=\u001b[39m{\u001b[38;5;241m7\u001b[39m,\u001b[38;5;241m8\u001b[39m,\u001b[38;5;241m9\u001b[39m,\u001b[38;5;241m10\u001b[39m}\n\u001b[0;32m----> 3\u001b[0m \u001b[38;5;28mlen\u001b[39m(\u001b[43ma\u001b[49m\u001b[38;5;241;43m+\u001b[39;49m\u001b[43mb\u001b[49m)\n",
      "\u001b[0;31mTypeError\u001b[0m: unsupported operand type(s) for +: 'set' and 'set'"
     ]
    }
   ],
   "source": [
    "a={5,6,7,8}\n",
    "b={7,8,9,10}\n",
    "len(a+b)"
   ]
  },
  {
   "cell_type": "code",
   "execution_count": 7,
   "id": "ad80bb55",
   "metadata": {},
   "outputs": [
    {
     "data": {
      "text/plain": [
       "{1, 2}"
      ]
     },
     "execution_count": 7,
     "metadata": {},
     "output_type": "execute_result"
    }
   ],
   "source": [
    "a={1,2,3}\n",
    "b=a\n",
    "b.remove(3)\n",
    "a"
   ]
  },
  {
   "cell_type": "code",
   "execution_count": 8,
   "id": "7c19765f",
   "metadata": {},
   "outputs": [
    {
     "data": {
      "text/plain": [
       "[(1, 2), (2, 4), (3, 9)]"
      ]
     },
     "execution_count": 8,
     "metadata": {},
     "output_type": "execute_result"
    }
   ],
   "source": [
    "a=[(2,4),(1,2),(3,9)]\n",
    "a.sort()\n",
    "a"
   ]
  },
  {
   "cell_type": "code",
   "execution_count": 11,
   "id": "547913e9",
   "metadata": {},
   "outputs": [
    {
     "name": "stdout",
     "output_type": "stream",
     "text": [
      "xyz@gmail.com\n"
     ]
    }
   ],
   "source": [
    "Student= {\n",
    "  \"id\":101,\n",
    "  \"name\": \"Dheeraj\",\n",
    "  \"email\": \"xyz@gmail.com\",\n",
    "  \"position\": \"Mentor\",\n",
    "}\n",
    "\n",
    "\n",
    "print(Student['email'])"
   ]
  },
  {
   "cell_type": "code",
   "execution_count": 12,
   "id": "181828aa",
   "metadata": {},
   "outputs": [
    {
     "ename": "NameError",
     "evalue": "name 'Ekeeda' is not defined",
     "output_type": "error",
     "traceback": [
      "\u001b[0;31m---------------------------------------------------------------------------\u001b[0m",
      "\u001b[0;31mNameError\u001b[0m                                 Traceback (most recent call last)",
      "Input \u001b[0;32mIn [12]\u001b[0m, in \u001b[0;36m<cell line: 1>\u001b[0;34m()\u001b[0m\n\u001b[0;32m----> 1\u001b[0m x \u001b[38;5;241m=\u001b[39m [\u001b[38;5;241m1\u001b[39m, [\u001b[38;5;241m2\u001b[39m, \u001b[38;5;241m3\u001b[39m, [\u001b[38;5;241m4\u001b[39m, \u001b[43mEkeeda\u001b[49m, \u001b[38;5;241m3.17\u001b[39m]], \u001b[38;5;124m'\u001b[39m\u001b[38;5;124mMumbai\u001b[39m\u001b[38;5;124m'\u001b[39m]\n\u001b[1;32m      3\u001b[0m X[\u001b[38;5;241m1\u001b[39m][\u001b[38;5;241m2\u001b[39m][\u001b[38;5;241m1\u001b[39m][\u001b[38;5;241m2\u001b[39m]\n",
      "\u001b[0;31mNameError\u001b[0m: name 'Ekeeda' is not defined"
     ]
    }
   ],
   "source": [
    "x = [1, [2, 3, [4, Ekeeda, 3.17]], 'Mumbai']\n",
    "\n"
   ]
  },
  {
   "cell_type": "code",
   "execution_count": 13,
   "id": "233a78a7",
   "metadata": {},
   "outputs": [
    {
     "data": {
      "text/plain": [
       "float"
      ]
     },
     "execution_count": 13,
     "metadata": {},
     "output_type": "execute_result"
    }
   ],
   "source": [
    "a=(0.1)\n",
    "type(a)"
   ]
  },
  {
   "cell_type": "code",
   "execution_count": 18,
   "id": "a8fd0ccb",
   "metadata": {},
   "outputs": [
    {
     "data": {
      "text/plain": [
       "'EKeedaEKeedaEKeeda'"
      ]
     },
     "execution_count": 18,
     "metadata": {},
     "output_type": "execute_result"
    }
   ],
   "source": [
    "X = ('EKeeda')*3\n",
    "X"
   ]
  },
  {
   "cell_type": "code",
   "execution_count": 19,
   "id": "a9f89e92",
   "metadata": {},
   "outputs": [
    {
     "ename": "NameError",
     "evalue": "name 'colors' is not defined",
     "output_type": "error",
     "traceback": [
      "\u001b[0;31m---------------------------------------------------------------------------\u001b[0m",
      "\u001b[0;31mNameError\u001b[0m                                 Traceback (most recent call last)",
      "Input \u001b[0;32mIn [19]\u001b[0m, in \u001b[0;36m<cell line: 2>\u001b[0;34m()\u001b[0m\n\u001b[1;32m      1\u001b[0m x\u001b[38;5;241m=\u001b[39m [\u001b[38;5;124m\"\u001b[39m\u001b[38;5;124mair\u001b[39m\u001b[38;5;124m\"\u001b[39m, \u001b[38;5;124m\"\u001b[39m\u001b[38;5;124mball\u001b[39m\u001b[38;5;124m\"\u001b[39m, \u001b[38;5;124m\"\u001b[39m\u001b[38;5;124mcat\u001b[39m\u001b[38;5;124m\"\u001b[39m, \u001b[38;5;124m\"\u001b[39m\u001b[38;5;124mdisk\u001b[39m\u001b[38;5;124m\"\u001b[39m]\n\u001b[0;32m----> 2\u001b[0m \u001b[38;5;124m\"\u001b[39m\u001b[38;5;124mlabrador\u001b[39m\u001b[38;5;124m\"\u001b[39m \u001b[38;5;129;01min\u001b[39;00m \u001b[43mcolors\u001b[49m\n",
      "\u001b[0;31mNameError\u001b[0m: name 'colors' is not defined"
     ]
    }
   ],
   "source": [
    " x= [\"air\", \"ball\", \"cat\", \"disk\"]\n",
    "\"labrador\" in colors"
   ]
  },
  {
   "cell_type": "code",
   "execution_count": 20,
   "id": "5f3db391",
   "metadata": {},
   "outputs": [
    {
     "data": {
      "text/plain": [
       "'cat'"
      ]
     },
     "execution_count": 20,
     "metadata": {},
     "output_type": "execute_result"
    }
   ],
   "source": [
    "x= [\"air\", \"ball\", \"cat\", \"disk\"]\n",
    "x[2]"
   ]
  },
  {
   "cell_type": "code",
   "execution_count": 21,
   "id": "24e176d7",
   "metadata": {},
   "outputs": [
    {
     "ename": "AttributeError",
     "evalue": "'tuple' object has no attribute 'pop'",
     "output_type": "error",
     "traceback": [
      "\u001b[0;31m---------------------------------------------------------------------------\u001b[0m",
      "\u001b[0;31mAttributeError\u001b[0m                            Traceback (most recent call last)",
      "Input \u001b[0;32mIn [21]\u001b[0m, in \u001b[0;36m<cell line: 2>\u001b[0;34m()\u001b[0m\n\u001b[1;32m      1\u001b[0m tuple1\u001b[38;5;241m=\u001b[39m(\u001b[38;5;241m5\u001b[39m,\u001b[38;5;241m1\u001b[39m,\u001b[38;5;241m7\u001b[39m,\u001b[38;5;241m6\u001b[39m,\u001b[38;5;241m2\u001b[39m)\n\u001b[0;32m----> 2\u001b[0m \u001b[43mtuple1\u001b[49m\u001b[38;5;241;43m.\u001b[39;49m\u001b[43mpop\u001b[49m(\u001b[38;5;241m2\u001b[39m)\n\u001b[1;32m      3\u001b[0m \u001b[38;5;28mprint\u001b[39m(tuple1)\n",
      "\u001b[0;31mAttributeError\u001b[0m: 'tuple' object has no attribute 'pop'"
     ]
    }
   ],
   "source": [
    "tuple1=(5,1,7,6,2)\n",
    "tuple1.pop(2)\n",
    "print(tuple1)"
   ]
  },
  {
   "cell_type": "code",
   "execution_count": 22,
   "id": "7cd8911d",
   "metadata": {},
   "outputs": [
    {
     "data": {
      "text/plain": [
       "(1, 2, 3)"
      ]
     },
     "execution_count": 22,
     "metadata": {},
     "output_type": "execute_result"
    }
   ],
   "source": [
    "a,b,c=1,2,3\n",
    "a,b,c"
   ]
  },
  {
   "cell_type": "code",
   "execution_count": 23,
   "id": "afda3e29",
   "metadata": {},
   "outputs": [
    {
     "ename": "TypeError",
     "evalue": "'int' object is not iterable",
     "output_type": "error",
     "traceback": [
      "\u001b[0;31m---------------------------------------------------------------------------\u001b[0m",
      "\u001b[0;31mTypeError\u001b[0m                                 Traceback (most recent call last)",
      "Input \u001b[0;32mIn [23]\u001b[0m, in \u001b[0;36m<cell line: 2>\u001b[0;34m()\u001b[0m\n\u001b[1;32m      1\u001b[0m s\u001b[38;5;241m=\u001b[39m{\u001b[38;5;241m1\u001b[39m, \u001b[38;5;241m2\u001b[39m, \u001b[38;5;241m3\u001b[39m}\n\u001b[0;32m----> 2\u001b[0m \u001b[43ms\u001b[49m\u001b[38;5;241;43m.\u001b[39;49m\u001b[43mupdate\u001b[49m\u001b[43m(\u001b[49m\u001b[38;5;241;43m4\u001b[39;49m\u001b[43m)\u001b[49m\n",
      "\u001b[0;31mTypeError\u001b[0m: 'int' object is not iterable"
     ]
    }
   ],
   "source": [
    "s={1, 2, 3}\n",
    "s.update(4)"
   ]
  },
  {
   "cell_type": "code",
   "execution_count": 1,
   "id": "6860ebaa",
   "metadata": {},
   "outputs": [],
   "source": [
    "a=[1,3,4,6,7,9,10, 4+7j, \"Hello world\", [2000,3000,1000]]"
   ]
  },
  {
   "cell_type": "code",
   "execution_count": 2,
   "id": "91060822",
   "metadata": {},
   "outputs": [
    {
     "name": "stdout",
     "output_type": "stream",
     "text": [
      "<class 'set'>\n"
     ]
    }
   ],
   "source": [
    "a =[1,2,3,4,5,6,7,8,9]\n",
    "b = set(a)\n",
    "print(type(b))"
   ]
  },
  {
   "cell_type": "code",
   "execution_count": 11,
   "id": "f75942f5",
   "metadata": {},
   "outputs": [
    {
     "data": {
      "text/plain": [
       "{1: 1, 2: 4, 3: 9, 4: 16}"
      ]
     },
     "execution_count": 11,
     "metadata": {},
     "output_type": "execute_result"
    }
   ],
   "source": [
    "square_dictionary = {1:1, 2:4, 3:9}\n",
    "\n",
    "square_dictionary[4]=16\n",
    "square_dictionary"
   ]
  },
  {
   "cell_type": "code",
   "execution_count": 12,
   "id": "1336c089",
   "metadata": {},
   "outputs": [
    {
     "data": {
      "text/plain": [
       "['__class__',\n",
       " '__class_getitem__',\n",
       " '__contains__',\n",
       " '__delattr__',\n",
       " '__delitem__',\n",
       " '__dir__',\n",
       " '__doc__',\n",
       " '__eq__',\n",
       " '__format__',\n",
       " '__ge__',\n",
       " '__getattribute__',\n",
       " '__getitem__',\n",
       " '__gt__',\n",
       " '__hash__',\n",
       " '__init__',\n",
       " '__init_subclass__',\n",
       " '__ior__',\n",
       " '__iter__',\n",
       " '__le__',\n",
       " '__len__',\n",
       " '__lt__',\n",
       " '__ne__',\n",
       " '__new__',\n",
       " '__or__',\n",
       " '__reduce__',\n",
       " '__reduce_ex__',\n",
       " '__repr__',\n",
       " '__reversed__',\n",
       " '__ror__',\n",
       " '__setattr__',\n",
       " '__setitem__',\n",
       " '__sizeof__',\n",
       " '__str__',\n",
       " '__subclasshook__',\n",
       " 'clear',\n",
       " 'copy',\n",
       " 'fromkeys',\n",
       " 'get',\n",
       " 'items',\n",
       " 'keys',\n",
       " 'pop',\n",
       " 'popitem',\n",
       " 'setdefault',\n",
       " 'update',\n",
       " 'values']"
      ]
     },
     "execution_count": 12,
     "metadata": {},
     "output_type": "execute_result"
    }
   ],
   "source": [
    "dir(dict)"
   ]
  },
  {
   "cell_type": "code",
   "execution_count": 15,
   "id": "21d3e8a3",
   "metadata": {},
   "outputs": [
    {
     "data": {
      "text/plain": [
       "['__add__',\n",
       " '__class__',\n",
       " '__contains__',\n",
       " '__delattr__',\n",
       " '__dir__',\n",
       " '__doc__',\n",
       " '__eq__',\n",
       " '__format__',\n",
       " '__ge__',\n",
       " '__getattribute__',\n",
       " '__getitem__',\n",
       " '__getnewargs__',\n",
       " '__gt__',\n",
       " '__hash__',\n",
       " '__init__',\n",
       " '__init_subclass__',\n",
       " '__iter__',\n",
       " '__le__',\n",
       " '__len__',\n",
       " '__lt__',\n",
       " '__mod__',\n",
       " '__mul__',\n",
       " '__ne__',\n",
       " '__new__',\n",
       " '__reduce__',\n",
       " '__reduce_ex__',\n",
       " '__repr__',\n",
       " '__rmod__',\n",
       " '__rmul__',\n",
       " '__setattr__',\n",
       " '__sizeof__',\n",
       " '__str__',\n",
       " '__subclasshook__',\n",
       " 'capitalize',\n",
       " 'casefold',\n",
       " 'center',\n",
       " 'count',\n",
       " 'encode',\n",
       " 'endswith',\n",
       " 'expandtabs',\n",
       " 'find',\n",
       " 'format',\n",
       " 'format_map',\n",
       " 'index',\n",
       " 'isalnum',\n",
       " 'isalpha',\n",
       " 'isascii',\n",
       " 'isdecimal',\n",
       " 'isdigit',\n",
       " 'isidentifier',\n",
       " 'islower',\n",
       " 'isnumeric',\n",
       " 'isprintable',\n",
       " 'isspace',\n",
       " 'istitle',\n",
       " 'isupper',\n",
       " 'join',\n",
       " 'ljust',\n",
       " 'lower',\n",
       " 'lstrip',\n",
       " 'maketrans',\n",
       " 'partition',\n",
       " 'removeprefix',\n",
       " 'removesuffix',\n",
       " 'replace',\n",
       " 'rfind',\n",
       " 'rindex',\n",
       " 'rjust',\n",
       " 'rpartition',\n",
       " 'rsplit',\n",
       " 'rstrip',\n",
       " 'split',\n",
       " 'splitlines',\n",
       " 'startswith',\n",
       " 'strip',\n",
       " 'swapcase',\n",
       " 'title',\n",
       " 'translate',\n",
       " 'upper',\n",
       " 'zfill']"
      ]
     },
     "execution_count": 15,
     "metadata": {},
     "output_type": "execute_result"
    }
   ],
   "source": [
    "dir(str)"
   ]
  },
  {
   "cell_type": "code",
   "execution_count": 22,
   "id": "75103628",
   "metadata": {},
   "outputs": [
    {
     "ename": "AttributeError",
     "evalue": "'int' object has no attribute 'reverse'",
     "output_type": "error",
     "traceback": [
      "\u001b[0;31m---------------------------------------------------------------------------\u001b[0m",
      "\u001b[0;31mAttributeError\u001b[0m                            Traceback (most recent call last)",
      "Input \u001b[0;32mIn [22]\u001b[0m, in \u001b[0;36m<cell line: 2>\u001b[0;34m()\u001b[0m\n\u001b[1;32m      1\u001b[0m a\u001b[38;5;241m=\u001b[39m\u001b[38;5;241m123\u001b[39m\n\u001b[0;32m----> 2\u001b[0m \u001b[43ma\u001b[49m\u001b[38;5;241;43m.\u001b[39;49m\u001b[43mreverse\u001b[49m\n",
      "\u001b[0;31mAttributeError\u001b[0m: 'int' object has no attribute 'reverse'"
     ]
    }
   ],
   "source": [
    "a=123\n"
   ]
  },
  {
   "cell_type": "code",
   "execution_count": null,
   "id": "7352b2fa",
   "metadata": {},
   "outputs": [],
   "source": [
    "\n",
    "num=eval(input(\"Enter the five digit number:\"))\n",
    "temp=0\n",
    "new=num\n",
    "\n",
    "for i in range(5):\n",
    "    digit=num%10\n",
    "    temp=temp*10+digit\n",
    "    num//=10\n",
    "    \n",
    "    \n",
    "print(\"Reversed number:\",temp)\n",
    "x = temp.split()\n",
    "\n",
    "\n"
   ]
  },
  {
   "cell_type": "code",
   "execution_count": 26,
   "id": "9146d16e",
   "metadata": {},
   "outputs": [
    {
     "ename": "AttributeError",
     "evalue": "'int' object has no attribute 'split'",
     "output_type": "error",
     "traceback": [
      "\u001b[0;31m---------------------------------------------------------------------------\u001b[0m",
      "\u001b[0;31mAttributeError\u001b[0m                            Traceback (most recent call last)",
      "Input \u001b[0;32mIn [26]\u001b[0m, in \u001b[0;36m<cell line: 2>\u001b[0;34m()\u001b[0m\n\u001b[1;32m      1\u001b[0m a\u001b[38;5;241m=\u001b[39m\u001b[38;5;241m123\u001b[39m\n\u001b[0;32m----> 2\u001b[0m b\u001b[38;5;241m=\u001b[39m\u001b[43ma\u001b[49m\u001b[38;5;241;43m.\u001b[39;49m\u001b[43msplit\u001b[49m(\u001b[38;5;124m'\u001b[39m\u001b[38;5;124m'\u001b[39m)\n",
      "\u001b[0;31mAttributeError\u001b[0m: 'int' object has no attribute 'split'"
     ]
    }
   ],
   "source": [
    "a=123\n",
    "b=a.split('')"
   ]
  },
  {
   "cell_type": "code",
   "execution_count": 27,
   "id": "3b31892c",
   "metadata": {},
   "outputs": [
    {
     "name": "stdout",
     "output_type": "stream",
     "text": [
      "enter a number:123\n",
      "321\n"
     ]
    }
   ],
   "source": [
    "a = (input(\"enter a number:\"))\n",
    "b = a[::-1]\n",
    "c = int(b)\n",
    "print(c)"
   ]
  },
  {
   "cell_type": "code",
   "execution_count": 50,
   "id": "c7684b6d",
   "metadata": {},
   "outputs": [],
   "source": [
    "mix_list = ['Python', 1, 2, 3, 'Data', True]\n"
   ]
  },
  {
   "cell_type": "code",
   "execution_count": 54,
   "id": "82310afd",
   "metadata": {},
   "outputs": [
    {
     "name": "stdout",
     "output_type": "stream",
     "text": [
      "['Python', 1, 2, 3, 'Data', True]['Python', 1, 2, 3, 'Data', True]\r\n",
      "['Python', 1, 2, 3, 'Data', True]['Python', 1, 2, 3, 'Data', True]\r\n",
      "['Python', 1, 2, 3, 'Data', True]['Python', 1, 2, 3, 'Data', True]\r\n"
     ]
    }
   ],
   "source": [
    "for i in range(0,5,2):\n",
    "    for j in range(0,2):\n",
    "         print(mix_list,end=\"\")\n",
    "    print(\"\\r\")"
   ]
  },
  {
   "cell_type": "code",
   "execution_count": 63,
   "id": "22db1bfb",
   "metadata": {},
   "outputs": [
    {
     "name": "stdout",
     "output_type": "stream",
     "text": [
      "[[]]\n",
      "[[], ['Python', 2, 'Data']]\n",
      "[[], ['Python', 2, 'Data'], ['Python', 2, 'Data', 'Python', 2, 'Data']]\n",
      "[[], ['Python', 2, 'Data'], ['Python', 2, 'Data', 'Python', 2, 'Data'], ['Python', 2, 'Data', 'Python', 2, 'Data', 'Python', 2, 'Data']]\n",
      "[[], ['Python', 2, 'Data'], ['Python', 2, 'Data', 'Python', 2, 'Data'], ['Python', 2, 'Data', 'Python', 2, 'Data', 'Python', 2, 'Data'], ['Python', 2, 'Data', 'Python', 2, 'Data', 'Python', 2, 'Data', 'Python', 2, 'Data']]\n",
      "[[], ['Python', 2, 'Data'], ['Python', 2, 'Data', 'Python', 2, 'Data'], ['Python', 2, 'Data', 'Python', 2, 'Data', 'Python', 2, 'Data'], ['Python', 2, 'Data', 'Python', 2, 'Data', 'Python', 2, 'Data', 'Python', 2, 'Data'], ['Python', 2, 'Data', 'Python', 2, 'Data', 'Python', 2, 'Data', 'Python', 2, 'Data', 'Python', 2, 'Data']]\n"
     ]
    }
   ],
   "source": [
    "mix_list = ['Python', 1, 2, 3, 'Data', True]\n",
    "myList = []\n",
    "for i in range(0,6):\n",
    "    myList.append(mix_list[0:6:2]*i)\n",
    "    print(myList)\n",
    " "
   ]
  },
  {
   "cell_type": "code",
   "execution_count": 66,
   "id": "7ef5ba88",
   "metadata": {},
   "outputs": [
    {
     "name": "stdout",
     "output_type": "stream",
     "text": [
      "['Python']\n",
      "['Python', 1]\n",
      "['Python', 1, 2]\n",
      "['Python', 1, 2, 3]\n",
      "['Python', 1, 2, 3, 'Data']\n",
      "['Python', 1, 2, 3, 'Data', True]\n"
     ]
    }
   ],
   "source": [
    "mix_list = ['Python', 1, 2, 3, 'Data', True]\n",
    "for i in range(0,len(mix_list)+1):\n",
    "    if i==0:\n",
    "        for j in range(i+1,len(mix_list)+1):\n",
    "            print(mix_list[i:j])\n",
    "    else:\n",
    "        break\n",
    "\n"
   ]
  },
  {
   "cell_type": "code",
   "execution_count": 70,
   "id": "0df0cdd3",
   "metadata": {},
   "outputs": [],
   "source": [
    "s='welcome'\n",
    "L=[]\n",
    "vowels='a'or'e'or'i'or'o'or'u'\n",
    "for i in range(0,len(s)+1):\n",
    "    for j in range(i+1,len(s)+1):\n",
    "        L.append(s[i:j])\n",
    "for i in range(len(L)):\n",
    "    if L[i].startswith(vowels):\n",
    "        print(L[i])"
   ]
  },
  {
   "cell_type": "code",
   "execution_count": null,
   "id": "b62d622e",
   "metadata": {},
   "outputs": [],
   "source": []
  }
 ],
 "metadata": {
  "kernelspec": {
   "display_name": "Python 3 (ipykernel)",
   "language": "python",
   "name": "python3"
  },
  "language_info": {
   "codemirror_mode": {
    "name": "ipython",
    "version": 3
   },
   "file_extension": ".py",
   "mimetype": "text/x-python",
   "name": "python",
   "nbconvert_exporter": "python",
   "pygments_lexer": "ipython3",
   "version": "3.9.12"
  }
 },
 "nbformat": 4,
 "nbformat_minor": 5
}
