{
 "cells": [
  {
   "cell_type": "markdown",
   "id": "fb9bc55e",
   "metadata": {},
   "source": [
    "#mcq:\n",
    "\n",
    "If the standard deviation of 0, 1, 2, 3 ______ 9 is K, then the standard deviation of 10, 11, 12, 13 _____ 19 will be:\n",
    "    \n",
    "    \n",
    "    \n",
    "What i2. If the standard deviation of a data is 0.012. Find the variance.\n",
    "\n",
    "\n",
    "\n",
    "The mean of two samples of the sizes 250 and 320 was found to be 20,12 respectively. Their standard deviations were 2 & 5, respectively. Find the variance of the combined sample of size 650.\n",
    "\n",
    "\n",
    "\n",
    "Find the variance of the first 10 natural numbers\n",
    "\n",
    "\n",
    "If the standard deviation of the numbers 2, 4, 5 & 6 is a constant a, then find the standard deviation of the numbers 4, 6, 7 & 8.\n",
    "\n",
    "\n",
    "Assuming the variance of four numbers w, x, y, and z as 9. Find the variance of 5w, 5x, 5y and 5z.\n",
    "\n",
    "\n",
    "A fisherman is weighing each of 50 fishes. Their mean weight worked out is 50 gm and a standard deviation of 2.5 gm. Later it was found that the measuring scale was misaligned and always under reported every fish weight by 2.5 gm. Find the mean and standard deviation of fishes.\n",
    "\n",
    "\n",
    "\n",
    "What is the median and standard deviation of a distribution are 50 and 5 respectively, if each item is increased by 4.\n",
    "\n",
    "\n",
    "\n",
    "If the S.D. is a set of observations is 4 and if each observation is divided by 4, find the S.D. of the new observations.\n",
    "\n",
    "\n",
    "\n",
    "The change in which of the following terms does not affect the standard deviation?\n",
    "\n",
    "\n",
    "\n",
    "\n",
    "\n",
    "\n"
   ]
  },
  {
   "cell_type": "code",
   "execution_count": null,
   "id": "416d86ef",
   "metadata": {},
   "outputs": [],
   "source": [
    "# programming question:\n",
    "\n",
    "Find standard deviation for the given list of items items = [12,86,87,88,86,87,85,86]\n",
    "\n",
    "\n",
    "Below three columns, calculate standard deviation using pandas library first convert below d into a dataframe.\n",
    "d = {\n",
    "    'Name':['Alisa','Bobby','Cathrine','Madonna','Rocky','Sebastian','Jaqluine',\n",
    "   'Rahul','David','Andrew','Ajay','Teresa'],\n",
    "   'Score1':[62,47,55,74,31,77,85,63,42,32,71,57],\n",
    "   'Score2':[89,87,67,55,47,72,76,79,44,92,99,69],\n",
    "   'Score3':[56,86,77,45,73,62,74,89,71,67,97,68]}\n",
    "\n",
    "\n",
    "Below is the data for six students studying average hours in a day. Find the standard deviation for the data x=[3,7,6,4,3,4]\n",
    "\n",
    "\n",
    "Calculate variance() for the given list using the statistics module. x=[4, 8, 6, 5, 3, 2, 8, 9, 2, 5]\n",
    "\n",
    "\n",
    "\n",
    "Write a code to that takes data from a sample and returns an estimation of the population standard deviation. x=[4, 8, 6, 5, 3, 2, 8, 9, 2, 5]\n",
    "Hint: stdev()\n",
    "    \n",
    "    \n",
    "\n",
    "\n",
    "\n",
    "\n",
    "\n",
    "\n",
    "\n",
    "\n",
    "\n",
    "\n",
    "\n"
   ]
  },
  {
   "cell_type": "code",
   "execution_count": 1,
   "id": "35e425a7",
   "metadata": {},
   "outputs": [
    {
     "name": "stdout",
     "output_type": "stream",
     "text": [
      "24.62944122386864\n"
     ]
    }
   ],
   "source": [
    "import numpy\n",
    "\n",
    "list = [12,86,87,88,86,87,85,86]\n",
    "\n",
    "print(numpy.std(list))"
   ]
  },
  {
   "cell_type": "code",
   "execution_count": 9,
   "id": "571a3560",
   "metadata": {},
   "outputs": [
    {
     "name": "stdout",
     "output_type": "stream",
     "text": [
      "         Name  Score1  Score2  Score3\n",
      "0       Alisa      62      89      56\n",
      "1       Bobby      47      87      86\n",
      "2    Cathrine      55      67      77\n",
      "3     Madonna      74      55      45\n",
      "4       Rocky      31      47      73\n",
      "5   Sebastian      77      72      62\n",
      "6    Jaqluine      85      76      74\n",
      "7       Rahul      63      79      89\n",
      "8       David      42      44      71\n",
      "9      Andrew      32      92      67\n",
      "10       Ajay      71      99      97\n",
      "11     Teresa      57      69      68\n",
      "Standard deviation of Data frame:\n",
      " Score1    17.446021\n",
      "Score2    17.653225\n",
      "Score3    14.355603\n",
      "dtype: float64\n"
     ]
    },
    {
     "name": "stderr",
     "output_type": "stream",
     "text": [
      "/var/folders/p6/z0mkbnv935lfj5knl3fvv_0m0000gp/T/ipykernel_1331/1729888982.py:14: FutureWarning: Dropping of nuisance columns in DataFrame reductions (with 'numeric_only=None') is deprecated; in a future version this will raise TypeError.  Select only valid columns before calling the reduction.\n",
      "  print(\"Standard deviation of Data frame:\\n\",df.std())\n"
     ]
    }
   ],
   "source": [
    "d = {\n",
    "    'Name':['Alisa','Bobby','Cathrine','Madonna','Rocky','Sebastian','Jaqluine',\n",
    "   'Rahul','David','Andrew','Ajay','Teresa'],\n",
    "   'Score1':[62,47,55,74,31,77,85,63,42,32,71,57],\n",
    "   'Score2':[89,87,67,55,47,72,76,79,44,92,99,69],\n",
    "   'Score3':[56,86,77,45,73,62,74,89,71,67,97,68]}\n",
    "\n",
    "import pandas as pd\n",
    "\n",
    "df = pd.DataFrame(d)\n",
    "\n",
    "print(df)\n",
    "\n",
    "print(\"Standard deviation of Data frame:\\n\",df.std())"
   ]
  },
  {
   "cell_type": "code",
   "execution_count": 11,
   "id": "82574688",
   "metadata": {},
   "outputs": [
    {
     "data": {
      "text/plain": [
       "1.5"
      ]
     },
     "execution_count": 11,
     "metadata": {},
     "output_type": "execute_result"
    }
   ],
   "source": [
    "\n",
    "\n",
    "\n",
    "\n",
    "import numpy as np\n",
    "x=[3,7,6,4,3,4] \n",
    "np.std(x)"
   ]
  },
  {
   "cell_type": "code",
   "execution_count": 12,
   "id": "d51c1385",
   "metadata": {},
   "outputs": [
    {
     "name": "stdout",
     "output_type": "stream",
     "text": [
      "6.4\n"
     ]
    }
   ],
   "source": [
    "import statistics\n",
    "x=[4, 8, 6, 5, 3, 2, 8, 9, 2, 5]\n",
    "\n",
    "variance = statistics.variance(x)\n",
    "\n",
    "print(variance)"
   ]
  },
  {
   "cell_type": "code",
   "execution_count": 13,
   "id": "13817b87",
   "metadata": {},
   "outputs": [
    {
     "name": "stdout",
     "output_type": "stream",
     "text": [
      "2.5298221281347035\n"
     ]
    }
   ],
   "source": [
    "import statistics\n",
    "\n",
    "x=[4, 8, 6, 5, 3, 2, 8, 9, 2, 5]\n",
    "\n",
    "stdev = statistics.stdev(x)\n",
    "\n",
    "print(stdev) "
   ]
  },
  {
   "cell_type": "code",
   "execution_count": null,
   "id": "ff42c2bf",
   "metadata": {},
   "outputs": [],
   "source": []
  }
 ],
 "metadata": {
  "kernelspec": {
   "display_name": "Python 3 (ipykernel)",
   "language": "python",
   "name": "python3"
  },
  "language_info": {
   "codemirror_mode": {
    "name": "ipython",
    "version": 3
   },
   "file_extension": ".py",
   "mimetype": "text/x-python",
   "name": "python",
   "nbconvert_exporter": "python",
   "pygments_lexer": "ipython3",
   "version": "3.9.12"
  }
 },
 "nbformat": 4,
 "nbformat_minor": 5
}
