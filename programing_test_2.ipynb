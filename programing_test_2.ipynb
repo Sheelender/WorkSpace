{
 "cells": [
  {
   "cell_type": "markdown",
   "id": "14ef2d44",
   "metadata": {},
   "source": [
    "## Programing test 2"
   ]
  },
  {
   "cell_type": "markdown",
   "id": "65884432",
   "metadata": {},
   "source": [
    "#1.Accept three sides of a triangle and check whether it is an equilateral, isosceles or scalene triangle.\n",
    "#Note :\n",
    "#An equilateral triangle is a triangle in which all three sides are equal.\n",
    "#A scalene triangle is a triangle that has three unequal sides.\n",
    "#An isosceles triangle is a triangle with (at least) two equal sides.\n",
    "\n",
    "\n",
    "\n",
    "\n",
    "\n",
    "\n",
    "#2.Write a program to display the last digit of a number.\n",
    "#(hint : any number % 10 will return the last digit).\n",
    "\n",
    "\n",
    "3.Write a program to check whether the last digit of a number( entered by user ) is divisible by 3 or not.\n",
    "\n",
    "\n",
    "4.Write a python code to check whether 13 is a prime number or not?\n",
    "\n",
    "\n",
    "5.Write a python program for the following:\n",
    "a. if x is even and positive  take a square root , \n",
    "b.if x is odd and positive  take cube root \n",
    "c.if x is negative , take absolute of it and then take square root of it \n",
    "\n",
    "\n",
    "\n",
    "6.Write a Python program to display the sign of the Chinese Zodiac for given year in which you were born.\n",
    "(year-0- zodiac sign- dragon)\n",
    "1-snake,2-horse,3-sheep,4-monkey,5-rooster,6-dog,7-pig,8-rat,9-ox,10-tiger)\n",
    "\n",
    "\n",
    "7.Write a program to check whether a number is positive, negative or zero (use if-elif)\n",
    "\n",
    "\n",
    "\n",
    "8.Write a code to print the maximum of two numbers \n",
    "\n",
    "\n",
    "\n",
    "\n",
    "\n",
    "\n",
    "9.Write a program to check whether a given number is multiple of 7 \n",
    "\n",
    "\n",
    "\n",
    "10.Write a Python program to check whether an alphabet is a vowel or consonant.\n",
    "\n",
    "\n",
    "\n",
    "11.Write a Python program to calculate a dog's age in dog's years.\n",
    "Note: For the first two years, a dog year is equal to 10.5 human years. After that, each dog year equals 4 human years.Expected Output:\n",
    "Input a dog's age in human years: 15  \n",
    "The dog's age in dog's years is 73\n",
    "\n",
    "\n",
    "\n",
    "12.Write a Python program to find the median of three values.\n",
    "\n",
    "\n",
    "13.Write a Python program to check if a string represents an integer or not.\n",
    "\n",
    "\n",
    "\n",
    "14.Write a Python program to sum of two given integers. However, if the sum is between 15 to 20 it will return 20.\n",
    "\n",
    "\n",
    "15.Write a Python program to count the number of even and odd numbers from a series of numbers.\n",
    "\n",
    "\n"
   ]
  },
  {
   "cell_type": "code",
   "execution_count": 6,
   "id": "f8f98e86",
   "metadata": {},
   "outputs": [
    {
     "name": "stdout",
     "output_type": "stream",
     "text": [
      "ENTER THE FISRT SIDE 56\n",
      "ENTER THE 2ND SIDE 62\n",
      "ENTER THE 3rd SIDE 82\n",
      "THIS IS SCALENE TRAIANGLE:\n"
     ]
    }
   ],
   "source": [
    "#1.Accept three sides of a triangle and check whether it is an equilateral, isosceles or scalene triangle. \n",
    "#Note : #An equilateral triangle is a triangle in which all three sides are equal. \n",
    "#A scalene triangle is a triangle that has three unequal sides. \n",
    "#An isosceles triangle is a triangle with (at least) two equal sides.\n",
    "\n",
    "\n",
    "\n",
    "a=eval(input(\"ENTER THE FISRT SIDE \"))\n",
    "b=eval(input(\"ENTER THE 2ND SIDE \"))\n",
    "c=eval(input(\"ENTER THE 3rd SIDE \"))\n",
    "\n",
    "if a==b==c:\n",
    "    print(\"THIS IS EQUALATERAL TRAINGLE:\")\n",
    "    \n",
    "    \n",
    "elif a!=b!=c:\n",
    "    print(\"THIS IS SCALENE TRAIANGLE:\")\n",
    "    \n",
    "else:\n",
    "    print(\"THIS IS ISOSCELES TRIANGLE:\")"
   ]
  },
  {
   "cell_type": "code",
   "execution_count": 13,
   "id": "16ea5d91",
   "metadata": {},
   "outputs": [],
   "source": [
    "#2.Write a program to display the last digit of a number.\n",
    "#(hint : any number % 10 will return the last digit).\n",
    "\n",
    "def lastdigit():\n",
    "    a=eval(input(\"Enter the digit:\"))\n",
    "    print(a%10)\n"
   ]
  },
  {
   "cell_type": "code",
   "execution_count": 14,
   "id": "b2e89040",
   "metadata": {},
   "outputs": [
    {
     "name": "stdout",
     "output_type": "stream",
     "text": [
      "Enter the digit:68348\n",
      "8\n"
     ]
    }
   ],
   "source": [
    "lastdigit()\n"
   ]
  },
  {
   "cell_type": "code",
   "execution_count": 19,
   "id": "2a5603c4",
   "metadata": {},
   "outputs": [
    {
     "name": "stdout",
     "output_type": "stream",
     "text": [
      "enter the number689243\n",
      "yes:it's last digit is divisible by 3\n"
     ]
    }
   ],
   "source": [
    "#3.Write a program to check whether the last digit of a number( entered by user ) is divisible by 3 or not.\n",
    "\n",
    "a=eval(input(\"enter the number\"))\n",
    "b=a%10\n",
    "if b%3==0:\n",
    "    print(\"yes:it's last digit is divisible by 3\")\n",
    "    \n",
    "else:\n",
    "    print(\"No:it's last digit is not divisible by 3\")\n"
   ]
  },
  {
   "cell_type": "code",
   "execution_count": 35,
   "id": "e5e854c0",
   "metadata": {},
   "outputs": [
    {
     "name": "stdout",
     "output_type": "stream",
     "text": [
      "enter the number:7890754\n",
      "7890754 is Prime Number.\n"
     ]
    }
   ],
   "source": [
    "#4.Write a python code to check whether 13 is a prime number or not?\n",
    "\n",
    "a=eval(input(\"enter the number:\"))\n",
    "if a%2!=0 or a%3!=0:\n",
    "    print(\"{} is Prime Number.\".format(a))\n",
    "    \n",
    "else:\n",
    "    print(\"Not prime number\")\n",
    "\n",
    "\n"
   ]
  },
  {
   "cell_type": "code",
   "execution_count": 36,
   "id": "77158c77",
   "metadata": {},
   "outputs": [
    {
     "name": "stdout",
     "output_type": "stream",
     "text": [
      "enter the number:-5\n",
      "this is odd number so it's cube is: -125\n",
      "25\n"
     ]
    }
   ],
   "source": [
    "#5.Write a python program for the following: \n",
    "#a. if x is even and positive take a square root , \n",
    "#b.if x is odd and positive take cube root \n",
    "#c.if x is negative , take absolute of it and then take square root of it\n",
    "\n",
    "\n",
    "x=eval(input(\"enter the number:\"))\n",
    "if x%2==0:\n",
    "    print(\"this is even number so it's square is:\",x**2)\n",
    "    \n",
    "elif x%2==1:\n",
    "    print(\"this is odd number so it's cube is:\",x**3)\n",
    "    \n",
    "if x<0:\n",
    "    b=abs(x)\n",
    "    print(b**2)"
   ]
  },
  {
   "cell_type": "code",
   "execution_count": 42,
   "id": "464f91a6",
   "metadata": {},
   "outputs": [
    {
     "name": "stdout",
     "output_type": "stream",
     "text": [
      "Your bitrh year:1\n",
      "Your Zodiac sign : Rooster\n"
     ]
    }
   ],
   "source": [
    "#6.Write a Python program to display the sign of the Chinese Zodiac for given year in which you were born. \n",
    "#(year-0- zodiac sign- dragon) 1-snake,2-horse,3-sheep,4-monkey,5-rooster,6-dog,7-pig,8-rat,9-ox,10-tiger)\n",
    "\n",
    "\n",
    "year=eval(input(\"Your bitrh year:\"))\n",
    "if(2000%12==0):\n",
    "    sign='Dragon'\n",
    "elif (year - 2000) % 12 == 1:\n",
    "    sign = 'Snake'\n",
    "elif (year - 2000) % 12 == 2:\n",
    "    sign = 'Horse'\n",
    "elif (year - 2000) % 12 == 3:\n",
    "    sign = 'sheep'\n",
    "elif (year - 2000) % 12 == 4:\n",
    "    sign = 'Monkey'\n",
    "elif (year - 2000) % 12 == 5:\n",
    "    sign = 'Rooster'\n",
    "elif (year - 2000) % 12 == 6:\n",
    "    sign = 'Dog'\n",
    "elif (year - 2000) % 12 == 7:\n",
    "    sign = 'Pig'\n",
    "elif (year - 2000) % 12 == 8:\n",
    "    sign = 'Rat'\n",
    "elif (year - 2000) % 12 == 9:\n",
    "    sign = 'Ox'\n",
    "elif (year - 2000) % 12 == 10:\n",
    "    sign = 'Tiger'\n",
    "else:\n",
    "    sign = 'Hare'\n",
    "\n",
    "print(\"Your Zodiac sign :\",sign)\n",
    "\n"
   ]
  },
  {
   "cell_type": "code",
   "execution_count": 45,
   "id": "2c08ce1d",
   "metadata": {},
   "outputs": [
    {
     "name": "stdout",
     "output_type": "stream",
     "text": [
      "enter the number:-76\n",
      "it is negative number\n"
     ]
    }
   ],
   "source": [
    "#7.Write a program to check whether a number is positive, negative or zero (use if-elif).\n",
    "\n",
    "num=eval(input(\"enter the number:\"))\n",
    "if num>0:\n",
    "    print(\"it is positive number\")\n",
    "    \n",
    "elif num<0:\n",
    "    print(\"it is negative number\")\n",
    "else:\n",
    "    print(\"zero or null\")"
   ]
  },
  {
   "cell_type": "code",
   "execution_count": 48,
   "id": "fa6a1d59",
   "metadata": {},
   "outputs": [
    {
     "name": "stdout",
     "output_type": "stream",
     "text": [
      "enter first number:6\n",
      "enter second number:0\n",
      "6 this is maximum\n"
     ]
    }
   ],
   "source": [
    "# 8.Write a code to print the maximum of two numbers\n",
    "\n",
    "a=eval(input(\"enter first number:\"))\n",
    "b=eval(input(\"enter second number:\"))\n",
    "\n",
    "if a>b:\n",
    "    print(a,\"this is maximum\")\n",
    "    \n",
    "else:\n",
    "    print(b,\"this is maximum\")"
   ]
  },
  {
   "cell_type": "code",
   "execution_count": 50,
   "id": "5df9511c",
   "metadata": {},
   "outputs": [
    {
     "name": "stdout",
     "output_type": "stream",
     "text": [
      "enter the number:14\n",
      "Given number is multiple of 7\n"
     ]
    }
   ],
   "source": [
    "#9.Write a program to check whether a given number is multiple of 7\n",
    "num=eval(input(\"enter the number:\"))\n",
    "if num%7==0:\n",
    "    print(\"Given number is multiple of 7\")\n",
    "    \n",
    "else:\n",
    "    print(\"NO\")\n"
   ]
  },
  {
   "cell_type": "code",
   "execution_count": 19,
   "id": "efb55160",
   "metadata": {},
   "outputs": [
    {
     "name": "stdout",
     "output_type": "stream",
     "text": [
      "enter the string:a\n",
      "Yes,it's a vowel: a\n"
     ]
    }
   ],
   "source": [
    "#10.Write a Python program to check whether an alphabet is a vowel or consonant.\n",
    "\n",
    "\n",
    "alpha=input(\"enter the string:\")\n",
    "y=[\"a\",\"e\",\"i\",\"o\",\"u\",\"a\",\"A\",\"E\",\"I\",\"O\",\"U\"]\n",
    "if alpha in y:\n",
    "    print(\"Yes,it's a vowel:\",alpha)\n",
    "\n",
    "    \n",
    "    \n",
    "else:\n",
    "    print(\"consonant\")"
   ]
  },
  {
   "cell_type": "code",
   "execution_count": 22,
   "id": "32646218",
   "metadata": {},
   "outputs": [
    {
     "name": "stdout",
     "output_type": "stream",
     "text": [
      "enter the age in human year.10\n",
      "The dog's age in dog's years is 50.5\n"
     ]
    }
   ],
   "source": [
    "#11.Write a Python program to calculate a dog's age in dog's years. \n",
    "#Note: For the first two years, a dog year is equal to 10.5 human years. \n",
    "#After that, each dog year equals 4 human years.Expected Output: \n",
    "#Input a dog's age in human years: 15\n",
    "#The dog's age in dog's years is 73.\n",
    "\n",
    "\n",
    "\n",
    "x=eval(input(\"enter the age in human year.\"))\n",
    "if x==1 or x==2:\n",
    "    print(\"A dog year is equal to 10.5 human years.\")\n",
    "    \n",
    "else:\n",
    "    y=10.5\n",
    "    x=x*4+y\n",
    "    print(\"The dog's age in dog's years is\",x)"
   ]
  },
  {
   "cell_type": "code",
   "execution_count": 1,
   "id": "96fcf1f7",
   "metadata": {},
   "outputs": [
    {
     "name": "stdout",
     "output_type": "stream",
     "text": [
      "enter the 1st number10\n",
      "enter the 2nd number15\n",
      "enter the 3rd number20\n",
      "15.0\n"
     ]
    }
   ],
   "source": [
    "#12.Write a Python program to find the median of three values.\n",
    "import math\n",
    "\n",
    "x=eval(input(\"enter the 1st number\"))\n",
    "y=eval(input(\"enter the 2nd number\"))\n",
    "z=eval(input(\"enter the 3rd number\"))   \n",
    "\n",
    "n=(x+y+z)/3\n",
    "print(n)\n"
   ]
  },
  {
   "cell_type": "code",
   "execution_count": 9,
   "id": "a63fa782",
   "metadata": {},
   "outputs": [
    {
     "name": "stdout",
     "output_type": "stream",
     "text": [
      "enter the string:g\n",
      "not\n"
     ]
    }
   ],
   "source": [
    "#13.Write a Python program to check if a string represents an integer or not.\n",
    "x=input(\"enter the string:\")\n",
    "y=x.isnumeric()\n",
    "if y:\n",
    "    print(\"it is a int value:\",x)\n",
    "    \n",
    "else:\n",
    "    print(\"it is not it valure\")\n",
    "\n",
    "\n"
   ]
  },
  {
   "cell_type": "code",
   "execution_count": 12,
   "id": "2663e724",
   "metadata": {},
   "outputs": [
    {
     "name": "stdout",
     "output_type": "stream",
     "text": [
      "enter the 1st number:4\n",
      "enter the 1st number:15\n",
      "20\n"
     ]
    }
   ],
   "source": [
    "#14.Write a Python program to sum of two given integers. However, if the sum is between 15 to 20 it will return 20.\n",
    "\n",
    "\n",
    "a=eval(input(\"enter the 1st number:\"))\n",
    "\n",
    "b=eval(input(\"enter the 1st number:\"))\n",
    "sum=(a+b)\n",
    "\n",
    "if sum>=15 or sum<=20:\n",
    "    print(\"20\")"
   ]
  },
  {
   "cell_type": "code",
   "execution_count": 20,
   "id": "8d7a862d",
   "metadata": {},
   "outputs": [
    {
     "name": "stdout",
     "output_type": "stream",
     "text": [
      "number of even number in list: 5\n",
      "number of odd number in list: 1\n"
     ]
    }
   ],
   "source": [
    "#15.Write a Python program to count the number of even and odd numbers from a series of numbers.\n",
    "\n",
    "num=(1,2,3,4,5,6,7,8,9,0)\n",
    "count_even=0\n",
    "count_odd=0\n",
    "for x in num:\n",
    "    if not x%2:\n",
    "        count_even+=1\n",
    "else:\n",
    "    count_odd+=1\n",
    "    \n",
    "print(\"number of even number in list:\",count_even)\n",
    "print(\"number of odd number in list:\",count_odd)\n",
    "\n",
    "\n",
    "\n"
   ]
  },
  {
   "cell_type": "code",
   "execution_count": null,
   "id": "f12f7a8b",
   "metadata": {},
   "outputs": [],
   "source": [
    "mix_list = ['Python', 1, 2, 3, 'Data', True]\n",
    "for i in range(0,len(mix_list)+1):\n",
    "    if i==0:\n",
    "        for j in range(i+1,len(mix_list)+1):\n",
    "            print(mix_list[i:j])\n",
    "    else:\n",
    "        break\n",
    "        \n",
    "        "
   ]
  },
  {
   "cell_type": "code",
   "execution_count": null,
   "id": "b850f5ba",
   "metadata": {},
   "outputs": [],
   "source": []
  }
 ],
 "metadata": {
  "kernelspec": {
   "display_name": "Python 3 (ipykernel)",
   "language": "python",
   "name": "python3"
  },
  "language_info": {
   "codemirror_mode": {
    "name": "ipython",
    "version": 3
   },
   "file_extension": ".py",
   "mimetype": "text/x-python",
   "name": "python",
   "nbconvert_exporter": "python",
   "pygments_lexer": "ipython3",
   "version": "3.9.12"
  }
 },
 "nbformat": 4,
 "nbformat_minor": 5
}
