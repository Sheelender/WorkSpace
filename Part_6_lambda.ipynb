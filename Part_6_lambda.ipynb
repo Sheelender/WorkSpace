{
 "cells": [
  {
   "cell_type": "code",
   "execution_count": 1,
   "id": "bfe79ac8",
   "metadata": {},
   "outputs": [],
   "source": [
    "def sqaure(x):\n",
    "    return (x*x)"
   ]
  },
  {
   "cell_type": "code",
   "execution_count": 3,
   "id": "42bb1ff5",
   "metadata": {},
   "outputs": [],
   "source": [
    "value=sqaure(2)"
   ]
  },
  {
   "cell_type": "code",
   "execution_count": 4,
   "id": "faa73cdd",
   "metadata": {},
   "outputs": [
    {
     "name": "stdout",
     "output_type": "stream",
     "text": [
      "4\n"
     ]
    }
   ],
   "source": [
    "print(value)"
   ]
  },
  {
   "cell_type": "code",
   "execution_count": 8,
   "id": "f37ded9f",
   "metadata": {},
   "outputs": [
    {
     "data": {
      "text/plain": [
       "16"
      ]
     },
     "execution_count": 8,
     "metadata": {},
     "output_type": "execute_result"
    }
   ],
   "source": [
    "value1=lambda x:x*x\n",
    "value1(4)"
   ]
  },
  {
   "cell_type": "markdown",
   "id": "39a7ba26",
   "metadata": {},
   "source": [
    "- lambda is a function call we can write in a single expression\n",
    "- start with lambda keyword\n",
    "- lambda x--> here x is a argument\n",
    "- lambda argument:statement\n",
    "- there is no name\n",
    "- There is def,return"
   ]
  },
  {
   "cell_type": "code",
   "execution_count": 10,
   "id": "0b592c3d",
   "metadata": {},
   "outputs": [],
   "source": [
    "def add(a,b):\n",
    "    return(a+b)"
   ]
  },
  {
   "cell_type": "code",
   "execution_count": 11,
   "id": "1d88c8bc",
   "metadata": {},
   "outputs": [
    {
     "data": {
      "text/plain": [
       "30"
      ]
     },
     "execution_count": 11,
     "metadata": {},
     "output_type": "execute_result"
    }
   ],
   "source": [
    "value=add(10,20)\n",
    "value"
   ]
  },
  {
   "cell_type": "code",
   "execution_count": 12,
   "id": "009c653c",
   "metadata": {},
   "outputs": [],
   "source": [
    "valu_1=lambda a,b:a+b\n"
   ]
  },
  {
   "cell_type": "code",
   "execution_count": 13,
   "id": "fba71f4d",
   "metadata": {},
   "outputs": [
    {
     "data": {
      "text/plain": [
       "50"
      ]
     },
     "execution_count": 13,
     "metadata": {},
     "output_type": "execute_result"
    }
   ],
   "source": [
    "valu_1(20,30)"
   ]
  },
  {
   "cell_type": "code",
   "execution_count": null,
   "id": "77cc78e8",
   "metadata": {},
   "outputs": [],
   "source": [
    "# suppose if i want tom create a function\n",
    "# to identify max value btween two number"
   ]
  },
  {
   "cell_type": "code",
   "execution_count": 26,
   "id": "02176926",
   "metadata": {},
   "outputs": [],
   "source": [
    "def maximum(a,b):\n",
    "    if a<b:\n",
    "        return(b)\n",
    "    else:\n",
    "        return(a)"
   ]
  },
  {
   "cell_type": "code",
   "execution_count": 29,
   "id": "7ad235b1",
   "metadata": {},
   "outputs": [
    {
     "data": {
      "text/plain": [
       "30"
      ]
     },
     "execution_count": 29,
     "metadata": {},
     "output_type": "execute_result"
    }
   ],
   "source": [
    "max_val=maximum(30,20)\n",
    "max_val"
   ]
  },
  {
   "cell_type": "code",
   "execution_count": 30,
   "id": "3ffec67f",
   "metadata": {},
   "outputs": [],
   "source": [
    "max_val_1=lambda a,b:a if a>b else b"
   ]
  },
  {
   "cell_type": "code",
   "execution_count": 31,
   "id": "4dd9134a",
   "metadata": {},
   "outputs": [
    {
     "data": {
      "text/plain": [
       "30"
      ]
     },
     "execution_count": 31,
     "metadata": {},
     "output_type": "execute_result"
    }
   ],
   "source": [
    "max_val_1(20,30)"
   ]
  },
  {
   "cell_type": "code",
   "execution_count": 52,
   "id": "5a7d108a",
   "metadata": {},
   "outputs": [],
   "source": [
    "list1=[]\n",
    "def maximum(a,b):\n",
    "    if a<b:\n",
    "        list1.append(b)\n",
    "    else:\n",
    "        list1.append(a)"
   ]
  },
  {
   "cell_type": "code",
   "execution_count": 53,
   "id": "1abd584a",
   "metadata": {},
   "outputs": [],
   "source": [
    "maximum(10,30)\n",
    "\n",
    "\n"
   ]
  },
  {
   "cell_type": "code",
   "execution_count": 54,
   "id": "ac1baf8d",
   "metadata": {},
   "outputs": [
    {
     "data": {
      "text/plain": [
       "[30]"
      ]
     },
     "execution_count": 54,
     "metadata": {},
     "output_type": "execute_result"
    }
   ],
   "source": [
    "list1"
   ]
  },
  {
   "cell_type": "code",
   "execution_count": 55,
   "id": "1947cabb",
   "metadata": {},
   "outputs": [
    {
     "name": "stdout",
     "output_type": "stream",
     "text": [
      "2\n",
      "4\n",
      "6\n",
      "8\n"
     ]
    }
   ],
   "source": [
    "list1=[1,2,3,4]\n",
    "for i in list1:\n",
    "    print(i*2)"
   ]
  },
  {
   "cell_type": "code",
   "execution_count": 57,
   "id": "481ffa98",
   "metadata": {},
   "outputs": [
    {
     "data": {
      "text/plain": [
       "[2, 4, 6, 8]"
      ]
     },
     "execution_count": 57,
     "metadata": {},
     "output_type": "execute_result"
    }
   ],
   "source": [
    "list2=[i*2 for i in list1]\n",
    "list2"
   ]
  },
  {
   "cell_type": "code",
   "execution_count": 59,
   "id": "697c6336",
   "metadata": {},
   "outputs": [
    {
     "data": {
      "text/plain": [
       "[<function __main__.<genexpr>.<lambda>(x)>,\n",
       " <function __main__.<genexpr>.<lambda>(x)>,\n",
       " <function __main__.<genexpr>.<lambda>(x)>,\n",
       " <function __main__.<genexpr>.<lambda>(x)>]"
      ]
     },
     "execution_count": 59,
     "metadata": {},
     "output_type": "execute_result"
    }
   ],
   "source": [
    "# lambda function\n",
    "\n",
    "list(lambda x:x*2 for i in list1)\n"
   ]
  },
  {
   "cell_type": "markdown",
   "id": "adcd0af5",
   "metadata": {},
   "source": [
    "$ map $"
   ]
  },
  {
   "cell_type": "code",
   "execution_count": 60,
   "id": "8920c58c",
   "metadata": {},
   "outputs": [],
   "source": [
    "list1=[1,2,3,4]\n",
    "list2=list(map(lambda x:x*2,list1))"
   ]
  },
  {
   "cell_type": "code",
   "execution_count": 61,
   "id": "ce7cffeb",
   "metadata": {},
   "outputs": [
    {
     "data": {
      "text/plain": [
       "[2, 4, 6, 8]"
      ]
     },
     "execution_count": 61,
     "metadata": {},
     "output_type": "execute_result"
    }
   ],
   "source": [
    "list2\n"
   ]
  },
  {
   "cell_type": "code",
   "execution_count": null,
   "id": "249438ff",
   "metadata": {},
   "outputs": [],
   "source": [
    "map(lambda_expression,sequence)"
   ]
  },
  {
   "cell_type": "code",
   "execution_count": 68,
   "id": "c1e72147",
   "metadata": {},
   "outputs": [],
   "source": [
    "strings=['winter','is','coming']\n",
    "list4=list(map(lambda x:x.upper()+'!!!',strings))"
   ]
  },
  {
   "cell_type": "code",
   "execution_count": 69,
   "id": "db6ee72c",
   "metadata": {},
   "outputs": [
    {
     "data": {
      "text/plain": [
       "['WINTER!!!', 'IS!!!', 'COMING!!!']"
      ]
     },
     "execution_count": 69,
     "metadata": {},
     "output_type": "execute_result"
    }
   ],
   "source": [
    "list4"
   ]
  },
  {
   "cell_type": "code",
   "execution_count": 71,
   "id": "f2fcee8b",
   "metadata": {},
   "outputs": [],
   "source": [
    "num1=[1,2,3]\n",
    "num2=[10,20,30]\n"
   ]
  },
  {
   "cell_type": "code",
   "execution_count": 73,
   "id": "6664dcad",
   "metadata": {},
   "outputs": [
    {
     "name": "stdout",
     "output_type": "stream",
     "text": [
      "[11, 22, 33]\n"
     ]
    }
   ],
   "source": [
    "list3=[]\n",
    "for i,j in zip(num1,num2):\n",
    "    list3.append(i+j)\n",
    "    \n",
    "print(list3)\n"
   ]
  },
  {
   "cell_type": "code",
   "execution_count": 77,
   "id": "e431159e",
   "metadata": {},
   "outputs": [],
   "source": [
    "lamda=list(map(lambda num1,num2:num1+num2,num1,num2))"
   ]
  },
  {
   "cell_type": "code",
   "execution_count": 78,
   "id": "711b4d1f",
   "metadata": {},
   "outputs": [
    {
     "data": {
      "text/plain": [
       "[11, 22, 33]"
      ]
     },
     "execution_count": 78,
     "metadata": {},
     "output_type": "execute_result"
    }
   ],
   "source": [
    "lamda"
   ]
  },
  {
   "cell_type": "code",
   "execution_count": 11,
   "id": "e3bf37ca",
   "metadata": {},
   "outputs": [],
   "source": [
    "list1=['apple','bannana','car','bat','dag']\n",
    "# I need items those Lengths grater than 3\n",
    "# 'apple' 'bannana'"
   ]
  },
  {
   "cell_type": "code",
   "execution_count": 15,
   "id": "09872181",
   "metadata": {},
   "outputs": [
    {
     "data": {
      "text/plain": [
       "['apple', 'bannana']"
      ]
     },
     "execution_count": 15,
     "metadata": {},
     "output_type": "execute_result"
    }
   ],
   "source": [
    "items=[]\n",
    "for i in list1:\n",
    "    if len(i)>3:\n",
    "        items.append(i)\n",
    "        \n",
    "items\n",
    "    "
   ]
  },
  {
   "cell_type": "code",
   "execution_count": 90,
   "id": "7558c36a",
   "metadata": {},
   "outputs": [
    {
     "data": {
      "text/plain": [
       "['apple', 'bannana']"
      ]
     },
     "execution_count": 90,
     "metadata": {},
     "output_type": "execute_result"
    }
   ],
   "source": [
    "items=list(filter(lambda x:len(x)>3,list1))\n",
    "items"
   ]
  },
  {
   "cell_type": "code",
   "execution_count": 92,
   "id": "cc2a8d79",
   "metadata": {},
   "outputs": [
    {
     "data": {
      "text/plain": [
       "[4, 9, 36]"
      ]
     },
     "execution_count": 92,
     "metadata": {},
     "output_type": "execute_result"
    }
   ],
   "source": [
    "list2=[2,3,6]\n",
    "values=list(map(lambda x:x*x,list2))\n",
    "values"
   ]
  },
  {
   "cell_type": "code",
   "execution_count": 98,
   "id": "1bc73194",
   "metadata": {},
   "outputs": [
    {
     "data": {
      "text/plain": [
       "9"
      ]
     },
     "execution_count": 98,
     "metadata": {},
     "output_type": "execute_result"
    }
   ],
   "source": [
    "val=lambda x:x*x\n",
    "val(3)\n"
   ]
  },
  {
   "cell_type": "code",
   "execution_count": 9,
   "id": "7b5226e1",
   "metadata": {},
   "outputs": [],
   "source": [
    "# to print only even number\n",
    "even_num=[i for i in range(1,20)]\n",
    "even_result=tuple(filter(lambda x:x%2==0,even_num))"
   ]
  },
  {
   "cell_type": "code",
   "execution_count": 10,
   "id": "3bc73453",
   "metadata": {},
   "outputs": [
    {
     "data": {
      "text/plain": [
       "(2, 4, 6, 8, 10, 12, 14, 16, 18)"
      ]
     },
     "execution_count": 10,
     "metadata": {},
     "output_type": "execute_result"
    }
   ],
   "source": [
    "even_result"
   ]
  },
  {
   "cell_type": "code",
   "execution_count": null,
   "id": "d2f63971",
   "metadata": {},
   "outputs": [],
   "source": []
  },
  {
   "cell_type": "code",
   "execution_count": null,
   "id": "23d12864",
   "metadata": {},
   "outputs": [],
   "source": []
  },
  {
   "cell_type": "code",
   "execution_count": 103,
   "id": "77d85273",
   "metadata": {},
   "outputs": [
    {
     "data": {
      "text/plain": [
       "('thi#s', 'omka#r')"
      ]
     },
     "execution_count": 103,
     "metadata": {},
     "output_type": "execute_result"
    }
   ],
   "source": [
    "list1=['hello','world','thi#s','is','omka#r']\n",
    "\n",
    "\n",
    "list22=tuple(filter(lambda x:'#'in x,list1 ))\n",
    "list22"
   ]
  },
  {
   "cell_type": "code",
   "execution_count": null,
   "id": "2fbe902e",
   "metadata": {},
   "outputs": [],
   "source": []
  }
 ],
 "metadata": {
  "kernelspec": {
   "display_name": "Python 3 (ipykernel)",
   "language": "python",
   "name": "python3"
  },
  "language_info": {
   "codemirror_mode": {
    "name": "ipython",
    "version": 3
   },
   "file_extension": ".py",
   "mimetype": "text/x-python",
   "name": "python",
   "nbconvert_exporter": "python",
   "pygments_lexer": "ipython3",
   "version": "3.9.12"
  }
 },
 "nbformat": 4,
 "nbformat_minor": 5
}
