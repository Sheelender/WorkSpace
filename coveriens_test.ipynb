{
 "cells": [
  {
   "cell_type": "code",
   "execution_count": null,
   "id": "c6375c2b",
   "metadata": {},
   "outputs": [],
   "source": [
    "Create two numpy arrays and find the variance between two of them\n",
    "\n",
    "Find the covariance of a given array\n",
    "x = np.array([[3, 1, 4], [7, 3, 8], [1, 5, 7]])\n",
    "\n",
    "Find the covariance of two series, define two list and covert to series then find the covariance\n",
    "\n",
    "\n",
    "find the covariance from the given dataframe:\n",
    "    data = {\"col1\":[1,5,4],\"col2\":[3,7,1],\"col3\":[6,8,1],\"col4\":[10,7,2]}\n",
    "    \n",
    "    \n",
    "    Create a dataframe with NAN values and find their covariance\n",
    "    \n",
    "    \n",
    "find the pearson coefficient of given below data using numpy;\n",
    "    x = [48,67,89,76,55,66,89,90,99,100,100,32,55]\n",
    "    y = [52,61,78,81,50,49,95,100,100,90,89,21,62]\n",
    " \n",
    "\n",
    "find the pearson coefficient of given below data using Scipy\n",
    "    x = [48,67,89,76,55,66,89,90,99,100,100,32,55]\n",
    "    y = [52,61,78,81,50,49,95,100,100,90,89,21,62]\n",
    " \n",
    "\n",
    "Calculate the correlation coefficient by  Pearson’s correlation coefficient, calculate values of x^2, y^2, xy and display them in a series:\n",
    "\n",
    "X = 21,31,25,40,47,38\n",
    "Y = 70,55,60,78,66,80\n",
    "\n",
    "write a program to find spearman’s coefficient from given values;\n",
    "x = [15,18,21, 15, 21]\n",
    "y = [25,25,27,27,27]\n",
    " \n",
    "The scores for nine students in physics and math are as follows find the spearmans coeff;\n",
    "\n",
    "Physics: 35, 23, 47, 17, 10, 43, 9, 6, 28\n",
    "Mathematics: 30, 33, 45, 23, 8, 49, 12, 4, 31\n",
    "    \n",
    "    \n",
    "\n",
    "\n",
    "\n",
    "\n",
    "\n",
    "\n",
    "    \n",
    "\n",
    "\n",
    "\n",
    "\n",
    "\n",
    "\n",
    "\n",
    "\n"
   ]
  },
  {
   "cell_type": "code",
   "execution_count": 2,
   "id": "5a293ef6",
   "metadata": {},
   "outputs": [
    {
     "data": {
      "text/plain": [
       "array([[2.33333333, 4.        , 0.66666667],\n",
       "       [4.        , 7.        , 0.        ],\n",
       "       [0.66666667, 0.        , 9.33333333]])"
      ]
     },
     "execution_count": 2,
     "metadata": {},
     "output_type": "execute_result"
    }
   ],
   "source": [
    "import numpy as np\n",
    "x = np.array([[3, 1, 4], [7, 3, 8], [1, 5, 7]])\n",
    "\n",
    "\n",
    "np.cov(x)\n",
    "\n"
   ]
  },
  {
   "cell_type": "code",
   "execution_count": 4,
   "id": "a3190116",
   "metadata": {},
   "outputs": [
    {
     "ename": "ValueError",
     "evalue": "all the input array dimensions for the concatenation axis must match exactly, but along dimension 0, the array at index 0 has size 10 and the array at index 1 has size 9",
     "output_type": "error",
     "traceback": [
      "\u001b[0;31m---------------------------------------------------------------------------\u001b[0m",
      "\u001b[0;31mValueError\u001b[0m                                Traceback (most recent call last)",
      "Input \u001b[0;32mIn [4]\u001b[0m, in \u001b[0;36m<cell line: 4>\u001b[0;34m()\u001b[0m\n\u001b[1;32m      2\u001b[0m x\u001b[38;5;241m=\u001b[39m[\u001b[38;5;241m3\u001b[39m,\u001b[38;5;241m5\u001b[39m,\u001b[38;5;241m8\u001b[39m,\u001b[38;5;241m4\u001b[39m,\u001b[38;5;241m7\u001b[39m,\u001b[38;5;241m10\u001b[39m,\u001b[38;5;241m2\u001b[39m,\u001b[38;5;241m1\u001b[39m,\u001b[38;5;241m6\u001b[39m,\u001b[38;5;241m9\u001b[39m]\n\u001b[1;32m      3\u001b[0m y\u001b[38;5;241m=\u001b[39m[\u001b[38;5;241m6\u001b[39m,\u001b[38;5;241m4\u001b[39m,\u001b[38;5;241m9\u001b[39m,\u001b[38;5;241m8\u001b[39m,\u001b[38;5;241m12\u001b[39m,\u001b[38;5;241m3\u001b[39m,\u001b[38;5;241m10\u001b[39m,\u001b[38;5;241m5\u001b[39m,\u001b[38;5;241m7\u001b[39m]\n\u001b[0;32m----> 4\u001b[0m corr, p_value \u001b[38;5;241m=\u001b[39m \u001b[43mspearmanr\u001b[49m\u001b[43m(\u001b[49m\u001b[43mx\u001b[49m\u001b[43m,\u001b[49m\u001b[43m \u001b[49m\u001b[43my\u001b[49m\u001b[43m)\u001b[49m \n\u001b[1;32m      5\u001b[0m \u001b[38;5;28mprint\u001b[39m(corr)\n",
      "File \u001b[0;32m~/opt/anaconda3/lib/python3.9/site-packages/scipy/stats/stats.py:4470\u001b[0m, in \u001b[0;36mspearmanr\u001b[0;34m(a, b, axis, nan_policy, alternative)\u001b[0m\n\u001b[1;32m   4468\u001b[0m b, _ \u001b[38;5;241m=\u001b[39m _chk_asarray(b, axis)\n\u001b[1;32m   4469\u001b[0m \u001b[38;5;28;01mif\u001b[39;00m axisout \u001b[38;5;241m==\u001b[39m \u001b[38;5;241m0\u001b[39m:\n\u001b[0;32m-> 4470\u001b[0m     a \u001b[38;5;241m=\u001b[39m \u001b[43mnp\u001b[49m\u001b[38;5;241;43m.\u001b[39;49m\u001b[43mcolumn_stack\u001b[49m\u001b[43m(\u001b[49m\u001b[43m(\u001b[49m\u001b[43ma\u001b[49m\u001b[43m,\u001b[49m\u001b[43m \u001b[49m\u001b[43mb\u001b[49m\u001b[43m)\u001b[49m\u001b[43m)\u001b[49m\n\u001b[1;32m   4471\u001b[0m \u001b[38;5;28;01melse\u001b[39;00m:\n\u001b[1;32m   4472\u001b[0m     a \u001b[38;5;241m=\u001b[39m np\u001b[38;5;241m.\u001b[39mrow_stack((a, b))\n",
      "File \u001b[0;32m<__array_function__ internals>:5\u001b[0m, in \u001b[0;36mcolumn_stack\u001b[0;34m(*args, **kwargs)\u001b[0m\n",
      "File \u001b[0;32m~/opt/anaconda3/lib/python3.9/site-packages/numpy/lib/shape_base.py:656\u001b[0m, in \u001b[0;36mcolumn_stack\u001b[0;34m(tup)\u001b[0m\n\u001b[1;32m    654\u001b[0m         arr \u001b[38;5;241m=\u001b[39m array(arr, copy\u001b[38;5;241m=\u001b[39m\u001b[38;5;28;01mFalse\u001b[39;00m, subok\u001b[38;5;241m=\u001b[39m\u001b[38;5;28;01mTrue\u001b[39;00m, ndmin\u001b[38;5;241m=\u001b[39m\u001b[38;5;241m2\u001b[39m)\u001b[38;5;241m.\u001b[39mT\n\u001b[1;32m    655\u001b[0m     arrays\u001b[38;5;241m.\u001b[39mappend(arr)\n\u001b[0;32m--> 656\u001b[0m \u001b[38;5;28;01mreturn\u001b[39;00m \u001b[43m_nx\u001b[49m\u001b[38;5;241;43m.\u001b[39;49m\u001b[43mconcatenate\u001b[49m\u001b[43m(\u001b[49m\u001b[43marrays\u001b[49m\u001b[43m,\u001b[49m\u001b[43m \u001b[49m\u001b[38;5;241;43m1\u001b[39;49m\u001b[43m)\u001b[49m\n",
      "File \u001b[0;32m<__array_function__ internals>:5\u001b[0m, in \u001b[0;36mconcatenate\u001b[0;34m(*args, **kwargs)\u001b[0m\n",
      "\u001b[0;31mValueError\u001b[0m: all the input array dimensions for the concatenation axis must match exactly, but along dimension 0, the array at index 0 has size 10 and the array at index 1 has size 9"
     ]
    }
   ],
   "source": [
    "from scipy.stats import spearmanr\n",
    "x=[3,5,8,4,7,10,2,1,6,9]\n",
    "y=[6,4,9,8,12,3,10,5,7]\n",
    "corr, p_value = spearmanr(x, y) \n",
    "print(corr)\n"
   ]
  },
  {
   "cell_type": "code",
   "execution_count": 5,
   "id": "4b6c6bcf",
   "metadata": {},
   "outputs": [
    {
     "name": "stdout",
     "output_type": "stream",
     "text": [
      "0.9319530597064699\n"
     ]
    }
   ],
   "source": [
    "import numpy as np\n",
    "\n",
    "x = np.array([48,67,89,76,55,66,89,90,99,100,100,32,55])\n",
    "y = np.array([52,61,78,81,50,49,95,100,100,90,89,21,62])\n",
    "\n",
    "r = np.corrcoef(x, y)\n",
    "\n",
    "print(r[0,1])"
   ]
  },
  {
   "cell_type": "code",
   "execution_count": null,
   "id": "85321eb9",
   "metadata": {},
   "outputs": [],
   "source": []
  }
 ],
 "metadata": {
  "kernelspec": {
   "display_name": "Python 3 (ipykernel)",
   "language": "python",
   "name": "python3"
  },
  "language_info": {
   "codemirror_mode": {
    "name": "ipython",
    "version": 3
   },
   "file_extension": ".py",
   "mimetype": "text/x-python",
   "name": "python",
   "nbconvert_exporter": "python",
   "pygments_lexer": "ipython3",
   "version": "3.9.12"
  }
 },
 "nbformat": 4,
 "nbformat_minor": 5
}
