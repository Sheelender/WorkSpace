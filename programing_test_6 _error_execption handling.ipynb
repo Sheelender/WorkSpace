{
 "cells": [
  {
   "cell_type": "code",
   "execution_count": null,
   "id": "73eeaca3",
   "metadata": {},
   "outputs": [],
   "source": [
    "is it possible to keep other statements in between try catch and finally blocks in python\n",
    "\n",
    "\n",
    "How to catch specific exception? Give one example\n",
    "\n",
    "\n",
    "\n",
    "\n",
    "\n",
    "\n",
    "How to Handle multiple exceptions with a single except clause ?\n",
    "Give one example, We can also handle multiple exceptions with a single except clause. For that, we can use a tuple of values to specify multiple exceptions in an except clause.\n",
    "\n",
    "\n",
    "\n",
    "\n",
    "Try showing one example of Using try with finally\n",
    "\n",
    "\n",
    "\n",
    "How to customize Exception Classes?\n",
    "\n",
    "Every syntax error is an exception but every exception cannot be a syntax error.” Justify the statement.\n",
    "\n",
    "When are the following built-in exceptions raised? Give examples to support your answers.a) ImportErrorb) IOErrorc) NameErrord) ZeroDivisionError\n",
    "\n",
    "Write a code to accept two numbers and display the quotient. Appropriate exception should be raised if the user enters the second number (denominator) \n",
    "\n",
    "\n",
    "\n"
   ]
  },
  {
   "cell_type": "code",
   "execution_count": 1,
   "id": "ed69e63b",
   "metadata": {},
   "outputs": [
    {
     "name": "stdout",
     "output_type": "stream",
     "text": [
      "1\n",
      "2\n",
      "can only concatenate str (not \"int\") to str\n"
     ]
    }
   ],
   "source": [
    "string = input()\n",
    "\n",
    "try:\n",
    "    num = int(input())\n",
    "    print(string+num)\n",
    "except (TypeError, ValueError) as e:\n",
    "    print(e)"
   ]
  },
  {
   "cell_type": "code",
   "execution_count": null,
   "id": "7b2b1808",
   "metadata": {},
   "outputs": [],
   "source": []
  },
  {
   "cell_type": "code",
   "execution_count": null,
   "id": "0e12873f",
   "metadata": {},
   "outputs": [],
   "source": []
  },
  {
   "cell_type": "code",
   "execution_count": null,
   "id": "91971b68",
   "metadata": {},
   "outputs": [],
   "source": []
  }
 ],
 "metadata": {
  "kernelspec": {
   "display_name": "Python 3 (ipykernel)",
   "language": "python",
   "name": "python3"
  },
  "language_info": {
   "codemirror_mode": {
    "name": "ipython",
    "version": 3
   },
   "file_extension": ".py",
   "mimetype": "text/x-python",
   "name": "python",
   "nbconvert_exporter": "python",
   "pygments_lexer": "ipython3",
   "version": "3.9.12"
  }
 },
 "nbformat": 4,
 "nbformat_minor": 5
}
